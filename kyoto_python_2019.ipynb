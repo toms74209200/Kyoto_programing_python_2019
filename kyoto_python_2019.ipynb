{
 "cells": [
  {
   "cell_type": "markdown",
   "metadata": {},
   "source": [
    "# 3. 変数と演算、代入"
   ]
  },
  {
   "cell_type": "markdown",
   "metadata": {},
   "source": [
    "## 3.2 プログラムの実行の流れと情報の流れ"
   ]
  },
  {
   "cell_type": "markdown",
   "metadata": {},
   "source": [
    "### 3.2.1 順次実行"
   ]
  },
  {
   "cell_type": "code",
   "execution_count": 1,
   "metadata": {},
   "outputs": [
    {
     "name": "stdout",
     "output_type": "stream",
     "text": [
      "3\n"
     ]
    }
   ],
   "source": [
    "a = 1 + 2\n",
    "print(a)"
   ]
  },
  {
   "cell_type": "markdown",
   "metadata": {},
   "source": [
    "### 3.2.2 変数を通じた情報の流れ"
   ]
  },
  {
   "cell_type": "code",
   "execution_count": 2,
   "metadata": {},
   "outputs": [
    {
     "name": "stdout",
     "output_type": "stream",
     "text": [
      "7\n"
     ]
    }
   ],
   "source": [
    "a = 1 + 2\n",
    "a = 3 + 4\n",
    "print(a)"
   ]
  },
  {
   "cell_type": "markdown",
   "metadata": {},
   "source": [
    "## 3.4 変数への代入と値の評価"
   ]
  },
  {
   "cell_type": "code",
   "execution_count": 3,
   "metadata": {},
   "outputs": [
    {
     "name": "stdout",
     "output_type": "stream",
     "text": [
      "1\n",
      "2\n"
     ]
    }
   ],
   "source": [
    "a = 1\n",
    "print(a)\n",
    "a = a + 1\n",
    "print(a)"
   ]
  },
  {
   "cell_type": "markdown",
   "metadata": {},
   "source": [
    "#### 演習9. 変数の動作の説明"
   ]
  },
  {
   "cell_type": "markdown",
   "metadata": {},
   "source": [
    "以下は 1000 円の商品の 15% 引きを計算するプログラムです。\n",
    "- このプログラムには 1 箇所誤りがあり、実行するとエラーになります。どのような誤りがあるかを説明してください。\n",
    "- 誤りを修正したうえでプログラムの動作を説明してください。\n",
    "```python\n",
    "kakaku = 1000\n",
    "nebikiritsu= 15\n",
    "kakaku = Kakaku*(100-nebikiritsu)/100\n",
    "print(kakaku)\n",
    "```"
   ]
  },
  {
   "cell_type": "markdown",
   "metadata": {},
   "source": [
    "```python\n",
    "kakaku = Kakaku*(100-nebikiritsu)/100\n",
    "```\n",
    "右辺の変数`Kakaku`の先頭が大文字のため宣言されていない."
   ]
  },
  {
   "cell_type": "code",
   "execution_count": 4,
   "metadata": {},
   "outputs": [
    {
     "name": "stdout",
     "output_type": "stream",
     "text": [
      "850.0\n"
     ]
    }
   ],
   "source": [
    "kakaku = 1000\n",
    "nebikiritsu= 15\n",
    "kakaku = kakaku*(100-nebikiritsu)/100\n",
    "print(kakaku)"
   ]
  },
  {
   "cell_type": "markdown",
   "metadata": {},
   "source": [
    "## 3.6 Pythonで扱えるデータ型"
   ]
  },
  {
   "cell_type": "markdown",
   "metadata": {},
   "source": [
    "#### 演習10. Pythonシェルで以下を実行してください。"
   ]
  },
  {
   "cell_type": "code",
   "execution_count": 5,
   "metadata": {},
   "outputs": [
    {
     "name": "stdout",
     "output_type": "stream",
     "text": [
      "1\n",
      "0.5\n",
      "ABC\n",
      "<class 'int'>\n",
      "<class 'float'>\n",
      "<class 'str'>\n"
     ]
    }
   ],
   "source": [
    "a = 1\n",
    "b = 1/2\n",
    "c = \"ABC\"\n",
    "print(a)\n",
    "print(b)\n",
    "print(c)\n",
    "print(type(a))\n",
    "print(type(b))\n",
    "print(type(c))"
   ]
  },
  {
   "cell_type": "markdown",
   "metadata": {},
   "source": [
    "## 3.8 例題：平方根を求める"
   ]
  },
  {
   "cell_type": "markdown",
   "metadata": {},
   "source": [
    "### 3.8.2 Pythonプログラム"
   ]
  },
  {
   "cell_type": "markdown",
   "metadata": {},
   "source": [
    "#### 演習11. 次の表のソースコードの部分をIDELエディタで入力し, `ex1.py`という名で保存して実行してみてください。"
   ]
  },
  {
   "cell_type": "code",
   "execution_count": 9,
   "metadata": {},
   "outputs": [
    {
     "name": "stdout",
     "output_type": "stream",
     "text": [
      "2 1.5 1.0\n",
      "1.5 1.4166666666666665 1.3333333333333333\n",
      "1.4166666666666665 1.4142156862745097 1.411764705882353\n",
      "1.4142156862745097 1.4142135623746899 1.41421143847487\n"
     ]
    }
   ],
   "source": [
    "# xの平方根を求める\n",
    "x = 2\n",
    "#\n",
    "rnew = x\n",
    "#\n",
    "r1 = rnew\n",
    "r2 = x/r1\n",
    "rnew = (r1 + r2)/2\n",
    "print(r1,rnew,r2)\n",
    "#\n",
    "r1 = rnew\n",
    "r2 = x/r1\n",
    "rnew = (r1 + r2)/2\n",
    "print(r1,rnew,r2)\n",
    "#\n",
    "r1 = rnew\n",
    "r2 = x/r1\n",
    "rnew = (r1 + r2)/2\n",
    "print(r1,rnew,r2)\n",
    "#\n",
    "r1 = rnew\n",
    "r2 = x/r1\n",
    "rnew = (r1 + r2)/2\n",
    "print(r1,rnew,r2)\n",
    "#"
   ]
  },
  {
   "cell_type": "code",
   "execution_count": 10,
   "metadata": {},
   "outputs": [
    {
     "data": {
      "text/plain": [
       "1.4142135623730951"
      ]
     },
     "execution_count": 10,
     "metadata": {},
     "output_type": "execute_result"
    }
   ],
   "source": [
    "2**(1/2)"
   ]
  },
  {
   "cell_type": "markdown",
   "metadata": {},
   "source": [
    "#### 演習12. 他の数値の平方根を求める。"
   ]
  },
  {
   "cell_type": "markdown",
   "metadata": {},
   "source": [
    "1. `ex1.py`を変更して、他の正の数値の平方根を求めてください。"
   ]
  },
  {
   "cell_type": "code",
   "execution_count": 11,
   "metadata": {},
   "outputs": [
    {
     "name": "stdout",
     "output_type": "stream",
     "text": [
      "3 2.0 1.0\n",
      "2.0 1.75 1.5\n",
      "1.75 1.7321428571428572 1.7142857142857142\n",
      "1.7321428571428572 1.7320508100147274 1.7319587628865978\n"
     ]
    }
   ],
   "source": [
    "# xの平方根を求める\n",
    "x = 3\n",
    "#\n",
    "rnew = x\n",
    "#\n",
    "r1 = rnew\n",
    "r2 = x/r1\n",
    "rnew = (r1 + r2)/2\n",
    "print(r1,rnew,r2)\n",
    "#\n",
    "r1 = rnew\n",
    "r2 = x/r1\n",
    "rnew = (r1 + r2)/2\n",
    "print(r1,rnew,r2)\n",
    "#\n",
    "r1 = rnew\n",
    "r2 = x/r1\n",
    "rnew = (r1 + r2)/2\n",
    "print(r1,rnew,r2)\n",
    "#\n",
    "r1 = rnew\n",
    "r2 = x/r1\n",
    "rnew = (r1 + r2)/2\n",
    "print(r1,rnew,r2)\n",
    "#"
   ]
  },
  {
   "cell_type": "code",
   "execution_count": 12,
   "metadata": {},
   "outputs": [
    {
     "data": {
      "text/plain": [
       "1.7320508075688772"
      ]
     },
     "execution_count": 12,
     "metadata": {},
     "output_type": "execute_result"
    }
   ],
   "source": [
    "3**(1/2)"
   ]
  },
  {
   "cell_type": "markdown",
   "metadata": {},
   "source": [
    "2. また、このプログラムで0の平方根を求めようとすると何が生じるか確認してください。単にエラーのメッセージを見るだけでなく、実際にプログラムをご自身で追いかけて（トレースすると言います）、どこで問題が生じるかを考えてください。"
   ]
  },
  {
   "cell_type": "code",
   "execution_count": 14,
   "metadata": {},
   "outputs": [
    {
     "ename": "ZeroDivisionError",
     "evalue": "division by zero",
     "output_type": "error",
     "traceback": [
      "\u001b[0;31m---------------------------------------------------------------------------\u001b[0m",
      "\u001b[0;31mZeroDivisionError\u001b[0m                         Traceback (most recent call last)",
      "\u001b[0;32m<ipython-input-14-0d42d475b9bc>\u001b[0m in \u001b[0;36m<module>\u001b[0;34m\u001b[0m\n\u001b[1;32m      5\u001b[0m \u001b[0;31m#\u001b[0m\u001b[0;34m\u001b[0m\u001b[0;34m\u001b[0m\u001b[0m\n\u001b[1;32m      6\u001b[0m \u001b[0mr1\u001b[0m \u001b[0;34m=\u001b[0m \u001b[0mrnew\u001b[0m\u001b[0;34m\u001b[0m\u001b[0m\n\u001b[0;32m----> 7\u001b[0;31m \u001b[0mr2\u001b[0m \u001b[0;34m=\u001b[0m \u001b[0mx\u001b[0m\u001b[0;34m/\u001b[0m\u001b[0mr1\u001b[0m\u001b[0;34m\u001b[0m\u001b[0m\n\u001b[0m\u001b[1;32m      8\u001b[0m \u001b[0mrnew\u001b[0m \u001b[0;34m=\u001b[0m \u001b[0;34m(\u001b[0m\u001b[0mr1\u001b[0m \u001b[0;34m+\u001b[0m \u001b[0mr2\u001b[0m\u001b[0;34m)\u001b[0m\u001b[0;34m/\u001b[0m\u001b[0;36m2\u001b[0m\u001b[0;34m\u001b[0m\u001b[0m\n\u001b[1;32m      9\u001b[0m \u001b[0mprint\u001b[0m\u001b[0;34m(\u001b[0m\u001b[0mr1\u001b[0m\u001b[0;34m,\u001b[0m\u001b[0mrnew\u001b[0m\u001b[0;34m,\u001b[0m\u001b[0mr2\u001b[0m\u001b[0;34m)\u001b[0m\u001b[0;34m\u001b[0m\u001b[0m\n",
      "\u001b[0;31mZeroDivisionError\u001b[0m: division by zero"
     ]
    }
   ],
   "source": [
    "# xの平方根を求める\n",
    "x = 0\n",
    "#\n",
    "rnew = x\n",
    "#\n",
    "r1 = rnew\n",
    "r2 = x/r1\n",
    "rnew = (r1 + r2)/2\n",
    "print(r1,rnew,r2)\n",
    "#\n",
    "r1 = rnew\n",
    "r2 = x/r1\n",
    "rnew = (r1 + r2)/2\n",
    "print(r1,rnew,r2)\n",
    "#\n",
    "r1 = rnew\n",
    "r2 = x/r1\n",
    "rnew = (r1 + r2)/2\n",
    "print(r1,rnew,r2)\n",
    "#\n",
    "r1 = rnew\n",
    "r2 = x/r1\n",
    "rnew = (r1 + r2)/2\n",
    "print(r1,rnew,r2)\n",
    "#"
   ]
  },
  {
   "cell_type": "markdown",
   "metadata": {},
   "source": [
    "```python\n",
    "r2 = x/r1\n",
    "```\n",
    "上でゼロ割りをおこなっている。"
   ]
  },
  {
   "cell_type": "markdown",
   "metadata": {},
   "source": [
    "# 4. 制御構造"
   ]
  },
  {
   "cell_type": "markdown",
   "metadata": {},
   "source": [
    "## 4.2 `for`文と`range()`関数を用いた一定回数の繰り返し"
   ]
  },
  {
   "cell_type": "markdown",
   "metadata": {},
   "source": [
    "#### 演習13. 次の表に示すプログラムを作成し、実行してください。"
   ]
  },
  {
   "cell_type": "markdown",
   "metadata": {},
   "source": [
    "プログラム3 平方根を求めるプログラム（その2、`ex2.py`）"
   ]
  },
  {
   "cell_type": "code",
   "execution_count": 17,
   "metadata": {},
   "outputs": [
    {
     "name": "stdout",
     "output_type": "stream",
     "text": [
      "2 1.5 1.0\n",
      "1.5 1.4166666666666665 1.3333333333333333\n",
      "1.4166666666666665 1.4142156862745097 1.411764705882353\n",
      "1.4142156862745097 1.4142135623746899 1.41421143847487\n",
      "1.4142135623746899 1.414213562373095 1.4142135623715002\n",
      "1.414213562373095 1.414213562373095 1.4142135623730951\n",
      "1.414213562373095 1.414213562373095 1.4142135623730951\n",
      "1.414213562373095 1.414213562373095 1.4142135623730951\n",
      "1.414213562373095 1.414213562373095 1.4142135623730951\n",
      "1.414213562373095 1.414213562373095 1.4142135623730951\n"
     ]
    }
   ],
   "source": [
    "# xの平方根を求める\n",
    "x = 2\n",
    "#\n",
    "rnew = x\n",
    "#\n",
    "for i in range(10):\n",
    "    r1 = rnew\n",
    "    r2 = x/r1\n",
    "    rnew = (r1 + r2)/2\n",
    "    print(r1, rnew, r2)"
   ]
  },
  {
   "cell_type": "code",
   "execution_count": 18,
   "metadata": {},
   "outputs": [
    {
     "data": {
      "text/plain": [
       "1.4142135623730951"
      ]
     },
     "execution_count": 18,
     "metadata": {},
     "output_type": "execute_result"
    }
   ],
   "source": [
    "2**(1/2)"
   ]
  },
  {
   "cell_type": "markdown",
   "metadata": {},
   "source": [
    "## 4.3 `for`文の書き方"
   ]
  },
  {
   "cell_type": "markdown",
   "metadata": {},
   "source": [
    "#### 演習14. ブロックの確認"
   ]
  },
  {
   "cell_type": "markdown",
   "metadata": {},
   "source": [
    "先の例(`ex2.py`) の10行目を次のように左につめてブロックから外し、動作を確認し説明してください。"
   ]
  },
  {
   "cell_type": "markdown",
   "metadata": {},
   "source": [
    "プログラム4 平方根を求めるプログラム（その2、`ex2_2.py`）"
   ]
  },
  {
   "cell_type": "code",
   "execution_count": 19,
   "metadata": {},
   "outputs": [
    {
     "name": "stdout",
     "output_type": "stream",
     "text": [
      "1.414213562373095 1.414213562373095 1.4142135623730951\n"
     ]
    }
   ],
   "source": [
    "# xの平方根を求める\n",
    "x = 2\n",
    "#\n",
    "rnew = x\n",
    "#\n",
    "for i in range(10):\n",
    "    r1 = rnew\n",
    "    r2 = x/r1\n",
    "    rnew = (r1 + r2)/2\n",
    "print(r1, rnew, r2)"
   ]
  },
  {
   "cell_type": "markdown",
   "metadata": {},
   "source": [
    "#### 演習15. イタズラ"
   ]
  },
  {
   "cell_type": "markdown",
   "metadata": {},
   "source": [
    "上のプログラム(`ex2_2.py`)は端末への出力を`for`文の繰り返しから外したので、繰り返し部分は高速に実行できます。6行目の`range()`関数の添え字を10から100, 1000, 10000, 100000, 1000000, 10000000, と変化させてどの程度の時間がかかるか試してみてください。"
   ]
  },
  {
   "cell_type": "code",
   "execution_count": 63,
   "metadata": {},
   "outputs": [
    {
     "name": "stdout",
     "output_type": "stream",
     "text": [
      "repeat time: 10\n",
      "answer: 1.4142135623730951\n",
      "exe time: 0.00017333030700683594 秒\n",
      "repeat time: 100\n",
      "answer: 1.4142135623730951\n",
      "exe time: 0.0001404285430908203 秒\n",
      "repeat time: 1000\n",
      "answer: 1.4142135623730951\n",
      "exe time: 0.0005283355712890625 秒\n",
      "repeat time: 10000\n",
      "answer: 1.4142135623730951\n",
      "exe time: 0.009249448776245117 秒\n",
      "repeat time: 100000\n",
      "answer: 1.4142135623730951\n",
      "exe time: 0.025803089141845703 秒\n",
      "repeat time: 1000000\n",
      "answer: 1.4142135623730951\n",
      "exe time: 0.21469569206237793 秒\n",
      "repeat time: 10000000\n",
      "answer: 1.4142135623730951\n",
      "exe time: 2.1630351543426514 秒\n"
     ]
    },
    {
     "data": {
      "text/plain": [
       "[<matplotlib.lines.Line2D at 0x7fa3f3c97518>]"
      ]
     },
     "execution_count": 63,
     "metadata": {},
     "output_type": "execute_result"
    },
    {
     "data": {
      "image/png": "[encoded data removed]",
      "text/plain": [
       "<Figure size 432x288 with 1 Axes>"
      ]
     },
     "metadata": {
      "needs_background": "light"
     },
     "output_type": "display_data"
    }
   ],
   "source": [
    "# xの平方根を求める\n",
    "import time\n",
    "%matplotlib inline\n",
    "import matplotlib.pyplot as plt\n",
    "import numpy as np\n",
    "time_list = list()\n",
    "repeat_list = list()\n",
    "for j in range(7):\n",
    "    start = time.time()\n",
    "    repeat_time = 10**(j+1)\n",
    "    repeat_list.append(repeat_time)\n",
    "    print(\"repeat time:\", repeat_time)\n",
    "    x = 2\n",
    "    #\n",
    "    rnew = x\n",
    "    #\n",
    "    for i in range(repeat_time):\n",
    "        r1 = rnew\n",
    "        r2 = x/r1\n",
    "        rnew = (r1 + r2)/2\n",
    "    print(\"answer:\", r2)\n",
    "    end = time.time()\n",
    "    exe_time = end-start\n",
    "    print(\"exe time:\", exe_time, '秒')\n",
    "    time_list.append(exe_time)\n",
    "plt.xlabel('repeat')\n",
    "plt.ylabel('exe time')\n",
    "ax = plt.gca()\n",
    "ax.set_xscale('log')\n",
    "ax.set_yscale('log')\n",
    "plt.plot(repeat_list,time_list)"
   ]
  },
  {
   "cell_type": "markdown",
   "metadata": {},
   "source": [
    "## 4.5 `for`文内での処理の制御"
   ]
  },
  {
   "cell_type": "markdown",
   "metadata": {},
   "source": [
    "プログラム5 `continue`と`break`"
   ]
  },
  {
   "cell_type": "code",
   "execution_count": 64,
   "metadata": {},
   "outputs": [
    {
     "name": "stdout",
     "output_type": "stream",
     "text": [
      "0\n",
      "2\n",
      "3\n",
      "4\n",
      "5\n",
      "6\n",
      "7\n"
     ]
    }
   ],
   "source": [
    "for i in range(10):\n",
    "    if i == 1:\n",
    "        continue\n",
    "    if i == 8:\n",
    "        break\n",
    "    print(i)"
   ]
  },
  {
   "cell_type": "markdown",
   "metadata": {},
   "source": [
    "#### 演習16. 上記の実行結果についてソースコードを用いて説明しなさい。"
   ]
  },
  {
   "cell_type": "markdown",
   "metadata": {},
   "source": [
    "`i=1`のとき`continue`が実行されてそれ以下のブロック内は実行されないため,\n",
    "```python\n",
    "print(i)\n",
    "```\n",
    "が実行されない.\n",
    "`i=8`のとき`break`が実行されてブロックから脱出するため, 8以降の`for`文は実行されない."
   ]
  },
  {
   "cell_type": "markdown",
   "metadata": {},
   "source": [
    "## `range()`関数"
   ]
  },
  {
   "cell_type": "markdown",
   "metadata": {},
   "source": [
    "#### 演習17. `range()`関数"
   ]
  },
  {
   "cell_type": "markdown",
   "metadata": {},
   "source": [
    "上で述べたように`list()`と組み合わせて`range()`関数の3通りの使い方をPythonシェルで練習してください。"
   ]
  },
  {
   "cell_type": "markdown",
   "metadata": {},
   "source": [
    "- 終了値を与える。"
   ]
  },
  {
   "cell_type": "code",
   "execution_count": 66,
   "metadata": {},
   "outputs": [
    {
     "name": "stdout",
     "output_type": "stream",
     "text": [
      "[0, 1, 2, 3, 4, 5, 6, 7, 8, 9]\n"
     ]
    }
   ],
   "source": [
    "# for (int i=0;i<10;i++)\n",
    "l = list(range(10))\n",
    "print(l)"
   ]
  },
  {
   "cell_type": "markdown",
   "metadata": {},
   "source": [
    "- 開始値と終了値の2つを与える。"
   ]
  },
  {
   "cell_type": "code",
   "execution_count": 68,
   "metadata": {},
   "outputs": [
    {
     "name": "stdout",
     "output_type": "stream",
     "text": [
      "[1, 2, 3, 4, 5, 6, 7, 8, 9]\n"
     ]
    }
   ],
   "source": [
    "# for (int i=1;i<10;i++)\n",
    "l = list(range(1,10))\n",
    "print(l)"
   ]
  },
  {
   "cell_type": "markdown",
   "metadata": {},
   "source": [
    "- 開始値と終了値とステップ幅の3つを与える。"
   ]
  },
  {
   "cell_type": "code",
   "execution_count": 69,
   "metadata": {},
   "outputs": [
    {
     "name": "stdout",
     "output_type": "stream",
     "text": [
      "[1, 3, 5, 7, 9]\n"
     ]
    }
   ],
   "source": [
    "# for (int i=1;i<10;i+=2)\n",
    "l = list(range(1,10,2))\n",
    "print(l)"
   ]
  },
  {
   "cell_type": "markdown",
   "metadata": {},
   "source": [
    "## `for`文の入れ子"
   ]
  },
  {
   "cell_type": "markdown",
   "metadata": {},
   "source": [
    "プログラム6 `for`文の入れ子"
   ]
  },
  {
   "cell_type": "code",
   "execution_count": 72,
   "metadata": {},
   "outputs": [
    {
     "name": "stdout",
     "output_type": "stream",
     "text": [
      "i j\n",
      "0 0\n",
      "0 1\n",
      "0 2\n",
      "1 0\n",
      "1 1\n",
      "1 2\n",
      "2 0\n",
      "2 1\n",
      "2 2\n"
     ]
    }
   ],
   "source": [
    "print(\"i j\")\n",
    "for i in range(3):\n",
    "    for j in range(3):\n",
    "        print(i,j)"
   ]
  },
  {
   "cell_type": "markdown",
   "metadata": {},
   "source": [
    "#### 演習18. 2行目の`range()`関数の引数に変数`i`を使う（`range(i)`をする）とどうなるか、試してみてください。"
   ]
  },
  {
   "cell_type": "code",
   "execution_count": 73,
   "metadata": {},
   "outputs": [
    {
     "name": "stdout",
     "output_type": "stream",
     "text": [
      "i j\n",
      "1 0\n",
      "2 0\n",
      "2 1\n"
     ]
    }
   ],
   "source": [
    "print(\"i j\")\n",
    "for i in range(3):\n",
    "    for j in range(i):\n",
    "        print(i,j)"
   ]
  },
  {
   "cell_type": "markdown",
   "metadata": {},
   "source": [
    "プログラム7"
   ]
  },
  {
   "cell_type": "code",
   "execution_count": 74,
   "metadata": {},
   "outputs": [
    {
     "name": "stdout",
     "output_type": "stream",
     "text": [
      "三条河原町\n",
      "三条烏丸\n",
      "三条堀川\n",
      "四条河原町\n",
      "四条烏丸\n",
      "四条堀川\n",
      "五条河原町\n",
      "五条烏丸\n",
      "五条堀川\n"
     ]
    }
   ],
   "source": [
    "for i in [\"三条\", \"四条\", \"五条\"]:\n",
    "    for j in [\"河原町\", \"烏丸\", \"堀川\"]:\n",
    "        cross = i+j\n",
    "        print(cross)"
   ]
  },
  {
   "cell_type": "markdown",
   "metadata": {},
   "source": [
    "## 4.8 `while`文による繰り返し"
   ]
  },
  {
   "cell_type": "markdown",
   "metadata": {},
   "source": [
    "### 4.8.1 精度を指定した平方根の計算"
   ]
  },
  {
   "cell_type": "markdown",
   "metadata": {},
   "source": [
    "プログラム8 平方根を計算するプログラム（その3、`ex3.py`）"
   ]
  },
  {
   "cell_type": "code",
   "execution_count": 76,
   "metadata": {},
   "outputs": [
    {
     "name": "stdout",
     "output_type": "stream",
     "text": [
      "2 1.5 1.0\n",
      "1.5 1.4166666666666665 1.3333333333333333\n",
      "1.4166666666666665 1.4142156862745097 1.411764705882353\n",
      "1.4142156862745097 1.4142135623746899 1.41421143847487\n",
      "1.4142135623746899 1.414213562373095 1.4142135623715002\n"
     ]
    }
   ],
   "source": [
    "# xの平方根を求める\n",
    "x = 2\n",
    "#\n",
    "rnew = x\n",
    "#\n",
    "diff = rnew - x/rnew\n",
    "if (diff < 0):\n",
    "    diff = -diff\n",
    "while (diff > 1.0E-6):\n",
    "    r1 = rnew\n",
    "    r2 = x/r1\n",
    "    rnew = (r1 + r2)/2\n",
    "    print(r1, rnew, r2)\n",
    "    diff = r1 - r2\n",
    "    if (diff < 0):\n",
    "        diff = -diff"
   ]
  },
  {
   "cell_type": "markdown",
   "metadata": {},
   "source": [
    "## 4.9 `if`文による分岐"
   ]
  },
  {
   "cell_type": "markdown",
   "metadata": {},
   "source": [
    "### 4.9.1 無限ループ型での平方根の計算"
   ]
  },
  {
   "cell_type": "markdown",
   "metadata": {},
   "source": [
    "プログラム9 平方根を求めるプログラム（無限ループ型、`ex3_2.py`）"
   ]
  },
  {
   "cell_type": "code",
   "execution_count": 77,
   "metadata": {},
   "outputs": [
    {
     "name": "stdout",
     "output_type": "stream",
     "text": [
      "2 1.5 1.0\n",
      "1.5 1.4166666666666665 1.3333333333333333\n",
      "1.4166666666666665 1.4142156862745097 1.411764705882353\n",
      "1.4142156862745097 1.4142135623746899 1.41421143847487\n",
      "1.4142135623746899 1.414213562373095 1.4142135623715002\n"
     ]
    }
   ],
   "source": [
    "# xの平方根を求める\n",
    "x = 2\n",
    "#\n",
    "rnew = x\n",
    "#\n",
    "while True:\n",
    "    r1 = rnew\n",
    "    r2 = x/r1\n",
    "    rnew = (r1 + r2)/2\n",
    "    print(r1, rnew, r2)\n",
    "    diff = r1 - r2\n",
    "    if (diff < 0):\n",
    "        diff = -diff\n",
    "    if (diff <= 1.0E-6):\n",
    "        break"
   ]
  },
  {
   "cell_type": "markdown",
   "metadata": {},
   "source": [
    "## 4.11 `if`文の入れ子"
   ]
  },
  {
   "cell_type": "markdown",
   "metadata": {},
   "source": [
    "プログラム10 複合的な条件を用いた分岐"
   ]
  },
  {
   "cell_type": "code",
   "execution_count": 78,
   "metadata": {},
   "outputs": [
    {
     "name": "stdout",
     "output_type": "stream",
     "text": [
      "YES a==1 and b==0\n"
     ]
    }
   ],
   "source": [
    "a = 1\n",
    "b = 0\n",
    "if (a == 1) and (b == 0):\n",
    "    print(\"YES a==1 and b==0\")"
   ]
  },
  {
   "cell_type": "markdown",
   "metadata": {},
   "source": [
    "プログラム11 `if`文を入れ子にした分岐"
   ]
  },
  {
   "cell_type": "code",
   "execution_count": 79,
   "metadata": {},
   "outputs": [
    {
     "name": "stdout",
     "output_type": "stream",
     "text": [
      "YES a==1 and b==0\n"
     ]
    }
   ],
   "source": [
    "a = 1\n",
    "b = 0\n",
    "if a == 1:\n",
    "    if b == 0:\n",
    "        print(\"YES a==1 and b==0\")"
   ]
  },
  {
   "cell_type": "markdown",
   "metadata": {},
   "source": [
    "## 4.12 端末からの入力"
   ]
  },
  {
   "cell_type": "markdown",
   "metadata": {},
   "source": [
    "#### 演習20. `ex3.py`を改造して端末から平方根を求める数値を入力するようにしなさい。"
   ]
  },
  {
   "cell_type": "code",
   "execution_count": 83,
   "metadata": {},
   "outputs": [
    {
     "name": "stdout",
     "output_type": "stream",
     "text": [
      "Enter number 2\n",
      "2.0 1.5 1.0\n",
      "1.5 1.4166666666666665 1.3333333333333333\n",
      "1.4166666666666665 1.4142156862745097 1.411764705882353\n",
      "1.4142156862745097 1.4142135623746899 1.41421143847487\n",
      "1.4142135623746899 1.414213562373095 1.4142135623715002\n"
     ]
    }
   ],
   "source": [
    "# xの平方根を求める\n",
    "x = float(input(\"Enter number \"))\n",
    "#\n",
    "rnew = x\n",
    "#\n",
    "diff = rnew - x/rnew\n",
    "if (diff < 0):\n",
    "    diff = -diff\n",
    "while (diff > 1.0E-6):\n",
    "    r1 = rnew\n",
    "    r2 = x/r1\n",
    "    rnew = (r1 + r2)/2\n",
    "    print(r1, rnew, r2)\n",
    "    diff = r1 - r2\n",
    "    if (diff < 0):\n",
    "        diff = -diff"
   ]
  },
  {
   "cell_type": "markdown",
   "metadata": {},
   "source": [
    "## 4.13 エラーへの対処"
   ]
  },
  {
   "cell_type": "markdown",
   "metadata": {},
   "source": [
    "プログラム12 入力を得て検査するプログラム(`inputcheck.py`)"
   ]
  },
  {
   "cell_type": "code",
   "execution_count": 86,
   "metadata": {},
   "outputs": [
    {
     "ename": "KeyboardInterrupt",
     "evalue": "",
     "output_type": "error",
     "traceback": [
      "\u001b[0;31m---------------------------------------------------------------------------\u001b[0m",
      "\u001b[0;31mKeyboardInterrupt\u001b[0m                         Traceback (most recent call last)",
      "\u001b[0;32m~/.local/lib/python3.5/site-packages/ipykernel/kernelbase.py\u001b[0m in \u001b[0;36m_input_request\u001b[0;34m(self, prompt, ident, parent, password)\u001b[0m\n\u001b[1;32m    884\u001b[0m             \u001b[0;32mtry\u001b[0m\u001b[0;34m:\u001b[0m\u001b[0;34m\u001b[0m\u001b[0m\n\u001b[0;32m--> 885\u001b[0;31m                 \u001b[0mident\u001b[0m\u001b[0;34m,\u001b[0m \u001b[0mreply\u001b[0m \u001b[0;34m=\u001b[0m \u001b[0mself\u001b[0m\u001b[0;34m.\u001b[0m\u001b[0msession\u001b[0m\u001b[0;34m.\u001b[0m\u001b[0mrecv\u001b[0m\u001b[0;34m(\u001b[0m\u001b[0mself\u001b[0m\u001b[0;34m.\u001b[0m\u001b[0mstdin_socket\u001b[0m\u001b[0;34m,\u001b[0m \u001b[0;36m0\u001b[0m\u001b[0;34m)\u001b[0m\u001b[0;34m\u001b[0m\u001b[0m\n\u001b[0m\u001b[1;32m    886\u001b[0m             \u001b[0;32mexcept\u001b[0m \u001b[0mException\u001b[0m\u001b[0;34m:\u001b[0m\u001b[0;34m\u001b[0m\u001b[0m\n",
      "\u001b[0;32m~/.local/lib/python3.5/site-packages/jupyter_client/session.py\u001b[0m in \u001b[0;36mrecv\u001b[0;34m(self, socket, mode, content, copy)\u001b[0m\n\u001b[1;32m    802\u001b[0m         \u001b[0;32mtry\u001b[0m\u001b[0;34m:\u001b[0m\u001b[0;34m\u001b[0m\u001b[0m\n\u001b[0;32m--> 803\u001b[0;31m             \u001b[0mmsg_list\u001b[0m \u001b[0;34m=\u001b[0m \u001b[0msocket\u001b[0m\u001b[0;34m.\u001b[0m\u001b[0mrecv_multipart\u001b[0m\u001b[0;34m(\u001b[0m\u001b[0mmode\u001b[0m\u001b[0;34m,\u001b[0m \u001b[0mcopy\u001b[0m\u001b[0;34m=\u001b[0m\u001b[0mcopy\u001b[0m\u001b[0;34m)\u001b[0m\u001b[0;34m\u001b[0m\u001b[0m\n\u001b[0m\u001b[1;32m    804\u001b[0m         \u001b[0;32mexcept\u001b[0m \u001b[0mzmq\u001b[0m\u001b[0;34m.\u001b[0m\u001b[0mZMQError\u001b[0m \u001b[0;32mas\u001b[0m \u001b[0me\u001b[0m\u001b[0;34m:\u001b[0m\u001b[0;34m\u001b[0m\u001b[0m\n",
      "\u001b[0;32m~/.local/lib/python3.5/site-packages/zmq/sugar/socket.py\u001b[0m in \u001b[0;36mrecv_multipart\u001b[0;34m(self, flags, copy, track)\u001b[0m\n\u001b[1;32m    474\u001b[0m         \"\"\"\n\u001b[0;32m--> 475\u001b[0;31m         \u001b[0mparts\u001b[0m \u001b[0;34m=\u001b[0m \u001b[0;34m[\u001b[0m\u001b[0mself\u001b[0m\u001b[0;34m.\u001b[0m\u001b[0mrecv\u001b[0m\u001b[0;34m(\u001b[0m\u001b[0mflags\u001b[0m\u001b[0;34m,\u001b[0m \u001b[0mcopy\u001b[0m\u001b[0;34m=\u001b[0m\u001b[0mcopy\u001b[0m\u001b[0;34m,\u001b[0m \u001b[0mtrack\u001b[0m\u001b[0;34m=\u001b[0m\u001b[0mtrack\u001b[0m\u001b[0;34m)\u001b[0m\u001b[0;34m]\u001b[0m\u001b[0;34m\u001b[0m\u001b[0m\n\u001b[0m\u001b[1;32m    476\u001b[0m         \u001b[0;31m# have first part already, only loop while more to receive\u001b[0m\u001b[0;34m\u001b[0m\u001b[0;34m\u001b[0m\u001b[0m\n",
      "\u001b[0;32mzmq/backend/cython/socket.pyx\u001b[0m in \u001b[0;36mzmq.backend.cython.socket.Socket.recv\u001b[0;34m()\u001b[0m\n",
      "\u001b[0;32mzmq/backend/cython/socket.pyx\u001b[0m in \u001b[0;36mzmq.backend.cython.socket.Socket.recv\u001b[0;34m()\u001b[0m\n",
      "\u001b[0;32mzmq/backend/cython/socket.pyx\u001b[0m in \u001b[0;36mzmq.backend.cython.socket._recv_copy\u001b[0;34m()\u001b[0m\n",
      "\u001b[0;32m~/.local/lib/python3.5/site-packages/zmq/backend/cython/checkrc.pxd\u001b[0m in \u001b[0;36mzmq.backend.cython.checkrc._check_rc\u001b[0;34m()\u001b[0m\n",
      "\u001b[0;31mKeyboardInterrupt\u001b[0m: ",
      "\nDuring handling of the above exception, another exception occurred:\n",
      "\u001b[0;31mKeyboardInterrupt\u001b[0m                         Traceback (most recent call last)",
      "\u001b[0;32m<ipython-input-86-68f568bfa24f>\u001b[0m in \u001b[0;36m<module>\u001b[0;34m\u001b[0m\n\u001b[1;32m      1\u001b[0m \u001b[0;32mwhile\u001b[0m \u001b[0;32mTrue\u001b[0m\u001b[0;34m:\u001b[0m\u001b[0;34m\u001b[0m\u001b[0m\n\u001b[0;32m----> 2\u001b[0;31m     \u001b[0mx\u001b[0m \u001b[0;34m=\u001b[0m \u001b[0minput\u001b[0m\u001b[0;34m(\u001b[0m\u001b[0;34m\"正の数値を入力してください \"\u001b[0m\u001b[0;34m)\u001b[0m\u001b[0;34m\u001b[0m\u001b[0m\n\u001b[0m\u001b[1;32m      3\u001b[0m     \u001b[0;32mtry\u001b[0m\u001b[0;34m:\u001b[0m\u001b[0;34m\u001b[0m\u001b[0m\n\u001b[1;32m      4\u001b[0m         \u001b[0mx\u001b[0m \u001b[0;34m=\u001b[0m \u001b[0mfloat\u001b[0m\u001b[0;34m(\u001b[0m\u001b[0mx\u001b[0m\u001b[0;34m)\u001b[0m\u001b[0;34m\u001b[0m\u001b[0m\n\u001b[1;32m      5\u001b[0m     \u001b[0;32mexcept\u001b[0m \u001b[0mValueError\u001b[0m\u001b[0;34m:\u001b[0m\u001b[0;34m\u001b[0m\u001b[0m\n",
      "\u001b[0;32m~/.local/lib/python3.5/site-packages/ipykernel/kernelbase.py\u001b[0m in \u001b[0;36mraw_input\u001b[0;34m(self, prompt)\u001b[0m\n\u001b[1;32m    858\u001b[0m             \u001b[0mself\u001b[0m\u001b[0;34m.\u001b[0m\u001b[0m_parent_ident\u001b[0m\u001b[0;34m,\u001b[0m\u001b[0;34m\u001b[0m\u001b[0m\n\u001b[1;32m    859\u001b[0m             \u001b[0mself\u001b[0m\u001b[0;34m.\u001b[0m\u001b[0m_parent_header\u001b[0m\u001b[0;34m,\u001b[0m\u001b[0;34m\u001b[0m\u001b[0m\n\u001b[0;32m--> 860\u001b[0;31m             \u001b[0mpassword\u001b[0m\u001b[0;34m=\u001b[0m\u001b[0;32mFalse\u001b[0m\u001b[0;34m,\u001b[0m\u001b[0;34m\u001b[0m\u001b[0m\n\u001b[0m\u001b[1;32m    861\u001b[0m         )\n\u001b[1;32m    862\u001b[0m \u001b[0;34m\u001b[0m\u001b[0m\n",
      "\u001b[0;32m~/.local/lib/python3.5/site-packages/ipykernel/kernelbase.py\u001b[0m in \u001b[0;36m_input_request\u001b[0;34m(self, prompt, ident, parent, password)\u001b[0m\n\u001b[1;32m    888\u001b[0m             \u001b[0;32mexcept\u001b[0m \u001b[0mKeyboardInterrupt\u001b[0m\u001b[0;34m:\u001b[0m\u001b[0;34m\u001b[0m\u001b[0m\n\u001b[1;32m    889\u001b[0m                 \u001b[0;31m# re-raise KeyboardInterrupt, to truncate traceback\u001b[0m\u001b[0;34m\u001b[0m\u001b[0;34m\u001b[0m\u001b[0m\n\u001b[0;32m--> 890\u001b[0;31m                 \u001b[0;32mraise\u001b[0m \u001b[0mKeyboardInterrupt\u001b[0m\u001b[0;34m\u001b[0m\u001b[0m\n\u001b[0m\u001b[1;32m    891\u001b[0m             \u001b[0;32melse\u001b[0m\u001b[0;34m:\u001b[0m\u001b[0;34m\u001b[0m\u001b[0m\n\u001b[1;32m    892\u001b[0m                 \u001b[0;32mbreak\u001b[0m\u001b[0;34m\u001b[0m\u001b[0m\n",
      "\u001b[0;31mKeyboardInterrupt\u001b[0m: "
     ]
    }
   ],
   "source": [
    "while True:\n",
    "    x = input(\"正の数値を入力してください \")\n",
    "    try:\n",
    "        x = float(x)\n",
    "    except ValueError:\n",
    "        print(x, \"は数値に変換できません\")\n",
    "        continue\n",
    "    except:\n",
    "        print(\"予期していないエラーです\")\n",
    "        exit()\n",
    "    if (x <= 0):\n",
    "        print(x, \"は正の数値ではありません\")\n",
    "        continue\n",
    "# 以下は正しい入力が得られた時の処理\n",
    "    print(x)"
   ]
  },
  {
   "cell_type": "markdown",
   "metadata": {},
   "source": [
    "## 4.14 Pythonでの数学関数"
   ]
  },
  {
   "cell_type": "markdown",
   "metadata": {},
   "source": [
    "演習22. 上の例に従ってPython Shellで`math`モジュールを使ってみてください"
   ]
  },
  {
   "cell_type": "code",
   "execution_count": 89,
   "metadata": {},
   "outputs": [
    {
     "name": "stdout",
     "output_type": "stream",
     "text": [
      "3.141592653589793\n",
      "1.0\n"
     ]
    }
   ],
   "source": [
    "import math\n",
    "pi = math.pi\n",
    "print(pi)\n",
    "sin = math.sin(pi/2)\n",
    "print(sin)"
   ]
  },
  {
   "cell_type": "markdown",
   "metadata": {},
   "source": [
    "## 4.15 数値を表示する際のフォーマット指定"
   ]
  },
  {
   "cell_type": "code",
   "execution_count": 90,
   "metadata": {},
   "outputs": [
    {
     "name": "stdout",
     "output_type": "stream",
     "text": [
      "光速は2.9979246e+08 m/s, アボガドロ数は 6.0221408e+23 mol**(-1) です\n"
     ]
    }
   ],
   "source": [
    "c = 2.99792458E8\n",
    "na = 6.02214076E23\n",
    "form = '光速は{0:12.8g} m/s, アボガドロ数は {1:12.8g} mol**(-1) です'\n",
    "print(form.format(c, na))"
   ]
  },
  {
   "cell_type": "markdown",
   "metadata": {},
   "source": [
    "## 4.16 力試し"
   ]
  },
  {
   "cell_type": "markdown",
   "metadata": {},
   "source": [
    "#### 演習23. `inputcheck.py`, `ex3.py`を組み合わせて以下の条件を満たす平方根を求めるプログラムを作成しなさい。"
   ]
  },
  {
   "cell_type": "markdown",
   "metadata": {},
   "source": [
    "1. 平方根を求める数を繰り返し端末から入力できるようにすること。\n",
    "2. 平方根を求める数の入力が数値に変換できない場合は、その旨を示して、次の入力を求めること。\n",
    "3. 平方根を求める数が0以下の場合は、その旨を示して、次の入力を求めること。  \n",
    "できれば以下にも挑戦すること\n",
    "5. 端末からの入力が\"end\"という文字列なら終了すること。\n",
    "6. 計算精度を絶対精度ではなく、相対精度で$10^{-6}$とすること。これについて大きな数や小さな数（例えば$10^{10}$や$10^{-10}$）の平方根を求め、結果を確認すること。"
   ]
  },
  {
   "cell_type": "code",
   "execution_count": 8,
   "metadata": {},
   "outputs": [
    {
     "name": "stdout",
     "output_type": "stream",
     "text": [
      "平方根を求める数 a\n",
      "a は数値に変換できません\n",
      "平方根を求める数 -1\n",
      "-1.0 は正の数値ではありません\n",
      "平方根を求める数 2\n",
      "2\t1.5\t1\n",
      "1.5\t1.41667\t1.33333\n",
      "1.41667\t1.41422\t1.41176\n",
      "1.41422\t1.41421\t1.41421\n",
      "1.41421\t1.41421\t1.41421\n",
      "平方根を求める数 10000000000\n",
      "1e+10\t5e+09\t1\n",
      "5e+09\t2.5e+09\t2\n",
      "2.5e+09\t1.25e+09\t4\n",
      "1.25e+09\t6.25e+08\t8\n",
      "6.25e+08\t3.125e+08\t16\n",
      "3.125e+08\t1.5625e+08\t32\n",
      "1.5625e+08\t7.8125e+07\t64\n",
      "7.8125e+07\t3.90626e+07\t128\n",
      "3.90626e+07\t1.95314e+07\t255.999\n",
      "1.95314e+07\t9.76597e+06\t511.996\n",
      "9.76597e+06\t4.8835e+06\t1023.96\n",
      "4.8835e+06\t2.44277e+06\t2047.71\n",
      "2.44277e+06\t1.22343e+06\t4093.71\n",
      "1.22343e+06\t615803\t8173.72\n",
      "615803\t316021\t16239\n",
      "316021\t173832\t31643.5\n",
      "173832\t115679\t57526.7\n",
      "115679\t101063\t86445.7\n",
      "101063\t100006\t98948.6\n",
      "100006\t100000\t99994.4\n",
      "100000\t100000\t100000\n",
      "100000\t100000\t100000\n",
      "平方根を求める数 0.0000000001\n",
      "1e-10\t0.5\t1\n",
      "0.5\t0.25\t2e-10\n",
      "0.25\t0.125\t4e-10\n",
      "0.125\t0.0625\t8e-10\n",
      "0.0625\t0.03125\t1.6e-09\n",
      "0.03125\t0.015625\t3.2e-09\n",
      "0.015625\t0.0078125\t6.4e-09\n",
      "0.0078125\t0.00390626\t1.28e-08\n",
      "0.00390626\t0.00195314\t2.55999e-08\n",
      "0.00195314\t0.000976597\t5.11996e-08\n",
      "0.000976597\t0.00048835\t1.02396e-07\n",
      "0.00048835\t0.000244277\t2.04771e-07\n",
      "0.000244277\t0.000122343\t4.09371e-07\n",
      "0.000122343\t6.15803e-05\t8.17372e-07\n",
      "6.15803e-05\t3.16021e-05\t1.6239e-06\n",
      "3.16021e-05\t1.73832e-05\t3.16435e-06\n",
      "1.73832e-05\t1.15679e-05\t5.75267e-06\n",
      "1.15679e-05\t1.01063e-05\t8.64457e-06\n",
      "1.01063e-05\t1.00006e-05\t9.89486e-06\n",
      "平方根を求める数 end\n"
     ]
    }
   ],
   "source": [
    "while True:\n",
    "    x = input(\"平方根を求める数 \")\n",
    "    if (x == 'end'):\n",
    "        break\n",
    "    try:\n",
    "        x = float(x)\n",
    "    except ValueError:\n",
    "        print(x, \"は数値に変換できません\")\n",
    "        continue\n",
    "    except:\n",
    "        print(\"予期していないエラーです\")\n",
    "        exit()\n",
    "    if (x <= 0):\n",
    "        print(x, \"は正の数値ではありません\")\n",
    "        continue\n",
    "# xの平方根を求める\n",
    "    x = float(x)\n",
    "    #\n",
    "    rnew = x\n",
    "    #\n",
    "    diff = rnew - x/rnew\n",
    "    if (diff < 0):\n",
    "        diff = abs(diff)\n",
    "    while (diff > 1.0E-6):\n",
    "        r1 = rnew\n",
    "        r2 = x/r1\n",
    "        rnew = (r1 + r2)/2\n",
    "        form = '{0:1.6g}\\t{1:1.6g}\\t{2:1.6g}'\n",
    "        print(form.format(r1,rnew,r2))\n",
    "        diff = r1 - r2\n",
    "        if (diff < 0):\n",
    "            diff = abs(diff)"
   ]
  },
  {
   "cell_type": "code",
   "execution_count": 9,
   "metadata": {},
   "outputs": [
    {
     "data": {
      "text/plain": [
       "1e-05"
      ]
     },
     "execution_count": 9,
     "metadata": {},
     "output_type": "execute_result"
    }
   ],
   "source": [
    "0.0000000001**(1/2)"
   ]
  },
  {
   "cell_type": "markdown",
   "metadata": {},
   "source": [
    "# 5. 関数を使った処理のカプセル化"
   ]
  },
  {
   "cell_type": "markdown",
   "metadata": {},
   "source": [
    "# 5.3 関数`square_root()`を実装する"
   ]
  },
  {
   "cell_type": "markdown",
   "metadata": {},
   "source": [
    "プログラム13 関数`square_root()`の実装"
   ]
  },
  {
   "cell_type": "code",
   "execution_count": 10,
   "metadata": {},
   "outputs": [
    {
     "name": "stdout",
     "output_type": "stream",
     "text": [
      "2 1.5 1.0\n",
      "1.5 1.4166666666666665 1.3333333333333333\n",
      "1.4166666666666665 1.4142156862745097 1.411764705882353\n",
      "1.4142156862745097 1.4142135623746899 1.41421143847487\n",
      "1.4142135623746899 1.414213562373095 1.4142135623715002\n",
      "結果は  1.414213562373095\n"
     ]
    }
   ],
   "source": [
    "#\n",
    "def square_root(x):\n",
    "    '引数xの平方根を求める' #docstring\n",
    "    rnew = x\n",
    "    #\n",
    "    diff = rnew - x/rnew\n",
    "    if (diff < 0):\n",
    "        diff = abs(diff)\n",
    "    while (diff > 1.0E-6):\n",
    "        r1 = rnew\n",
    "        r2 = x/r1\n",
    "        rnew = (r1 + r2)/2\n",
    "        print(r1, rnew, r2)\n",
    "        diff = r1 - r2\n",
    "        if (diff < 0):\n",
    "            diff = abs(diff)\n",
    "    return rnew\n",
    "# ここからメインプログラム\n",
    "v = 2\n",
    "r = square_root(v)\n",
    "print(\"結果は \",r)"
   ]
  },
  {
   "cell_type": "code",
   "execution_count": 11,
   "metadata": {},
   "outputs": [
    {
     "name": "stdout",
     "output_type": "stream",
     "text": [
      "Help on function square_root in module __main__:\n",
      "\n",
      "square_root(x)\n",
      "    引数xの平方根を求める\n",
      "\n"
     ]
    }
   ],
   "source": [
    "help(square_root)"
   ]
  },
  {
   "cell_type": "markdown",
   "metadata": {},
   "source": [
    "#### 演習24. 繰り返し平方根を求めるプログラムを関数`square_root()`を定義して利用する形に書き換えなさい。"
   ]
  },
  {
   "cell_type": "code",
   "execution_count": 19,
   "metadata": {},
   "outputs": [
    {
     "name": "stdout",
     "output_type": "stream",
     "text": [
      "平方根を求める数 2\n",
      "2.0 1.5 1.0\n",
      "1.5 1.4166666666666665 1.3333333333333333\n",
      "1.4166666666666665 1.4142156862745097 1.411764705882353\n",
      "1.4142156862745097 1.4142135623746899 1.41421143847487\n",
      "1.4142135623746899 1.414213562373095 1.4142135623715002\n",
      "1.414213562373095\n"
     ]
    },
    {
     "ename": "KeyboardInterrupt",
     "evalue": "",
     "output_type": "error",
     "traceback": [
      "\u001b[0;31m---------------------------------------------------------------------------\u001b[0m",
      "\u001b[0;31mKeyboardInterrupt\u001b[0m                         Traceback (most recent call last)",
      "\u001b[0;32m~/.local/lib/python3.5/site-packages/ipykernel/kernelbase.py\u001b[0m in \u001b[0;36m_input_request\u001b[0;34m(self, prompt, ident, parent, password)\u001b[0m\n\u001b[1;32m    884\u001b[0m             \u001b[0;32mtry\u001b[0m\u001b[0;34m:\u001b[0m\u001b[0;34m\u001b[0m\u001b[0m\n\u001b[0;32m--> 885\u001b[0;31m                 \u001b[0mident\u001b[0m\u001b[0;34m,\u001b[0m \u001b[0mreply\u001b[0m \u001b[0;34m=\u001b[0m \u001b[0mself\u001b[0m\u001b[0;34m.\u001b[0m\u001b[0msession\u001b[0m\u001b[0;34m.\u001b[0m\u001b[0mrecv\u001b[0m\u001b[0;34m(\u001b[0m\u001b[0mself\u001b[0m\u001b[0;34m.\u001b[0m\u001b[0mstdin_socket\u001b[0m\u001b[0;34m,\u001b[0m \u001b[0;36m0\u001b[0m\u001b[0;34m)\u001b[0m\u001b[0;34m\u001b[0m\u001b[0m\n\u001b[0m\u001b[1;32m    886\u001b[0m             \u001b[0;32mexcept\u001b[0m \u001b[0mException\u001b[0m\u001b[0;34m:\u001b[0m\u001b[0;34m\u001b[0m\u001b[0m\n",
      "\u001b[0;32m~/.local/lib/python3.5/site-packages/jupyter_client/session.py\u001b[0m in \u001b[0;36mrecv\u001b[0;34m(self, socket, mode, content, copy)\u001b[0m\n\u001b[1;32m    802\u001b[0m         \u001b[0;32mtry\u001b[0m\u001b[0;34m:\u001b[0m\u001b[0;34m\u001b[0m\u001b[0m\n\u001b[0;32m--> 803\u001b[0;31m             \u001b[0mmsg_list\u001b[0m \u001b[0;34m=\u001b[0m \u001b[0msocket\u001b[0m\u001b[0;34m.\u001b[0m\u001b[0mrecv_multipart\u001b[0m\u001b[0;34m(\u001b[0m\u001b[0mmode\u001b[0m\u001b[0;34m,\u001b[0m \u001b[0mcopy\u001b[0m\u001b[0;34m=\u001b[0m\u001b[0mcopy\u001b[0m\u001b[0;34m)\u001b[0m\u001b[0;34m\u001b[0m\u001b[0m\n\u001b[0m\u001b[1;32m    804\u001b[0m         \u001b[0;32mexcept\u001b[0m \u001b[0mzmq\u001b[0m\u001b[0;34m.\u001b[0m\u001b[0mZMQError\u001b[0m \u001b[0;32mas\u001b[0m \u001b[0me\u001b[0m\u001b[0;34m:\u001b[0m\u001b[0;34m\u001b[0m\u001b[0m\n",
      "\u001b[0;32m~/.local/lib/python3.5/site-packages/zmq/sugar/socket.py\u001b[0m in \u001b[0;36mrecv_multipart\u001b[0;34m(self, flags, copy, track)\u001b[0m\n\u001b[1;32m    474\u001b[0m         \"\"\"\n\u001b[0;32m--> 475\u001b[0;31m         \u001b[0mparts\u001b[0m \u001b[0;34m=\u001b[0m \u001b[0;34m[\u001b[0m\u001b[0mself\u001b[0m\u001b[0;34m.\u001b[0m\u001b[0mrecv\u001b[0m\u001b[0;34m(\u001b[0m\u001b[0mflags\u001b[0m\u001b[0;34m,\u001b[0m \u001b[0mcopy\u001b[0m\u001b[0;34m=\u001b[0m\u001b[0mcopy\u001b[0m\u001b[0;34m,\u001b[0m \u001b[0mtrack\u001b[0m\u001b[0;34m=\u001b[0m\u001b[0mtrack\u001b[0m\u001b[0;34m)\u001b[0m\u001b[0;34m]\u001b[0m\u001b[0;34m\u001b[0m\u001b[0m\n\u001b[0m\u001b[1;32m    476\u001b[0m         \u001b[0;31m# have first part already, only loop while more to receive\u001b[0m\u001b[0;34m\u001b[0m\u001b[0;34m\u001b[0m\u001b[0m\n",
      "\u001b[0;32mzmq/backend/cython/socket.pyx\u001b[0m in \u001b[0;36mzmq.backend.cython.socket.Socket.recv\u001b[0;34m()\u001b[0m\n",
      "\u001b[0;32mzmq/backend/cython/socket.pyx\u001b[0m in \u001b[0;36mzmq.backend.cython.socket.Socket.recv\u001b[0;34m()\u001b[0m\n",
      "\u001b[0;32mzmq/backend/cython/socket.pyx\u001b[0m in \u001b[0;36mzmq.backend.cython.socket._recv_copy\u001b[0;34m()\u001b[0m\n",
      "\u001b[0;32m~/.local/lib/python3.5/site-packages/zmq/backend/cython/checkrc.pxd\u001b[0m in \u001b[0;36mzmq.backend.cython.checkrc._check_rc\u001b[0;34m()\u001b[0m\n",
      "\u001b[0;31mKeyboardInterrupt\u001b[0m: ",
      "\nDuring handling of the above exception, another exception occurred:\n",
      "\u001b[0;31mKeyboardInterrupt\u001b[0m                         Traceback (most recent call last)",
      "\u001b[0;32m<ipython-input-19-a7cf0d61fac6>\u001b[0m in \u001b[0;36m<module>\u001b[0;34m\u001b[0m\n\u001b[1;32m     17\u001b[0m     \u001b[0;32mreturn\u001b[0m \u001b[0mrnew\u001b[0m\u001b[0;34m\u001b[0m\u001b[0m\n\u001b[1;32m     18\u001b[0m \u001b[0;32mwhile\u001b[0m \u001b[0;32mTrue\u001b[0m\u001b[0;34m:\u001b[0m\u001b[0;34m\u001b[0m\u001b[0m\n\u001b[0;32m---> 19\u001b[0;31m     \u001b[0mv\u001b[0m \u001b[0;34m=\u001b[0m \u001b[0minput\u001b[0m\u001b[0;34m(\u001b[0m\u001b[0;34m\"平方根を求める数 \"\u001b[0m\u001b[0;34m)\u001b[0m\u001b[0;34m\u001b[0m\u001b[0m\n\u001b[0m\u001b[1;32m     20\u001b[0m     \u001b[0;32mtry\u001b[0m\u001b[0;34m:\u001b[0m\u001b[0;34m\u001b[0m\u001b[0m\n\u001b[1;32m     21\u001b[0m         \u001b[0mv\u001b[0m \u001b[0;34m=\u001b[0m \u001b[0mfloat\u001b[0m\u001b[0;34m(\u001b[0m\u001b[0mv\u001b[0m\u001b[0;34m)\u001b[0m\u001b[0;34m\u001b[0m\u001b[0m\n",
      "\u001b[0;32m~/.local/lib/python3.5/site-packages/ipykernel/kernelbase.py\u001b[0m in \u001b[0;36mraw_input\u001b[0;34m(self, prompt)\u001b[0m\n\u001b[1;32m    858\u001b[0m             \u001b[0mself\u001b[0m\u001b[0;34m.\u001b[0m\u001b[0m_parent_ident\u001b[0m\u001b[0;34m,\u001b[0m\u001b[0;34m\u001b[0m\u001b[0m\n\u001b[1;32m    859\u001b[0m             \u001b[0mself\u001b[0m\u001b[0;34m.\u001b[0m\u001b[0m_parent_header\u001b[0m\u001b[0;34m,\u001b[0m\u001b[0;34m\u001b[0m\u001b[0m\n\u001b[0;32m--> 860\u001b[0;31m             \u001b[0mpassword\u001b[0m\u001b[0;34m=\u001b[0m\u001b[0;32mFalse\u001b[0m\u001b[0;34m,\u001b[0m\u001b[0;34m\u001b[0m\u001b[0m\n\u001b[0m\u001b[1;32m    861\u001b[0m         )\n\u001b[1;32m    862\u001b[0m \u001b[0;34m\u001b[0m\u001b[0m\n",
      "\u001b[0;32m~/.local/lib/python3.5/site-packages/ipykernel/kernelbase.py\u001b[0m in \u001b[0;36m_input_request\u001b[0;34m(self, prompt, ident, parent, password)\u001b[0m\n\u001b[1;32m    888\u001b[0m             \u001b[0;32mexcept\u001b[0m \u001b[0mKeyboardInterrupt\u001b[0m\u001b[0;34m:\u001b[0m\u001b[0;34m\u001b[0m\u001b[0m\n\u001b[1;32m    889\u001b[0m                 \u001b[0;31m# re-raise KeyboardInterrupt, to truncate traceback\u001b[0m\u001b[0;34m\u001b[0m\u001b[0;34m\u001b[0m\u001b[0m\n\u001b[0;32m--> 890\u001b[0;31m                 \u001b[0;32mraise\u001b[0m \u001b[0mKeyboardInterrupt\u001b[0m\u001b[0;34m\u001b[0m\u001b[0m\n\u001b[0m\u001b[1;32m    891\u001b[0m             \u001b[0;32melse\u001b[0m\u001b[0;34m:\u001b[0m\u001b[0;34m\u001b[0m\u001b[0m\n\u001b[1;32m    892\u001b[0m                 \u001b[0;32mbreak\u001b[0m\u001b[0;34m\u001b[0m\u001b[0m\n",
      "\u001b[0;31mKeyboardInterrupt\u001b[0m: "
     ]
    }
   ],
   "source": [
    "#\n",
    "def square_root(x):\n",
    "    '引数xの平方根を求める' #docstring\n",
    "    rnew = x\n",
    "    #\n",
    "    diff = rnew - x/rnew\n",
    "    if (diff < 0):\n",
    "        diff = abs(diff)\n",
    "    while (diff > 1.0E-6):\n",
    "        r1 = rnew\n",
    "        r2 = x/r1\n",
    "        rnew = (r1 + r2)/2\n",
    "        print(r1, rnew, r2)\n",
    "        diff = r1 - r2\n",
    "        if (diff < 0):\n",
    "            diff = abs(diff)\n",
    "    return rnew\n",
    "while True:\n",
    "    v = input(\"平方根を求める数 \")\n",
    "    try:\n",
    "        v = float(v)\n",
    "    except ValueError:\n",
    "        print(v, \"は数値に変換できません\")\n",
    "        continue\n",
    "    except:\n",
    "        print(\"予期していないエラーです\")\n",
    "        exit()\n",
    "    if (v <= 0):\n",
    "        print(v, \"は正の数値ではありません\")\n",
    "        continue\n",
    "    if (v > 0):\n",
    "        r = square_root(v)\n",
    "        print(r)"
   ]
  },
  {
   "cell_type": "markdown",
   "metadata": {},
   "source": [
    "#### 演習25. 関数`get_positive_numeral()`も構成し、繰り返し平方根を求めるプログラムをこれと`square_root()`を利用する形に書き換えなさい。"
   ]
  },
  {
   "cell_type": "code",
   "execution_count": 24,
   "metadata": {},
   "outputs": [
    {
     "name": "stdout",
     "output_type": "stream",
     "text": [
      "平方根を求める数 2\n",
      "2.0 1.5 1.0\n",
      "1.5 1.4166666666666665 1.3333333333333333\n",
      "1.4166666666666665 1.4142156862745097 1.411764705882353\n",
      "1.4142156862745097 1.4142135623746899 1.41421143847487\n",
      "1.4142135623746899 1.414213562373095 1.4142135623715002\n",
      "平方根を求める数 -1\n",
      "-1.0 は正の数値ではありません\n",
      "平方根を求める数 a\n",
      "a は数値に変換できません\n",
      "平方根を求める数 \n",
      " は数値に変換できません\n"
     ]
    },
    {
     "ename": "KeyboardInterrupt",
     "evalue": "",
     "output_type": "error",
     "traceback": [
      "\u001b[0;31m---------------------------------------------------------------------------\u001b[0m",
      "\u001b[0;31mKeyboardInterrupt\u001b[0m                         Traceback (most recent call last)",
      "\u001b[0;32m~/.local/lib/python3.5/site-packages/ipykernel/kernelbase.py\u001b[0m in \u001b[0;36m_input_request\u001b[0;34m(self, prompt, ident, parent, password)\u001b[0m\n\u001b[1;32m    884\u001b[0m             \u001b[0;32mtry\u001b[0m\u001b[0;34m:\u001b[0m\u001b[0;34m\u001b[0m\u001b[0m\n\u001b[0;32m--> 885\u001b[0;31m                 \u001b[0mident\u001b[0m\u001b[0;34m,\u001b[0m \u001b[0mreply\u001b[0m \u001b[0;34m=\u001b[0m \u001b[0mself\u001b[0m\u001b[0;34m.\u001b[0m\u001b[0msession\u001b[0m\u001b[0;34m.\u001b[0m\u001b[0mrecv\u001b[0m\u001b[0;34m(\u001b[0m\u001b[0mself\u001b[0m\u001b[0;34m.\u001b[0m\u001b[0mstdin_socket\u001b[0m\u001b[0;34m,\u001b[0m \u001b[0;36m0\u001b[0m\u001b[0;34m)\u001b[0m\u001b[0;34m\u001b[0m\u001b[0m\n\u001b[0m\u001b[1;32m    886\u001b[0m             \u001b[0;32mexcept\u001b[0m \u001b[0mException\u001b[0m\u001b[0;34m:\u001b[0m\u001b[0;34m\u001b[0m\u001b[0m\n",
      "\u001b[0;32m~/.local/lib/python3.5/site-packages/jupyter_client/session.py\u001b[0m in \u001b[0;36mrecv\u001b[0;34m(self, socket, mode, content, copy)\u001b[0m\n\u001b[1;32m    802\u001b[0m         \u001b[0;32mtry\u001b[0m\u001b[0;34m:\u001b[0m\u001b[0;34m\u001b[0m\u001b[0m\n\u001b[0;32m--> 803\u001b[0;31m             \u001b[0mmsg_list\u001b[0m \u001b[0;34m=\u001b[0m \u001b[0msocket\u001b[0m\u001b[0;34m.\u001b[0m\u001b[0mrecv_multipart\u001b[0m\u001b[0;34m(\u001b[0m\u001b[0mmode\u001b[0m\u001b[0;34m,\u001b[0m \u001b[0mcopy\u001b[0m\u001b[0;34m=\u001b[0m\u001b[0mcopy\u001b[0m\u001b[0;34m)\u001b[0m\u001b[0;34m\u001b[0m\u001b[0m\n\u001b[0m\u001b[1;32m    804\u001b[0m         \u001b[0;32mexcept\u001b[0m \u001b[0mzmq\u001b[0m\u001b[0;34m.\u001b[0m\u001b[0mZMQError\u001b[0m \u001b[0;32mas\u001b[0m \u001b[0me\u001b[0m\u001b[0;34m:\u001b[0m\u001b[0;34m\u001b[0m\u001b[0m\n",
      "\u001b[0;32m~/.local/lib/python3.5/site-packages/zmq/sugar/socket.py\u001b[0m in \u001b[0;36mrecv_multipart\u001b[0;34m(self, flags, copy, track)\u001b[0m\n\u001b[1;32m    474\u001b[0m         \"\"\"\n\u001b[0;32m--> 475\u001b[0;31m         \u001b[0mparts\u001b[0m \u001b[0;34m=\u001b[0m \u001b[0;34m[\u001b[0m\u001b[0mself\u001b[0m\u001b[0;34m.\u001b[0m\u001b[0mrecv\u001b[0m\u001b[0;34m(\u001b[0m\u001b[0mflags\u001b[0m\u001b[0;34m,\u001b[0m \u001b[0mcopy\u001b[0m\u001b[0;34m=\u001b[0m\u001b[0mcopy\u001b[0m\u001b[0;34m,\u001b[0m \u001b[0mtrack\u001b[0m\u001b[0;34m=\u001b[0m\u001b[0mtrack\u001b[0m\u001b[0;34m)\u001b[0m\u001b[0;34m]\u001b[0m\u001b[0;34m\u001b[0m\u001b[0m\n\u001b[0m\u001b[1;32m    476\u001b[0m         \u001b[0;31m# have first part already, only loop while more to receive\u001b[0m\u001b[0;34m\u001b[0m\u001b[0;34m\u001b[0m\u001b[0m\n",
      "\u001b[0;32mzmq/backend/cython/socket.pyx\u001b[0m in \u001b[0;36mzmq.backend.cython.socket.Socket.recv\u001b[0;34m()\u001b[0m\n",
      "\u001b[0;32mzmq/backend/cython/socket.pyx\u001b[0m in \u001b[0;36mzmq.backend.cython.socket.Socket.recv\u001b[0;34m()\u001b[0m\n",
      "\u001b[0;32mzmq/backend/cython/socket.pyx\u001b[0m in \u001b[0;36mzmq.backend.cython.socket._recv_copy\u001b[0;34m()\u001b[0m\n",
      "\u001b[0;32m~/.local/lib/python3.5/site-packages/zmq/backend/cython/checkrc.pxd\u001b[0m in \u001b[0;36mzmq.backend.cython.checkrc._check_rc\u001b[0;34m()\u001b[0m\n",
      "\u001b[0;31mKeyboardInterrupt\u001b[0m: ",
      "\nDuring handling of the above exception, another exception occurred:\n",
      "\u001b[0;31mKeyboardInterrupt\u001b[0m                         Traceback (most recent call last)",
      "\u001b[0;32m<ipython-input-24-06f6079081ec>\u001b[0m in \u001b[0;36m<module>\u001b[0;34m\u001b[0m\n\u001b[1;32m     32\u001b[0m         \u001b[0;32mreturn\u001b[0m \u001b[0mx\u001b[0m\u001b[0;34m\u001b[0m\u001b[0m\n\u001b[1;32m     33\u001b[0m \u001b[0;32mwhile\u001b[0m \u001b[0;32mTrue\u001b[0m\u001b[0;34m:\u001b[0m\u001b[0;34m\u001b[0m\u001b[0m\n\u001b[0;32m---> 34\u001b[0;31m     \u001b[0mx\u001b[0m \u001b[0;34m=\u001b[0m \u001b[0mget_positive_numeral\u001b[0m\u001b[0;34m(\u001b[0m\u001b[0;34m)\u001b[0m\u001b[0;34m\u001b[0m\u001b[0m\n\u001b[0m\u001b[1;32m     35\u001b[0m     \u001b[0;32mif\u001b[0m \u001b[0;34m(\u001b[0m\u001b[0mx\u001b[0m \u001b[0;34m==\u001b[0m \u001b[0mValueError\u001b[0m\u001b[0;34m)\u001b[0m\u001b[0;34m:\u001b[0m\u001b[0;34m\u001b[0m\u001b[0m\n\u001b[1;32m     36\u001b[0m         \u001b[0;32mcontinue\u001b[0m\u001b[0;34m\u001b[0m\u001b[0m\n",
      "\u001b[0;32m<ipython-input-24-06f6079081ec>\u001b[0m in \u001b[0;36mget_positive_numeral\u001b[0;34m()\u001b[0m\n\u001b[1;32m     17\u001b[0m \u001b[0;32mdef\u001b[0m \u001b[0mget_positive_numeral\u001b[0m\u001b[0;34m(\u001b[0m\u001b[0;34m)\u001b[0m\u001b[0;34m:\u001b[0m\u001b[0;34m\u001b[0m\u001b[0m\n\u001b[1;32m     18\u001b[0m     \u001b[0;34m'端末から入力xを得て正の数値かどうか検査する'\u001b[0m\u001b[0;34m\u001b[0m\u001b[0m\n\u001b[0;32m---> 19\u001b[0;31m     \u001b[0mx\u001b[0m \u001b[0;34m=\u001b[0m \u001b[0minput\u001b[0m\u001b[0;34m(\u001b[0m\u001b[0;34m\"平方根を求める数 \"\u001b[0m\u001b[0;34m)\u001b[0m\u001b[0;34m\u001b[0m\u001b[0m\n\u001b[0m\u001b[1;32m     20\u001b[0m     \u001b[0;32mtry\u001b[0m\u001b[0;34m:\u001b[0m\u001b[0;34m\u001b[0m\u001b[0m\n\u001b[1;32m     21\u001b[0m         \u001b[0mx\u001b[0m \u001b[0;34m=\u001b[0m \u001b[0mfloat\u001b[0m\u001b[0;34m(\u001b[0m\u001b[0mx\u001b[0m\u001b[0;34m)\u001b[0m\u001b[0;34m\u001b[0m\u001b[0m\n",
      "\u001b[0;32m~/.local/lib/python3.5/site-packages/ipykernel/kernelbase.py\u001b[0m in \u001b[0;36mraw_input\u001b[0;34m(self, prompt)\u001b[0m\n\u001b[1;32m    858\u001b[0m             \u001b[0mself\u001b[0m\u001b[0;34m.\u001b[0m\u001b[0m_parent_ident\u001b[0m\u001b[0;34m,\u001b[0m\u001b[0;34m\u001b[0m\u001b[0m\n\u001b[1;32m    859\u001b[0m             \u001b[0mself\u001b[0m\u001b[0;34m.\u001b[0m\u001b[0m_parent_header\u001b[0m\u001b[0;34m,\u001b[0m\u001b[0;34m\u001b[0m\u001b[0m\n\u001b[0;32m--> 860\u001b[0;31m             \u001b[0mpassword\u001b[0m\u001b[0;34m=\u001b[0m\u001b[0;32mFalse\u001b[0m\u001b[0;34m,\u001b[0m\u001b[0;34m\u001b[0m\u001b[0m\n\u001b[0m\u001b[1;32m    861\u001b[0m         )\n\u001b[1;32m    862\u001b[0m \u001b[0;34m\u001b[0m\u001b[0m\n",
      "\u001b[0;32m~/.local/lib/python3.5/site-packages/ipykernel/kernelbase.py\u001b[0m in \u001b[0;36m_input_request\u001b[0;34m(self, prompt, ident, parent, password)\u001b[0m\n\u001b[1;32m    888\u001b[0m             \u001b[0;32mexcept\u001b[0m \u001b[0mKeyboardInterrupt\u001b[0m\u001b[0;34m:\u001b[0m\u001b[0;34m\u001b[0m\u001b[0m\n\u001b[1;32m    889\u001b[0m                 \u001b[0;31m# re-raise KeyboardInterrupt, to truncate traceback\u001b[0m\u001b[0;34m\u001b[0m\u001b[0;34m\u001b[0m\u001b[0m\n\u001b[0;32m--> 890\u001b[0;31m                 \u001b[0;32mraise\u001b[0m \u001b[0mKeyboardInterrupt\u001b[0m\u001b[0;34m\u001b[0m\u001b[0m\n\u001b[0m\u001b[1;32m    891\u001b[0m             \u001b[0;32melse\u001b[0m\u001b[0;34m:\u001b[0m\u001b[0;34m\u001b[0m\u001b[0m\n\u001b[1;32m    892\u001b[0m                 \u001b[0;32mbreak\u001b[0m\u001b[0;34m\u001b[0m\u001b[0m\n",
      "\u001b[0;31mKeyboardInterrupt\u001b[0m: "
     ]
    }
   ],
   "source": [
    "def square_root(x):\n",
    "    '引数xの平方根を求める' #docstring\n",
    "    rnew = x\n",
    "    #\n",
    "    diff = rnew - x/rnew\n",
    "    if (diff < 0):\n",
    "        diff = abs(diff)\n",
    "    while (diff > 1.0E-6):\n",
    "        r1 = rnew\n",
    "        r2 = x/r1\n",
    "        rnew = (r1 + r2)/2\n",
    "        print(r1, rnew, r2)\n",
    "        diff = r1 - r2\n",
    "        if (diff < 0):\n",
    "            diff = abs(diff)\n",
    "    return rnew\n",
    "def get_positive_numeral():\n",
    "    '端末から入力xを得て正の数値かどうか検査する'\n",
    "    x = input(\"平方根を求める数 \")\n",
    "    try:\n",
    "        x = float(x)\n",
    "    except ValueError:\n",
    "        print(x, \"は数値に変換できません\")\n",
    "        return ValueError\n",
    "    except:\n",
    "        print(\"予期していないエラーです\")\n",
    "        return ValueError\n",
    "    if (x <= 0):\n",
    "        print(x, \"は正の数値ではありません\")\n",
    "        return ValueError\n",
    "    if (x > 0):\n",
    "        return x\n",
    "while True:\n",
    "    x = get_positive_numeral()\n",
    "    if (x == ValueError):\n",
    "        continue\n",
    "    r = square_root(x)"
   ]
  },
  {
   "cell_type": "markdown",
   "metadata": {},
   "source": [
    "## 5.6 関数内の変数の扱い"
   ]
  },
  {
   "cell_type": "code",
   "execution_count": 25,
   "metadata": {},
   "outputs": [
    {
     "name": "stdout",
     "output_type": "stream",
     "text": [
      "100 10\n"
     ]
    }
   ],
   "source": [
    "a = 10\n",
    "b = 0\n",
    "def f():\n",
    "    global b #グローバル宣言\n",
    "    c = a*a\n",
    "    b = c #グローバ宣言した変数は代入可能\n",
    "f()\n",
    "print(b,a)"
   ]
  },
  {
   "cell_type": "markdown",
   "metadata": {},
   "source": [
    "## 5.7 関数の利用パターン"
   ]
  },
  {
   "cell_type": "code",
   "execution_count": 28,
   "metadata": {},
   "outputs": [
    {
     "name": "stdout",
     "output_type": "stream",
     "text": [
      "1\n",
      "[0, 2, 3]\n"
     ]
    }
   ],
   "source": [
    "a = 0\n",
    "def f():\n",
    "    global a\n",
    "    a = a + 1\n",
    "def g(x):\n",
    "    x[0] = 0\n",
    "f()\n",
    "print(a)\n",
    "b = [1,2,3]\n",
    "g(b)\n",
    "print(b)"
   ]
  },
  {
   "cell_type": "markdown",
   "metadata": {},
   "source": [
    "## 5.8 関数の呼び出しと関数オブジェクトの引き渡し"
   ]
  },
  {
   "cell_type": "code",
   "execution_count": 29,
   "metadata": {},
   "outputs": [
    {
     "name": "stdout",
     "output_type": "stream",
     "text": [
      "f says Hello\n",
      "In F, f says Hello\n"
     ]
    }
   ],
   "source": [
    "def f():\n",
    "    print(\"f says Hello\")\n",
    "# 関数を引数でもらって実行する関数\n",
    "def F(y):\n",
    "    print(\"In F, \", end=\"\") # `end=\"`末尾に出力を追加\n",
    "    y()\n",
    "# fを実行\n",
    "f()\n",
    "# fをFに渡してFを実行\n",
    "F(f)"
   ]
  },
  {
   "cell_type": "markdown",
   "metadata": {},
   "source": [
    "## デフォルト引数値とキーワード引数"
   ]
  },
  {
   "cell_type": "code",
   "execution_count": 31,
   "metadata": {},
   "outputs": [
    {
     "name": "stdout",
     "output_type": "stream",
     "text": [
      "3\n",
      "6\n",
      "5\n"
     ]
    }
   ],
   "source": [
    "def f(a, b=2, c=3):\n",
    "    return a+b+c\n",
    "print(f(1,1,1))\n",
    "print(f(1))\n",
    "print(f(1,c=2))"
   ]
  },
  {
   "cell_type": "markdown",
   "metadata": {},
   "source": [
    "# 6. Turtleで遊ぶ"
   ]
  },
  {
   "cell_type": "markdown",
   "metadata": {},
   "source": [
    "## 6.4 使ってみよう"
   ]
  },
  {
   "cell_type": "markdown",
   "metadata": {},
   "source": [
    "プログラム14 turtleを使う例（`turtle.py`という名前で保存してはいけない）"
   ]
  },
  {
   "cell_type": "code",
   "execution_count": 2,
   "metadata": {},
   "outputs": [
    {
     "ename": "Terminator",
     "evalue": "",
     "output_type": "error",
     "traceback": [
      "\u001b[0;31m---------------------------------------------------------------------------\u001b[0m",
      "\u001b[0;31mTerminator\u001b[0m                                Traceback (most recent call last)",
      "\u001b[0;32m<ipython-input-2-c1535014831f>\u001b[0m in \u001b[0;36m<module>\u001b[0;34m\u001b[0m\n\u001b[1;32m      1\u001b[0m \u001b[0;32mfrom\u001b[0m \u001b[0mturtle\u001b[0m \u001b[0;32mimport\u001b[0m\u001b[0;34m*\u001b[0m\u001b[0;34m\u001b[0m\u001b[0m\n\u001b[0;32m----> 2\u001b[0;31m \u001b[0mforward\u001b[0m\u001b[0;34m(\u001b[0m\u001b[0;36m100\u001b[0m\u001b[0;34m)\u001b[0m\u001b[0;34m\u001b[0m\u001b[0m\n\u001b[0m\u001b[1;32m      3\u001b[0m \u001b[0mleft\u001b[0m\u001b[0;34m(\u001b[0m\u001b[0;36m90\u001b[0m\u001b[0;34m)\u001b[0m\u001b[0;34m\u001b[0m\u001b[0m\n\u001b[1;32m      4\u001b[0m \u001b[0mforward\u001b[0m\u001b[0;34m(\u001b[0m\u001b[0;36m100\u001b[0m\u001b[0;34m)\u001b[0m\u001b[0;34m\u001b[0m\u001b[0m\n\u001b[1;32m      5\u001b[0m \u001b[0mleft\u001b[0m\u001b[0;34m(\u001b[0m\u001b[0;36m90\u001b[0m\u001b[0;34m)\u001b[0m\u001b[0;34m\u001b[0m\u001b[0m\n",
      "\u001b[0;32m/usr/lib/python3.5/turtle.py\u001b[0m in \u001b[0;36mforward\u001b[0;34m(distance)\u001b[0m\n",
      "\u001b[0;31mTerminator\u001b[0m: "
     ]
    }
   ],
   "source": [
    "from turtle import*\n",
    "forward(100)\n",
    "left(90)\n",
    "forward(100)\n",
    "left(90)\n",
    "forward(100)\n",
    "left(90)\n",
    "forward(100)\n",
    "left(90)\n",
    "done()"
   ]
  },
  {
   "cell_type": "markdown",
   "metadata": {},
   "source": [
    "#### 演習26. 以下のプログラムを完成させて正n角形を各プログラムを作成してください。\n",
    "プログラム15 n角形を描くプログラム（未完成）"
   ]
  },
  {
   "cell_type": "code",
   "execution_count": 10,
   "metadata": {},
   "outputs": [],
   "source": [
    "from turtle import*\n",
    "n = 5\n",
    "for i in range(n):\n",
    "    forward(100)\n",
    "    left(360/n)\n",
    "done()"
   ]
  },
  {
   "cell_type": "markdown",
   "metadata": {},
   "source": [
    "#### 演習27. 星形はどうやって描けばいいでしょうか"
   ]
  },
  {
   "cell_type": "code",
   "execution_count": 28,
   "metadata": {},
   "outputs": [],
   "source": [
    "from turtle import*\n",
    "n = 5\n",
    "for i in range(n):\n",
    "    forward(100)\n",
    "    left(360/n*2)\n",
    "done()"
   ]
  },
  {
   "cell_type": "markdown",
   "metadata": {},
   "source": [
    "## 6.6 複数のタートルを動かす"
   ]
  },
  {
   "cell_type": "markdown",
   "metadata": {},
   "source": [
    "### 6.6.1 プログラム例"
   ]
  },
  {
   "cell_type": "code",
   "execution_count": 31,
   "metadata": {},
   "outputs": [],
   "source": [
    "from turtle import*\n",
    "t1 = Turtle()\n",
    "t2 = Turtle()\n",
    "t1.color('red')\n",
    "t2.color('blue')\n",
    "for i in range(180):\n",
    "    t1.forward(5)\n",
    "    t2.forward(3)\n",
    "    t1.left(2)\n",
    "    t2.left(2)\n",
    "done()"
   ]
  },
  {
   "cell_type": "markdown",
   "metadata": {},
   "source": [
    "## 6.7 作品作りのためのヒント"
   ]
  },
  {
   "cell_type": "markdown",
   "metadata": {},
   "source": [
    "### 6.7.1 マウスクリックに応答する"
   ]
  },
  {
   "cell_type": "markdown",
   "metadata": {},
   "source": [
    "プログラム16 タートルグラフィクスでのマウスクリックへの応答"
   ]
  },
  {
   "cell_type": "code",
   "execution_count": 37,
   "metadata": {},
   "outputs": [
    {
     "ename": "Terminator",
     "evalue": "",
     "output_type": "error",
     "traceback": [
      "\u001b[0;31m---------------------------------------------------------------------------\u001b[0m",
      "\u001b[0;31mTerminator\u001b[0m                                Traceback (most recent call last)",
      "\u001b[0;32m<ipython-input-37-263575372f3d>\u001b[0m in \u001b[0;36m<module>\u001b[0;34m\u001b[0m\n\u001b[1;32m      5\u001b[0m     \u001b[0mprint\u001b[0m\u001b[0;34m(\u001b[0m\u001b[0mx\u001b[0m\u001b[0;34m,\u001b[0m\u001b[0my\u001b[0m\u001b[0;34m)\u001b[0m\u001b[0;34m\u001b[0m\u001b[0m\n\u001b[1;32m      6\u001b[0m     \u001b[0mdoto\u001b[0m\u001b[0;34m(\u001b[0m\u001b[0mnewxy\u001b[0m\u001b[0;34m)\u001b[0m\u001b[0;34m\u001b[0m\u001b[0m\n\u001b[0;32m----> 7\u001b[0;31m \u001b[0monscreenclick\u001b[0m\u001b[0;34m(\u001b[0m\u001b[0mcome\u001b[0m\u001b[0;34m)\u001b[0m\u001b[0;34m\u001b[0m\u001b[0m\n\u001b[0m\u001b[1;32m      8\u001b[0m \u001b[0mdone\u001b[0m\u001b[0;34m(\u001b[0m\u001b[0;34m)\u001b[0m\u001b[0;34m\u001b[0m\u001b[0m\n",
      "\u001b[0;32m/usr/lib/python3.5/turtle.py\u001b[0m in \u001b[0;36monscreenclick\u001b[0;34m(fun, btn, add)\u001b[0m\n",
      "\u001b[0;31mTerminator\u001b[0m: "
     ]
    }
   ],
   "source": [
    "from turtle import*\n",
    "def come(x,y):\n",
    "    (xx,yy) = pos()\n",
    "    newx = ((xx+x)/2,(yy+y)/2)\n",
    "    print(x,y)\n",
    "    doto(newxy)\n",
    "onscreenclick(come)\n",
    "done()"
   ]
  },
  {
   "cell_type": "markdown",
   "metadata": {},
   "source": [
    "### 6.7.2 座標を角度に変換する"
   ]
  },
  {
   "cell_type": "code",
   "execution_count": 50,
   "metadata": {},
   "outputs": [],
   "source": [
    "from turtle import*\n",
    "import math\n",
    "y = 2\n",
    "x = 1\n",
    "angle = math.atan2(y,x)*180/math.pi\n",
    "forward(100)\n",
    "left(angle)\n",
    "forward(100)\n",
    "done()"
   ]
  },
  {
   "cell_type": "code",
   "execution_count": null,
   "metadata": {},
   "outputs": [],
   "source": []
  }
 ],
 "metadata": {
  "kernelspec": {
   "display_name": "Python 3",
   "language": "python",
   "name": "python3"
  },
  "language_info": {
   "codemirror_mode": {
    "name": "ipython",
    "version": 3
   },
   "file_extension": ".py",
   "mimetype": "text/x-python",
   "name": "python",
   "nbconvert_exporter": "python",
   "pygments_lexer": "ipython3",
   "version": "3.5.2"
  }
 },
 "nbformat": 4,
 "nbformat_minor": 2
}
