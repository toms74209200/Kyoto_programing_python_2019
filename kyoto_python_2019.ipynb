{
  "nbformat": 4,
  "nbformat_minor": 0,
  "metadata": {
    "colab": {
      "name": "kyoto_python_2019.ipynb",
      "provenance": [],
      "toc_visible": true
    },
    "kernelspec": {
      "display_name": "Python 3.5.2 64-bit",
      "language": "python",
      "name": "python35264bitf7dbc70352dc4e53b0cd48dd904a65a0"
    },
    "language_info": {
      "codemirror_mode": {
        "name": "ipython",
        "version": 3
      },
      "file_extension": ".py",
      "mimetype": "text/x-python",
      "name": "python",
      "nbconvert_exporter": "python",
      "pygments_lexer": "ipython3",
      "version": "3.5.2"
    }
  },
  "cells": [
    {
      "cell_type": "markdown",
      "metadata": {
        "colab_type": "text",
        "heading_collapsed": true,
        "id": "Bpb2f9vJ1C-t"
      },
      "source": [
        "# 3. 変数と演算、代入"
      ]
    },
    {
      "cell_type": "markdown",
      "metadata": {
        "colab_type": "text",
        "hidden": true,
        "id": "Dw9zOz061C-v"
      },
      "source": [
        "## 3.2 プログラムの実行の流れと情報の流れ"
      ]
    },
    {
      "cell_type": "markdown",
      "metadata": {
        "colab_type": "text",
        "hidden": true,
        "id": "daPmfH741C-w"
      },
      "source": [
        "### 3.2.1 順次実行"
      ]
    },
    {
      "cell_type": "code",
      "metadata": {
        "colab_type": "code",
        "hidden": true,
        "id": "SWFl6hiS1C-x",
        "outputId": "4e8bb05b-0493-4f3c-fca9-80e4895c3071",
        "colab": {}
      },
      "source": [
        "a = 1 + 2\n",
        "print(a)"
      ],
      "execution_count": 0,
      "outputs": [
        {
          "output_type": "stream",
          "text": [
            "3\n"
          ],
          "name": "stdout"
        }
      ]
    },
    {
      "cell_type": "markdown",
      "metadata": {
        "colab_type": "text",
        "hidden": true,
        "id": "-upd0I4O1C-1"
      },
      "source": [
        "### 3.2.2 変数を通じた情報の流れ"
      ]
    },
    {
      "cell_type": "code",
      "metadata": {
        "colab_type": "code",
        "hidden": true,
        "id": "iVAYW_kc1C-1",
        "outputId": "e1ca5b3a-804b-493f-fa5a-ee9a787a6d62",
        "colab": {}
      },
      "source": [
        "a = 1 + 2\n",
        "a = 3 + 4\n",
        "print(a)"
      ],
      "execution_count": 0,
      "outputs": [
        {
          "output_type": "stream",
          "text": [
            "7\n"
          ],
          "name": "stdout"
        }
      ]
    },
    {
      "cell_type": "markdown",
      "metadata": {
        "colab_type": "text",
        "hidden": true,
        "id": "n0Ug-svo1C-4"
      },
      "source": [
        "## 3.4 変数への代入と値の評価"
      ]
    },
    {
      "cell_type": "code",
      "metadata": {
        "colab_type": "code",
        "hidden": true,
        "id": "6_ronT2b1C-5",
        "outputId": "6af8e39a-2895-49ff-b033-828e2985c561",
        "colab": {}
      },
      "source": [
        "a = 1\n",
        "print(a)\n",
        "a = a + 1\n",
        "print(a)"
      ],
      "execution_count": 0,
      "outputs": [
        {
          "output_type": "stream",
          "text": [
            "1\n",
            "2\n"
          ],
          "name": "stdout"
        }
      ]
    },
    {
      "cell_type": "markdown",
      "metadata": {
        "colab_type": "text",
        "hidden": true,
        "id": "5RrX53ry1C-7"
      },
      "source": [
        "#### 演習9. 変数の動作の説明"
      ]
    },
    {
      "cell_type": "markdown",
      "metadata": {
        "colab_type": "text",
        "hidden": true,
        "id": "TH2B9l-S1C-8"
      },
      "source": [
        "以下は 1000 円の商品の 15% 引きを計算するプログラムです。\n",
        "- このプログラムには 1 箇所誤りがあり、実行するとエラーになります。どのような誤りがあるかを説明してください。\n",
        "- 誤りを修正したうえでプログラムの動作を説明してください。\n",
        "```python\n",
        "kakaku = 1000\n",
        "nebikiritsu= 15\n",
        "kakaku = Kakaku*(100-nebikiritsu)/100\n",
        "print(kakaku)\n",
        "```"
      ]
    },
    {
      "cell_type": "markdown",
      "metadata": {
        "colab_type": "text",
        "hidden": true,
        "id": "Ea3YpCX41C-9"
      },
      "source": [
        "```python\n",
        "kakaku = Kakaku*(100-nebikiritsu)/100\n",
        "```\n",
        "右辺の変数`Kakaku`の先頭が大文字のため宣言されていない."
      ]
    },
    {
      "cell_type": "code",
      "metadata": {
        "colab_type": "code",
        "hidden": true,
        "id": "wAedC2xA1C-9",
        "outputId": "ec4893b6-84cb-457c-8812-4752a7799632",
        "colab": {}
      },
      "source": [
        "kakaku = 1000\n",
        "nebikiritsu= 15\n",
        "kakaku = kakaku*(100-nebikiritsu)/100\n",
        "print(kakaku)"
      ],
      "execution_count": 0,
      "outputs": [
        {
          "output_type": "stream",
          "text": [
            "850.0\n"
          ],
          "name": "stdout"
        }
      ]
    },
    {
      "cell_type": "markdown",
      "metadata": {
        "colab_type": "text",
        "hidden": true,
        "id": "Wfh2jxbX1C_A"
      },
      "source": [
        "## 3.6 Pythonで扱えるデータ型"
      ]
    },
    {
      "cell_type": "markdown",
      "metadata": {
        "colab_type": "text",
        "hidden": true,
        "id": "xpeGaz4d1C_B"
      },
      "source": [
        "#### 演習10. Pythonシェルで以下を実行してください。"
      ]
    },
    {
      "cell_type": "code",
      "metadata": {
        "colab_type": "code",
        "hidden": true,
        "id": "KJnCJeD41C_C",
        "outputId": "6566fafd-d847-4051-f9ba-5d16d74cf2d3",
        "colab": {}
      },
      "source": [
        "a = 1\n",
        "b = 1/2\n",
        "c = \"ABC\"\n",
        "print(a)\n",
        "print(b)\n",
        "print(c)\n",
        "print(type(a))\n",
        "print(type(b))\n",
        "print(type(c))"
      ],
      "execution_count": 0,
      "outputs": [
        {
          "output_type": "stream",
          "text": [
            "1\n",
            "0.5\n",
            "ABC\n",
            "<class 'int'>\n",
            "<class 'float'>\n",
            "<class 'str'>\n"
          ],
          "name": "stdout"
        }
      ]
    },
    {
      "cell_type": "markdown",
      "metadata": {
        "colab_type": "text",
        "hidden": true,
        "id": "vB2hao9h1C_E"
      },
      "source": [
        "## 3.8 例題：平方根を求める"
      ]
    },
    {
      "cell_type": "markdown",
      "metadata": {
        "colab_type": "text",
        "hidden": true,
        "id": "0I0a9z0F1C_F"
      },
      "source": [
        "### 3.8.2 Pythonプログラム"
      ]
    },
    {
      "cell_type": "markdown",
      "metadata": {
        "colab_type": "text",
        "hidden": true,
        "id": "_2jXI89M1C_F"
      },
      "source": [
        "#### 演習11. 次の表のソースコードの部分をIDELエディタで入力し, `ex1.py`という名で保存して実行してみてください。"
      ]
    },
    {
      "cell_type": "code",
      "metadata": {
        "colab_type": "code",
        "hidden": true,
        "id": "mQuhxm6p1C_G",
        "outputId": "955d8f72-92f4-4393-d382-5f468cb8dd82",
        "colab": {}
      },
      "source": [
        "# xの平方根を求める\n",
        "x = 2\n",
        "#\n",
        "rnew = x\n",
        "#\n",
        "r1 = rnew\n",
        "r2 = x/r1\n",
        "rnew = (r1 + r2)/2\n",
        "print(r1,rnew,r2)\n",
        "#\n",
        "r1 = rnew\n",
        "r2 = x/r1\n",
        "rnew = (r1 + r2)/2\n",
        "print(r1,rnew,r2)\n",
        "#\n",
        "r1 = rnew\n",
        "r2 = x/r1\n",
        "rnew = (r1 + r2)/2\n",
        "print(r1,rnew,r2)\n",
        "#\n",
        "r1 = rnew\n",
        "r2 = x/r1\n",
        "rnew = (r1 + r2)/2\n",
        "print(r1,rnew,r2)\n",
        "#"
      ],
      "execution_count": 0,
      "outputs": [
        {
          "output_type": "stream",
          "text": [
            "2 1.5 1.0\n",
            "1.5 1.4166666666666665 1.3333333333333333\n",
            "1.4166666666666665 1.4142156862745097 1.411764705882353\n",
            "1.4142156862745097 1.4142135623746899 1.41421143847487\n"
          ],
          "name": "stdout"
        }
      ]
    },
    {
      "cell_type": "code",
      "metadata": {
        "colab_type": "code",
        "hidden": true,
        "id": "vruTKYoY1C_J",
        "outputId": "d0e3855d-4685-4d79-ae64-7ab5a55ee4d7",
        "colab": {}
      },
      "source": [
        "2**(1/2)"
      ],
      "execution_count": 0,
      "outputs": [
        {
          "output_type": "execute_result",
          "data": {
            "text/plain": [
              "1.4142135623730951"
            ]
          },
          "metadata": {
            "tags": []
          },
          "execution_count": 10
        }
      ]
    },
    {
      "cell_type": "markdown",
      "metadata": {
        "colab_type": "text",
        "hidden": true,
        "id": "4AcFd2Jc1C_L"
      },
      "source": [
        "#### 演習12. 他の数値の平方根を求める。"
      ]
    },
    {
      "cell_type": "markdown",
      "metadata": {
        "colab_type": "text",
        "hidden": true,
        "id": "n73NRfRi1C_M"
      },
      "source": [
        "1. `ex1.py`を変更して、他の正の数値の平方根を求めてください。"
      ]
    },
    {
      "cell_type": "code",
      "metadata": {
        "colab_type": "code",
        "hidden": true,
        "id": "XEYdC7o41C_N",
        "outputId": "c1584e34-9692-48e8-ad89-e72b231718d2",
        "colab": {}
      },
      "source": [
        "# xの平方根を求める\n",
        "x = 3\n",
        "#\n",
        "rnew = x\n",
        "#\n",
        "r1 = rnew\n",
        "r2 = x/r1\n",
        "rnew = (r1 + r2)/2\n",
        "print(r1,rnew,r2)\n",
        "#\n",
        "r1 = rnew\n",
        "r2 = x/r1\n",
        "rnew = (r1 + r2)/2\n",
        "print(r1,rnew,r2)\n",
        "#\n",
        "r1 = rnew\n",
        "r2 = x/r1\n",
        "rnew = (r1 + r2)/2\n",
        "print(r1,rnew,r2)\n",
        "#\n",
        "r1 = rnew\n",
        "r2 = x/r1\n",
        "rnew = (r1 + r2)/2\n",
        "print(r1,rnew,r2)\n",
        "#"
      ],
      "execution_count": 0,
      "outputs": [
        {
          "output_type": "stream",
          "text": [
            "3 2.0 1.0\n",
            "2.0 1.75 1.5\n",
            "1.75 1.7321428571428572 1.7142857142857142\n",
            "1.7321428571428572 1.7320508100147274 1.7319587628865978\n"
          ],
          "name": "stdout"
        }
      ]
    },
    {
      "cell_type": "code",
      "metadata": {
        "colab_type": "code",
        "hidden": true,
        "id": "POcqJkCI1C_P",
        "outputId": "bca21d78-8195-4dce-cf34-2f1c24c0d12a",
        "colab": {}
      },
      "source": [
        "3**(1/2)"
      ],
      "execution_count": 0,
      "outputs": [
        {
          "output_type": "execute_result",
          "data": {
            "text/plain": [
              "1.7320508075688772"
            ]
          },
          "metadata": {
            "tags": []
          },
          "execution_count": 12
        }
      ]
    },
    {
      "cell_type": "markdown",
      "metadata": {
        "colab_type": "text",
        "hidden": true,
        "id": "ZgCkoD7_1C_R"
      },
      "source": [
        "2. また、このプログラムで0の平方根を求めようとすると何が生じるか確認してください。単にエラーのメッセージを見るだけでなく、実際にプログラムをご自身で追いかけて（トレースすると言います）、どこで問題が生じるかを考えてください。"
      ]
    },
    {
      "cell_type": "code",
      "metadata": {
        "colab_type": "code",
        "hidden": true,
        "id": "tcuPlx691C_S",
        "outputId": "e97f2522-0628-431e-8c56-1164f827fa56",
        "colab": {}
      },
      "source": [
        "# xの平方根を求める\n",
        "x = 0\n",
        "#\n",
        "rnew = x\n",
        "#\n",
        "r1 = rnew\n",
        "r2 = x/r1\n",
        "rnew = (r1 + r2)/2\n",
        "print(r1,rnew,r2)\n",
        "#\n",
        "r1 = rnew\n",
        "r2 = x/r1\n",
        "rnew = (r1 + r2)/2\n",
        "print(r1,rnew,r2)\n",
        "#\n",
        "r1 = rnew\n",
        "r2 = x/r1\n",
        "rnew = (r1 + r2)/2\n",
        "print(r1,rnew,r2)\n",
        "#\n",
        "r1 = rnew\n",
        "r2 = x/r1\n",
        "rnew = (r1 + r2)/2\n",
        "print(r1,rnew,r2)\n",
        "#"
      ],
      "execution_count": 0,
      "outputs": [
        {
          "output_type": "error",
          "ename": "ZeroDivisionError",
          "evalue": "division by zero",
          "traceback": [
            "\u001b[0;31m---------------------------------------------------------------------------\u001b[0m",
            "\u001b[0;31mZeroDivisionError\u001b[0m                         Traceback (most recent call last)",
            "\u001b[0;32m<ipython-input-14-0d42d475b9bc>\u001b[0m in \u001b[0;36m<module>\u001b[0;34m\u001b[0m\n\u001b[1;32m      5\u001b[0m \u001b[0;31m#\u001b[0m\u001b[0;34m\u001b[0m\u001b[0;34m\u001b[0m\u001b[0m\n\u001b[1;32m      6\u001b[0m \u001b[0mr1\u001b[0m \u001b[0;34m=\u001b[0m \u001b[0mrnew\u001b[0m\u001b[0;34m\u001b[0m\u001b[0m\n\u001b[0;32m----> 7\u001b[0;31m \u001b[0mr2\u001b[0m \u001b[0;34m=\u001b[0m \u001b[0mx\u001b[0m\u001b[0;34m/\u001b[0m\u001b[0mr1\u001b[0m\u001b[0;34m\u001b[0m\u001b[0m\n\u001b[0m\u001b[1;32m      8\u001b[0m \u001b[0mrnew\u001b[0m \u001b[0;34m=\u001b[0m \u001b[0;34m(\u001b[0m\u001b[0mr1\u001b[0m \u001b[0;34m+\u001b[0m \u001b[0mr2\u001b[0m\u001b[0;34m)\u001b[0m\u001b[0;34m/\u001b[0m\u001b[0;36m2\u001b[0m\u001b[0;34m\u001b[0m\u001b[0m\n\u001b[1;32m      9\u001b[0m \u001b[0mprint\u001b[0m\u001b[0;34m(\u001b[0m\u001b[0mr1\u001b[0m\u001b[0;34m,\u001b[0m\u001b[0mrnew\u001b[0m\u001b[0;34m,\u001b[0m\u001b[0mr2\u001b[0m\u001b[0;34m)\u001b[0m\u001b[0;34m\u001b[0m\u001b[0m\n",
            "\u001b[0;31mZeroDivisionError\u001b[0m: division by zero"
          ]
        }
      ]
    },
    {
      "cell_type": "markdown",
      "metadata": {
        "colab_type": "text",
        "hidden": true,
        "id": "iQbG8To01C_U"
      },
      "source": [
        "```python\n",
        "r2 = x/r1\n",
        "```\n",
        "上でゼロ割りをおこなっている。"
      ]
    },
    {
      "cell_type": "markdown",
      "metadata": {
        "colab_type": "text",
        "heading_collapsed": true,
        "id": "bJiZd4jA1C_V"
      },
      "source": [
        "# 4. 制御構造"
      ]
    },
    {
      "cell_type": "markdown",
      "metadata": {
        "colab_type": "text",
        "heading_collapsed": true,
        "hidden": true,
        "id": "H_FA0zC_1C_X"
      },
      "source": [
        "## 4.2 `for`文と`range()`関数を用いた一定回数の繰り返し"
      ]
    },
    {
      "cell_type": "markdown",
      "metadata": {
        "colab_type": "text",
        "hidden": true,
        "id": "q7h2P9XA1C_Y"
      },
      "source": [
        "#### 演習13. 次の表に示すプログラムを作成し、実行してください。"
      ]
    },
    {
      "cell_type": "markdown",
      "metadata": {
        "colab_type": "text",
        "hidden": true,
        "id": "G6yuBzCe1C_Y"
      },
      "source": [
        "プログラム3 平方根を求めるプログラム（その2、`ex2.py`）"
      ]
    },
    {
      "cell_type": "code",
      "metadata": {
        "colab_type": "code",
        "hidden": true,
        "id": "NyIDtQw51C_Z",
        "outputId": "a5873876-e78a-4017-efe3-346a750d1c71",
        "colab": {}
      },
      "source": [
        "# xの平方根を求める\n",
        "x = 2\n",
        "#\n",
        "rnew = x\n",
        "#\n",
        "for i in range(10):\n",
        "    r1 = rnew\n",
        "    r2 = x/r1\n",
        "    rnew = (r1 + r2)/2\n",
        "    print(r1, rnew, r2)"
      ],
      "execution_count": 0,
      "outputs": [
        {
          "output_type": "stream",
          "text": [
            "2 1.5 1.0\n",
            "1.5 1.4166666666666665 1.3333333333333333\n",
            "1.4166666666666665 1.4142156862745097 1.411764705882353\n",
            "1.4142156862745097 1.4142135623746899 1.41421143847487\n",
            "1.4142135623746899 1.414213562373095 1.4142135623715002\n",
            "1.414213562373095 1.414213562373095 1.4142135623730951\n",
            "1.414213562373095 1.414213562373095 1.4142135623730951\n",
            "1.414213562373095 1.414213562373095 1.4142135623730951\n",
            "1.414213562373095 1.414213562373095 1.4142135623730951\n",
            "1.414213562373095 1.414213562373095 1.4142135623730951\n"
          ],
          "name": "stdout"
        }
      ]
    },
    {
      "cell_type": "code",
      "metadata": {
        "colab_type": "code",
        "hidden": true,
        "id": "_mvtT_-B1C_b",
        "outputId": "75f1f532-6df4-47a6-e507-6a9909e02c08",
        "colab": {}
      },
      "source": [
        "2**(1/2)"
      ],
      "execution_count": 0,
      "outputs": [
        {
          "output_type": "execute_result",
          "data": {
            "text/plain": [
              "1.4142135623730951"
            ]
          },
          "metadata": {
            "tags": []
          },
          "execution_count": 18
        }
      ]
    },
    {
      "cell_type": "markdown",
      "metadata": {
        "colab_type": "text",
        "heading_collapsed": true,
        "hidden": true,
        "id": "2KFc8hxu1C_d"
      },
      "source": [
        "## 4.3 `for`文の書き方"
      ]
    },
    {
      "cell_type": "markdown",
      "metadata": {
        "colab_type": "text",
        "hidden": true,
        "id": "scjRlfVZ1C_e"
      },
      "source": [
        "#### 演習14. ブロックの確認"
      ]
    },
    {
      "cell_type": "markdown",
      "metadata": {
        "colab_type": "text",
        "hidden": true,
        "id": "5Ygkol5C1C_e"
      },
      "source": [
        "先の例(`ex2.py`) の10行目を次のように左につめてブロックから外し、動作を確認し説明してください。"
      ]
    },
    {
      "cell_type": "markdown",
      "metadata": {
        "colab_type": "text",
        "hidden": true,
        "id": "j7390wiT1C_f"
      },
      "source": [
        "プログラム4 平方根を求めるプログラム（その2、`ex2_2.py`）"
      ]
    },
    {
      "cell_type": "code",
      "metadata": {
        "colab_type": "code",
        "hidden": true,
        "id": "Uku2-nHh1C_f",
        "outputId": "e723f471-e1e1-471f-a32a-990cd45fc6f3",
        "colab": {}
      },
      "source": [
        "# xの平方根を求める\n",
        "x = 2\n",
        "#\n",
        "rnew = x\n",
        "#\n",
        "for i in range(10):\n",
        "    r1 = rnew\n",
        "    r2 = x/r1\n",
        "    rnew = (r1 + r2)/2\n",
        "print(r1, rnew, r2)"
      ],
      "execution_count": 0,
      "outputs": [
        {
          "output_type": "stream",
          "text": [
            "1.414213562373095 1.414213562373095 1.4142135623730951\n"
          ],
          "name": "stdout"
        }
      ]
    },
    {
      "cell_type": "markdown",
      "metadata": {
        "colab_type": "text",
        "heading_collapsed": true,
        "hidden": true,
        "id": "sKonONud1C_i"
      },
      "source": [
        "#### 演習15. イタズラ"
      ]
    },
    {
      "cell_type": "markdown",
      "metadata": {
        "colab_type": "text",
        "hidden": true,
        "id": "AyUAAWkA1C_i"
      },
      "source": [
        "上のプログラム(`ex2_2.py`)は端末への出力を`for`文の繰り返しから外したので、繰り返し部分は高速に実行できます。6行目の`range()`関数の添え字を10から100, 1000, 10000, 100000, 1000000, 10000000, と変化させてどの程度の時間がかかるか試してみてください。"
      ]
    },
    {
      "cell_type": "code",
      "metadata": {
        "colab_type": "code",
        "hidden": true,
        "id": "019_E7gb1C_j",
        "outputId": "71686ec3-27c6-4edc-ee04-a4caa4ed80c1",
        "colab": {}
      },
      "source": [
        "# xの平方根を求める\n",
        "import time\n",
        "%matplotlib inline\n",
        "import matplotlib.pyplot as plt\n",
        "import numpy as np\n",
        "time_list = list()\n",
        "repeat_list = list()\n",
        "for j in range(7):\n",
        "    start = time.time()\n",
        "    repeat_time = 10**(j+1)\n",
        "    repeat_list.append(repeat_time)\n",
        "    print(\"repeat time:\", repeat_time)\n",
        "    x = 2\n",
        "    #\n",
        "    rnew = x\n",
        "    #\n",
        "    for i in range(repeat_time):\n",
        "        r1 = rnew\n",
        "        r2 = x/r1\n",
        "        rnew = (r1 + r2)/2\n",
        "    print(\"answer:\", r2)\n",
        "    end = time.time()\n",
        "    exe_time = end-start\n",
        "    print(\"exe time:\", exe_time, '秒')\n",
        "    time_list.append(exe_time)\n",
        "plt.xlabel('repeat')\n",
        "plt.ylabel('exe time')\n",
        "ax = plt.gca()\n",
        "ax.set_xscale('log')\n",
        "ax.set_yscale('log')\n",
        "plt.plot(repeat_list,time_list)"
      ],
      "execution_count": 0,
      "outputs": [
        {
          "output_type": "stream",
          "text": [
            "repeat time: 10\n",
            "answer: 1.4142135623730951\n",
            "exe time: 0.00017333030700683594 秒\n",
            "repeat time: 100\n",
            "answer: 1.4142135623730951\n",
            "exe time: 0.0001404285430908203 秒\n",
            "repeat time: 1000\n",
            "answer: 1.4142135623730951\n",
            "exe time: 0.0005283355712890625 秒\n",
            "repeat time: 10000\n",
            "answer: 1.4142135623730951\n",
            "exe time: 0.009249448776245117 秒\n",
            "repeat time: 100000\n",
            "answer: 1.4142135623730951\n",
            "exe time: 0.025803089141845703 秒\n",
            "repeat time: 1000000\n",
            "answer: 1.4142135623730951\n",
            "exe time: 0.21469569206237793 秒\n",
            "repeat time: 10000000\n",
            "answer: 1.4142135623730951\n",
            "exe time: 2.1630351543426514 秒\n"
          ],
          "name": "stdout"
        },
        {
          "output_type": "execute_result",
          "data": {
            "text/plain": [
              "[<matplotlib.lines.Line2D at 0x7fa3f3c97518>]"
            ]
          },
          "metadata": {
            "tags": []
          },
          "execution_count": 63
        },
        {
          "output_type": "display_data",
          "data": {
            "image/png": "[encoded data removed]",
            "text/plain": [
              "<Figure size 432x288 with 1 Axes>"
            ]
          },
          "metadata": {
            "tags": [],
            "needs_background": "light"
          }
        }
      ]
    },
    {
      "cell_type": "markdown",
      "metadata": {
        "colab_type": "text",
        "heading_collapsed": true,
        "hidden": true,
        "id": "Z_kzFgZW1C_l"
      },
      "source": [
        "## 4.5 `for`文内での処理の制御"
      ]
    },
    {
      "cell_type": "markdown",
      "metadata": {
        "colab_type": "text",
        "hidden": true,
        "id": "hVmBRODu1C_m"
      },
      "source": [
        "プログラム5 `continue`と`break`"
      ]
    },
    {
      "cell_type": "code",
      "metadata": {
        "colab_type": "code",
        "hidden": true,
        "id": "DICvv2KJ1C_m",
        "outputId": "d622aeef-c701-47b5-a05c-b8b2f28a56b6",
        "colab": {}
      },
      "source": [
        "for i in range(10):\n",
        "    if i == 1:\n",
        "        continue\n",
        "    if i == 8:\n",
        "        break\n",
        "    print(i)"
      ],
      "execution_count": 0,
      "outputs": [
        {
          "output_type": "stream",
          "text": [
            "0\n",
            "2\n",
            "3\n",
            "4\n",
            "5\n",
            "6\n",
            "7\n"
          ],
          "name": "stdout"
        }
      ]
    },
    {
      "cell_type": "markdown",
      "metadata": {
        "colab_type": "text",
        "hidden": true,
        "id": "hLCaua0R1C_o"
      },
      "source": [
        "#### 演習16. 上記の実行結果についてソースコードを用いて説明しなさい。"
      ]
    },
    {
      "cell_type": "markdown",
      "metadata": {
        "colab_type": "text",
        "hidden": true,
        "id": "0NJSffoV1C_p"
      },
      "source": [
        "`i=1`のとき`continue`が実行されてそれ以下のブロック内は実行されないため,\n",
        "```python\n",
        "print(i)\n",
        "```\n",
        "が実行されない.\n",
        "`i=8`のとき`break`が実行されてブロックから脱出するため, 8以降の`for`文は実行されない."
      ]
    },
    {
      "cell_type": "markdown",
      "metadata": {
        "colab_type": "text",
        "hidden": true,
        "id": "_soncdHY1C_q"
      },
      "source": [
        "## `range()`関数"
      ]
    },
    {
      "cell_type": "markdown",
      "metadata": {
        "colab_type": "text",
        "hidden": true,
        "id": "-iw20iWY1C_q"
      },
      "source": [
        "#### 演習17. `range()`関数"
      ]
    },
    {
      "cell_type": "markdown",
      "metadata": {
        "colab_type": "text",
        "hidden": true,
        "id": "jgJ4hmMf1C_r"
      },
      "source": [
        "上で述べたように`list()`と組み合わせて`range()`関数の3通りの使い方をPythonシェルで練習してください。"
      ]
    },
    {
      "cell_type": "markdown",
      "metadata": {
        "colab_type": "text",
        "hidden": true,
        "id": "3jIwJbI41C_r"
      },
      "source": [
        "- 終了値を与える。"
      ]
    },
    {
      "cell_type": "code",
      "metadata": {
        "colab_type": "code",
        "hidden": true,
        "id": "MXw1c61z1C_s",
        "outputId": "b29a5008-789f-4a1d-c2d8-3c93d467feb5",
        "colab": {}
      },
      "source": [
        "# for (int i=0;i<10;i++)\n",
        "l = list(range(10))\n",
        "print(l)"
      ],
      "execution_count": 0,
      "outputs": [
        {
          "output_type": "stream",
          "text": [
            "[0, 1, 2, 3, 4, 5, 6, 7, 8, 9]\n"
          ],
          "name": "stdout"
        }
      ]
    },
    {
      "cell_type": "markdown",
      "metadata": {
        "colab_type": "text",
        "hidden": true,
        "id": "kM7AzEpX1C_u"
      },
      "source": [
        "- 開始値と終了値の2つを与える。"
      ]
    },
    {
      "cell_type": "code",
      "metadata": {
        "colab_type": "code",
        "hidden": true,
        "id": "7K86r7wx1C_v",
        "outputId": "9c964fc7-819e-4214-f39b-e10168d88315",
        "colab": {}
      },
      "source": [
        "# for (int i=1;i<10;i++)\n",
        "l = list(range(1,10))\n",
        "print(l)"
      ],
      "execution_count": 0,
      "outputs": [
        {
          "output_type": "stream",
          "text": [
            "[1, 2, 3, 4, 5, 6, 7, 8, 9]\n"
          ],
          "name": "stdout"
        }
      ]
    },
    {
      "cell_type": "markdown",
      "metadata": {
        "colab_type": "text",
        "hidden": true,
        "id": "nSd7fwRM1C_x"
      },
      "source": [
        "- 開始値と終了値とステップ幅の3つを与える。"
      ]
    },
    {
      "cell_type": "code",
      "metadata": {
        "colab_type": "code",
        "hidden": true,
        "id": "dXVmt34O1C_z",
        "outputId": "620b19cc-5315-4170-b8a1-70da66a6204d",
        "colab": {}
      },
      "source": [
        "# for (int i=1;i<10;i+=2)\n",
        "l = list(range(1,10,2))\n",
        "print(l)"
      ],
      "execution_count": 0,
      "outputs": [
        {
          "output_type": "stream",
          "text": [
            "[1, 3, 5, 7, 9]\n"
          ],
          "name": "stdout"
        }
      ]
    },
    {
      "cell_type": "markdown",
      "metadata": {
        "colab_type": "text",
        "hidden": true,
        "id": "Lzhu8Y4p1C_1"
      },
      "source": [
        "## `for`文の入れ子"
      ]
    },
    {
      "cell_type": "markdown",
      "metadata": {
        "colab_type": "text",
        "hidden": true,
        "id": "3i9SDR3h1C_1"
      },
      "source": [
        "プログラム6 `for`文の入れ子"
      ]
    },
    {
      "cell_type": "code",
      "metadata": {
        "colab_type": "code",
        "hidden": true,
        "id": "nd_lFi0R1C_2",
        "outputId": "153f685d-6f16-4d3e-dd93-5c02d73d30fd",
        "colab": {}
      },
      "source": [
        "print(\"i j\")\n",
        "for i in range(3):\n",
        "    for j in range(3):\n",
        "        print(i,j)"
      ],
      "execution_count": 0,
      "outputs": [
        {
          "output_type": "stream",
          "text": [
            "i j\n",
            "0 0\n",
            "0 1\n",
            "0 2\n",
            "1 0\n",
            "1 1\n",
            "1 2\n",
            "2 0\n",
            "2 1\n",
            "2 2\n"
          ],
          "name": "stdout"
        }
      ]
    },
    {
      "cell_type": "markdown",
      "metadata": {
        "colab_type": "text",
        "hidden": true,
        "id": "wF7Z2og81C_4"
      },
      "source": [
        "#### 演習18. 2行目の`range()`関数の引数に変数`i`を使う（`range(i)`をする）とどうなるか、試してみてください。"
      ]
    },
    {
      "cell_type": "code",
      "metadata": {
        "colab_type": "code",
        "hidden": true,
        "id": "QRN79Xq51C_5",
        "outputId": "41f8b3e1-5850-42d2-c6b1-a8feffc3d31c",
        "colab": {}
      },
      "source": [
        "print(\"i j\")\n",
        "for i in range(3):\n",
        "    for j in range(i):\n",
        "        print(i,j)"
      ],
      "execution_count": 0,
      "outputs": [
        {
          "output_type": "stream",
          "text": [
            "i j\n",
            "1 0\n",
            "2 0\n",
            "2 1\n"
          ],
          "name": "stdout"
        }
      ]
    },
    {
      "cell_type": "markdown",
      "metadata": {
        "colab_type": "text",
        "hidden": true,
        "id": "jLNslxhh1C_7"
      },
      "source": [
        "プログラム7"
      ]
    },
    {
      "cell_type": "code",
      "metadata": {
        "colab_type": "code",
        "hidden": true,
        "id": "UCVAFkMI1C_8",
        "outputId": "05459e9e-0725-4cfe-bb6e-a71354868d01",
        "colab": {}
      },
      "source": [
        "for i in [\"三条\", \"四条\", \"五条\"]:\n",
        "    for j in [\"河原町\", \"烏丸\", \"堀川\"]:\n",
        "        cross = i+j\n",
        "        print(cross)"
      ],
      "execution_count": 0,
      "outputs": [
        {
          "output_type": "stream",
          "text": [
            "三条河原町\n",
            "三条烏丸\n",
            "三条堀川\n",
            "四条河原町\n",
            "四条烏丸\n",
            "四条堀川\n",
            "五条河原町\n",
            "五条烏丸\n",
            "五条堀川\n"
          ],
          "name": "stdout"
        }
      ]
    },
    {
      "cell_type": "markdown",
      "metadata": {
        "colab_type": "text",
        "hidden": true,
        "id": "263d52hC1C__"
      },
      "source": [
        "## 4.8 `while`文による繰り返し"
      ]
    },
    {
      "cell_type": "markdown",
      "metadata": {
        "colab_type": "text",
        "hidden": true,
        "id": "Wj5-rZZN1C__"
      },
      "source": [
        "### 4.8.1 精度を指定した平方根の計算"
      ]
    },
    {
      "cell_type": "markdown",
      "metadata": {
        "colab_type": "text",
        "hidden": true,
        "id": "VSOJ_Glq1DAA"
      },
      "source": [
        "プログラム8 平方根を計算するプログラム（その3、`ex3.py`）"
      ]
    },
    {
      "cell_type": "code",
      "metadata": {
        "colab_type": "code",
        "hidden": true,
        "id": "V5BKebRI1DAA",
        "outputId": "91d5a2e4-f1b1-4f03-ea7b-c3c293cee5a6",
        "colab": {}
      },
      "source": [
        "# xの平方根を求める\n",
        "x = 2\n",
        "#\n",
        "rnew = x\n",
        "#\n",
        "diff = rnew - x/rnew\n",
        "if (diff < 0):\n",
        "    diff = -diff\n",
        "while (diff > 1.0E-6):\n",
        "    r1 = rnew\n",
        "    r2 = x/r1\n",
        "    rnew = (r1 + r2)/2\n",
        "    print(r1, rnew, r2)\n",
        "    diff = r1 - r2\n",
        "    if (diff < 0):\n",
        "        diff = -diff"
      ],
      "execution_count": 0,
      "outputs": [
        {
          "output_type": "stream",
          "text": [
            "2 1.5 1.0\n",
            "1.5 1.4166666666666665 1.3333333333333333\n",
            "1.4166666666666665 1.4142156862745097 1.411764705882353\n",
            "1.4142156862745097 1.4142135623746899 1.41421143847487\n",
            "1.4142135623746899 1.414213562373095 1.4142135623715002\n"
          ],
          "name": "stdout"
        }
      ]
    },
    {
      "cell_type": "markdown",
      "metadata": {
        "colab_type": "text",
        "hidden": true,
        "id": "CVlfl8Pt1DAC"
      },
      "source": [
        "## 4.9 `if`文による分岐"
      ]
    },
    {
      "cell_type": "markdown",
      "metadata": {
        "colab_type": "text",
        "hidden": true,
        "id": "B0tfCu-D1DAD"
      },
      "source": [
        "### 4.9.1 無限ループ型での平方根の計算"
      ]
    },
    {
      "cell_type": "markdown",
      "metadata": {
        "colab_type": "text",
        "hidden": true,
        "id": "DVUWdTjP1DAE"
      },
      "source": [
        "プログラム9 平方根を求めるプログラム（無限ループ型、`ex3_2.py`）"
      ]
    },
    {
      "cell_type": "code",
      "metadata": {
        "colab_type": "code",
        "hidden": true,
        "id": "PVN9ZF0I1DAE",
        "outputId": "46386944-9fca-4fa3-c4d7-0c5615c08212",
        "colab": {}
      },
      "source": [
        "# xの平方根を求める\n",
        "x = 2\n",
        "#\n",
        "rnew = x\n",
        "#\n",
        "while True:\n",
        "    r1 = rnew\n",
        "    r2 = x/r1\n",
        "    rnew = (r1 + r2)/2\n",
        "    print(r1, rnew, r2)\n",
        "    diff = r1 - r2\n",
        "    if (diff < 0):\n",
        "        diff = -diff\n",
        "    if (diff <= 1.0E-6):\n",
        "        break"
      ],
      "execution_count": 0,
      "outputs": [
        {
          "output_type": "stream",
          "text": [
            "2 1.5 1.0\n",
            "1.5 1.4166666666666665 1.3333333333333333\n",
            "1.4166666666666665 1.4142156862745097 1.411764705882353\n",
            "1.4142156862745097 1.4142135623746899 1.41421143847487\n",
            "1.4142135623746899 1.414213562373095 1.4142135623715002\n"
          ],
          "name": "stdout"
        }
      ]
    },
    {
      "cell_type": "markdown",
      "metadata": {
        "colab_type": "text",
        "hidden": true,
        "id": "YBsTVFGc1DAI"
      },
      "source": [
        "## 4.11 `if`文の入れ子"
      ]
    },
    {
      "cell_type": "markdown",
      "metadata": {
        "colab_type": "text",
        "hidden": true,
        "id": "OkuZcm2T1DAI"
      },
      "source": [
        "プログラム10 複合的な条件を用いた分岐"
      ]
    },
    {
      "cell_type": "code",
      "metadata": {
        "colab_type": "code",
        "hidden": true,
        "id": "vi7dX1B71DAJ",
        "outputId": "e79ecf66-4913-4570-9df1-b38f86931c80",
        "colab": {}
      },
      "source": [
        "a = 1\n",
        "b = 0\n",
        "if (a == 1) and (b == 0):\n",
        "    print(\"YES a==1 and b==0\")"
      ],
      "execution_count": 0,
      "outputs": [
        {
          "output_type": "stream",
          "text": [
            "YES a==1 and b==0\n"
          ],
          "name": "stdout"
        }
      ]
    },
    {
      "cell_type": "markdown",
      "metadata": {
        "colab_type": "text",
        "hidden": true,
        "id": "s_1cCiXD1DAK"
      },
      "source": [
        "プログラム11 `if`文を入れ子にした分岐"
      ]
    },
    {
      "cell_type": "code",
      "metadata": {
        "colab_type": "code",
        "hidden": true,
        "id": "Rj_Myq2H1DAL",
        "outputId": "50600e9c-6aa7-4b97-b888-ae5aff721a80",
        "colab": {}
      },
      "source": [
        "a = 1\n",
        "b = 0\n",
        "if a == 1:\n",
        "    if b == 0:\n",
        "        print(\"YES a==1 and b==0\")"
      ],
      "execution_count": 0,
      "outputs": [
        {
          "output_type": "stream",
          "text": [
            "YES a==1 and b==0\n"
          ],
          "name": "stdout"
        }
      ]
    },
    {
      "cell_type": "markdown",
      "metadata": {
        "colab_type": "text",
        "hidden": true,
        "id": "K-DvcF-A1DAN"
      },
      "source": [
        "## 4.12 端末からの入力"
      ]
    },
    {
      "cell_type": "markdown",
      "metadata": {
        "colab_type": "text",
        "hidden": true,
        "id": "924BBEWI1DAN"
      },
      "source": [
        "#### 演習20. `ex3.py`を改造して端末から平方根を求める数値を入力するようにしなさい。"
      ]
    },
    {
      "cell_type": "code",
      "metadata": {
        "colab_type": "code",
        "hidden": true,
        "id": "Gn5wmk7Z1DAP",
        "outputId": "ea833ae9-0f6c-4503-dd1c-787fed0e8ce5",
        "colab": {}
      },
      "source": [
        "# xの平方根を求める\n",
        "x = float(input(\"Enter number \"))\n",
        "#\n",
        "rnew = x\n",
        "#\n",
        "diff = rnew - x/rnew\n",
        "if (diff < 0):\n",
        "    diff = -diff\n",
        "while (diff > 1.0E-6):\n",
        "    r1 = rnew\n",
        "    r2 = x/r1\n",
        "    rnew = (r1 + r2)/2\n",
        "    print(r1, rnew, r2)\n",
        "    diff = r1 - r2\n",
        "    if (diff < 0):\n",
        "        diff = -diff"
      ],
      "execution_count": 0,
      "outputs": [
        {
          "output_type": "stream",
          "text": [
            "Enter number 2\n",
            "2.0 1.5 1.0\n",
            "1.5 1.4166666666666665 1.3333333333333333\n",
            "1.4166666666666665 1.4142156862745097 1.411764705882353\n",
            "1.4142156862745097 1.4142135623746899 1.41421143847487\n",
            "1.4142135623746899 1.414213562373095 1.4142135623715002\n"
          ],
          "name": "stdout"
        }
      ]
    },
    {
      "cell_type": "markdown",
      "metadata": {
        "colab_type": "text",
        "hidden": true,
        "id": "rFgBk4li1DAR"
      },
      "source": [
        "## 4.13 エラーへの対処"
      ]
    },
    {
      "cell_type": "markdown",
      "metadata": {
        "colab_type": "text",
        "hidden": true,
        "id": "XsZZyGEF1DAS"
      },
      "source": [
        "プログラム12 入力を得て検査するプログラム(`inputcheck.py`)"
      ]
    },
    {
      "cell_type": "code",
      "metadata": {
        "colab_type": "code",
        "hidden": true,
        "id": "razW4MHE1DAS",
        "outputId": "5de5eb1b-b9e8-40cf-8267-714039822303",
        "colab": {
          "base_uri": "https://localhost:8080/",
          "height": 634
        }
      },
      "source": [
        "while True:\n",
        "    x = input(\"正の数値を入力してください \")\n",
        "    try:\n",
        "        x = float(x)\n",
        "    except ValueError:\n",
        "        print(x, \"は数値に変換できません\")\n",
        "        continue\n",
        "    except:\n",
        "        print(\"予期していないエラーです\")\n",
        "        exit()\n",
        "    if (x <= 0):\n",
        "        print(x, \"は正の数値ではありません\")\n",
        "        continue\n",
        "# 以下は正しい入力が得られた時の処理\n",
        "    print(x)"
      ],
      "execution_count": 1,
      "outputs": [
        {
          "output_type": "stream",
          "text": [
            "正の数値を入力してください 1\n",
            "1.0\n",
            "正の数値を入力してください a\n",
            "a は数値に変換できません\n",
            "正の数値を入力してください -1\n",
            "-1.0 は正の数値ではありません\n"
          ],
          "name": "stdout"
        },
        {
          "output_type": "error",
          "ename": "KeyboardInterrupt",
          "evalue": "ignored",
          "traceback": [
            "\u001b[0;31m---------------------------------------------------------------------------\u001b[0m",
            "\u001b[0;31mKeyboardInterrupt\u001b[0m                         Traceback (most recent call last)",
            "\u001b[0;32m/usr/local/lib/python3.6/dist-packages/ipykernel/kernelbase.py\u001b[0m in \u001b[0;36m_input_request\u001b[0;34m(self, prompt, ident, parent, password)\u001b[0m\n\u001b[1;32m    729\u001b[0m             \u001b[0;32mtry\u001b[0m\u001b[0;34m:\u001b[0m\u001b[0;34m\u001b[0m\u001b[0;34m\u001b[0m\u001b[0m\n\u001b[0;32m--> 730\u001b[0;31m                 \u001b[0mident\u001b[0m\u001b[0;34m,\u001b[0m \u001b[0mreply\u001b[0m \u001b[0;34m=\u001b[0m \u001b[0mself\u001b[0m\u001b[0;34m.\u001b[0m\u001b[0msession\u001b[0m\u001b[0;34m.\u001b[0m\u001b[0mrecv\u001b[0m\u001b[0;34m(\u001b[0m\u001b[0mself\u001b[0m\u001b[0;34m.\u001b[0m\u001b[0mstdin_socket\u001b[0m\u001b[0;34m,\u001b[0m \u001b[0;36m0\u001b[0m\u001b[0;34m)\u001b[0m\u001b[0;34m\u001b[0m\u001b[0;34m\u001b[0m\u001b[0m\n\u001b[0m\u001b[1;32m    731\u001b[0m             \u001b[0;32mexcept\u001b[0m \u001b[0mException\u001b[0m\u001b[0;34m:\u001b[0m\u001b[0;34m\u001b[0m\u001b[0;34m\u001b[0m\u001b[0m\n",
            "\u001b[0;32m/usr/local/lib/python3.6/dist-packages/jupyter_client/session.py\u001b[0m in \u001b[0;36mrecv\u001b[0;34m(self, socket, mode, content, copy)\u001b[0m\n\u001b[1;32m    802\u001b[0m         \u001b[0;32mtry\u001b[0m\u001b[0;34m:\u001b[0m\u001b[0;34m\u001b[0m\u001b[0;34m\u001b[0m\u001b[0m\n\u001b[0;32m--> 803\u001b[0;31m             \u001b[0mmsg_list\u001b[0m \u001b[0;34m=\u001b[0m \u001b[0msocket\u001b[0m\u001b[0;34m.\u001b[0m\u001b[0mrecv_multipart\u001b[0m\u001b[0;34m(\u001b[0m\u001b[0mmode\u001b[0m\u001b[0;34m,\u001b[0m \u001b[0mcopy\u001b[0m\u001b[0;34m=\u001b[0m\u001b[0mcopy\u001b[0m\u001b[0;34m)\u001b[0m\u001b[0;34m\u001b[0m\u001b[0;34m\u001b[0m\u001b[0m\n\u001b[0m\u001b[1;32m    804\u001b[0m         \u001b[0;32mexcept\u001b[0m \u001b[0mzmq\u001b[0m\u001b[0;34m.\u001b[0m\u001b[0mZMQError\u001b[0m \u001b[0;32mas\u001b[0m \u001b[0me\u001b[0m\u001b[0;34m:\u001b[0m\u001b[0;34m\u001b[0m\u001b[0;34m\u001b[0m\u001b[0m\n",
            "\u001b[0;32m/usr/local/lib/python3.6/dist-packages/zmq/sugar/socket.py\u001b[0m in \u001b[0;36mrecv_multipart\u001b[0;34m(self, flags, copy, track)\u001b[0m\n\u001b[1;32m    465\u001b[0m         \"\"\"\n\u001b[0;32m--> 466\u001b[0;31m         \u001b[0mparts\u001b[0m \u001b[0;34m=\u001b[0m \u001b[0;34m[\u001b[0m\u001b[0mself\u001b[0m\u001b[0;34m.\u001b[0m\u001b[0mrecv\u001b[0m\u001b[0;34m(\u001b[0m\u001b[0mflags\u001b[0m\u001b[0;34m,\u001b[0m \u001b[0mcopy\u001b[0m\u001b[0;34m=\u001b[0m\u001b[0mcopy\u001b[0m\u001b[0;34m,\u001b[0m \u001b[0mtrack\u001b[0m\u001b[0;34m=\u001b[0m\u001b[0mtrack\u001b[0m\u001b[0;34m)\u001b[0m\u001b[0;34m]\u001b[0m\u001b[0;34m\u001b[0m\u001b[0;34m\u001b[0m\u001b[0m\n\u001b[0m\u001b[1;32m    467\u001b[0m         \u001b[0;31m# have first part already, only loop while more to receive\u001b[0m\u001b[0;34m\u001b[0m\u001b[0;34m\u001b[0m\u001b[0;34m\u001b[0m\u001b[0m\n",
            "\u001b[0;32mzmq/backend/cython/socket.pyx\u001b[0m in \u001b[0;36mzmq.backend.cython.socket.Socket.recv\u001b[0;34m()\u001b[0m\n",
            "\u001b[0;32mzmq/backend/cython/socket.pyx\u001b[0m in \u001b[0;36mzmq.backend.cython.socket.Socket.recv\u001b[0;34m()\u001b[0m\n",
            "\u001b[0;32mzmq/backend/cython/socket.pyx\u001b[0m in \u001b[0;36mzmq.backend.cython.socket._recv_copy\u001b[0;34m()\u001b[0m\n",
            "\u001b[0;32m/usr/local/lib/python3.6/dist-packages/zmq/backend/cython/checkrc.pxd\u001b[0m in \u001b[0;36mzmq.backend.cython.checkrc._check_rc\u001b[0;34m()\u001b[0m\n",
            "\u001b[0;31mKeyboardInterrupt\u001b[0m: ",
            "\nDuring handling of the above exception, another exception occurred:\n",
            "\u001b[0;31mKeyboardInterrupt\u001b[0m                         Traceback (most recent call last)",
            "\u001b[0;32m<ipython-input-1-68f568bfa24f>\u001b[0m in \u001b[0;36m<module>\u001b[0;34m()\u001b[0m\n\u001b[1;32m      1\u001b[0m \u001b[0;32mwhile\u001b[0m \u001b[0;32mTrue\u001b[0m\u001b[0;34m:\u001b[0m\u001b[0;34m\u001b[0m\u001b[0;34m\u001b[0m\u001b[0m\n\u001b[0;32m----> 2\u001b[0;31m     \u001b[0mx\u001b[0m \u001b[0;34m=\u001b[0m \u001b[0minput\u001b[0m\u001b[0;34m(\u001b[0m\u001b[0;34m\"正の数値を入力してください \"\u001b[0m\u001b[0;34m)\u001b[0m\u001b[0;34m\u001b[0m\u001b[0;34m\u001b[0m\u001b[0m\n\u001b[0m\u001b[1;32m      3\u001b[0m     \u001b[0;32mtry\u001b[0m\u001b[0;34m:\u001b[0m\u001b[0;34m\u001b[0m\u001b[0;34m\u001b[0m\u001b[0m\n\u001b[1;32m      4\u001b[0m         \u001b[0mx\u001b[0m \u001b[0;34m=\u001b[0m \u001b[0mfloat\u001b[0m\u001b[0;34m(\u001b[0m\u001b[0mx\u001b[0m\u001b[0;34m)\u001b[0m\u001b[0;34m\u001b[0m\u001b[0;34m\u001b[0m\u001b[0m\n\u001b[1;32m      5\u001b[0m     \u001b[0;32mexcept\u001b[0m \u001b[0mValueError\u001b[0m\u001b[0;34m:\u001b[0m\u001b[0;34m\u001b[0m\u001b[0;34m\u001b[0m\u001b[0m\n",
            "\u001b[0;32m/usr/local/lib/python3.6/dist-packages/ipykernel/kernelbase.py\u001b[0m in \u001b[0;36mraw_input\u001b[0;34m(self, prompt)\u001b[0m\n\u001b[1;32m    703\u001b[0m             \u001b[0mself\u001b[0m\u001b[0;34m.\u001b[0m\u001b[0m_parent_ident\u001b[0m\u001b[0;34m,\u001b[0m\u001b[0;34m\u001b[0m\u001b[0;34m\u001b[0m\u001b[0m\n\u001b[1;32m    704\u001b[0m             \u001b[0mself\u001b[0m\u001b[0;34m.\u001b[0m\u001b[0m_parent_header\u001b[0m\u001b[0;34m,\u001b[0m\u001b[0;34m\u001b[0m\u001b[0;34m\u001b[0m\u001b[0m\n\u001b[0;32m--> 705\u001b[0;31m             \u001b[0mpassword\u001b[0m\u001b[0;34m=\u001b[0m\u001b[0;32mFalse\u001b[0m\u001b[0;34m,\u001b[0m\u001b[0;34m\u001b[0m\u001b[0;34m\u001b[0m\u001b[0m\n\u001b[0m\u001b[1;32m    706\u001b[0m         )\n\u001b[1;32m    707\u001b[0m \u001b[0;34m\u001b[0m\u001b[0m\n",
            "\u001b[0;32m/usr/local/lib/python3.6/dist-packages/ipykernel/kernelbase.py\u001b[0m in \u001b[0;36m_input_request\u001b[0;34m(self, prompt, ident, parent, password)\u001b[0m\n\u001b[1;32m    733\u001b[0m             \u001b[0;32mexcept\u001b[0m \u001b[0mKeyboardInterrupt\u001b[0m\u001b[0;34m:\u001b[0m\u001b[0;34m\u001b[0m\u001b[0;34m\u001b[0m\u001b[0m\n\u001b[1;32m    734\u001b[0m                 \u001b[0;31m# re-raise KeyboardInterrupt, to truncate traceback\u001b[0m\u001b[0;34m\u001b[0m\u001b[0;34m\u001b[0m\u001b[0;34m\u001b[0m\u001b[0m\n\u001b[0;32m--> 735\u001b[0;31m                 \u001b[0;32mraise\u001b[0m \u001b[0mKeyboardInterrupt\u001b[0m\u001b[0;34m\u001b[0m\u001b[0;34m\u001b[0m\u001b[0m\n\u001b[0m\u001b[1;32m    736\u001b[0m             \u001b[0;32melse\u001b[0m\u001b[0;34m:\u001b[0m\u001b[0;34m\u001b[0m\u001b[0;34m\u001b[0m\u001b[0m\n\u001b[1;32m    737\u001b[0m                 \u001b[0;32mbreak\u001b[0m\u001b[0;34m\u001b[0m\u001b[0;34m\u001b[0m\u001b[0m\n",
            "\u001b[0;31mKeyboardInterrupt\u001b[0m: "
          ]
        }
      ]
    },
    {
      "cell_type": "markdown",
      "metadata": {
        "colab_type": "text",
        "hidden": true,
        "id": "BTbbhzxh1DAV"
      },
      "source": [
        "## 4.14 Pythonでの数学関数"
      ]
    },
    {
      "cell_type": "markdown",
      "metadata": {
        "colab_type": "text",
        "hidden": true,
        "id": "80knfC_z1DAV"
      },
      "source": [
        "演習22. 上の例に従ってPython Shellで`math`モジュールを使ってみてください"
      ]
    },
    {
      "cell_type": "code",
      "metadata": {
        "colab_type": "code",
        "hidden": true,
        "id": "KHbU_k841DAW",
        "outputId": "f8639a3d-0d56-41d6-8c2b-d46bafc405ca",
        "colab": {}
      },
      "source": [
        "import math\n",
        "pi = math.pi\n",
        "print(pi)\n",
        "sin = math.sin(pi/2)\n",
        "print(sin)"
      ],
      "execution_count": 0,
      "outputs": [
        {
          "output_type": "stream",
          "text": [
            "3.141592653589793\n",
            "1.0\n"
          ],
          "name": "stdout"
        }
      ]
    },
    {
      "cell_type": "markdown",
      "metadata": {
        "colab_type": "text",
        "hidden": true,
        "id": "ZRcWyA0_1DAY"
      },
      "source": [
        "## 4.15 数値を表示する際のフォーマット指定"
      ]
    },
    {
      "cell_type": "code",
      "metadata": {
        "colab_type": "code",
        "hidden": true,
        "id": "guBdMZVI1DAY",
        "outputId": "21e7184f-a4e3-4a35-8d8e-227abc0b14e1",
        "colab": {}
      },
      "source": [
        "c = 2.99792458E8\n",
        "na = 6.02214076E23\n",
        "form = '光速は{0:12.8g} m/s, アボガドロ数は {1:12.8g} mol**(-1) です'\n",
        "print(form.format(c, na))"
      ],
      "execution_count": 0,
      "outputs": [
        {
          "output_type": "stream",
          "text": [
            "光速は2.9979246e+08 m/s, アボガドロ数は 6.0221408e+23 mol**(-1) です\n"
          ],
          "name": "stdout"
        }
      ]
    },
    {
      "cell_type": "markdown",
      "metadata": {
        "colab_type": "text",
        "hidden": true,
        "id": "F-REaiNG1DAa"
      },
      "source": [
        "## 4.16 力試し"
      ]
    },
    {
      "cell_type": "markdown",
      "metadata": {
        "colab_type": "text",
        "hidden": true,
        "id": "bYRRIAQk1DAa"
      },
      "source": [
        "#### 演習23. `inputcheck.py`, `ex3.py`を組み合わせて以下の条件を満たす平方根を求めるプログラムを作成しなさい。"
      ]
    },
    {
      "cell_type": "markdown",
      "metadata": {
        "colab_type": "text",
        "hidden": true,
        "id": "F_5r-QJ91DAa"
      },
      "source": [
        "1. 平方根を求める数を繰り返し端末から入力できるようにすること。\n",
        "2. 平方根を求める数の入力が数値に変換できない場合は、その旨を示して、次の入力を求めること。\n",
        "3. 平方根を求める数が0以下の場合は、その旨を示して、次の入力を求めること。  \n",
        "できれば以下にも挑戦すること\n",
        "5. 端末からの入力が\"end\"という文字列なら終了すること。\n",
        "6. 計算精度を絶対精度ではなく、相対精度で$10^{-6}$とすること。これについて大きな数や小さな数（例えば$10^{10}$や$10^{-10}$）の平方根を求め、結果を確認すること。"
      ]
    },
    {
      "cell_type": "code",
      "metadata": {
        "colab_type": "code",
        "hidden": true,
        "id": "xvP2nIuO1DAb",
        "outputId": "da70fa2b-907f-4be7-a348-a48a2412e4a0",
        "colab": {}
      },
      "source": [
        "while True:\n",
        "    x = input(\"平方根を求める数 \")\n",
        "    if (x == 'end'):\n",
        "        break\n",
        "    try:\n",
        "        x = float(x)\n",
        "    except ValueError:\n",
        "        print(x, \"は数値に変換できません\")\n",
        "        continue\n",
        "    except:\n",
        "        print(\"予期していないエラーです\")\n",
        "        exit()\n",
        "    if (x <= 0):\n",
        "        print(x, \"は正の数値ではありません\")\n",
        "        continue\n",
        "# xの平方根を求める\n",
        "    x = float(x)\n",
        "    #\n",
        "    rnew = x\n",
        "    #\n",
        "    diff = rnew - x/rnew\n",
        "    if (diff < 0):\n",
        "        diff = abs(diff)\n",
        "    while (diff > 1.0E-6):\n",
        "        r1 = rnew\n",
        "        r2 = x/r1\n",
        "        rnew = (r1 + r2)/2\n",
        "        form = '{0:1.6g}\\t{1:1.6g}\\t{2:1.6g}'\n",
        "        print(form.format(r1,rnew,r2))\n",
        "        diff = r1 - r2\n",
        "        if (diff < 0):\n",
        "            diff = abs(diff)"
      ],
      "execution_count": 0,
      "outputs": [
        {
          "output_type": "stream",
          "text": [
            "平方根を求める数 a\n",
            "a は数値に変換できません\n",
            "平方根を求める数 -1\n",
            "-1.0 は正の数値ではありません\n",
            "平方根を求める数 2\n",
            "2\t1.5\t1\n",
            "1.5\t1.41667\t1.33333\n",
            "1.41667\t1.41422\t1.41176\n",
            "1.41422\t1.41421\t1.41421\n",
            "1.41421\t1.41421\t1.41421\n",
            "平方根を求める数 10000000000\n",
            "1e+10\t5e+09\t1\n",
            "5e+09\t2.5e+09\t2\n",
            "2.5e+09\t1.25e+09\t4\n",
            "1.25e+09\t6.25e+08\t8\n",
            "6.25e+08\t3.125e+08\t16\n",
            "3.125e+08\t1.5625e+08\t32\n",
            "1.5625e+08\t7.8125e+07\t64\n",
            "7.8125e+07\t3.90626e+07\t128\n",
            "3.90626e+07\t1.95314e+07\t255.999\n",
            "1.95314e+07\t9.76597e+06\t511.996\n",
            "9.76597e+06\t4.8835e+06\t1023.96\n",
            "4.8835e+06\t2.44277e+06\t2047.71\n",
            "2.44277e+06\t1.22343e+06\t4093.71\n",
            "1.22343e+06\t615803\t8173.72\n",
            "615803\t316021\t16239\n",
            "316021\t173832\t31643.5\n",
            "173832\t115679\t57526.7\n",
            "115679\t101063\t86445.7\n",
            "101063\t100006\t98948.6\n",
            "100006\t100000\t99994.4\n",
            "100000\t100000\t100000\n",
            "100000\t100000\t100000\n",
            "平方根を求める数 0.0000000001\n",
            "1e-10\t0.5\t1\n",
            "0.5\t0.25\t2e-10\n",
            "0.25\t0.125\t4e-10\n",
            "0.125\t0.0625\t8e-10\n",
            "0.0625\t0.03125\t1.6e-09\n",
            "0.03125\t0.015625\t3.2e-09\n",
            "0.015625\t0.0078125\t6.4e-09\n",
            "0.0078125\t0.00390626\t1.28e-08\n",
            "0.00390626\t0.00195314\t2.55999e-08\n",
            "0.00195314\t0.000976597\t5.11996e-08\n",
            "0.000976597\t0.00048835\t1.02396e-07\n",
            "0.00048835\t0.000244277\t2.04771e-07\n",
            "0.000244277\t0.000122343\t4.09371e-07\n",
            "0.000122343\t6.15803e-05\t8.17372e-07\n",
            "6.15803e-05\t3.16021e-05\t1.6239e-06\n",
            "3.16021e-05\t1.73832e-05\t3.16435e-06\n",
            "1.73832e-05\t1.15679e-05\t5.75267e-06\n",
            "1.15679e-05\t1.01063e-05\t8.64457e-06\n",
            "1.01063e-05\t1.00006e-05\t9.89486e-06\n",
            "平方根を求める数 end\n"
          ],
          "name": "stdout"
        }
      ]
    },
    {
      "cell_type": "code",
      "metadata": {
        "colab_type": "code",
        "hidden": true,
        "id": "MWrlnHKZ1DAc",
        "outputId": "175d61e2-6f1b-43f2-fa8c-d735e9d5a057",
        "colab": {}
      },
      "source": [
        "0.0000000001**(1/2)"
      ],
      "execution_count": 0,
      "outputs": [
        {
          "output_type": "execute_result",
          "data": {
            "text/plain": [
              "1e-05"
            ]
          },
          "metadata": {
            "tags": []
          },
          "execution_count": 9
        }
      ]
    },
    {
      "cell_type": "markdown",
      "metadata": {
        "colab_type": "text",
        "heading_collapsed": true,
        "id": "OAJHkHYS1DAf"
      },
      "source": [
        "# 5. 関数を使った処理のカプセル化"
      ]
    },
    {
      "cell_type": "markdown",
      "metadata": {
        "colab_type": "text",
        "heading_collapsed": true,
        "hidden": true,
        "id": "tfcD8T1a1DAf"
      },
      "source": [
        "## 5.3 関数`square_root()`を実装する"
      ]
    },
    {
      "cell_type": "markdown",
      "metadata": {
        "colab_type": "text",
        "hidden": true,
        "id": "s4lYqeKm1DAg"
      },
      "source": [
        "プログラム13 関数`square_root()`の実装"
      ]
    },
    {
      "cell_type": "code",
      "metadata": {
        "colab_type": "code",
        "hidden": true,
        "id": "ZrBm4Qdc1DAg",
        "outputId": "f9caf84a-7de9-4e13-b538-7f87f48cf70c",
        "colab": {
          "base_uri": "https://localhost:8080/",
          "height": 119
        }
      },
      "source": [
        "#\n",
        "def square_root(x):\n",
        "    '引数xの平方根を求める' #docstring\n",
        "    rnew = x\n",
        "    #\n",
        "    diff = rnew - x/rnew\n",
        "    if (diff < 0):\n",
        "        diff = abs(diff)\n",
        "    while (diff > 1.0E-6):\n",
        "        r1 = rnew\n",
        "        r2 = x/r1\n",
        "        rnew = (r1 + r2)/2\n",
        "        print(r1, rnew, r2)\n",
        "        diff = r1 - r2\n",
        "        if (diff < 0):\n",
        "            diff = abs(diff)\n",
        "    return rnew\n",
        "# ここからメインプログラム\n",
        "v = 2\n",
        "r = square_root(v)\n",
        "print(\"結果は \",r)"
      ],
      "execution_count": 0,
      "outputs": [
        {
          "output_type": "stream",
          "text": [
            "2 1.5 1.0\n",
            "1.5 1.4166666666666665 1.3333333333333333\n",
            "1.4166666666666665 1.4142156862745097 1.411764705882353\n",
            "1.4142156862745097 1.4142135623746899 1.41421143847487\n",
            "1.4142135623746899 1.414213562373095 1.4142135623715002\n",
            "結果は  1.414213562373095\n"
          ],
          "name": "stdout"
        }
      ]
    },
    {
      "cell_type": "code",
      "metadata": {
        "colab_type": "code",
        "hidden": true,
        "id": "5spbPYzw1DAi",
        "outputId": "18cc6b20-fe0b-4fef-e8ba-62739a3984c5",
        "colab": {}
      },
      "source": [
        "help(square_root)"
      ],
      "execution_count": 0,
      "outputs": [
        {
          "output_type": "stream",
          "text": [
            "Help on function square_root in module __main__:\n",
            "\n",
            "square_root(x)\n",
            "    引数xの平方根を求める\n",
            "\n"
          ],
          "name": "stdout"
        }
      ]
    },
    {
      "cell_type": "markdown",
      "metadata": {
        "colab_type": "text",
        "heading_collapsed": true,
        "hidden": true,
        "id": "IOP2DnsH1DAj"
      },
      "source": [
        "#### 演習24. 繰り返し平方根を求めるプログラムを関数`square_root()`を定義して利用する形に書き換えなさい。"
      ]
    },
    {
      "cell_type": "code",
      "metadata": {
        "colab_type": "code",
        "hidden": true,
        "id": "jTUYJGut1DAk",
        "outputId": "9163daf0-8928-44e2-eb4c-7862d4c0cca0",
        "colab": {}
      },
      "source": [
        "#\n",
        "def square_root(x):\n",
        "    '引数xの平方根を求める' #docstring\n",
        "    rnew = x\n",
        "    #\n",
        "    diff = rnew - x/rnew\n",
        "    if (diff < 0):\n",
        "        diff = abs(diff)\n",
        "    while (diff > 1.0E-6):\n",
        "        r1 = rnew\n",
        "        r2 = x/r1\n",
        "        rnew = (r1 + r2)/2\n",
        "        print(r1, rnew, r2)\n",
        "        diff = r1 - r2\n",
        "        if (diff < 0):\n",
        "            diff = abs(diff)\n",
        "    return rnew\n",
        "while True:\n",
        "    v = input(\"平方根を求める数 \")\n",
        "    try:\n",
        "        v = float(v)\n",
        "    except ValueError:\n",
        "        print(v, \"は数値に変換できません\")\n",
        "        continue\n",
        "    except:\n",
        "        print(\"予期していないエラーです\")\n",
        "        exit()\n",
        "    if (v <= 0):\n",
        "        print(v, \"は正の数値ではありません\")\n",
        "        continue\n",
        "    if (v > 0):\n",
        "        r = square_root(v)\n",
        "        print(r)"
      ],
      "execution_count": 0,
      "outputs": [
        {
          "output_type": "stream",
          "text": [
            "平方根を求める数 2\n",
            "2.0 1.5 1.0\n",
            "1.5 1.4166666666666665 1.3333333333333333\n",
            "1.4166666666666665 1.4142156862745097 1.411764705882353\n",
            "1.4142156862745097 1.4142135623746899 1.41421143847487\n",
            "1.4142135623746899 1.414213562373095 1.4142135623715002\n",
            "1.414213562373095\n"
          ],
          "name": "stdout"
        },
        {
          "output_type": "error",
          "ename": "KeyboardInterrupt",
          "evalue": "",
          "traceback": [
            "\u001b[0;31m---------------------------------------------------------------------------\u001b[0m",
            "\u001b[0;31mKeyboardInterrupt\u001b[0m                         Traceback (most recent call last)",
            "\u001b[0;32m~/.local/lib/python3.5/site-packages/ipykernel/kernelbase.py\u001b[0m in \u001b[0;36m_input_request\u001b[0;34m(self, prompt, ident, parent, password)\u001b[0m\n\u001b[1;32m    884\u001b[0m             \u001b[0;32mtry\u001b[0m\u001b[0;34m:\u001b[0m\u001b[0;34m\u001b[0m\u001b[0m\n\u001b[0;32m--> 885\u001b[0;31m                 \u001b[0mident\u001b[0m\u001b[0;34m,\u001b[0m \u001b[0mreply\u001b[0m \u001b[0;34m=\u001b[0m \u001b[0mself\u001b[0m\u001b[0;34m.\u001b[0m\u001b[0msession\u001b[0m\u001b[0;34m.\u001b[0m\u001b[0mrecv\u001b[0m\u001b[0;34m(\u001b[0m\u001b[0mself\u001b[0m\u001b[0;34m.\u001b[0m\u001b[0mstdin_socket\u001b[0m\u001b[0;34m,\u001b[0m \u001b[0;36m0\u001b[0m\u001b[0;34m)\u001b[0m\u001b[0;34m\u001b[0m\u001b[0m\n\u001b[0m\u001b[1;32m    886\u001b[0m             \u001b[0;32mexcept\u001b[0m \u001b[0mException\u001b[0m\u001b[0;34m:\u001b[0m\u001b[0;34m\u001b[0m\u001b[0m\n",
            "\u001b[0;32m~/.local/lib/python3.5/site-packages/jupyter_client/session.py\u001b[0m in \u001b[0;36mrecv\u001b[0;34m(self, socket, mode, content, copy)\u001b[0m\n\u001b[1;32m    802\u001b[0m         \u001b[0;32mtry\u001b[0m\u001b[0;34m:\u001b[0m\u001b[0;34m\u001b[0m\u001b[0m\n\u001b[0;32m--> 803\u001b[0;31m             \u001b[0mmsg_list\u001b[0m \u001b[0;34m=\u001b[0m \u001b[0msocket\u001b[0m\u001b[0;34m.\u001b[0m\u001b[0mrecv_multipart\u001b[0m\u001b[0;34m(\u001b[0m\u001b[0mmode\u001b[0m\u001b[0;34m,\u001b[0m \u001b[0mcopy\u001b[0m\u001b[0;34m=\u001b[0m\u001b[0mcopy\u001b[0m\u001b[0;34m)\u001b[0m\u001b[0;34m\u001b[0m\u001b[0m\n\u001b[0m\u001b[1;32m    804\u001b[0m         \u001b[0;32mexcept\u001b[0m \u001b[0mzmq\u001b[0m\u001b[0;34m.\u001b[0m\u001b[0mZMQError\u001b[0m \u001b[0;32mas\u001b[0m \u001b[0me\u001b[0m\u001b[0;34m:\u001b[0m\u001b[0;34m\u001b[0m\u001b[0m\n",
            "\u001b[0;32m~/.local/lib/python3.5/site-packages/zmq/sugar/socket.py\u001b[0m in \u001b[0;36mrecv_multipart\u001b[0;34m(self, flags, copy, track)\u001b[0m\n\u001b[1;32m    474\u001b[0m         \"\"\"\n\u001b[0;32m--> 475\u001b[0;31m         \u001b[0mparts\u001b[0m \u001b[0;34m=\u001b[0m \u001b[0;34m[\u001b[0m\u001b[0mself\u001b[0m\u001b[0;34m.\u001b[0m\u001b[0mrecv\u001b[0m\u001b[0;34m(\u001b[0m\u001b[0mflags\u001b[0m\u001b[0;34m,\u001b[0m \u001b[0mcopy\u001b[0m\u001b[0;34m=\u001b[0m\u001b[0mcopy\u001b[0m\u001b[0;34m,\u001b[0m \u001b[0mtrack\u001b[0m\u001b[0;34m=\u001b[0m\u001b[0mtrack\u001b[0m\u001b[0;34m)\u001b[0m\u001b[0;34m]\u001b[0m\u001b[0;34m\u001b[0m\u001b[0m\n\u001b[0m\u001b[1;32m    476\u001b[0m         \u001b[0;31m# have first part already, only loop while more to receive\u001b[0m\u001b[0;34m\u001b[0m\u001b[0;34m\u001b[0m\u001b[0m\n",
            "\u001b[0;32mzmq/backend/cython/socket.pyx\u001b[0m in \u001b[0;36mzmq.backend.cython.socket.Socket.recv\u001b[0;34m()\u001b[0m\n",
            "\u001b[0;32mzmq/backend/cython/socket.pyx\u001b[0m in \u001b[0;36mzmq.backend.cython.socket.Socket.recv\u001b[0;34m()\u001b[0m\n",
            "\u001b[0;32mzmq/backend/cython/socket.pyx\u001b[0m in \u001b[0;36mzmq.backend.cython.socket._recv_copy\u001b[0;34m()\u001b[0m\n",
            "\u001b[0;32m~/.local/lib/python3.5/site-packages/zmq/backend/cython/checkrc.pxd\u001b[0m in \u001b[0;36mzmq.backend.cython.checkrc._check_rc\u001b[0;34m()\u001b[0m\n",
            "\u001b[0;31mKeyboardInterrupt\u001b[0m: ",
            "\nDuring handling of the above exception, another exception occurred:\n",
            "\u001b[0;31mKeyboardInterrupt\u001b[0m                         Traceback (most recent call last)",
            "\u001b[0;32m<ipython-input-19-a7cf0d61fac6>\u001b[0m in \u001b[0;36m<module>\u001b[0;34m\u001b[0m\n\u001b[1;32m     17\u001b[0m     \u001b[0;32mreturn\u001b[0m \u001b[0mrnew\u001b[0m\u001b[0;34m\u001b[0m\u001b[0m\n\u001b[1;32m     18\u001b[0m \u001b[0;32mwhile\u001b[0m \u001b[0;32mTrue\u001b[0m\u001b[0;34m:\u001b[0m\u001b[0;34m\u001b[0m\u001b[0m\n\u001b[0;32m---> 19\u001b[0;31m     \u001b[0mv\u001b[0m \u001b[0;34m=\u001b[0m \u001b[0minput\u001b[0m\u001b[0;34m(\u001b[0m\u001b[0;34m\"平方根を求める数 \"\u001b[0m\u001b[0;34m)\u001b[0m\u001b[0;34m\u001b[0m\u001b[0m\n\u001b[0m\u001b[1;32m     20\u001b[0m     \u001b[0;32mtry\u001b[0m\u001b[0;34m:\u001b[0m\u001b[0;34m\u001b[0m\u001b[0m\n\u001b[1;32m     21\u001b[0m         \u001b[0mv\u001b[0m \u001b[0;34m=\u001b[0m \u001b[0mfloat\u001b[0m\u001b[0;34m(\u001b[0m\u001b[0mv\u001b[0m\u001b[0;34m)\u001b[0m\u001b[0;34m\u001b[0m\u001b[0m\n",
            "\u001b[0;32m~/.local/lib/python3.5/site-packages/ipykernel/kernelbase.py\u001b[0m in \u001b[0;36mraw_input\u001b[0;34m(self, prompt)\u001b[0m\n\u001b[1;32m    858\u001b[0m             \u001b[0mself\u001b[0m\u001b[0;34m.\u001b[0m\u001b[0m_parent_ident\u001b[0m\u001b[0;34m,\u001b[0m\u001b[0;34m\u001b[0m\u001b[0m\n\u001b[1;32m    859\u001b[0m             \u001b[0mself\u001b[0m\u001b[0;34m.\u001b[0m\u001b[0m_parent_header\u001b[0m\u001b[0;34m,\u001b[0m\u001b[0;34m\u001b[0m\u001b[0m\n\u001b[0;32m--> 860\u001b[0;31m             \u001b[0mpassword\u001b[0m\u001b[0;34m=\u001b[0m\u001b[0;32mFalse\u001b[0m\u001b[0;34m,\u001b[0m\u001b[0;34m\u001b[0m\u001b[0m\n\u001b[0m\u001b[1;32m    861\u001b[0m         )\n\u001b[1;32m    862\u001b[0m \u001b[0;34m\u001b[0m\u001b[0m\n",
            "\u001b[0;32m~/.local/lib/python3.5/site-packages/ipykernel/kernelbase.py\u001b[0m in \u001b[0;36m_input_request\u001b[0;34m(self, prompt, ident, parent, password)\u001b[0m\n\u001b[1;32m    888\u001b[0m             \u001b[0;32mexcept\u001b[0m \u001b[0mKeyboardInterrupt\u001b[0m\u001b[0;34m:\u001b[0m\u001b[0;34m\u001b[0m\u001b[0m\n\u001b[1;32m    889\u001b[0m                 \u001b[0;31m# re-raise KeyboardInterrupt, to truncate traceback\u001b[0m\u001b[0;34m\u001b[0m\u001b[0;34m\u001b[0m\u001b[0m\n\u001b[0;32m--> 890\u001b[0;31m                 \u001b[0;32mraise\u001b[0m \u001b[0mKeyboardInterrupt\u001b[0m\u001b[0;34m\u001b[0m\u001b[0m\n\u001b[0m\u001b[1;32m    891\u001b[0m             \u001b[0;32melse\u001b[0m\u001b[0;34m:\u001b[0m\u001b[0;34m\u001b[0m\u001b[0m\n\u001b[1;32m    892\u001b[0m                 \u001b[0;32mbreak\u001b[0m\u001b[0;34m\u001b[0m\u001b[0m\n",
            "\u001b[0;31mKeyboardInterrupt\u001b[0m: "
          ]
        }
      ]
    },
    {
      "cell_type": "markdown",
      "metadata": {
        "colab_type": "text",
        "heading_collapsed": true,
        "hidden": true,
        "id": "XITdSW3l1DAl"
      },
      "source": [
        "#### 演習25. 関数`get_positive_numeral()`も構成し、繰り返し平方根を求めるプログラムをこれと`square_root()`を利用する形に書き換えなさい。"
      ]
    },
    {
      "cell_type": "code",
      "metadata": {
        "colab_type": "code",
        "hidden": true,
        "id": "Sfm3f57t1DAm",
        "outputId": "967752ee-fa54-48a2-b5c7-e0f3aa788d7e",
        "colab": {}
      },
      "source": [
        "def square_root(x):\n",
        "    '引数xの平方根を求める' #docstring\n",
        "    rnew = x\n",
        "    #\n",
        "    diff = rnew - x/rnew\n",
        "    if (diff < 0):\n",
        "        diff = abs(diff)\n",
        "    while (diff > 1.0E-6):\n",
        "        r1 = rnew\n",
        "        r2 = x/r1\n",
        "        rnew = (r1 + r2)/2\n",
        "        print(r1, rnew, r2)\n",
        "        diff = r1 - r2\n",
        "        if (diff < 0):\n",
        "            diff = abs(diff)\n",
        "    return rnew\n",
        "def get_positive_numeral():\n",
        "    '端末から入力xを得て正の数値かどうか検査する'\n",
        "    x = input(\"平方根を求める数 \")\n",
        "    try:\n",
        "        x = float(x)\n",
        "    except ValueError:\n",
        "        print(x, \"は数値に変換できません\")\n",
        "        return ValueError\n",
        "    except:\n",
        "        print(\"予期していないエラーです\")\n",
        "        return ValueError\n",
        "    if (x <= 0):\n",
        "        print(x, \"は正の数値ではありません\")\n",
        "        return ValueError\n",
        "    if (x > 0):\n",
        "        return x\n",
        "while True:\n",
        "    x = get_positive_numeral()\n",
        "    if (x == ValueError):\n",
        "        continue\n",
        "    r = square_root(x)"
      ],
      "execution_count": 0,
      "outputs": [
        {
          "output_type": "stream",
          "text": [
            "平方根を求める数 2\n",
            "2.0 1.5 1.0\n",
            "1.5 1.4166666666666665 1.3333333333333333\n",
            "1.4166666666666665 1.4142156862745097 1.411764705882353\n",
            "1.4142156862745097 1.4142135623746899 1.41421143847487\n",
            "1.4142135623746899 1.414213562373095 1.4142135623715002\n",
            "平方根を求める数 -1\n",
            "-1.0 は正の数値ではありません\n",
            "平方根を求める数 a\n",
            "a は数値に変換できません\n",
            "平方根を求める数 \n",
            " は数値に変換できません\n"
          ],
          "name": "stdout"
        },
        {
          "output_type": "error",
          "ename": "KeyboardInterrupt",
          "evalue": "",
          "traceback": [
            "\u001b[0;31m---------------------------------------------------------------------------\u001b[0m",
            "\u001b[0;31mKeyboardInterrupt\u001b[0m                         Traceback (most recent call last)",
            "\u001b[0;32m~/.local/lib/python3.5/site-packages/ipykernel/kernelbase.py\u001b[0m in \u001b[0;36m_input_request\u001b[0;34m(self, prompt, ident, parent, password)\u001b[0m\n\u001b[1;32m    884\u001b[0m             \u001b[0;32mtry\u001b[0m\u001b[0;34m:\u001b[0m\u001b[0;34m\u001b[0m\u001b[0m\n\u001b[0;32m--> 885\u001b[0;31m                 \u001b[0mident\u001b[0m\u001b[0;34m,\u001b[0m \u001b[0mreply\u001b[0m \u001b[0;34m=\u001b[0m \u001b[0mself\u001b[0m\u001b[0;34m.\u001b[0m\u001b[0msession\u001b[0m\u001b[0;34m.\u001b[0m\u001b[0mrecv\u001b[0m\u001b[0;34m(\u001b[0m\u001b[0mself\u001b[0m\u001b[0;34m.\u001b[0m\u001b[0mstdin_socket\u001b[0m\u001b[0;34m,\u001b[0m \u001b[0;36m0\u001b[0m\u001b[0;34m)\u001b[0m\u001b[0;34m\u001b[0m\u001b[0m\n\u001b[0m\u001b[1;32m    886\u001b[0m             \u001b[0;32mexcept\u001b[0m \u001b[0mException\u001b[0m\u001b[0;34m:\u001b[0m\u001b[0;34m\u001b[0m\u001b[0m\n",
            "\u001b[0;32m~/.local/lib/python3.5/site-packages/jupyter_client/session.py\u001b[0m in \u001b[0;36mrecv\u001b[0;34m(self, socket, mode, content, copy)\u001b[0m\n\u001b[1;32m    802\u001b[0m         \u001b[0;32mtry\u001b[0m\u001b[0;34m:\u001b[0m\u001b[0;34m\u001b[0m\u001b[0m\n\u001b[0;32m--> 803\u001b[0;31m             \u001b[0mmsg_list\u001b[0m \u001b[0;34m=\u001b[0m \u001b[0msocket\u001b[0m\u001b[0;34m.\u001b[0m\u001b[0mrecv_multipart\u001b[0m\u001b[0;34m(\u001b[0m\u001b[0mmode\u001b[0m\u001b[0;34m,\u001b[0m \u001b[0mcopy\u001b[0m\u001b[0;34m=\u001b[0m\u001b[0mcopy\u001b[0m\u001b[0;34m)\u001b[0m\u001b[0;34m\u001b[0m\u001b[0m\n\u001b[0m\u001b[1;32m    804\u001b[0m         \u001b[0;32mexcept\u001b[0m \u001b[0mzmq\u001b[0m\u001b[0;34m.\u001b[0m\u001b[0mZMQError\u001b[0m \u001b[0;32mas\u001b[0m \u001b[0me\u001b[0m\u001b[0;34m:\u001b[0m\u001b[0;34m\u001b[0m\u001b[0m\n",
            "\u001b[0;32m~/.local/lib/python3.5/site-packages/zmq/sugar/socket.py\u001b[0m in \u001b[0;36mrecv_multipart\u001b[0;34m(self, flags, copy, track)\u001b[0m\n\u001b[1;32m    474\u001b[0m         \"\"\"\n\u001b[0;32m--> 475\u001b[0;31m         \u001b[0mparts\u001b[0m \u001b[0;34m=\u001b[0m \u001b[0;34m[\u001b[0m\u001b[0mself\u001b[0m\u001b[0;34m.\u001b[0m\u001b[0mrecv\u001b[0m\u001b[0;34m(\u001b[0m\u001b[0mflags\u001b[0m\u001b[0;34m,\u001b[0m \u001b[0mcopy\u001b[0m\u001b[0;34m=\u001b[0m\u001b[0mcopy\u001b[0m\u001b[0;34m,\u001b[0m \u001b[0mtrack\u001b[0m\u001b[0;34m=\u001b[0m\u001b[0mtrack\u001b[0m\u001b[0;34m)\u001b[0m\u001b[0;34m]\u001b[0m\u001b[0;34m\u001b[0m\u001b[0m\n\u001b[0m\u001b[1;32m    476\u001b[0m         \u001b[0;31m# have first part already, only loop while more to receive\u001b[0m\u001b[0;34m\u001b[0m\u001b[0;34m\u001b[0m\u001b[0m\n",
            "\u001b[0;32mzmq/backend/cython/socket.pyx\u001b[0m in \u001b[0;36mzmq.backend.cython.socket.Socket.recv\u001b[0;34m()\u001b[0m\n",
            "\u001b[0;32mzmq/backend/cython/socket.pyx\u001b[0m in \u001b[0;36mzmq.backend.cython.socket.Socket.recv\u001b[0;34m()\u001b[0m\n",
            "\u001b[0;32mzmq/backend/cython/socket.pyx\u001b[0m in \u001b[0;36mzmq.backend.cython.socket._recv_copy\u001b[0;34m()\u001b[0m\n",
            "\u001b[0;32m~/.local/lib/python3.5/site-packages/zmq/backend/cython/checkrc.pxd\u001b[0m in \u001b[0;36mzmq.backend.cython.checkrc._check_rc\u001b[0;34m()\u001b[0m\n",
            "\u001b[0;31mKeyboardInterrupt\u001b[0m: ",
            "\nDuring handling of the above exception, another exception occurred:\n",
            "\u001b[0;31mKeyboardInterrupt\u001b[0m                         Traceback (most recent call last)",
            "\u001b[0;32m<ipython-input-24-06f6079081ec>\u001b[0m in \u001b[0;36m<module>\u001b[0;34m\u001b[0m\n\u001b[1;32m     32\u001b[0m         \u001b[0;32mreturn\u001b[0m \u001b[0mx\u001b[0m\u001b[0;34m\u001b[0m\u001b[0m\n\u001b[1;32m     33\u001b[0m \u001b[0;32mwhile\u001b[0m \u001b[0;32mTrue\u001b[0m\u001b[0;34m:\u001b[0m\u001b[0;34m\u001b[0m\u001b[0m\n\u001b[0;32m---> 34\u001b[0;31m     \u001b[0mx\u001b[0m \u001b[0;34m=\u001b[0m \u001b[0mget_positive_numeral\u001b[0m\u001b[0;34m(\u001b[0m\u001b[0;34m)\u001b[0m\u001b[0;34m\u001b[0m\u001b[0m\n\u001b[0m\u001b[1;32m     35\u001b[0m     \u001b[0;32mif\u001b[0m \u001b[0;34m(\u001b[0m\u001b[0mx\u001b[0m \u001b[0;34m==\u001b[0m \u001b[0mValueError\u001b[0m\u001b[0;34m)\u001b[0m\u001b[0;34m:\u001b[0m\u001b[0;34m\u001b[0m\u001b[0m\n\u001b[1;32m     36\u001b[0m         \u001b[0;32mcontinue\u001b[0m\u001b[0;34m\u001b[0m\u001b[0m\n",
            "\u001b[0;32m<ipython-input-24-06f6079081ec>\u001b[0m in \u001b[0;36mget_positive_numeral\u001b[0;34m()\u001b[0m\n\u001b[1;32m     17\u001b[0m \u001b[0;32mdef\u001b[0m \u001b[0mget_positive_numeral\u001b[0m\u001b[0;34m(\u001b[0m\u001b[0;34m)\u001b[0m\u001b[0;34m:\u001b[0m\u001b[0;34m\u001b[0m\u001b[0m\n\u001b[1;32m     18\u001b[0m     \u001b[0;34m'端末から入力xを得て正の数値かどうか検査する'\u001b[0m\u001b[0;34m\u001b[0m\u001b[0m\n\u001b[0;32m---> 19\u001b[0;31m     \u001b[0mx\u001b[0m \u001b[0;34m=\u001b[0m \u001b[0minput\u001b[0m\u001b[0;34m(\u001b[0m\u001b[0;34m\"平方根を求める数 \"\u001b[0m\u001b[0;34m)\u001b[0m\u001b[0;34m\u001b[0m\u001b[0m\n\u001b[0m\u001b[1;32m     20\u001b[0m     \u001b[0;32mtry\u001b[0m\u001b[0;34m:\u001b[0m\u001b[0;34m\u001b[0m\u001b[0m\n\u001b[1;32m     21\u001b[0m         \u001b[0mx\u001b[0m \u001b[0;34m=\u001b[0m \u001b[0mfloat\u001b[0m\u001b[0;34m(\u001b[0m\u001b[0mx\u001b[0m\u001b[0;34m)\u001b[0m\u001b[0;34m\u001b[0m\u001b[0m\n",
            "\u001b[0;32m~/.local/lib/python3.5/site-packages/ipykernel/kernelbase.py\u001b[0m in \u001b[0;36mraw_input\u001b[0;34m(self, prompt)\u001b[0m\n\u001b[1;32m    858\u001b[0m             \u001b[0mself\u001b[0m\u001b[0;34m.\u001b[0m\u001b[0m_parent_ident\u001b[0m\u001b[0;34m,\u001b[0m\u001b[0;34m\u001b[0m\u001b[0m\n\u001b[1;32m    859\u001b[0m             \u001b[0mself\u001b[0m\u001b[0;34m.\u001b[0m\u001b[0m_parent_header\u001b[0m\u001b[0;34m,\u001b[0m\u001b[0;34m\u001b[0m\u001b[0m\n\u001b[0;32m--> 860\u001b[0;31m             \u001b[0mpassword\u001b[0m\u001b[0;34m=\u001b[0m\u001b[0;32mFalse\u001b[0m\u001b[0;34m,\u001b[0m\u001b[0;34m\u001b[0m\u001b[0m\n\u001b[0m\u001b[1;32m    861\u001b[0m         )\n\u001b[1;32m    862\u001b[0m \u001b[0;34m\u001b[0m\u001b[0m\n",
            "\u001b[0;32m~/.local/lib/python3.5/site-packages/ipykernel/kernelbase.py\u001b[0m in \u001b[0;36m_input_request\u001b[0;34m(self, prompt, ident, parent, password)\u001b[0m\n\u001b[1;32m    888\u001b[0m             \u001b[0;32mexcept\u001b[0m \u001b[0mKeyboardInterrupt\u001b[0m\u001b[0;34m:\u001b[0m\u001b[0;34m\u001b[0m\u001b[0m\n\u001b[1;32m    889\u001b[0m                 \u001b[0;31m# re-raise KeyboardInterrupt, to truncate traceback\u001b[0m\u001b[0;34m\u001b[0m\u001b[0;34m\u001b[0m\u001b[0m\n\u001b[0;32m--> 890\u001b[0;31m                 \u001b[0;32mraise\u001b[0m \u001b[0mKeyboardInterrupt\u001b[0m\u001b[0;34m\u001b[0m\u001b[0m\n\u001b[0m\u001b[1;32m    891\u001b[0m             \u001b[0;32melse\u001b[0m\u001b[0;34m:\u001b[0m\u001b[0;34m\u001b[0m\u001b[0m\n\u001b[1;32m    892\u001b[0m                 \u001b[0;32mbreak\u001b[0m\u001b[0;34m\u001b[0m\u001b[0m\n",
            "\u001b[0;31mKeyboardInterrupt\u001b[0m: "
          ]
        }
      ]
    },
    {
      "cell_type": "markdown",
      "metadata": {
        "colab_type": "text",
        "heading_collapsed": true,
        "hidden": true,
        "id": "gldgetN21DAn"
      },
      "source": [
        "## 5.6 関数内の変数の扱い"
      ]
    },
    {
      "cell_type": "code",
      "metadata": {
        "colab_type": "code",
        "hidden": true,
        "id": "ox0D03ZH1DAo",
        "outputId": "b76f0c73-82ca-4236-a294-1b90480e56d5",
        "colab": {}
      },
      "source": [
        "a = 10\n",
        "b = 0\n",
        "def f():\n",
        "    global b #グローバル宣言\n",
        "    c = a*a\n",
        "    b = c #グローバ宣言した変数は代入可能\n",
        "f()\n",
        "print(b,a)"
      ],
      "execution_count": 0,
      "outputs": [
        {
          "output_type": "stream",
          "text": [
            "100 10\n"
          ],
          "name": "stdout"
        }
      ]
    },
    {
      "cell_type": "markdown",
      "metadata": {
        "colab_type": "text",
        "heading_collapsed": true,
        "hidden": true,
        "id": "8DcS3wgm1DAp"
      },
      "source": [
        "## 5.7 関数の利用パターン"
      ]
    },
    {
      "cell_type": "code",
      "metadata": {
        "colab_type": "code",
        "hidden": true,
        "id": "1_foEZe-1DAp",
        "outputId": "cdbc2c8f-31ee-45ac-832c-72d1a9622300",
        "colab": {}
      },
      "source": [
        "a = 0\n",
        "def f():\n",
        "    global a\n",
        "    a = a + 1\n",
        "def g(x):\n",
        "    x[0] = 0\n",
        "f()\n",
        "print(a)\n",
        "b = [1,2,3]\n",
        "g(b)\n",
        "print(b)"
      ],
      "execution_count": 0,
      "outputs": [
        {
          "output_type": "stream",
          "text": [
            "1\n",
            "[0, 2, 3]\n"
          ],
          "name": "stdout"
        }
      ]
    },
    {
      "cell_type": "markdown",
      "metadata": {
        "colab_type": "text",
        "heading_collapsed": true,
        "hidden": true,
        "id": "d9Lb-NTO1DAq"
      },
      "source": [
        "## 5.8 関数の呼び出しと関数オブジェクトの引き渡し"
      ]
    },
    {
      "cell_type": "code",
      "metadata": {
        "colab_type": "code",
        "hidden": true,
        "id": "29GNl3mK1DAr",
        "outputId": "ba4c4927-738e-4085-8dbd-63179bcbe4a1",
        "colab": {}
      },
      "source": [
        "def f():\n",
        "    print(\"f says Hello\")\n",
        "# 関数を引数でもらって実行する関数\n",
        "def F(y):\n",
        "    print(\"In F, \", end=\"\") # `end=\"`末尾に出力を追加\n",
        "    y()\n",
        "# fを実行\n",
        "f()\n",
        "# fをFに渡してFを実行\n",
        "F(f)"
      ],
      "execution_count": 0,
      "outputs": [
        {
          "output_type": "stream",
          "text": [
            "f says Hello\n",
            "In F, f says Hello\n"
          ],
          "name": "stdout"
        }
      ]
    },
    {
      "cell_type": "markdown",
      "metadata": {
        "colab_type": "text",
        "heading_collapsed": true,
        "hidden": true,
        "id": "LMJmxAVP1DAs"
      },
      "source": [
        "## 5.9 デフォルト引数値とキーワード引数"
      ]
    },
    {
      "cell_type": "code",
      "metadata": {
        "colab_type": "code",
        "hidden": true,
        "id": "EA9YlyiF1DAs",
        "outputId": "f6f16ed2-ef3c-4a9b-fb2d-e9be658e3ee3",
        "colab": {}
      },
      "source": [
        "def f(a, b=2, c=3):\n",
        "    return a+b+c\n",
        "print(f(1,1,1))\n",
        "print(f(1))\n",
        "print(f(1,c=2))"
      ],
      "execution_count": 0,
      "outputs": [
        {
          "output_type": "stream",
          "text": [
            "3\n",
            "6\n",
            "5\n"
          ],
          "name": "stdout"
        }
      ]
    },
    {
      "cell_type": "markdown",
      "metadata": {
        "colab_type": "text",
        "heading_collapsed": true,
        "id": "mMZYq42f1DAu"
      },
      "source": [
        "# 6. Turtleで遊ぶ"
      ]
    },
    {
      "cell_type": "code",
      "metadata": {
        "colab_type": "code",
        "hidden": true,
        "id": "GJ-2kRFK1h6d",
        "outputId": "69ee4f83-7c59-486c-e9e9-351c658b10f6",
        "colab": {
          "base_uri": "https://localhost:8080/",
          "height": 34
        }
      },
      "source": [
        "!pip3 install ColabTurtle"
      ],
      "execution_count": 0,
      "outputs": [
        {
          "output_type": "stream",
          "text": [
            "Requirement already satisfied: ColabTurtle in /usr/local/lib/python3.6/dist-packages (2.0.0)\n"
          ],
          "name": "stdout"
        }
      ]
    },
    {
      "cell_type": "markdown",
      "metadata": {
        "colab_type": "text",
        "heading_collapsed": true,
        "hidden": true,
        "id": "kyXUABxg1DAu"
      },
      "source": [
        "## 6.4 使ってみよう"
      ]
    },
    {
      "cell_type": "markdown",
      "metadata": {
        "colab_type": "text",
        "hidden": true,
        "id": "543d653_1DAu"
      },
      "source": [
        "プログラム14 turtleを使う例（`turtle.py`という名前で保存してはいけない）"
      ]
    },
    {
      "cell_type": "code",
      "metadata": {
        "colab_type": "code",
        "hidden": true,
        "id": "giv866ad1DAv",
        "outputId": "617deb00-0716-49c2-b4f4-87dad7883354",
        "colab": {
          "base_uri": "https://localhost:8080/",
          "height": 706
        }
      },
      "source": [
        "from ColabTurtle.Turtle import*\n",
        "initializeTurtle()\n",
        "forward(100)\n",
        "left(90)\n",
        "forward(100)\n",
        "left(90)\n",
        "forward(100)\n",
        "left(90)\n",
        "forward(100)\n",
        "left(90)\n",
        "done()"
      ],
      "execution_count": 0,
      "outputs": [
        {
          "output_type": "display_data",
          "data": {
            "text/html": [
              "\n",
              "      <svg width=\"800\" height=\"500\">\n",
              "        <rect width=\"100%\" height=\"100%\" fill=\"black\"/>\n",
              "        <line x1=\"400\" y1=\"250\" x2=\"400.0\" y2=\"150.0\" stroke-linecap=\"round\" style=\"stroke:white;stroke-width:4\"/><line x1=\"400.0\" y1=\"150.0\" x2=\"300.0\" y2=\"150.0\" stroke-linecap=\"round\" style=\"stroke:white;stroke-width:4\"/><line x1=\"300.0\" y1=\"150.0\" x2=\"300.0\" y2=\"250.0\" stroke-linecap=\"round\" style=\"stroke:white;stroke-width:4\"/><line x1=\"300.0\" y1=\"250.0\" x2=\"400.0\" y2=\"250.0\" stroke-linecap=\"round\" style=\"stroke:white;stroke-width:4\"/>\n",
              "        \n",
              "      <g visibility=visible transform=\"rotate(180,400.0,250.0) translate(400.0, 250.0)\">\n",
              "        <circle stroke=\"white\" stroke-width=\"3\" fill=\"transparent\" r=\"12\" cx=\"0\" cy=\"0\"/>\n",
              "        <polygon points=\"0,19 3,16 -3,16\" style=\"fill:white;stroke:white;stroke-width:2\"/>\n",
              "      </g>\n",
              "    \n",
              "      </svg>\n",
              "    "
            ],
            "text/plain": [
              "<IPython.core.display.HTML object>"
            ]
          },
          "metadata": {
            "tags": []
          }
        },
        {
          "output_type": "error",
          "ename": "NameError",
          "evalue": "ignored",
          "traceback": [
            "\u001b[0;31m---------------------------------------------------------------------------\u001b[0m",
            "\u001b[0;31mNameError\u001b[0m                                 Traceback (most recent call last)",
            "\u001b[0;32m<ipython-input-5-f6f09d69b360>\u001b[0m in \u001b[0;36m<module>\u001b[0;34m()\u001b[0m\n\u001b[1;32m      9\u001b[0m \u001b[0mforward\u001b[0m\u001b[0;34m(\u001b[0m\u001b[0;36m100\u001b[0m\u001b[0;34m)\u001b[0m\u001b[0;34m\u001b[0m\u001b[0;34m\u001b[0m\u001b[0m\n\u001b[1;32m     10\u001b[0m \u001b[0mleft\u001b[0m\u001b[0;34m(\u001b[0m\u001b[0;36m90\u001b[0m\u001b[0;34m)\u001b[0m\u001b[0;34m\u001b[0m\u001b[0;34m\u001b[0m\u001b[0m\n\u001b[0;32m---> 11\u001b[0;31m \u001b[0mdone\u001b[0m\u001b[0;34m(\u001b[0m\u001b[0;34m)\u001b[0m\u001b[0;34m\u001b[0m\u001b[0;34m\u001b[0m\u001b[0m\n\u001b[0m",
            "\u001b[0;31mNameError\u001b[0m: name 'done' is not defined"
          ]
        }
      ]
    },
    {
      "cell_type": "markdown",
      "metadata": {
        "colab_type": "text",
        "hidden": true,
        "id": "wkLdIVtU1DAz"
      },
      "source": [
        "#### 演習26. 以下のプログラムを完成させて正n角形を各プログラムを作成してください。\n",
        "プログラム15 n角形を描くプログラム（未完成）"
      ]
    },
    {
      "cell_type": "code",
      "metadata": {
        "colab_type": "code",
        "hidden": true,
        "id": "0foew3SD1DAz",
        "outputId": "84fe4e97-bb59-48bb-dbf1-1cec206daf0c",
        "colab": {
          "base_uri": "https://localhost:8080/",
          "height": 521
        }
      },
      "source": [
        "from ColabTurtle.Turtle import*\n",
        "initializeTurtle()\n",
        "n = 5\n",
        "for i in range(n):\n",
        "    forward(100)\n",
        "    left(360/n)"
      ],
      "execution_count": 0,
      "outputs": [
        {
          "output_type": "display_data",
          "data": {
            "text/html": [
              "\n",
              "      <svg width=\"800\" height=\"500\">\n",
              "        <rect width=\"100%\" height=\"100%\" fill=\"black\"/>\n",
              "        <line x1=\"400\" y1=\"250\" x2=\"400.0\" y2=\"150.0\" stroke-linecap=\"round\" style=\"stroke:white;stroke-width:4\"/><line x1=\"400.0\" y1=\"150.0\" x2=\"304.89434837048464\" y2=\"119.09830056250527\" stroke-linecap=\"round\" style=\"stroke:white;stroke-width:4\"/><line x1=\"304.89434837048464\" y1=\"119.09830056250527\" x2=\"246.11582314123734\" y2=\"200.0\" stroke-linecap=\"round\" style=\"stroke:white;stroke-width:4\"/><line x1=\"246.11582314123734\" y1=\"200.0\" x2=\"304.89434837048464\" y2=\"280.90169943749476\" stroke-linecap=\"round\" style=\"stroke:white;stroke-width:4\"/><line x1=\"304.89434837048464\" y1=\"280.90169943749476\" x2=\"400.0\" y2=\"250.0\" stroke-linecap=\"round\" style=\"stroke:white;stroke-width:4\"/>\n",
              "        \n",
              "      <g visibility=visible transform=\"rotate(180.0,400.0,250.0) translate(400.0, 250.0)\">\n",
              "        <circle stroke=\"white\" stroke-width=\"3\" fill=\"transparent\" r=\"12\" cx=\"0\" cy=\"0\"/>\n",
              "        <polygon points=\"0,19 3,16 -3,16\" style=\"fill:white;stroke:white;stroke-width:2\"/>\n",
              "      </g>\n",
              "    \n",
              "      </svg>\n",
              "    "
            ],
            "text/plain": [
              "<IPython.core.display.HTML object>"
            ]
          },
          "metadata": {
            "tags": []
          }
        }
      ]
    },
    {
      "cell_type": "markdown",
      "metadata": {
        "colab_type": "text",
        "hidden": true,
        "id": "sdqfuwYx1DA1"
      },
      "source": [
        "#### 演習27. 星形はどうやって描けばいいでしょうか"
      ]
    },
    {
      "cell_type": "code",
      "metadata": {
        "colab_type": "code",
        "hidden": true,
        "id": "9CWZXKj51DA1",
        "outputId": "9821369a-af95-499e-f150-ad5c911897b6",
        "colab": {
          "base_uri": "https://localhost:8080/",
          "height": 521
        }
      },
      "source": [
        "from ColabTurtle.Turtle import*\n",
        "initializeTurtle()\n",
        "n = 5\n",
        "for i in range(n):\n",
        "    forward(100)\n",
        "    left(360/n*2)"
      ],
      "execution_count": 0,
      "outputs": [
        {
          "output_type": "display_data",
          "data": {
            "text/html": [
              "\n",
              "      <svg width=\"800\" height=\"500\">\n",
              "        <rect width=\"100%\" height=\"100%\" fill=\"black\"/>\n",
              "        <line x1=\"400\" y1=\"250\" x2=\"400.0\" y2=\"150.0\" stroke-linecap=\"round\" style=\"stroke:white;stroke-width:4\"/><line x1=\"400.0\" y1=\"150.0\" x2=\"341.2214747707527\" y2=\"230.90169943749476\" stroke-linecap=\"round\" style=\"stroke:white;stroke-width:4\"/><line x1=\"341.2214747707527\" y1=\"230.90169943749476\" x2=\"436.32712640026807\" y2=\"200.0\" stroke-linecap=\"round\" style=\"stroke:white;stroke-width:4\"/><line x1=\"436.32712640026807\" y1=\"200.0\" x2=\"341.2214747707527\" y2=\"169.09830056250527\" stroke-linecap=\"round\" style=\"stroke:white;stroke-width:4\"/><line x1=\"341.2214747707527\" y1=\"169.09830056250527\" x2=\"400.0\" y2=\"250.0\" stroke-linecap=\"round\" style=\"stroke:white;stroke-width:4\"/>\n",
              "        \n",
              "      <g visibility=visible transform=\"rotate(180.0,400.0,250.0) translate(400.0, 250.0)\">\n",
              "        <circle stroke=\"white\" stroke-width=\"3\" fill=\"transparent\" r=\"12\" cx=\"0\" cy=\"0\"/>\n",
              "        <polygon points=\"0,19 3,16 -3,16\" style=\"fill:white;stroke:white;stroke-width:2\"/>\n",
              "      </g>\n",
              "    \n",
              "      </svg>\n",
              "    "
            ],
            "text/plain": [
              "<IPython.core.display.HTML object>"
            ]
          },
          "metadata": {
            "tags": []
          }
        }
      ]
    },
    {
      "cell_type": "markdown",
      "metadata": {
        "colab_type": "text",
        "heading_collapsed": true,
        "hidden": true,
        "id": "ZmHxXy5G1DA3"
      },
      "source": [
        "## 6.6 複数のタートルを動かす"
      ]
    },
    {
      "cell_type": "markdown",
      "metadata": {
        "colab_type": "text",
        "hidden": true,
        "id": "mLNdzO5G1DA3"
      },
      "source": [
        "### 6.6.1 プログラム例"
      ]
    },
    {
      "cell_type": "code",
      "metadata": {
        "colab_type": "code",
        "hidden": true,
        "id": "wagsBG5B1DA4",
        "outputId": "b5f993c1-70ea-474a-b41b-9a50284aeb3d",
        "colab": {
          "base_uri": "https://localhost:8080/",
          "height": 521
        }
      },
      "source": [
        "from ColabTurtle.Turtle import*\n",
        "initializeTurtle(10)\n",
        "t1 = Turtle\n",
        "t2 = Turtle\n",
        "t1.color('red')\n",
        "t2.color('blue')\n",
        "for i in range(180):\n",
        "    t1.forward(5)\n",
        "    t2.forward(3)\n",
        "    t1.left(2)\n",
        "    t2.left(2)"
      ],
      "execution_count": 0,
      "outputs": [
        {
          "output_type": "display_data",
          "data": {
            "text/html": [
              "\n",
              "      <svg width=\"800\" height=\"500\">\n",
              "        <rect width=\"100%\" height=\"100%\" fill=\"black\"/>\n",
              "        <line x1=\"400\" y1=\"250\" x2=\"400.0\" y2=\"245.0\" stroke-linecap=\"round\" style=\"stroke:blue;stroke-width:4\"/><line x1=\"400.0\" y1=\"245.0\" x2=\"400.0\" y2=\"242.0\" stroke-linecap=\"round\" style=\"stroke:blue;stroke-width:4\"/><line x1=\"400.0\" y1=\"242.0\" x2=\"399.6512176312794\" y2=\"237.01217974870087\" stroke-linecap=\"round\" style=\"stroke:blue;stroke-width:4\"/><line x1=\"399.6512176312794\" y1=\"237.01217974870087\" x2=\"399.44194821004703\" y2=\"234.0194875979214\" stroke-linecap=\"round\" style=\"stroke:blue;stroke-width:4\"/><line x1=\"399.44194821004703\" y1=\"234.0194875979214\" x2=\"398.7460827052467\" y2=\"229.06814725421356\" stroke-linecap=\"round\" style=\"stroke:blue;stroke-width:4\"/><line x1=\"398.7460827052467\" y1=\"229.06814725421356\" x2=\"398.3285634023665\" y2=\"226.09734304798886\" stroke-linecap=\"round\" style=\"stroke:blue;stroke-width:4\"/><line x1=\"398.3285634023665\" y1=\"226.09734304798886\" x2=\"397.2890049482777\" y2=\"221.20660504431984\" stroke-linecap=\"round\" style=\"stroke:blue;stroke-width:4\"/><line x1=\"397.2890049482777\" y1=\"221.20660504431984\" x2=\"396.66526987582444\" y2=\"218.27216224211844\" stroke-linecap=\"round\" style=\"stroke:blue;stroke-width:4\"/><line x1=\"396.66526987582444\" y1=\"218.27216224211844\" x2=\"395.2870830967394\" y2=\"213.46585376242683\" stroke-linecap=\"round\" style=\"stroke:blue;stroke-width:4\"/><line x1=\"395.2870830967394\" y1=\"213.46585376242683\" x2=\"394.4601710292884\" y2=\"210.58206867461186\" stroke-linecap=\"round\" style=\"stroke:blue;stroke-width:4\"/><line x1=\"394.4601710292884\" y1=\"210.58206867461186\" x2=\"392.75007031266006\" y2=\"205.8836055706823\" stroke-linecap=\"round\" style=\"stroke:blue;stroke-width:4\"/><line x1=\"392.75007031266006\" y1=\"205.8836055706823\" x2=\"391.72400988268305\" y2=\"203.0645277083246\" stroke-linecap=\"round\" style=\"stroke:blue;stroke-width:4\"/><line x1=\"391.72400988268305\" y1=\"203.0645277083246\" x2=\"389.690326667304\" y2=\"198.49680042011158\" stroke-linecap=\"round\" style=\"stroke:blue;stroke-width:4\"/><line x1=\"389.690326667304\" y1=\"198.49680042011158\" x2=\"388.4701167380766\" y2=\"195.75616404718377\" stroke-linecap=\"round\" style=\"stroke:blue;stroke-width:4\"/><line x1=\"388.4701167380766\" y1=\"195.75616404718377\" x2=\"386.12275892414715\" y2=\"191.34142608288914\" stroke-linecap=\"round\" style=\"stroke:blue;stroke-width:4\"/><line x1=\"386.12275892414715\" y1=\"191.34142608288914\" x2=\"384.7143442357895\" y2=\"188.69258330431236\" stroke-linecap=\"round\" style=\"stroke:blue;stroke-width:4\"/><line x1=\"384.7143442357895\" y1=\"188.69258330431236\" x2=\"382.06474791462347\" y2=\"184.45234282353024\" stroke-linecap=\"round\" style=\"stroke:blue;stroke-width:4\"/><line x1=\"382.06474791462347\" y1=\"184.45234282353024\" x2=\"380.47499012192384\" y2=\"181.90819853506096\" stroke-linecap=\"round\" style=\"stroke:blue;stroke-width:4\"/><line x1=\"380.47499012192384\" y1=\"181.90819853506096\" x2=\"377.53606386046147\" y2=\"177.86311356318623\" stroke-linecap=\"round\" style=\"stroke:blue;stroke-width:4\"/><line x1=\"377.53606386046147\" y1=\"177.86311356318623\" x2=\"375.772708103584\" y2=\"175.4360625800614\" stroke-linecap=\"round\" style=\"stroke:blue;stroke-width:4\"/><line x1=\"375.772708103584\" y1=\"175.4360625800614\" x2=\"372.55877005515134\" y2=\"171.6058403644665\" stroke-linecap=\"round\" style=\"stroke:blue;stroke-width:4\"/><line x1=\"372.55877005515134\" y1=\"171.6058403644665\" x2=\"370.63040722609173\" y2=\"169.30770703510956\" stroke-linecap=\"round\" style=\"stroke:blue;stroke-width:4\"/><line x1=\"370.63040722609173\" y1=\"169.30770703510956\" x2=\"367.1571153737967\" y2=\"165.7110080334163\" stroke-linecap=\"round\" style=\"stroke:blue;stroke-width:4\"/><line x1=\"367.1571153737967\" y1=\"165.7110080334163\" x2=\"365.0731402624197\" y2=\"163.55298863240034\" stroke-linecap=\"round\" style=\"stroke:blue;stroke-width:4\"/><line x1=\"365.0731402624197\" y1=\"163.55298863240034\" x2=\"361.35741613503274\" y2=\"160.20733560060606\" stroke-linecap=\"round\" style=\"stroke:blue;stroke-width:4\"/><line x1=\"361.35741613503274\" y1=\"160.20733560060606\" x2=\"359.12798165860056\" y2=\"158.19994378152947\" stroke-linecap=\"round\" style=\"stroke:blue;stroke-width:4\"/><line x1=\"359.12798165860056\" y1=\"158.19994378152947\" x2=\"355.1879278905669\" y2=\"155.12163640490118\" stroke-linecap=\"round\" style=\"stroke:blue;stroke-width:4\"/><line x1=\"355.1879278905669\" y1=\"155.12163640490118\" x2=\"352.82389562974674\" y2=\"153.2746519789242\" stroke-linecap=\"round\" style=\"stroke:blue;stroke-width:4\"/><line x1=\"352.82389562974674\" y1=\"153.2746519789242\" x2=\"348.6787077669715\" y2=\"150.47868746157047\" stroke-linecap=\"round\" style=\"stroke:blue;stroke-width:4\"/><line x1=\"348.6787077669715\" y1=\"150.47868746157047\" x2=\"346.1915950493064\" y2=\"148.80110875115824\" stroke-linecap=\"round\" style=\"stroke:blue;stroke-width:4\"/><line x1=\"346.1915950493064\" y1=\"148.80110875115824\" x2=\"341.8614680303842\" y2=\"146.30110875115824\" stroke-linecap=\"round\" style=\"stroke:blue;stroke-width:4\"/><line x1=\"341.8614680303842\" y1=\"146.30110875115824\" x2=\"339.26339181903086\" y2=\"144.80110875115824\" stroke-linecap=\"round\" style=\"stroke:blue;stroke-width:4\"/><line x1=\"339.26339181903086\" y1=\"144.80110875115824\" x2=\"334.769421587535\" y2=\"142.60925301721286\" stroke-linecap=\"round\" style=\"stroke:blue;stroke-width:4\"/><line x1=\"334.769421587535\" y1=\"142.60925301721286\" x2=\"332.07303944863753\" y2=\"141.29413957684562\" stroke-linecap=\"round\" style=\"stroke:blue;stroke-width:4\"/><line x1=\"332.07303944863753\" y1=\"141.29413957684562\" x2=\"327.4371201758036\" y2=\"139.42110660976607\" stroke-linecap=\"round\" style=\"stroke:blue;stroke-width:4\"/><line x1=\"327.4371201758036\" y1=\"139.42110660976607\" x2=\"324.65556861210325\" y2=\"138.29728682951833\" stroke-linecap=\"round\" style=\"stroke:blue;stroke-width:4\"/><line x1=\"324.65556861210325\" y1=\"138.29728682951833\" x2=\"319.9002860306275\" y2=\"136.7522018576436\" stroke-linecap=\"round\" style=\"stroke:blue;stroke-width:4\"/><line x1=\"319.9002860306275\" y1=\"136.7522018576436\" x2=\"317.047116481742\" y2=\"135.82515087451876\" stroke-linecap=\"round\" style=\"stroke:blue;stroke-width:4\"/><line x1=\"317.047116481742\" y1=\"135.82515087451876\" x2=\"312.19563785036206\" y2=\"134.61554139652043\" stroke-linecap=\"round\" style=\"stroke:blue;stroke-width:4\"/><line x1=\"312.19563785036206\" y1=\"134.61554139652043\" x2=\"309.2847506715341\" y2=\"133.88977570972142\" stroke-linecap=\"round\" style=\"stroke:blue;stroke-width:4\"/><line x1=\"309.2847506715341\" y1=\"133.88977570972142\" x2=\"304.36071190647306\" y2=\"133.02153482138678\" stroke-linecap=\"round\" style=\"stroke:blue;stroke-width:4\"/><line x1=\"304.36071190647306\" y1=\"133.02153482138678\" x2=\"301.40628864743644\" y2=\"132.50059028838598\" stroke-linecap=\"round\" style=\"stroke:blue;stroke-width:4\"/><line x1=\"301.40628864743644\" y1=\"132.50059028838598\" x2=\"296.4336791705951\" y2=\"131.9779479720477\" stroke-linecap=\"round\" style=\"stroke:blue;stroke-width:4\"/><line x1=\"296.4336791705951\" y1=\"131.9779479720477\" x2=\"293.45011348449026\" y2=\"131.66436258224473\" stroke-linecap=\"round\" style=\"stroke:blue;stroke-width:4\"/><line x1=\"293.45011348449026\" y1=\"131.66436258224473\" x2=\"288.4531593493948\" y2=\"131.48986509873222\" stroke-linecap=\"round\" style=\"stroke:blue;stroke-width:4\"/><line x1=\"288.4531593493948\" y1=\"131.48986509873222\" x2=\"285.4549868683375\" y2=\"131.38516660862473\" stroke-linecap=\"round\" style=\"stroke:blue;stroke-width:4\"/><line x1=\"285.4549868683375\" y1=\"131.38516660862473\" x2=\"280.458032733242\" y2=\"131.55966409213724\" stroke-linecap=\"round\" style=\"stroke:blue;stroke-width:4\"/><line x1=\"280.458032733242\" y1=\"131.55966409213724\" x2=\"277.45986025218474\" y2=\"131.66436258224473\" stroke-linecap=\"round\" style=\"stroke:blue;stroke-width:4\"/><line x1=\"277.45986025218474\" y1=\"131.66436258224473\" x2=\"272.4872507753434\" y2=\"132.187004898583\" stroke-linecap=\"round\" style=\"stroke:blue;stroke-width:4\"/><line x1=\"272.4872507753434\" y1=\"132.187004898583\" x2=\"269.50368508923856\" y2=\"132.50059028838598\" stroke-linecap=\"round\" style=\"stroke:blue;stroke-width:4\"/><line x1=\"269.50368508923856\" y1=\"132.50059028838598\" x2=\"264.57964632417753\" y2=\"133.36883117672062\" stroke-linecap=\"round\" style=\"stroke:blue;stroke-width:4\"/><line x1=\"264.57964632417753\" y1=\"133.36883117672062\" x2=\"261.6252230651409\" y2=\"133.88977570972142\" stroke-linecap=\"round\" style=\"stroke:blue;stroke-width:4\"/><line x1=\"261.6252230651409\" y1=\"133.88977570972142\" x2=\"256.77374443376095\" y2=\"135.09938518771975\" stroke-linecap=\"round\" style=\"stroke:blue;stroke-width:4\"/><line x1=\"256.77374443376095\" y1=\"135.09938518771975\" x2=\"253.86285725493298\" y2=\"135.82515087451876\" stroke-linecap=\"round\" style=\"stroke:blue;stroke-width:4\"/><line x1=\"253.86285725493298\" y1=\"135.82515087451876\" x2=\"249.1075746734572\" y2=\"137.37023584639348\" stroke-linecap=\"round\" style=\"stroke:blue;stroke-width:4\"/><line x1=\"249.1075746734572\" y1=\"137.37023584639348\" x2=\"246.25440512457175\" y2=\"138.29728682951833\" stroke-linecap=\"round\" style=\"stroke:blue;stroke-width:4\"/><line x1=\"246.25440512457175\" y1=\"138.29728682951833\" x2=\"241.6184858517378\" y2=\"140.17031979659788\" stroke-linecap=\"round\" style=\"stroke:blue;stroke-width:4\"/><line x1=\"241.6184858517378\" y1=\"140.17031979659788\" x2=\"238.83693428803744\" y2=\"141.29413957684562\" stroke-linecap=\"round\" style=\"stroke:blue;stroke-width:4\"/><line x1=\"238.83693428803744\" y1=\"141.29413957684562\" x2=\"234.3429640565416\" y2=\"143.485995310791\" stroke-linecap=\"round\" style=\"stroke:blue;stroke-width:4\"/><line x1=\"234.3429640565416\" y1=\"143.485995310791\" x2=\"231.6465819176441\" y2=\"144.80110875115824\" stroke-linecap=\"round\" style=\"stroke:blue;stroke-width:4\"/><line x1=\"231.6465819176441\" y1=\"144.80110875115824\" x2=\"227.31645489872193\" y2=\"147.30110875115824\" stroke-linecap=\"round\" style=\"stroke:blue;stroke-width:4\"/><line x1=\"227.31645489872193\" y1=\"147.30110875115824\" x2=\"224.7183786873686\" y2=\"148.80110875115824\" stroke-linecap=\"round\" style=\"stroke:blue;stroke-width:4\"/><line x1=\"224.7183786873686\" y1=\"148.80110875115824\" x2=\"220.5731908245934\" y2=\"151.59707326851196\" stroke-linecap=\"round\" style=\"stroke:blue;stroke-width:4\"/><line x1=\"220.5731908245934\" y1=\"151.59707326851196\" x2=\"218.08607810692828\" y2=\"153.2746519789242\" stroke-linecap=\"round\" style=\"stroke:blue;stroke-width:4\"/><line x1=\"218.08607810692828\" y1=\"153.2746519789242\" x2=\"214.14602433889468\" y2=\"156.35295935555249\" stroke-linecap=\"round\" style=\"stroke:blue;stroke-width:4\"/><line x1=\"214.14602433889468\" y1=\"156.35295935555249\" x2=\"211.78199207807452\" y2=\"158.19994378152947\" stroke-linecap=\"round\" style=\"stroke:blue;stroke-width:4\"/><line x1=\"211.78199207807452\" y1=\"158.19994378152947\" x2=\"208.06626795068755\" y2=\"161.54559681332375\" stroke-linecap=\"round\" style=\"stroke:blue;stroke-width:4\"/><line x1=\"208.06626795068755\" y1=\"161.54559681332375\" x2=\"205.83683347425537\" y2=\"163.55298863240034\" stroke-linecap=\"round\" style=\"stroke:blue;stroke-width:4\"/><line x1=\"205.83683347425537\" y1=\"163.55298863240034\" x2=\"202.3635416219604\" y2=\"167.1496876340936\" stroke-linecap=\"round\" style=\"stroke:blue;stroke-width:4\"/><line x1=\"202.3635416219604\" y1=\"167.1496876340936\" x2=\"200.2795665105834\" y2=\"169.30770703510956\" stroke-linecap=\"round\" style=\"stroke:blue;stroke-width:4\"/><line x1=\"200.2795665105834\" y1=\"169.30770703510956\" x2=\"197.0656284621507\" y2=\"173.13792925070445\" stroke-linecap=\"round\" style=\"stroke:blue;stroke-width:4\"/><line x1=\"197.0656284621507\" y1=\"173.13792925070445\" x2=\"195.1372656330911\" y2=\"175.4360625800614\" stroke-linecap=\"round\" style=\"stroke:blue;stroke-width:4\"/><line x1=\"195.1372656330911\" y1=\"175.4360625800614\" x2=\"192.19833937162872\" y2=\"179.48114755193612\" stroke-linecap=\"round\" style=\"stroke:blue;stroke-width:4\"/><line x1=\"192.19833937162872\" y1=\"179.48114755193612\" x2=\"190.4349836147513\" y2=\"181.90819853506096\" stroke-linecap=\"round\" style=\"stroke:blue;stroke-width:4\"/><line x1=\"190.4349836147513\" y1=\"181.90819853506096\" x2=\"187.78538729358527\" y2=\"186.14843901584308\" stroke-linecap=\"round\" style=\"stroke:blue;stroke-width:4\"/><line x1=\"187.78538729358527\" y1=\"186.14843901584308\" x2=\"186.19562950088567\" y2=\"188.69258330431236\" stroke-linecap=\"round\" style=\"stroke:blue;stroke-width:4\"/><line x1=\"186.19562950088567\" y1=\"188.69258330431236\" x2=\"183.84827168695622\" y2=\"193.107321268607\" stroke-linecap=\"round\" style=\"stroke:blue;stroke-width:4\"/><line x1=\"183.84827168695622\" y1=\"193.107321268607\" x2=\"182.43985699859854\" y2=\"195.75616404718377\" stroke-linecap=\"round\" style=\"stroke:blue;stroke-width:4\"/><line x1=\"182.43985699859854\" y1=\"195.75616404718377\" x2=\"180.40617378321954\" y2=\"200.32389133539678\" stroke-linecap=\"round\" style=\"stroke:blue;stroke-width:4\"/><line x1=\"180.40617378321954\" y1=\"200.32389133539678\" x2=\"179.18596385399215\" y2=\"203.0645277083246\" stroke-linecap=\"round\" style=\"stroke:blue;stroke-width:4\"/><line x1=\"179.18596385399215\" y1=\"203.0645277083246\" x2=\"177.4758631373638\" y2=\"207.76299081225415\" stroke-linecap=\"round\" style=\"stroke:blue;stroke-width:4\"/><line x1=\"177.4758631373638\" y1=\"207.76299081225415\" x2=\"176.4498027073868\" y2=\"210.58206867461186\" stroke-linecap=\"round\" style=\"stroke:blue;stroke-width:4\"/><line x1=\"176.4498027073868\" y1=\"210.58206867461186\" x2=\"175.0716159283018\" y2=\"215.38837715430344\" stroke-linecap=\"round\" style=\"stroke:blue;stroke-width:4\"/><line x1=\"175.0716159283018\" y1=\"215.38837715430344\" x2=\"174.24470386085082\" y2=\"218.27216224211838\" stroke-linecap=\"round\" style=\"stroke:blue;stroke-width:4\"/><line x1=\"174.24470386085082\" y1=\"218.27216224211838\" x2=\"173.20514540676203\" y2=\"223.1629002457874\" stroke-linecap=\"round\" style=\"stroke:blue;stroke-width:4\"/><line x1=\"173.20514540676203\" y1=\"223.1629002457874\" x2=\"172.58141033430874\" y2=\"226.09734304798883\" stroke-linecap=\"round\" style=\"stroke:blue;stroke-width:4\"/><line x1=\"172.58141033430874\" y1=\"226.09734304798883\" x2=\"171.8855448295084\" y2=\"231.04868339169667\" stroke-linecap=\"round\" style=\"stroke:blue;stroke-width:4\"/><line x1=\"171.8855448295084\" y1=\"231.04868339169667\" x2=\"171.4680255266282\" y2=\"234.01948759792137\" stroke-linecap=\"round\" style=\"stroke:blue;stroke-width:4\"/><line x1=\"171.4680255266282\" y1=\"234.01948759792137\" x2=\"171.11924315790756\" y2=\"239.0073078492205\" stroke-linecap=\"round\" style=\"stroke:blue;stroke-width:4\"/><line x1=\"171.11924315790756\" y1=\"239.0073078492205\" x2=\"170.9099737366752\" y2=\"241.99999999999997\" stroke-linecap=\"round\" style=\"stroke:blue;stroke-width:4\"/><line x1=\"170.9099737366752\" y1=\"241.99999999999997\" x2=\"170.9099737366752\" y2=\"246.99999999999997\" stroke-linecap=\"round\" style=\"stroke:blue;stroke-width:4\"/><line x1=\"170.9099737366752\" y1=\"246.99999999999997\" x2=\"170.9099737366752\" y2=\"249.99999999999997\" stroke-linecap=\"round\" style=\"stroke:blue;stroke-width:4\"/><line x1=\"170.9099737366752\" y1=\"249.99999999999997\" x2=\"171.25875610539583\" y2=\"254.9878202512991\" stroke-linecap=\"round\" style=\"stroke:blue;stroke-width:4\"/><line x1=\"171.25875610539583\" y1=\"254.9878202512991\" x2=\"171.4680255266282\" y2=\"257.98051240207855\" stroke-linecap=\"round\" style=\"stroke:blue;stroke-width:4\"/><line x1=\"171.4680255266282\" y1=\"257.98051240207855\" x2=\"172.16389103142853\" y2=\"262.9318527457864\" stroke-linecap=\"round\" style=\"stroke:blue;stroke-width:4\"/><line x1=\"172.16389103142853\" y1=\"262.9318527457864\" x2=\"172.58141033430874\" y2=\"265.9026569520111\" stroke-linecap=\"round\" style=\"stroke:blue;stroke-width:4\"/><line x1=\"172.58141033430874\" y1=\"265.9026569520111\" x2=\"173.62096878839753\" y2=\"270.7933949556801\" stroke-linecap=\"round\" style=\"stroke:blue;stroke-width:4\"/><line x1=\"173.62096878839753\" y1=\"270.7933949556801\" x2=\"174.24470386085082\" y2=\"273.72783775788156\" stroke-linecap=\"round\" style=\"stroke:blue;stroke-width:4\"/><line x1=\"174.24470386085082\" y1=\"273.72783775788156\" x2=\"175.6228906399358\" y2=\"278.53414623757317\" stroke-linecap=\"round\" style=\"stroke:blue;stroke-width:4\"/><line x1=\"175.6228906399358\" y1=\"278.53414623757317\" x2=\"176.4498027073868\" y2=\"281.4179313253881\" stroke-linecap=\"round\" style=\"stroke:blue;stroke-width:4\"/><line x1=\"176.4498027073868\" y1=\"281.4179313253881\" x2=\"178.15990342401514\" y2=\"286.11639442931767\" stroke-linecap=\"round\" style=\"stroke:blue;stroke-width:4\"/><line x1=\"178.15990342401514\" y1=\"286.11639442931767\" x2=\"179.18596385399215\" y2=\"288.9354722916754\" stroke-linecap=\"round\" style=\"stroke:blue;stroke-width:4\"/><line x1=\"179.18596385399215\" y1=\"288.9354722916754\" x2=\"181.21964706937115\" y2=\"293.5031995798884\" stroke-linecap=\"round\" style=\"stroke:blue;stroke-width:4\"/><line x1=\"181.21964706937115\" y1=\"293.5031995798884\" x2=\"182.43985699859854\" y2=\"296.2438359528162\" stroke-linecap=\"round\" style=\"stroke:blue;stroke-width:4\"/><line x1=\"182.43985699859854\" y1=\"296.2438359528162\" x2=\"184.787214812528\" y2=\"300.65857391711086\" stroke-linecap=\"round\" style=\"stroke:blue;stroke-width:4\"/><line x1=\"184.787214812528\" y1=\"300.65857391711086\" x2=\"186.19562950088567\" y2=\"303.30741669568766\" stroke-linecap=\"round\" style=\"stroke:blue;stroke-width:4\"/><line x1=\"186.19562950088567\" y1=\"303.30741669568766\" x2=\"188.8452258220517\" y2=\"307.5476571764698\" stroke-linecap=\"round\" style=\"stroke:blue;stroke-width:4\"/><line x1=\"188.8452258220517\" y1=\"307.5476571764698\" x2=\"190.4349836147513\" y2=\"310.09180146493907\" stroke-linecap=\"round\" style=\"stroke:blue;stroke-width:4\"/><line x1=\"190.4349836147513\" y1=\"310.09180146493907\" x2=\"193.37390987621367\" y2=\"314.1368864368138\" stroke-linecap=\"round\" style=\"stroke:blue;stroke-width:4\"/><line x1=\"193.37390987621367\" y1=\"314.1368864368138\" x2=\"195.1372656330911\" y2=\"316.56393741993867\" stroke-linecap=\"round\" style=\"stroke:blue;stroke-width:4\"/><line x1=\"195.1372656330911\" y1=\"316.56393741993867\" x2=\"198.3512036815238\" y2=\"320.3941596355336\" stroke-linecap=\"round\" style=\"stroke:blue;stroke-width:4\"/><line x1=\"198.3512036815238\" y1=\"320.3941596355336\" x2=\"200.2795665105834\" y2=\"322.6922929648905\" stroke-linecap=\"round\" style=\"stroke:blue;stroke-width:4\"/><line x1=\"200.2795665105834\" y1=\"322.6922929648905\" x2=\"203.75285836287838\" y2=\"326.28899196658375\" stroke-linecap=\"round\" style=\"stroke:blue;stroke-width:4\"/><line x1=\"203.75285836287838\" y1=\"326.28899196658375\" x2=\"205.83683347425537\" y2=\"328.4470113675997\" stroke-linecap=\"round\" style=\"stroke:blue;stroke-width:4\"/><line x1=\"205.83683347425537\" y1=\"328.4470113675997\" x2=\"209.55255760164235\" y2=\"331.792664399394\" stroke-linecap=\"round\" style=\"stroke:blue;stroke-width:4\"/><line x1=\"209.55255760164235\" y1=\"331.792664399394\" x2=\"211.78199207807452\" y2=\"333.8000562184706\" stroke-linecap=\"round\" style=\"stroke:blue;stroke-width:4\"/><line x1=\"211.78199207807452\" y1=\"333.8000562184706\" x2=\"215.72204584610813\" y2=\"336.8783635950989\" stroke-linecap=\"round\" style=\"stroke:blue;stroke-width:4\"/><line x1=\"215.72204584610813\" y1=\"336.8783635950989\" x2=\"218.08607810692828\" y2=\"338.7253480210759\" stroke-linecap=\"round\" style=\"stroke:blue;stroke-width:4\"/><line x1=\"218.08607810692828\" y1=\"338.7253480210759\" x2=\"222.2312659697035\" y2=\"341.52131253842964\" stroke-linecap=\"round\" style=\"stroke:blue;stroke-width:4\"/><line x1=\"222.2312659697035\" y1=\"341.52131253842964\" x2=\"224.7183786873686\" y2=\"343.1988912488419\" stroke-linecap=\"round\" style=\"stroke:blue;stroke-width:4\"/><line x1=\"224.7183786873686\" y1=\"343.1988912488419\" x2=\"229.0485057062908\" y2=\"345.6988912488419\" stroke-linecap=\"round\" style=\"stroke:blue;stroke-width:4\"/><line x1=\"229.0485057062908\" y1=\"345.6988912488419\" x2=\"231.6465819176441\" y2=\"347.1988912488419\" stroke-linecap=\"round\" style=\"stroke:blue;stroke-width:4\"/><line x1=\"231.6465819176441\" y1=\"347.1988912488419\" x2=\"236.14055214913995\" y2=\"349.3907469827873\" stroke-linecap=\"round\" style=\"stroke:blue;stroke-width:4\"/><line x1=\"236.14055214913995\" y1=\"349.3907469827873\" x2=\"238.83693428803744\" y2=\"350.7058604231545\" stroke-linecap=\"round\" style=\"stroke:blue;stroke-width:4\"/><line x1=\"238.83693428803744\" y1=\"350.7058604231545\" x2=\"243.47285356087139\" y2=\"352.57889339023404\" stroke-linecap=\"round\" style=\"stroke:blue;stroke-width:4\"/><line x1=\"243.47285356087139\" y1=\"352.57889339023404\" x2=\"246.25440512457175\" y2=\"353.7027131704818\" stroke-linecap=\"round\" style=\"stroke:blue;stroke-width:4\"/><line x1=\"246.25440512457175\" y1=\"353.7027131704818\" x2=\"251.00968770604752\" y2=\"355.24779814235654\" stroke-linecap=\"round\" style=\"stroke:blue;stroke-width:4\"/><line x1=\"251.00968770604752\" y1=\"355.24779814235654\" x2=\"253.86285725493298\" y2=\"356.1748491254814\" stroke-linecap=\"round\" style=\"stroke:blue;stroke-width:4\"/><line x1=\"253.86285725493298\" y1=\"356.1748491254814\" x2=\"258.71433588631294\" y2=\"357.38445860347974\" stroke-linecap=\"round\" style=\"stroke:blue;stroke-width:4\"/><line x1=\"258.71433588631294\" y1=\"357.38445860347974\" x2=\"261.6252230651409\" y2=\"358.1102242902787\" stroke-linecap=\"round\" style=\"stroke:blue;stroke-width:4\"/><line x1=\"261.6252230651409\" y1=\"358.1102242902787\" x2=\"266.54926183020194\" y2=\"358.97846517861336\" stroke-linecap=\"round\" style=\"stroke:blue;stroke-width:4\"/><line x1=\"266.54926183020194\" y1=\"358.97846517861336\" x2=\"269.50368508923856\" y2=\"359.49940971161413\" stroke-linecap=\"round\" style=\"stroke:blue;stroke-width:4\"/><line x1=\"269.50368508923856\" y1=\"359.49940971161413\" x2=\"274.4762945660799\" y2=\"360.0220520279524\" stroke-linecap=\"round\" style=\"stroke:blue;stroke-width:4\"/><line x1=\"274.4762945660799\" y1=\"360.0220520279524\" x2=\"277.45986025218474\" y2=\"360.3356374177553\" stroke-linecap=\"round\" style=\"stroke:blue;stroke-width:4\"/><line x1=\"277.45986025218474\" y1=\"360.3356374177553\" x2=\"282.45681438728025\" y2=\"360.5101349012678\" stroke-linecap=\"round\" style=\"stroke:blue;stroke-width:4\"/><line x1=\"282.45681438728025\" y1=\"360.5101349012678\" x2=\"285.4549868683375\" y2=\"360.6148333913753\" stroke-linecap=\"round\" style=\"stroke:blue;stroke-width:4\"/><line x1=\"285.4549868683375\" y1=\"360.6148333913753\" x2=\"290.45194100343303\" y2=\"360.44033590786285\" stroke-linecap=\"round\" style=\"stroke:blue;stroke-width:4\"/><line x1=\"290.45194100343303\" y1=\"360.44033590786285\" x2=\"293.4501134844903\" y2=\"360.3356374177553\" stroke-linecap=\"round\" style=\"stroke:blue;stroke-width:4\"/><line x1=\"293.4501134844903\" y1=\"360.3356374177553\" x2=\"298.42272296133166\" y2=\"359.8129951014171\" stroke-linecap=\"round\" style=\"stroke:blue;stroke-width:4\"/><line x1=\"298.42272296133166\" y1=\"359.8129951014171\" x2=\"301.4062886474365\" y2=\"359.49940971161413\" stroke-linecap=\"round\" style=\"stroke:blue;stroke-width:4\"/><line x1=\"301.4062886474365\" y1=\"359.49940971161413\" x2=\"306.3303274124975\" y2=\"358.6311688232795\" stroke-linecap=\"round\" style=\"stroke:blue;stroke-width:4\"/><line x1=\"306.3303274124975\" y1=\"358.6311688232795\" x2=\"309.28475067153414\" y2=\"358.1102242902787\" stroke-linecap=\"round\" style=\"stroke:blue;stroke-width:4\"/><line x1=\"309.28475067153414\" y1=\"358.1102242902787\" x2=\"314.1362293029141\" y2=\"356.90061481228037\" stroke-linecap=\"round\" style=\"stroke:blue;stroke-width:4\"/><line x1=\"314.1362293029141\" y1=\"356.90061481228037\" x2=\"317.0471164817421\" y2=\"356.1748491254814\" stroke-linecap=\"round\" style=\"stroke:blue;stroke-width:4\"/><line x1=\"317.0471164817421\" y1=\"356.1748491254814\" x2=\"321.8023990632178\" y2=\"354.62976415360663\" stroke-linecap=\"round\" style=\"stroke:blue;stroke-width:4\"/><line x1=\"321.8023990632178\" y1=\"354.62976415360663\" x2=\"324.65556861210325\" y2=\"353.7027131704818\" stroke-linecap=\"round\" style=\"stroke:blue;stroke-width:4\"/><line x1=\"324.65556861210325\" y1=\"353.7027131704818\" x2=\"329.29148788493717\" y2=\"351.82968020340223\" stroke-linecap=\"round\" style=\"stroke:blue;stroke-width:4\"/><line x1=\"329.29148788493717\" y1=\"351.82968020340223\" x2=\"332.07303944863753\" y2=\"350.7058604231545\" stroke-linecap=\"round\" style=\"stroke:blue;stroke-width:4\"/><line x1=\"332.07303944863753\" y1=\"350.7058604231545\" x2=\"336.56700968013337\" y2=\"348.5140046892091\" stroke-linecap=\"round\" style=\"stroke:blue;stroke-width:4\"/><line x1=\"336.56700968013337\" y1=\"348.5140046892091\" x2=\"339.26339181903086\" y2=\"347.1988912488419\" stroke-linecap=\"round\" style=\"stroke:blue;stroke-width:4\"/><line x1=\"339.26339181903086\" y1=\"347.1988912488419\" x2=\"343.59351883795307\" y2=\"344.6988912488419\" stroke-linecap=\"round\" style=\"stroke:blue;stroke-width:4\"/><line x1=\"343.59351883795307\" y1=\"344.6988912488419\" x2=\"346.1915950493064\" y2=\"343.1988912488419\" stroke-linecap=\"round\" style=\"stroke:blue;stroke-width:4\"/><line x1=\"346.1915950493064\" y1=\"343.1988912488419\" x2=\"350.3367829120816\" y2=\"340.40292673148815\" stroke-linecap=\"round\" style=\"stroke:blue;stroke-width:4\"/><line x1=\"350.3367829120816\" y1=\"340.40292673148815\" x2=\"352.82389562974674\" y2=\"338.7253480210759\" stroke-linecap=\"round\" style=\"stroke:blue;stroke-width:4\"/><line x1=\"352.82389562974674\" y1=\"338.7253480210759\" x2=\"356.7639493977804\" y2=\"335.6470406444476\" stroke-linecap=\"round\" style=\"stroke:blue;stroke-width:4\"/><line x1=\"356.7639493977804\" y1=\"335.6470406444476\" x2=\"359.12798165860056\" y2=\"333.8000562184706\" stroke-linecap=\"round\" style=\"stroke:blue;stroke-width:4\"/><line x1=\"359.12798165860056\" y1=\"333.8000562184706\" x2=\"362.84370578598754\" y2=\"330.4544031866763\" stroke-linecap=\"round\" style=\"stroke:blue;stroke-width:4\"/><line x1=\"362.84370578598754\" y1=\"330.4544031866763\" x2=\"365.0731402624197\" y2=\"328.4470113675997\" stroke-linecap=\"round\" style=\"stroke:blue;stroke-width:4\"/><line x1=\"365.0731402624197\" y1=\"328.4470113675997\" x2=\"368.5464321147147\" y2=\"324.85031236590646\" stroke-linecap=\"round\" style=\"stroke:blue;stroke-width:4\"/><line x1=\"368.5464321147147\" y1=\"324.85031236590646\" x2=\"370.63040722609173\" y2=\"322.6922929648905\" stroke-linecap=\"round\" style=\"stroke:blue;stroke-width:4\"/><line x1=\"370.63040722609173\" y1=\"322.6922929648905\" x2=\"373.8443452745244\" y2=\"318.8620707492956\" stroke-linecap=\"round\" style=\"stroke:blue;stroke-width:4\"/><line x1=\"373.8443452745244\" y1=\"318.8620707492956\" x2=\"375.772708103584\" y2=\"316.56393741993867\" stroke-linecap=\"round\" style=\"stroke:blue;stroke-width:4\"/><line x1=\"375.772708103584\" y1=\"316.56393741993867\" x2=\"378.7116343650464\" y2=\"312.5188524480639\" stroke-linecap=\"round\" style=\"stroke:blue;stroke-width:4\"/><line x1=\"378.7116343650464\" y1=\"312.5188524480639\" x2=\"380.47499012192384\" y2=\"310.09180146493907\" stroke-linecap=\"round\" style=\"stroke:blue;stroke-width:4\"/><line x1=\"380.47499012192384\" y1=\"310.09180146493907\" x2=\"383.12458644308987\" y2=\"305.85156098415695\" stroke-linecap=\"round\" style=\"stroke:blue;stroke-width:4\"/><line x1=\"383.12458644308987\" y1=\"305.85156098415695\" x2=\"384.7143442357895\" y2=\"303.30741669568766\" stroke-linecap=\"round\" style=\"stroke:blue;stroke-width:4\"/><line x1=\"384.7143442357895\" y1=\"303.30741669568766\" x2=\"387.061702049719\" y2=\"298.892678731393\" stroke-linecap=\"round\" style=\"stroke:blue;stroke-width:4\"/><line x1=\"387.061702049719\" y1=\"298.892678731393\" x2=\"388.4701167380766\" y2=\"296.2438359528162\" stroke-linecap=\"round\" style=\"stroke:blue;stroke-width:4\"/><line x1=\"388.4701167380766\" y1=\"296.2438359528162\" x2=\"390.5037999534556\" y2=\"291.6761086646032\" stroke-linecap=\"round\" style=\"stroke:blue;stroke-width:4\"/><line x1=\"390.5037999534556\" y1=\"291.6761086646032\" x2=\"391.724009882683\" y2=\"288.9354722916754\" stroke-linecap=\"round\" style=\"stroke:blue;stroke-width:4\"/><line x1=\"391.724009882683\" y1=\"288.9354722916754\" x2=\"393.43411059931134\" y2=\"284.23700918774585\" stroke-linecap=\"round\" style=\"stroke:blue;stroke-width:4\"/><line x1=\"393.43411059931134\" y1=\"284.23700918774585\" x2=\"394.46017102928835\" y2=\"281.4179313253881\" stroke-linecap=\"round\" style=\"stroke:blue;stroke-width:4\"/><line x1=\"394.46017102928835\" y1=\"281.4179313253881\" x2=\"395.83835780837336\" y2=\"276.6116228456965\" stroke-linecap=\"round\" style=\"stroke:blue;stroke-width:4\"/><line x1=\"395.83835780837336\" y1=\"276.6116228456965\" x2=\"396.6652698758244\" y2=\"273.72783775788156\" stroke-linecap=\"round\" style=\"stroke:blue;stroke-width:4\"/><line x1=\"396.6652698758244\" y1=\"273.72783775788156\" x2=\"397.7048283299132\" y2=\"268.83709975421255\" stroke-linecap=\"round\" style=\"stroke:blue;stroke-width:4\"/><line x1=\"397.7048283299132\" y1=\"268.83709975421255\" x2=\"398.32856340236646\" y2=\"265.9026569520111\" stroke-linecap=\"round\" style=\"stroke:blue;stroke-width:4\"/><line x1=\"398.32856340236646\" y1=\"265.9026569520111\" x2=\"399.0244289071668\" y2=\"260.9513166083033\" stroke-linecap=\"round\" style=\"stroke:blue;stroke-width:4\"/><line x1=\"399.0244289071668\" y1=\"260.9513166083033\" x2=\"399.441948210047\" y2=\"257.98051240207855\" stroke-linecap=\"round\" style=\"stroke:blue;stroke-width:4\"/><line x1=\"399.441948210047\" y1=\"257.98051240207855\" x2=\"399.7907305787676\" y2=\"252.99269215077942\" stroke-linecap=\"round\" style=\"stroke:blue;stroke-width:4\"/><line x1=\"399.7907305787676\" y1=\"252.99269215077942\" x2=\"399.99999999999994\" y2=\"249.99999999999994\" stroke-linecap=\"round\" style=\"stroke:blue;stroke-width:4\"/><line x1=\"399.99999999999994\" y1=\"249.99999999999994\" x2=\"399.99999999999994\" y2=\"244.99999999999994\" stroke-linecap=\"round\" style=\"stroke:blue;stroke-width:4\"/><line x1=\"399.99999999999994\" y1=\"244.99999999999994\" x2=\"399.99999999999994\" y2=\"241.99999999999994\" stroke-linecap=\"round\" style=\"stroke:blue;stroke-width:4\"/><line x1=\"399.99999999999994\" y1=\"241.99999999999994\" x2=\"399.65121763127934\" y2=\"237.01217974870082\" stroke-linecap=\"round\" style=\"stroke:blue;stroke-width:4\"/><line x1=\"399.65121763127934\" y1=\"237.01217974870082\" x2=\"399.441948210047\" y2=\"234.01948759792134\" stroke-linecap=\"round\" style=\"stroke:blue;stroke-width:4\"/><line x1=\"399.441948210047\" y1=\"234.01948759792134\" x2=\"398.74608270524664\" y2=\"229.0681472542135\" stroke-linecap=\"round\" style=\"stroke:blue;stroke-width:4\"/><line x1=\"398.74608270524664\" y1=\"229.0681472542135\" x2=\"398.32856340236646\" y2=\"226.0973430479888\" stroke-linecap=\"round\" style=\"stroke:blue;stroke-width:4\"/><line x1=\"398.32856340236646\" y1=\"226.0973430479888\" x2=\"397.28900494827764\" y2=\"221.2066050443198\" stroke-linecap=\"round\" style=\"stroke:blue;stroke-width:4\"/><line x1=\"397.28900494827764\" y1=\"221.2066050443198\" x2=\"396.6652698758244\" y2=\"218.27216224211838\" stroke-linecap=\"round\" style=\"stroke:blue;stroke-width:4\"/><line x1=\"396.6652698758244\" y1=\"218.27216224211838\" x2=\"395.28708309673937\" y2=\"213.46585376242678\" stroke-linecap=\"round\" style=\"stroke:blue;stroke-width:4\"/><line x1=\"395.28708309673937\" y1=\"213.46585376242678\" x2=\"394.46017102928835\" y2=\"210.5820686746118\" stroke-linecap=\"round\" style=\"stroke:blue;stroke-width:4\"/><line x1=\"394.46017102928835\" y1=\"210.5820686746118\" x2=\"392.75007031266\" y2=\"205.88360557068225\" stroke-linecap=\"round\" style=\"stroke:blue;stroke-width:4\"/><line x1=\"392.75007031266\" y1=\"205.88360557068225\" x2=\"391.724009882683\" y2=\"203.06452770832453\" stroke-linecap=\"round\" style=\"stroke:blue;stroke-width:4\"/><line x1=\"391.724009882683\" y1=\"203.06452770832453\" x2=\"389.69032666730396\" y2=\"198.49680042011153\" stroke-linecap=\"round\" style=\"stroke:blue;stroke-width:4\"/><line x1=\"389.69032666730396\" y1=\"198.49680042011153\" x2=\"388.47011673807657\" y2=\"195.75616404718372\" stroke-linecap=\"round\" style=\"stroke:blue;stroke-width:4\"/><line x1=\"388.47011673807657\" y1=\"195.75616404718372\" x2=\"386.1227589241471\" y2=\"191.3414260828891\" stroke-linecap=\"round\" style=\"stroke:blue;stroke-width:4\"/><line x1=\"386.1227589241471\" y1=\"191.3414260828891\" x2=\"384.71434423578944\" y2=\"188.6925833043123\" stroke-linecap=\"round\" style=\"stroke:blue;stroke-width:4\"/><line x1=\"384.71434423578944\" y1=\"188.6925833043123\" x2=\"382.0647479146234\" y2=\"184.4523428235302\" stroke-linecap=\"round\" style=\"stroke:blue;stroke-width:4\"/><line x1=\"382.0647479146234\" y1=\"184.4523428235302\" x2=\"380.4749901219238\" y2=\"181.9081985350609\" stroke-linecap=\"round\" style=\"stroke:blue;stroke-width:4\"/><line x1=\"380.4749901219238\" y1=\"181.9081985350609\" x2=\"377.5360638604614\" y2=\"177.86311356318618\" stroke-linecap=\"round\" style=\"stroke:blue;stroke-width:4\"/><line x1=\"377.5360638604614\" y1=\"177.86311356318618\" x2=\"375.77270810358397\" y2=\"175.43606258006133\" stroke-linecap=\"round\" style=\"stroke:blue;stroke-width:4\"/><line x1=\"375.77270810358397\" y1=\"175.43606258006133\" x2=\"372.5587700551513\" y2=\"171.60584036446645\" stroke-linecap=\"round\" style=\"stroke:blue;stroke-width:4\"/><line x1=\"372.5587700551513\" y1=\"171.60584036446645\" x2=\"370.6304072260917\" y2=\"169.3077070351095\" stroke-linecap=\"round\" style=\"stroke:blue;stroke-width:4\"/><line x1=\"370.6304072260917\" y1=\"169.3077070351095\" x2=\"367.15711537379667\" y2=\"165.71100803341625\" stroke-linecap=\"round\" style=\"stroke:blue;stroke-width:4\"/><line x1=\"367.15711537379667\" y1=\"165.71100803341625\" x2=\"365.07314026241966\" y2=\"163.5529886324003\" stroke-linecap=\"round\" style=\"stroke:blue;stroke-width:4\"/><line x1=\"365.07314026241966\" y1=\"163.5529886324003\" x2=\"361.3574161350327\" y2=\"160.207335600606\" stroke-linecap=\"round\" style=\"stroke:blue;stroke-width:4\"/><line x1=\"361.3574161350327\" y1=\"160.207335600606\" x2=\"359.1279816586005\" y2=\"158.1999437815294\" stroke-linecap=\"round\" style=\"stroke:blue;stroke-width:4\"/><line x1=\"359.1279816586005\" y1=\"158.1999437815294\" x2=\"355.18792789056687\" y2=\"155.12163640490112\" stroke-linecap=\"round\" style=\"stroke:blue;stroke-width:4\"/><line x1=\"355.18792789056687\" y1=\"155.12163640490112\" x2=\"352.8238956297467\" y2=\"153.27465197892414\" stroke-linecap=\"round\" style=\"stroke:blue;stroke-width:4\"/><line x1=\"352.8238956297467\" y1=\"153.27465197892414\" x2=\"348.67870776697146\" y2=\"150.47868746157042\" stroke-linecap=\"round\" style=\"stroke:blue;stroke-width:4\"/><line x1=\"348.67870776697146\" y1=\"150.47868746157042\" x2=\"346.19159504930633\" y2=\"148.80110875115818\" stroke-linecap=\"round\" style=\"stroke:blue;stroke-width:4\"/><line x1=\"346.19159504930633\" y1=\"148.80110875115818\" x2=\"341.8614680303841\" y2=\"146.30110875115818\" stroke-linecap=\"round\" style=\"stroke:blue;stroke-width:4\"/><line x1=\"341.8614680303841\" y1=\"146.30110875115818\" x2=\"339.2633918190308\" y2=\"144.80110875115818\" stroke-linecap=\"round\" style=\"stroke:blue;stroke-width:4\"/><line x1=\"339.2633918190308\" y1=\"144.80110875115818\" x2=\"334.76942158753496\" y2=\"142.6092530172128\" stroke-linecap=\"round\" style=\"stroke:blue;stroke-width:4\"/><line x1=\"334.76942158753496\" y1=\"142.6092530172128\" x2=\"332.0730394486375\" y2=\"141.29413957684557\" stroke-linecap=\"round\" style=\"stroke:blue;stroke-width:4\"/><line x1=\"332.0730394486375\" y1=\"141.29413957684557\" x2=\"327.43712017580356\" y2=\"139.421106609766\" stroke-linecap=\"round\" style=\"stroke:blue;stroke-width:4\"/><line x1=\"327.43712017580356\" y1=\"139.421106609766\" x2=\"324.6555686121032\" y2=\"138.29728682951827\" stroke-linecap=\"round\" style=\"stroke:blue;stroke-width:4\"/><line x1=\"324.6555686121032\" y1=\"138.29728682951827\" x2=\"319.9002860306274\" y2=\"136.75220185764354\" stroke-linecap=\"round\" style=\"stroke:blue;stroke-width:4\"/><line x1=\"319.9002860306274\" y1=\"136.75220185764354\" x2=\"317.0471164817419\" y2=\"135.8251508745187\" stroke-linecap=\"round\" style=\"stroke:blue;stroke-width:4\"/><line x1=\"317.0471164817419\" y1=\"135.8251508745187\" x2=\"312.19563785036195\" y2=\"134.61554139652037\" stroke-linecap=\"round\" style=\"stroke:blue;stroke-width:4\"/><line x1=\"312.19563785036195\" y1=\"134.61554139652037\" x2=\"309.28475067153397\" y2=\"133.88977570972136\" stroke-linecap=\"round\" style=\"stroke:blue;stroke-width:4\"/><line x1=\"309.28475067153397\" y1=\"133.88977570972136\" x2=\"304.36071190647294\" y2=\"133.02153482138672\" stroke-linecap=\"round\" style=\"stroke:blue;stroke-width:4\"/><line x1=\"304.36071190647294\" y1=\"133.02153482138672\" x2=\"301.4062886474363\" y2=\"132.50059028838592\" stroke-linecap=\"round\" style=\"stroke:blue;stroke-width:4\"/><line x1=\"301.4062886474363\" y1=\"132.50059028838592\" x2=\"296.433679170595\" y2=\"131.97794797204764\" stroke-linecap=\"round\" style=\"stroke:blue;stroke-width:4\"/><line x1=\"296.433679170595\" y1=\"131.97794797204764\" x2=\"293.45011348449015\" y2=\"131.66436258224468\" stroke-linecap=\"round\" style=\"stroke:blue;stroke-width:4\"/><line x1=\"293.45011348449015\" y1=\"131.66436258224468\" x2=\"288.4531593493947\" y2=\"131.48986509873217\" stroke-linecap=\"round\" style=\"stroke:blue;stroke-width:4\"/><line x1=\"288.4531593493947\" y1=\"131.48986509873217\" x2=\"285.4549868683374\" y2=\"131.38516660862467\" stroke-linecap=\"round\" style=\"stroke:blue;stroke-width:4\"/><line x1=\"285.4549868683374\" y1=\"131.38516660862467\" x2=\"280.4580327332419\" y2=\"131.55966409213718\" stroke-linecap=\"round\" style=\"stroke:blue;stroke-width:4\"/><line x1=\"280.4580327332419\" y1=\"131.55966409213718\" x2=\"277.4598602521846\" y2=\"131.66436258224468\" stroke-linecap=\"round\" style=\"stroke:blue;stroke-width:4\"/><line x1=\"277.4598602521846\" y1=\"131.66436258224468\" x2=\"272.4872507753433\" y2=\"132.18700489858296\" stroke-linecap=\"round\" style=\"stroke:blue;stroke-width:4\"/><line x1=\"272.4872507753433\" y1=\"132.18700489858296\" x2=\"269.50368508923845\" y2=\"132.50059028838592\" stroke-linecap=\"round\" style=\"stroke:blue;stroke-width:4\"/><line x1=\"269.50368508923845\" y1=\"132.50059028838592\" x2=\"264.5796463241774\" y2=\"133.36883117672056\" stroke-linecap=\"round\" style=\"stroke:blue;stroke-width:4\"/><line x1=\"264.5796463241774\" y1=\"133.36883117672056\" x2=\"261.6252230651408\" y2=\"133.88977570972136\" stroke-linecap=\"round\" style=\"stroke:blue;stroke-width:4\"/><line x1=\"261.6252230651408\" y1=\"133.88977570972136\" x2=\"256.77374443376084\" y2=\"135.0993851877197\" stroke-linecap=\"round\" style=\"stroke:blue;stroke-width:4\"/><line x1=\"256.77374443376084\" y1=\"135.0993851877197\" x2=\"253.86285725493286\" y2=\"135.8251508745187\" stroke-linecap=\"round\" style=\"stroke:blue;stroke-width:4\"/><line x1=\"253.86285725493286\" y1=\"135.8251508745187\" x2=\"249.1075746734571\" y2=\"137.37023584639343\" stroke-linecap=\"round\" style=\"stroke:blue;stroke-width:4\"/><line x1=\"249.1075746734571\" y1=\"137.37023584639343\" x2=\"246.25440512457163\" y2=\"138.29728682951827\" stroke-linecap=\"round\" style=\"stroke:blue;stroke-width:4\"/><line x1=\"246.25440512457163\" y1=\"138.29728682951827\" x2=\"241.6184858517377\" y2=\"140.17031979659782\" stroke-linecap=\"round\" style=\"stroke:blue;stroke-width:4\"/><line x1=\"241.6184858517377\" y1=\"140.17031979659782\" x2=\"238.83693428803733\" y2=\"141.29413957684557\" stroke-linecap=\"round\" style=\"stroke:blue;stroke-width:4\"/><line x1=\"238.83693428803733\" y1=\"141.29413957684557\" x2=\"234.3429640565415\" y2=\"143.48599531079094\" stroke-linecap=\"round\" style=\"stroke:blue;stroke-width:4\"/><line x1=\"234.3429640565415\" y1=\"143.48599531079094\" x2=\"231.646581917644\" y2=\"144.80110875115818\" stroke-linecap=\"round\" style=\"stroke:blue;stroke-width:4\"/><line x1=\"231.646581917644\" y1=\"144.80110875115818\" x2=\"227.31645489872182\" y2=\"147.30110875115818\" stroke-linecap=\"round\" style=\"stroke:blue;stroke-width:4\"/><line x1=\"227.31645489872182\" y1=\"147.30110875115818\" x2=\"224.7183786873685\" y2=\"148.80110875115818\" stroke-linecap=\"round\" style=\"stroke:blue;stroke-width:4\"/><line x1=\"224.7183786873685\" y1=\"148.80110875115818\" x2=\"220.5731908245933\" y2=\"151.5970732685119\" stroke-linecap=\"round\" style=\"stroke:blue;stroke-width:4\"/><line x1=\"220.5731908245933\" y1=\"151.5970732685119\" x2=\"218.08607810692817\" y2=\"153.27465197892414\" stroke-linecap=\"round\" style=\"stroke:blue;stroke-width:4\"/><line x1=\"218.08607810692817\" y1=\"153.27465197892414\" x2=\"214.14602433889456\" y2=\"156.35295935555243\" stroke-linecap=\"round\" style=\"stroke:blue;stroke-width:4\"/><line x1=\"214.14602433889456\" y1=\"156.35295935555243\" x2=\"211.7819920780744\" y2=\"158.1999437815294\" stroke-linecap=\"round\" style=\"stroke:blue;stroke-width:4\"/><line x1=\"211.7819920780744\" y1=\"158.1999437815294\" x2=\"208.06626795068743\" y2=\"161.5455968133237\" stroke-linecap=\"round\" style=\"stroke:blue;stroke-width:4\"/><line x1=\"208.06626795068743\" y1=\"161.5455968133237\" x2=\"205.83683347425526\" y2=\"163.5529886324003\" stroke-linecap=\"round\" style=\"stroke:blue;stroke-width:4\"/><line x1=\"205.83683347425526\" y1=\"163.5529886324003\" x2=\"202.36354162196028\" y2=\"167.14968763409354\" stroke-linecap=\"round\" style=\"stroke:blue;stroke-width:4\"/><line x1=\"202.36354162196028\" y1=\"167.14968763409354\" x2=\"200.2795665105833\" y2=\"169.3077070351095\" stroke-linecap=\"round\" style=\"stroke:blue;stroke-width:4\"/><line x1=\"200.2795665105833\" y1=\"169.3077070351095\" x2=\"197.06562846215058\" y2=\"173.1379292507044\" stroke-linecap=\"round\" style=\"stroke:blue;stroke-width:4\"/><line x1=\"197.06562846215058\" y1=\"173.1379292507044\" x2=\"195.13726563309098\" y2=\"175.43606258006133\" stroke-linecap=\"round\" style=\"stroke:blue;stroke-width:4\"/><line x1=\"195.13726563309098\" y1=\"175.43606258006133\" x2=\"192.1983393716286\" y2=\"179.48114755193606\" stroke-linecap=\"round\" style=\"stroke:blue;stroke-width:4\"/><line x1=\"192.1983393716286\" y1=\"179.48114755193606\" x2=\"190.4349836147512\" y2=\"181.9081985350609\" stroke-linecap=\"round\" style=\"stroke:blue;stroke-width:4\"/><line x1=\"190.4349836147512\" y1=\"181.9081985350609\" x2=\"187.78538729358516\" y2=\"186.14843901584302\" stroke-linecap=\"round\" style=\"stroke:blue;stroke-width:4\"/><line x1=\"187.78538729358516\" y1=\"186.14843901584302\" x2=\"186.19562950088556\" y2=\"188.6925833043123\" stroke-linecap=\"round\" style=\"stroke:blue;stroke-width:4\"/><line x1=\"186.19562950088556\" y1=\"188.6925833043123\" x2=\"183.8482716869561\" y2=\"193.10732126860694\" stroke-linecap=\"round\" style=\"stroke:blue;stroke-width:4\"/><line x1=\"183.8482716869561\" y1=\"193.10732126860694\" x2=\"182.43985699859843\" y2=\"195.75616404718372\" stroke-linecap=\"round\" style=\"stroke:blue;stroke-width:4\"/><line x1=\"182.43985699859843\" y1=\"195.75616404718372\" x2=\"180.40617378321943\" y2=\"200.32389133539672\" stroke-linecap=\"round\" style=\"stroke:blue;stroke-width:4\"/><line x1=\"180.40617378321943\" y1=\"200.32389133539672\" x2=\"179.18596385399204\" y2=\"203.06452770832453\" stroke-linecap=\"round\" style=\"stroke:blue;stroke-width:4\"/><line x1=\"179.18596385399204\" y1=\"203.06452770832453\" x2=\"177.4758631373637\" y2=\"207.7629908122541\" stroke-linecap=\"round\" style=\"stroke:blue;stroke-width:4\"/><line x1=\"177.4758631373637\" y1=\"207.7629908122541\" x2=\"176.44980270738668\" y2=\"210.5820686746118\" stroke-linecap=\"round\" style=\"stroke:blue;stroke-width:4\"/><line x1=\"176.44980270738668\" y1=\"210.5820686746118\" x2=\"175.0716159283017\" y2=\"215.38837715430338\" stroke-linecap=\"round\" style=\"stroke:blue;stroke-width:4\"/><line x1=\"175.0716159283017\" y1=\"215.38837715430338\" x2=\"174.2447038608507\" y2=\"218.27216224211833\" stroke-linecap=\"round\" style=\"stroke:blue;stroke-width:4\"/><line x1=\"174.2447038608507\" y1=\"218.27216224211833\" x2=\"173.20514540676191\" y2=\"223.16290024578734\" stroke-linecap=\"round\" style=\"stroke:blue;stroke-width:4\"/><line x1=\"173.20514540676191\" y1=\"223.16290024578734\" x2=\"172.58141033430863\" y2=\"226.09734304798877\" stroke-linecap=\"round\" style=\"stroke:blue;stroke-width:4\"/><line x1=\"172.58141033430863\" y1=\"226.09734304798877\" x2=\"171.8855448295083\" y2=\"231.0486833916966\" stroke-linecap=\"round\" style=\"stroke:blue;stroke-width:4\"/><line x1=\"171.8855448295083\" y1=\"231.0486833916966\" x2=\"171.46802552662808\" y2=\"234.0194875979213\" stroke-linecap=\"round\" style=\"stroke:blue;stroke-width:4\"/><line x1=\"171.46802552662808\" y1=\"234.0194875979213\" x2=\"171.11924315790745\" y2=\"239.00730784922044\" stroke-linecap=\"round\" style=\"stroke:blue;stroke-width:4\"/><line x1=\"171.11924315790745\" y1=\"239.00730784922044\" x2=\"170.90997373667508\" y2=\"241.99999999999991\" stroke-linecap=\"round\" style=\"stroke:blue;stroke-width:4\"/><line x1=\"170.90997373667508\" y1=\"241.99999999999991\" x2=\"170.90997373667508\" y2=\"246.99999999999991\" stroke-linecap=\"round\" style=\"stroke:blue;stroke-width:4\"/><line x1=\"170.90997373667508\" y1=\"246.99999999999991\" x2=\"170.90997373667508\" y2=\"249.99999999999991\" stroke-linecap=\"round\" style=\"stroke:blue;stroke-width:4\"/><line x1=\"170.90997373667508\" y1=\"249.99999999999991\" x2=\"171.25875610539572\" y2=\"254.98782025129904\" stroke-linecap=\"round\" style=\"stroke:blue;stroke-width:4\"/><line x1=\"171.25875610539572\" y1=\"254.98782025129904\" x2=\"171.46802552662808\" y2=\"257.9805124020785\" stroke-linecap=\"round\" style=\"stroke:blue;stroke-width:4\"/><line x1=\"171.46802552662808\" y1=\"257.9805124020785\" x2=\"172.16389103142842\" y2=\"262.93185274578633\" stroke-linecap=\"round\" style=\"stroke:blue;stroke-width:4\"/><line x1=\"172.16389103142842\" y1=\"262.93185274578633\" x2=\"172.58141033430863\" y2=\"265.90265695201106\" stroke-linecap=\"round\" style=\"stroke:blue;stroke-width:4\"/><line x1=\"172.58141033430863\" y1=\"265.90265695201106\" x2=\"173.62096878839742\" y2=\"270.79339495568007\" stroke-linecap=\"round\" style=\"stroke:blue;stroke-width:4\"/><line x1=\"173.62096878839742\" y1=\"270.79339495568007\" x2=\"174.2447038608507\" y2=\"273.7278377578815\" stroke-linecap=\"round\" style=\"stroke:blue;stroke-width:4\"/><line x1=\"174.2447038608507\" y1=\"273.7278377578815\" x2=\"175.6228906399357\" y2=\"278.5341462375731\" stroke-linecap=\"round\" style=\"stroke:blue;stroke-width:4\"/><line x1=\"175.6228906399357\" y1=\"278.5341462375731\" x2=\"176.44980270738668\" y2=\"281.41793132538805\" stroke-linecap=\"round\" style=\"stroke:blue;stroke-width:4\"/><line x1=\"176.44980270738668\" y1=\"281.41793132538805\" x2=\"178.15990342401503\" y2=\"286.1163944293176\" stroke-linecap=\"round\" style=\"stroke:blue;stroke-width:4\"/><line x1=\"178.15990342401503\" y1=\"286.1163944293176\" x2=\"179.18596385399204\" y2=\"288.93547229167535\" stroke-linecap=\"round\" style=\"stroke:blue;stroke-width:4\"/><line x1=\"179.18596385399204\" y1=\"288.93547229167535\" x2=\"181.21964706937104\" y2=\"293.50319957988836\" stroke-linecap=\"round\" style=\"stroke:blue;stroke-width:4\"/><line x1=\"181.21964706937104\" y1=\"293.50319957988836\" x2=\"182.43985699859843\" y2=\"296.24383595281614\" stroke-linecap=\"round\" style=\"stroke:blue;stroke-width:4\"/><line x1=\"182.43985699859843\" y1=\"296.24383595281614\" x2=\"184.78721481252788\" y2=\"300.6585739171108\" stroke-linecap=\"round\" style=\"stroke:blue;stroke-width:4\"/><line x1=\"184.78721481252788\" y1=\"300.6585739171108\" x2=\"186.19562950088556\" y2=\"303.3074166956876\" stroke-linecap=\"round\" style=\"stroke:blue;stroke-width:4\"/><line x1=\"186.19562950088556\" y1=\"303.3074166956876\" x2=\"188.8452258220516\" y2=\"307.5476571764697\" stroke-linecap=\"round\" style=\"stroke:blue;stroke-width:4\"/><line x1=\"188.8452258220516\" y1=\"307.5476571764697\" x2=\"190.4349836147512\" y2=\"310.091801464939\" stroke-linecap=\"round\" style=\"stroke:blue;stroke-width:4\"/><line x1=\"190.4349836147512\" y1=\"310.091801464939\" x2=\"193.37390987621356\" y2=\"314.13688643681377\" stroke-linecap=\"round\" style=\"stroke:blue;stroke-width:4\"/><line x1=\"193.37390987621356\" y1=\"314.13688643681377\" x2=\"195.13726563309098\" y2=\"316.5639374199386\" stroke-linecap=\"round\" style=\"stroke:blue;stroke-width:4\"/><line x1=\"195.13726563309098\" y1=\"316.5639374199386\" x2=\"198.35120368152369\" y2=\"320.3941596355335\" stroke-linecap=\"round\" style=\"stroke:blue;stroke-width:4\"/><line x1=\"198.35120368152369\" y1=\"320.3941596355335\" x2=\"200.2795665105833\" y2=\"322.69229296489044\" stroke-linecap=\"round\" style=\"stroke:blue;stroke-width:4\"/><line x1=\"200.2795665105833\" y1=\"322.69229296489044\" x2=\"203.75285836287827\" y2=\"326.2889919665837\" stroke-linecap=\"round\" style=\"stroke:blue;stroke-width:4\"/><line x1=\"203.75285836287827\" y1=\"326.2889919665837\" x2=\"205.83683347425526\" y2=\"328.44701136759966\" stroke-linecap=\"round\" style=\"stroke:blue;stroke-width:4\"/><line x1=\"205.83683347425526\" y1=\"328.44701136759966\" x2=\"209.55255760164223\" y2=\"331.79266439939397\" stroke-linecap=\"round\" style=\"stroke:blue;stroke-width:4\"/><line x1=\"209.55255760164223\" y1=\"331.79266439939397\" x2=\"211.7819920780744\" y2=\"333.80005621847056\" stroke-linecap=\"round\" style=\"stroke:blue;stroke-width:4\"/><line x1=\"211.7819920780744\" y1=\"333.80005621847056\" x2=\"215.72204584610802\" y2=\"336.87836359509885\" stroke-linecap=\"round\" style=\"stroke:blue;stroke-width:4\"/><line x1=\"215.72204584610802\" y1=\"336.87836359509885\" x2=\"218.08607810692817\" y2=\"338.72534802107583\" stroke-linecap=\"round\" style=\"stroke:blue;stroke-width:4\"/><line x1=\"218.08607810692817\" y1=\"338.72534802107583\" x2=\"222.23126596970337\" y2=\"341.5213125384296\" stroke-linecap=\"round\" style=\"stroke:blue;stroke-width:4\"/><line x1=\"222.23126596970337\" y1=\"341.5213125384296\" x2=\"224.7183786873685\" y2=\"343.19889124884185\" stroke-linecap=\"round\" style=\"stroke:blue;stroke-width:4\"/><line x1=\"224.7183786873685\" y1=\"343.19889124884185\" x2=\"229.04850570629068\" y2=\"345.69889124884185\" stroke-linecap=\"round\" style=\"stroke:blue;stroke-width:4\"/><line x1=\"229.04850570629068\" y1=\"345.69889124884185\" x2=\"231.646581917644\" y2=\"347.19889124884185\" stroke-linecap=\"round\" style=\"stroke:blue;stroke-width:4\"/><line x1=\"231.646581917644\" y1=\"347.19889124884185\" x2=\"236.14055214913984\" y2=\"349.3907469827872\" stroke-linecap=\"round\" style=\"stroke:blue;stroke-width:4\"/><line x1=\"236.14055214913984\" y1=\"349.3907469827872\" x2=\"238.83693428803733\" y2=\"350.70586042315443\" stroke-linecap=\"round\" style=\"stroke:blue;stroke-width:4\"/><line x1=\"238.83693428803733\" y1=\"350.70586042315443\" x2=\"243.47285356087127\" y2=\"352.578893390234\" stroke-linecap=\"round\" style=\"stroke:blue;stroke-width:4\"/><line x1=\"243.47285356087127\" y1=\"352.578893390234\" x2=\"246.25440512457163\" y2=\"353.70271317048173\" stroke-linecap=\"round\" style=\"stroke:blue;stroke-width:4\"/><line x1=\"246.25440512457163\" y1=\"353.70271317048173\" x2=\"251.0096877060474\" y2=\"355.2477981423565\" stroke-linecap=\"round\" style=\"stroke:blue;stroke-width:4\"/><line x1=\"251.0096877060474\" y1=\"355.2477981423565\" x2=\"253.86285725493286\" y2=\"356.17484912548133\" stroke-linecap=\"round\" style=\"stroke:blue;stroke-width:4\"/><line x1=\"253.86285725493286\" y1=\"356.17484912548133\" x2=\"258.7143358863128\" y2=\"357.3844586034797\" stroke-linecap=\"round\" style=\"stroke:blue;stroke-width:4\"/><line x1=\"258.7143358863128\" y1=\"357.3844586034797\" x2=\"261.6252230651408\" y2=\"358.11022429027867\" stroke-linecap=\"round\" style=\"stroke:blue;stroke-width:4\"/><line x1=\"261.6252230651408\" y1=\"358.11022429027867\" x2=\"266.54926183020183\" y2=\"358.9784651786133\" stroke-linecap=\"round\" style=\"stroke:blue;stroke-width:4\"/><line x1=\"266.54926183020183\" y1=\"358.9784651786133\" x2=\"269.50368508923845\" y2=\"359.4994097116141\" stroke-linecap=\"round\" style=\"stroke:blue;stroke-width:4\"/><line x1=\"269.50368508923845\" y1=\"359.4994097116141\" x2=\"274.4762945660798\" y2=\"360.0220520279523\" stroke-linecap=\"round\" style=\"stroke:blue;stroke-width:4\"/><line x1=\"274.4762945660798\" y1=\"360.0220520279523\" x2=\"277.4598602521846\" y2=\"360.33563741775527\" stroke-linecap=\"round\" style=\"stroke:blue;stroke-width:4\"/><line x1=\"277.4598602521846\" y1=\"360.33563741775527\" x2=\"282.45681438728013\" y2=\"360.51013490126775\" stroke-linecap=\"round\" style=\"stroke:blue;stroke-width:4\"/><line x1=\"282.45681438728013\" y1=\"360.51013490126775\" x2=\"285.4549868683374\" y2=\"360.61483339137527\" stroke-linecap=\"round\" style=\"stroke:blue;stroke-width:4\"/><line x1=\"285.4549868683374\" y1=\"360.61483339137527\" x2=\"290.4519410034329\" y2=\"360.4403359078628\" stroke-linecap=\"round\" style=\"stroke:blue;stroke-width:4\"/><line x1=\"290.4519410034329\" y1=\"360.4403359078628\" x2=\"293.4501134844902\" y2=\"360.33563741775527\" stroke-linecap=\"round\" style=\"stroke:blue;stroke-width:4\"/><line x1=\"293.4501134844902\" y1=\"360.33563741775527\" x2=\"298.42272296133154\" y2=\"359.812995101417\" stroke-linecap=\"round\" style=\"stroke:blue;stroke-width:4\"/><line x1=\"298.42272296133154\" y1=\"359.812995101417\" x2=\"301.4062886474364\" y2=\"359.4994097116141\" stroke-linecap=\"round\" style=\"stroke:blue;stroke-width:4\"/><line x1=\"301.4062886474364\" y1=\"359.4994097116141\" x2=\"306.3303274124974\" y2=\"358.63116882327944\" stroke-linecap=\"round\" style=\"stroke:blue;stroke-width:4\"/><line x1=\"306.3303274124974\" y1=\"358.63116882327944\" x2=\"309.284750671534\" y2=\"358.11022429027867\" stroke-linecap=\"round\" style=\"stroke:blue;stroke-width:4\"/><line x1=\"309.284750671534\" y1=\"358.11022429027867\" x2=\"314.136229302914\" y2=\"356.9006148122803\" stroke-linecap=\"round\" style=\"stroke:blue;stroke-width:4\"/><line x1=\"314.136229302914\" y1=\"356.9006148122803\" x2=\"317.04711648174197\" y2=\"356.17484912548133\" stroke-linecap=\"round\" style=\"stroke:blue;stroke-width:4\"/><line x1=\"317.04711648174197\" y1=\"356.17484912548133\" x2=\"321.8023990632177\" y2=\"354.6297641536066\" stroke-linecap=\"round\" style=\"stroke:blue;stroke-width:4\"/><line x1=\"321.8023990632177\" y1=\"354.6297641536066\" x2=\"324.65556861210314\" y2=\"353.70271317048173\" stroke-linecap=\"round\" style=\"stroke:blue;stroke-width:4\"/><line x1=\"324.65556861210314\" y1=\"353.70271317048173\" x2=\"329.29148788493706\" y2=\"351.8296802034022\" stroke-linecap=\"round\" style=\"stroke:blue;stroke-width:4\"/><line x1=\"329.29148788493706\" y1=\"351.8296802034022\" x2=\"332.0730394486374\" y2=\"350.70586042315443\" stroke-linecap=\"round\" style=\"stroke:blue;stroke-width:4\"/><line x1=\"332.0730394486374\" y1=\"350.70586042315443\" x2=\"336.56700968013325\" y2=\"348.51400468920906\" stroke-linecap=\"round\" style=\"stroke:blue;stroke-width:4\"/><line x1=\"336.56700968013325\" y1=\"348.51400468920906\" x2=\"339.26339181903074\" y2=\"347.19889124884185\" stroke-linecap=\"round\" style=\"stroke:blue;stroke-width:4\"/><line x1=\"339.26339181903074\" y1=\"347.19889124884185\" x2=\"343.59351883795296\" y2=\"344.69889124884185\" stroke-linecap=\"round\" style=\"stroke:blue;stroke-width:4\"/><line x1=\"343.59351883795296\" y1=\"344.69889124884185\" x2=\"346.1915950493063\" y2=\"343.19889124884185\" stroke-linecap=\"round\" style=\"stroke:blue;stroke-width:4\"/><line x1=\"346.1915950493063\" y1=\"343.19889124884185\" x2=\"350.3367829120815\" y2=\"340.4029267314881\" stroke-linecap=\"round\" style=\"stroke:blue;stroke-width:4\"/><line x1=\"350.3367829120815\" y1=\"340.4029267314881\" x2=\"352.82389562974663\" y2=\"338.72534802107583\" stroke-linecap=\"round\" style=\"stroke:blue;stroke-width:4\"/><line x1=\"352.82389562974663\" y1=\"338.72534802107583\" x2=\"356.76394939778027\" y2=\"335.64704064444754\" stroke-linecap=\"round\" style=\"stroke:blue;stroke-width:4\"/><line x1=\"356.76394939778027\" y1=\"335.64704064444754\" x2=\"359.12798165860045\" y2=\"333.80005621847056\" stroke-linecap=\"round\" style=\"stroke:blue;stroke-width:4\"/><line x1=\"359.12798165860045\" y1=\"333.80005621847056\" x2=\"362.8437057859874\" y2=\"330.45440318667625\" stroke-linecap=\"round\" style=\"stroke:blue;stroke-width:4\"/><line x1=\"362.8437057859874\" y1=\"330.45440318667625\" x2=\"365.0731402624196\" y2=\"328.44701136759966\" stroke-linecap=\"round\" style=\"stroke:blue;stroke-width:4\"/><line x1=\"365.0731402624196\" y1=\"328.44701136759966\" x2=\"368.5464321147146\" y2=\"324.8503123659064\" stroke-linecap=\"round\" style=\"stroke:blue;stroke-width:4\"/><line x1=\"368.5464321147146\" y1=\"324.8503123659064\" x2=\"370.6304072260916\" y2=\"322.69229296489044\" stroke-linecap=\"round\" style=\"stroke:blue;stroke-width:4\"/><line x1=\"370.6304072260916\" y1=\"322.69229296489044\" x2=\"373.8443452745243\" y2=\"318.8620707492955\" stroke-linecap=\"round\" style=\"stroke:blue;stroke-width:4\"/><line x1=\"373.8443452745243\" y1=\"318.8620707492955\" x2=\"375.7727081035839\" y2=\"316.5639374199386\" stroke-linecap=\"round\" style=\"stroke:blue;stroke-width:4\"/><line x1=\"375.7727081035839\" y1=\"316.5639374199386\" x2=\"378.7116343650463\" y2=\"312.51885244806385\" stroke-linecap=\"round\" style=\"stroke:blue;stroke-width:4\"/><line x1=\"378.7116343650463\" y1=\"312.51885244806385\" x2=\"380.4749901219237\" y2=\"310.091801464939\" stroke-linecap=\"round\" style=\"stroke:blue;stroke-width:4\"/><line x1=\"380.4749901219237\" y1=\"310.091801464939\" x2=\"383.12458644308975\" y2=\"305.8515609841569\" stroke-linecap=\"round\" style=\"stroke:blue;stroke-width:4\"/><line x1=\"383.12458644308975\" y1=\"305.8515609841569\" x2=\"384.7143442357894\" y2=\"303.3074166956876\" stroke-linecap=\"round\" style=\"stroke:blue;stroke-width:4\"/><line x1=\"384.7143442357894\" y1=\"303.3074166956876\" x2=\"387.06170204971886\" y2=\"298.89267873139295\" stroke-linecap=\"round\" style=\"stroke:blue;stroke-width:4\"/><line x1=\"387.06170204971886\" y1=\"298.89267873139295\" x2=\"388.4701167380765\" y2=\"296.24383595281614\" stroke-linecap=\"round\" style=\"stroke:blue;stroke-width:4\"/><line x1=\"388.4701167380765\" y1=\"296.24383595281614\" x2=\"390.5037999534555\" y2=\"291.67610866460313\" stroke-linecap=\"round\" style=\"stroke:blue;stroke-width:4\"/><line x1=\"390.5037999534555\" y1=\"291.67610866460313\" x2=\"391.7240098826829\" y2=\"288.93547229167535\" stroke-linecap=\"round\" style=\"stroke:blue;stroke-width:4\"/><line x1=\"391.7240098826829\" y1=\"288.93547229167535\" x2=\"393.4341105993112\" y2=\"284.2370091877458\" stroke-linecap=\"round\" style=\"stroke:blue;stroke-width:4\"/><line x1=\"393.4341105993112\" y1=\"284.2370091877458\" x2=\"394.46017102928823\" y2=\"281.41793132538805\" stroke-linecap=\"round\" style=\"stroke:blue;stroke-width:4\"/><line x1=\"394.46017102928823\" y1=\"281.41793132538805\" x2=\"395.83835780837325\" y2=\"276.61162284569644\" stroke-linecap=\"round\" style=\"stroke:blue;stroke-width:4\"/><line x1=\"395.83835780837325\" y1=\"276.61162284569644\" x2=\"396.66526987582427\" y2=\"273.7278377578815\" stroke-linecap=\"round\" style=\"stroke:blue;stroke-width:4\"/><line x1=\"396.66526987582427\" y1=\"273.7278377578815\" x2=\"397.7048283299131\" y2=\"268.8370997542125\" stroke-linecap=\"round\" style=\"stroke:blue;stroke-width:4\"/><line x1=\"397.7048283299131\" y1=\"268.8370997542125\" x2=\"398.32856340236634\" y2=\"265.90265695201106\" stroke-linecap=\"round\" style=\"stroke:blue;stroke-width:4\"/><line x1=\"398.32856340236634\" y1=\"265.90265695201106\" x2=\"399.0244289071667\" y2=\"260.9513166083032\" stroke-linecap=\"round\" style=\"stroke:blue;stroke-width:4\"/><line x1=\"399.0244289071667\" y1=\"260.9513166083032\" x2=\"399.44194821004686\" y2=\"257.9805124020785\" stroke-linecap=\"round\" style=\"stroke:blue;stroke-width:4\"/><line x1=\"399.44194821004686\" y1=\"257.9805124020785\" x2=\"399.79073057876747\" y2=\"252.99269215077936\" stroke-linecap=\"round\" style=\"stroke:blue;stroke-width:4\"/><line x1=\"399.79073057876747\" y1=\"252.99269215077936\" x2=\"399.99999999999983\" y2=\"249.9999999999999\" stroke-linecap=\"round\" style=\"stroke:blue;stroke-width:4\"/>\n",
              "        \n",
              "      <g visibility=visible transform=\"rotate(180,399.99999999999983,249.9999999999999) translate(399.99999999999983, 249.9999999999999)\">\n",
              "        <circle stroke=\"blue\" stroke-width=\"3\" fill=\"transparent\" r=\"12\" cx=\"0\" cy=\"0\"/>\n",
              "        <polygon points=\"0,19 3,16 -3,16\" style=\"fill:blue;stroke:blue;stroke-width:2\"/>\n",
              "      </g>\n",
              "    \n",
              "      </svg>\n",
              "    "
            ],
            "text/plain": [
              "<IPython.core.display.HTML object>"
            ]
          },
          "metadata": {
            "tags": []
          }
        }
      ]
    },
    {
      "cell_type": "markdown",
      "metadata": {
        "colab_type": "text",
        "heading_collapsed": true,
        "hidden": true,
        "id": "6SYRj-Z31DA5"
      },
      "source": [
        "## 6.7 作品作りのためのヒント"
      ]
    },
    {
      "cell_type": "markdown",
      "metadata": {
        "colab_type": "text",
        "hidden": true,
        "id": "KGeJQh6E1DA6"
      },
      "source": [
        "### 6.7.1 マウスクリックに応答する"
      ]
    },
    {
      "cell_type": "markdown",
      "metadata": {
        "colab_type": "text",
        "hidden": true,
        "id": "nDOu21oQ1DA7"
      },
      "source": [
        "プログラム16 タートルグラフィクスでのマウスクリックへの応答"
      ]
    },
    {
      "cell_type": "code",
      "metadata": {
        "colab_type": "code",
        "hidden": true,
        "id": "csNpNX-11DA7",
        "outputId": "0aa3b24e-11c4-4b4f-f1ee-3404109ec29a",
        "colab": {}
      },
      "source": [
        "from turtle import*\n",
        "def come(x,y):\n",
        "    (xx,yy) = pos()\n",
        "    newx = ((xx+x)/2,(yy+y)/2)\n",
        "    print(x,y)\n",
        "    doto(newxy)\n",
        "onscreenclick(come)\n",
        "done()"
      ],
      "execution_count": 0,
      "outputs": [
        {
          "output_type": "error",
          "ename": "Terminator",
          "evalue": "",
          "traceback": [
            "\u001b[0;31m---------------------------------------------------------------------------\u001b[0m",
            "\u001b[0;31mTerminator\u001b[0m                                Traceback (most recent call last)",
            "\u001b[0;32m<ipython-input-37-263575372f3d>\u001b[0m in \u001b[0;36m<module>\u001b[0;34m\u001b[0m\n\u001b[1;32m      5\u001b[0m     \u001b[0mprint\u001b[0m\u001b[0;34m(\u001b[0m\u001b[0mx\u001b[0m\u001b[0;34m,\u001b[0m\u001b[0my\u001b[0m\u001b[0;34m)\u001b[0m\u001b[0;34m\u001b[0m\u001b[0m\n\u001b[1;32m      6\u001b[0m     \u001b[0mdoto\u001b[0m\u001b[0;34m(\u001b[0m\u001b[0mnewxy\u001b[0m\u001b[0;34m)\u001b[0m\u001b[0;34m\u001b[0m\u001b[0m\n\u001b[0;32m----> 7\u001b[0;31m \u001b[0monscreenclick\u001b[0m\u001b[0;34m(\u001b[0m\u001b[0mcome\u001b[0m\u001b[0;34m)\u001b[0m\u001b[0;34m\u001b[0m\u001b[0m\n\u001b[0m\u001b[1;32m      8\u001b[0m \u001b[0mdone\u001b[0m\u001b[0;34m(\u001b[0m\u001b[0;34m)\u001b[0m\u001b[0;34m\u001b[0m\u001b[0m\n",
            "\u001b[0;32m/usr/lib/python3.5/turtle.py\u001b[0m in \u001b[0;36monscreenclick\u001b[0;34m(fun, btn, add)\u001b[0m\n",
            "\u001b[0;31mTerminator\u001b[0m: "
          ]
        }
      ]
    },
    {
      "cell_type": "markdown",
      "metadata": {
        "colab_type": "text",
        "hidden": true,
        "id": "xs7MdHi31DA8"
      },
      "source": [
        "### 6.7.2 座標を角度に変換する"
      ]
    },
    {
      "cell_type": "code",
      "metadata": {
        "colab_type": "code",
        "hidden": true,
        "id": "dbeR4VAq1DA9",
        "colab": {}
      },
      "source": [
        "from turtle import*\n",
        "import math\n",
        "y = 2\n",
        "x = 1\n",
        "angle = math.atan2(y,x)*180/math.pi\n",
        "forward(100)\n",
        "left(angle)\n",
        "forward(100)\n",
        "done()"
      ],
      "execution_count": 0,
      "outputs": []
    },
    {
      "cell_type": "markdown",
      "metadata": {
        "colab_type": "text",
        "heading_collapsed": true,
        "hidden": true,
        "id": "dGAXTx1zcqxF"
      },
      "source": [
        "## 6.9 課題 Turtleの作品制作"
      ]
    },
    {
      "cell_type": "markdown",
      "metadata": {
        "colab_type": "text",
        "hidden": true,
        "id": "e1ba8EyqcqxF"
      },
      "source": [
        "プログラム17 `random_turtle.py`"
      ]
    },
    {
      "cell_type": "code",
      "metadata": {
        "colab_type": "code",
        "hidden": true,
        "id": "kZbKW6UCcqxF",
        "outputId": "2a12c8ba-1047-4ad7-d292-12bb7509a5df",
        "colab": {}
      },
      "source": [
        "from turtle import*\n",
        "import random\n",
        "# 乱数を使うのでrandomモジュールもインポート\n",
        "\n",
        "# 実行を停止するための変数（フラッグ）\n",
        "stop_flag = False\n",
        "\n",
        "# マウスがクリックされたときの関数、引数x, yをとるように\n",
        "# しないといけないが、使わない\n",
        "# 実行停止フラグをTrueにする\n",
        "\n",
        "def clicked(x,y):\n",
        "    global stop_flag\n",
        "    stop_flag = True\n",
        "    \n",
        "#\n",
        "# マウスがクリックされたときの動作を指定、clicked関数を\n",
        "# 呼び出す\n",
        "#\n",
        "onscreenclick(clicked)\n",
        "\n",
        "speed(0)\n",
        "while(not stop_flag):\n",
        "        # -90度から90度の範囲でランダムに向きを変える\n",
        "        left(random.randint(-90,90))\n",
        "        forward(random.randint(5,15))\n",
        "        # タートルの位置が原点から一定の距離を超えれば、戻る\n",
        "        if (position()[0]**2+position()[1]**2 > 200**2):\n",
        "            forward(random.randint(-30,-20))"
      ],
      "execution_count": 0,
      "outputs": [
        {
          "output_type": "error",
          "ename": "Terminator",
          "evalue": "",
          "traceback": [
            "\u001b[0;31m---------------------------------------------------------------------------\u001b[0m",
            "\u001b[0;31mTerminator\u001b[0m                                Traceback (most recent call last)",
            "\u001b[0;32m<ipython-input-22-e1e53b1af285>\u001b[0m in \u001b[0;36m<module>\u001b[0;34m\u001b[0m\n\u001b[1;32m     23\u001b[0m \u001b[0;32mwhile\u001b[0m\u001b[0;34m(\u001b[0m\u001b[0;32mnot\u001b[0m \u001b[0mstop_flag\u001b[0m\u001b[0;34m)\u001b[0m\u001b[0;34m:\u001b[0m\u001b[0;34m\u001b[0m\u001b[0m\n\u001b[1;32m     24\u001b[0m         \u001b[0;31m# -90度から90度の範囲でランダムに向きを変える\u001b[0m\u001b[0;34m\u001b[0m\u001b[0;34m\u001b[0m\u001b[0m\n\u001b[0;32m---> 25\u001b[0;31m         \u001b[0mleft\u001b[0m\u001b[0;34m(\u001b[0m\u001b[0mrandom\u001b[0m\u001b[0;34m.\u001b[0m\u001b[0mrandint\u001b[0m\u001b[0;34m(\u001b[0m\u001b[0;34m-\u001b[0m\u001b[0;36m90\u001b[0m\u001b[0;34m,\u001b[0m\u001b[0;36m90\u001b[0m\u001b[0;34m)\u001b[0m\u001b[0;34m)\u001b[0m\u001b[0;34m\u001b[0m\u001b[0m\n\u001b[0m\u001b[1;32m     26\u001b[0m         \u001b[0mforward\u001b[0m\u001b[0;34m(\u001b[0m\u001b[0mrandom\u001b[0m\u001b[0;34m.\u001b[0m\u001b[0mrandint\u001b[0m\u001b[0;34m(\u001b[0m\u001b[0;36m5\u001b[0m\u001b[0;34m,\u001b[0m\u001b[0;36m15\u001b[0m\u001b[0;34m)\u001b[0m\u001b[0;34m)\u001b[0m\u001b[0;34m\u001b[0m\u001b[0m\n\u001b[1;32m     27\u001b[0m         \u001b[0;31m# タートルの位置が原点から一定の距離を超えれば、戻る\u001b[0m\u001b[0;34m\u001b[0m\u001b[0;34m\u001b[0m\u001b[0m\n",
            "\u001b[0;32m/usr/lib/python3.5/turtle.py\u001b[0m in \u001b[0;36mleft\u001b[0;34m(angle)\u001b[0m\n",
            "\u001b[0;31mTerminator\u001b[0m: "
          ]
        }
      ]
    },
    {
      "cell_type": "markdown",
      "metadata": {
        "colab_type": "text",
        "hidden": true,
        "id": "11PS4Re5cqxH"
      },
      "source": [
        "プログラム18 `detour.py`"
      ]
    },
    {
      "cell_type": "code",
      "metadata": {
        "colab_type": "code",
        "hidden": true,
        "id": "vuwNxcUYcqxH",
        "colab": {}
      },
      "source": [
        "from turtle import *\n",
        "\n",
        "def detour(L):\n",
        "    if L < 10:\n",
        "        forward(L)\n",
        "    else:\n",
        "        LL = L/3\n",
        "        detour(LL)\n",
        "        left(60)\n",
        "        detour(LL)\n",
        "        right(120)\n",
        "        detour(LL)\n",
        "        left(60)\n",
        "        detour(LL)\n",
        "        \n",
        "for i in range(6):\n",
        "    detour(100)\n",
        "    left(60)"
      ],
      "execution_count": 0,
      "outputs": []
    },
    {
      "cell_type": "markdown",
      "metadata": {
        "colab_type": "text",
        "hidden": true,
        "id": "CFRUEpGTcqxI"
      },
      "source": [
        "プログラム19 `turtle-tree.py`"
      ]
    },
    {
      "cell_type": "code",
      "metadata": {
        "colab_type": "code",
        "hidden": true,
        "id": "ED5TK3ercqxI",
        "colab": {}
      },
      "source": [
        "from turtle import *\n",
        "\n",
        "# 再帰的に木を描く\n",
        "def tree(n):\n",
        "    # 引数が1以下なら5歩すすむ\n",
        "    if n <= 1:\n",
        "        forward(5)\n",
        "    else:\n",
        "        # 引数は1より大きいとき\n",
        "        # 引数の値に応じて前進（幹）\n",
        "        forward(5*(1.1**n))\n",
        "        # 今の位置と向きを記録\n",
        "        xx = pos()\n",
        "        h = heading()\n",
        "        # 左へ30度回転\n",
        "        left(30)\n",
        "        # 大きさn-2で木を描く（左の枝）\n",
        "        tree(n-2)\n",
        "        # ペンを上げて軌跡を残さない\n",
        "        up()\n",
        "        # 先に記録した位置（幹の先端）に戻る\n",
        "        setpos(xx)\n",
        "        setheading(h)\n",
        "        # ペンを降ろす\n",
        "        down()\n",
        "        # 右へ15度\n",
        "        right(15)\n",
        "        # 大きさn-1で木を描く（右の枝）\n",
        "        tree(n-1)\n",
        "        # ペンを上げてもどる\n",
        "        up()\n",
        "        setpos(xx)\n",
        "        setheading(h)\n",
        "        # ペンを降ろす\n",
        "        down()\n",
        "        \n",
        "# 時間がかかるので最も早い描画\n",
        "speed(0)\n",
        "\n",
        "# 大きさ12の木を描く\n",
        "tree(12)"
      ],
      "execution_count": 0,
      "outputs": []
    },
    {
      "cell_type": "code",
      "metadata": {
        "colab_type": "code",
        "heading_collapsed": true,
        "id": "sKd3CRJm1DA-",
        "colab": {}
      },
      "source": [
        "# 7. Tkinterで作るGUIアプリケーション(1)"
      ],
      "execution_count": 0,
      "outputs": []
    },
    {
      "cell_type": "markdown",
      "metadata": {
        "colab_type": "text",
        "heading_collapsed": true,
        "hidden": true,
        "id": "JksgHymXcqxL"
      },
      "source": [
        "## 7.5 tkinterの例題 (`tkdemo-2term.py`)"
      ]
    },
    {
      "cell_type": "code",
      "metadata": {
        "colab_type": "code",
        "hidden": true,
        "id": "c05Kwmn-cqxM",
        "colab": {}
      },
      "source": [
        "import tkinter as tk\n",
        "\n",
        "# 計算機能のための変数とイベント用の関数定義\n",
        "\n",
        "# 2項演算のモデル\n",
        "# 入力中の数字\n",
        "current_number = 0\n",
        "# 第一項\n",
        "first_term = 0\n",
        "# 第二項\n",
        "second_term = 0\n",
        "# 結果\n",
        "result = 0\n",
        "\n",
        "def do_plus():\n",
        "    \"+キーが押されたときの計算動作、第一項の設定と入力中の数字のクリア\"\n",
        "    global current_number\n",
        "    global first_term\n",
        "    \n",
        "    first_term = current_number\n",
        "    current_number = 0\n",
        "    \n",
        "def do_eq():\n",
        "    \"=キーが押されたときの計算動作、第二項の設定加算の実施、入力中の数字のクリア\"\n",
        "    global second_term\n",
        "    global result\n",
        "    global current_number\n",
        "    second_term = current_number\n",
        "    result = first_term + second_term\n",
        "    current_number = 0\n",
        "\n",
        "# 数字キーのcall Back関数\n",
        "def key1():\n",
        "    key(1)\n",
        "    \n",
        "def key2():\n",
        "    key(2)\n",
        "\n",
        "def key3():\n",
        "    key(3)\n",
        "\n",
        "def key4():\n",
        "    key(4)\n",
        "    \n",
        "def key5():\n",
        "    key(5)\n",
        "    \n",
        "def key6():\n",
        "    key(6)\n",
        "\n",
        "def key7():\n",
        "    key(7)\n",
        "\n",
        "def key8():\n",
        "    key(8)\n",
        "\n",
        "def key9():\n",
        "    key(9)\n",
        "\n",
        "def key0():\n",
        "    key(0)\n",
        "\n",
        "# 数字キーを一括処理する関数\n",
        "def key(n):\n",
        "    global current_number\n",
        "    current_number = current_number * 10 + n\n",
        "    show_number(current_number)\n",
        "    \n",
        "def clear():\n",
        "    global current_number\n",
        "    current_number = 0\n",
        "    show_number(current_number)\n",
        "    \n",
        "def plus():\n",
        "    do_plus()\n",
        "    show_number(current_number)\n",
        "\n",
        "def eq():\n",
        "    do_eq()\n",
        "    show_number(result)\n",
        "\n",
        "def show_number(num):\n",
        "    e.delete(0,tk.END)\n",
        "    e.insert(0,str(num))\n",
        "\n",
        "# tkinterでの画面の構成\n",
        "\n",
        "root = tk.Tk()\n",
        "f = tk.Frame(root)\n",
        "f.grid()\n",
        "\n",
        "# ウィジェットの作成\n",
        "\n",
        "b1 = tk.Button(f,text='1', command=key1)\n",
        "b2 = tk.Button(f,text='2', command=key2)\n",
        "b3 = tk.Button(f,text='3', command=key3)\n",
        "b4 = tk.Button(f,text='4', command=key4)\n",
        "b5 = tk.Button(f,text='5', command=key5)\n",
        "b6 = tk.Button(f,text='6', command=key6)\n",
        "b7 = tk.Button(f,text='7', command=key7)\n",
        "b8 = tk.Button(f,text='8', command=key8)\n",
        "b9 = tk.Button(f,text='9', command=key9)\n",
        "b0 = tk.Button(f,text='0', command=key0)\n",
        "bc = tk.Button(f,text='C', command=clear)\n",
        "bp = tk.Button(f,text='+', command=plus)\n",
        "be = tk.Button(f,text='=', command=eq)\n",
        "\n",
        "# Grid型ジオメトリマネージャによるウィジェットの\n",
        "# 割付\n",
        "\n",
        "b1.grid(row=3,column=0)\n",
        "b2.grid(row=3,column=1)\n",
        "b3.grid(row=3,column=2)\n",
        "b4.grid(row=2,column=0)\n",
        "b5.grid(row=2,column=1)\n",
        "b6.grid(row=2,column=2)\n",
        "b7.grid(row=1,column=0)\n",
        "b8.grid(row=1,column=1)\n",
        "b9.grid(row=1,column=2)\n",
        "b0.grid(row=4,column=0)\n",
        "bc.grid(row=1,column=3)\n",
        "be.grid(row=4,column=3)\n",
        "bp.grid(row=2,column=3)\n",
        "\n",
        "# 数値を表示するウィジェット\n",
        "\n",
        "e = tk.Entry(f)\n",
        "e.grid(row=0,column=0,columnspan=4)\n",
        "clear()\n",
        "\n",
        "# ここからGUIがスタート\n",
        "root.mainloop()"
      ],
      "execution_count": 0,
      "outputs": []
    },
    {
      "cell_type": "markdown",
      "metadata": {
        "colab_type": "text",
        "heading_collapsed": true,
        "hidden": true,
        "id": "qgthq7cqcqxO"
      },
      "source": [
        "## 7.8 `lambda`（λ）表現を使ったCall Back関数の記述"
      ]
    },
    {
      "cell_type": "markdown",
      "metadata": {
        "colab_type": "text",
        "hidden": true,
        "id": "uOJhBcGfcqxO"
      },
      "source": [
        "プログラム21 `lambda`式を使った引数付きコールバック関数の設定"
      ]
    },
    {
      "cell_type": "code",
      "metadata": {
        "colab_type": "code",
        "hidden": true,
        "id": "RcakvIV-cqxP",
        "colab": {}
      },
      "source": [
        "import tkinter as tk\n",
        "\n",
        "# 計算機能のための変数とイベント用の関数定義\n",
        "\n",
        "# 2項演算のモデル\n",
        "# 入力中の数字\n",
        "current_number = 0\n",
        "# 第一項\n",
        "first_term = 0\n",
        "# 第二項\n",
        "second_term = 0\n",
        "# 結果\n",
        "result = 0\n",
        "\n",
        "def do_plus():\n",
        "    \"+キーが押されたときの計算動作、第一項の設定と入力中の数字のクリア\"\n",
        "    global current_number\n",
        "    global first_term\n",
        "    \n",
        "    first_term = current_number\n",
        "    current_number = 0\n",
        "    \n",
        "def do_eq():\n",
        "    \"=キーが押されたときの計算動作、第二項の設定加算の実施、入力中の数字のクリア\"\n",
        "    global second_term\n",
        "    global result\n",
        "    global current_number\n",
        "    second_term = current_number\n",
        "    result = first_term + second_term\n",
        "    current_number = 0\n",
        "\n",
        "# 数字キーを一括処理する関数\n",
        "def key(n):\n",
        "    global current_number\n",
        "    current_number = current_number * 10 + n\n",
        "    show_number(current_number)\n",
        "    \n",
        "def clear():\n",
        "    global current_number\n",
        "    current_number = 0\n",
        "    show_number(current_number)\n",
        "    \n",
        "def plus():\n",
        "    do_plus()\n",
        "    show_number(current_number)\n",
        "\n",
        "def eq():\n",
        "    do_eq()\n",
        "    show_number(result)\n",
        "\n",
        "def show_number(num):\n",
        "    e.delete(0,tk.END)\n",
        "    e.insert(0,str(num))\n",
        "\n",
        "# tkinterでの画面の構成\n",
        "\n",
        "root = tk.Tk()\n",
        "f = tk.Frame(root)\n",
        "f.grid()\n",
        "\n",
        "# ウィジェットの作成\n",
        "\n",
        "b1 = tk.Button(f,text='1', command=lambda:key(1))\n",
        "b2 = tk.Button(f,text='2', command=lambda:key(2))\n",
        "b3 = tk.Button(f,text='3', command=lambda:key(3))\n",
        "b4 = tk.Button(f,text='4', command=lambda:key(4))\n",
        "b5 = tk.Button(f,text='5', command=lambda:key(5))\n",
        "b6 = tk.Button(f,text='6', command=lambda:key(6))\n",
        "b7 = tk.Button(f,text='7', command=lambda:key(7))\n",
        "b8 = tk.Button(f,text='8', command=lambda:key(8))\n",
        "b9 = tk.Button(f,text='9', command=lambda:key(9))\n",
        "b0 = tk.Button(f,text='0', command=lambda:key(0))\n",
        "bc = tk.Button(f,text='C', command=clear)\n",
        "bp = tk.Button(f,text='+', command=plus)\n",
        "be = tk.Button(f,text='=', command=eq)\n",
        "\n",
        "# Grid型ジオメトリマネージャによるウィジェットの\n",
        "# 割付\n",
        "\n",
        "b1.grid(row=3,column=0)\n",
        "b2.grid(row=3,column=1)\n",
        "b3.grid(row=3,column=2)\n",
        "b4.grid(row=2,column=0)\n",
        "b5.grid(row=2,column=1)\n",
        "b6.grid(row=2,column=2)\n",
        "b7.grid(row=1,column=0)\n",
        "b8.grid(row=1,column=1)\n",
        "b9.grid(row=1,column=2)\n",
        "b0.grid(row=4,column=0)\n",
        "bc.grid(row=1,column=3)\n",
        "be.grid(row=4,column=3)\n",
        "bp.grid(row=2,column=3)\n",
        "\n",
        "# 数値を表示するウィジェット\n",
        "\n",
        "e = tk.Entry(f)\n",
        "e.grid(row=0,column=0,columnspan=4)\n",
        "clear()\n",
        "\n",
        "# ここからGUIがスタート\n",
        "root.mainloop()"
      ],
      "execution_count": 0,
      "outputs": []
    },
    {
      "cell_type": "markdown",
      "metadata": {
        "colab_type": "text",
        "heading_collapsed": true,
        "hidden": true,
        "id": "2niRTJCwcqxQ"
      },
      "source": [
        "## 7.9 ウィジェットの体裁の調整"
      ]
    },
    {
      "cell_type": "markdown",
      "metadata": {
        "colab_type": "text",
        "hidden": true,
        "id": "e-wcvdRXcqxR"
      },
      "source": [
        "#### 演習28. ウィジェットの体裁の調整"
      ]
    },
    {
      "cell_type": "markdown",
      "metadata": {
        "colab_type": "text",
        "hidden": true,
        "id": "ves79yWEcqxR"
      },
      "source": [
        "- 足し算電卓のフォントサイズ、ウィジェットの色を以下のように設定してください。背景色をFrameは`#ffffc0`（薄黄色）、数字キーは白、クリアキーは赤、+、=キーは緑にする。\n",
        "- ボタンの大きさは2（文字分）にする。\n",
        "- ボタンとエントリーのフォントとサイズは('Helvetica',14)にする。"
      ]
    },
    {
      "cell_type": "code",
      "metadata": {
        "colab_type": "code",
        "hidden": true,
        "id": "bXUjXQMicqxS",
        "colab": {}
      },
      "source": [
        "import tkinter as tk\n",
        "\n",
        "# 計算機能のための変数とイベント用の関数定義\n",
        "\n",
        "# 2項演算のモデル\n",
        "# 入力中の数字\n",
        "current_number = 0\n",
        "# 第一項\n",
        "first_term = 0\n",
        "# 第二項\n",
        "second_term = 0\n",
        "# 結果\n",
        "result = 0\n",
        "\n",
        "def do_plus():\n",
        "    \"+キーが押されたときの計算動作、第一項の設定と入力中の数字のクリア\"\n",
        "    global current_number\n",
        "    global first_term\n",
        "    \n",
        "    first_term = current_number\n",
        "    current_number = 0\n",
        "    \n",
        "def do_eq():\n",
        "    \"=キーが押されたときの計算動作、第二項の設定加算の実施、入力中の数字のクリア\"\n",
        "    global second_term\n",
        "    global result\n",
        "    global current_number\n",
        "    second_term = current_number\n",
        "    result = first_term + second_term\n",
        "    current_number = 0\n",
        "\n",
        "# 数字キーを一括処理する関数\n",
        "def key(n):\n",
        "    global current_number\n",
        "    current_number = current_number * 10 + n\n",
        "    show_number(current_number)\n",
        "    \n",
        "def clear():\n",
        "    global current_number\n",
        "    current_number = 0\n",
        "    show_number(current_number)\n",
        "    \n",
        "def plus():\n",
        "    do_plus()\n",
        "    show_number(current_number)\n",
        "\n",
        "def eq():\n",
        "    do_eq()\n",
        "    show_number(result)\n",
        "\n",
        "def show_number(num):\n",
        "    e.delete(0,tk.END)\n",
        "    e.insert(0,str(num))\n",
        "\n",
        "# tkinterでの画面の構成\n",
        "\n",
        "root = tk.Tk()\n",
        "f = tk.Frame(root,bg='#ffffc0')\n",
        "f.grid()\n",
        "\n",
        "# ウィジェットの作成\n",
        "\n",
        "b1 = tk.Button(f,text='1', command=lambda:key(1),font=('Helvetica',14),width=2,bg='#ffffff')\n",
        "b2 = tk.Button(f,text='2', command=lambda:key(2),font=('Helvetica',14),width=2,bg='#ffffff')\n",
        "b3 = tk.Button(f,text='3', command=lambda:key(3),font=('Helvetica',14),width=2,bg='#ffffff')\n",
        "b4 = tk.Button(f,text='4', command=lambda:key(4),font=('Helvetica',14),width=2,bg='#ffffff')\n",
        "b5 = tk.Button(f,text='5', command=lambda:key(5),font=('Helvetica',14),width=2,bg='#ffffff')\n",
        "b6 = tk.Button(f,text='6', command=lambda:key(6),font=('Helvetica',14),width=2,bg='#ffffff')\n",
        "b7 = tk.Button(f,text='7', command=lambda:key(7),font=('Helvetica',14),width=2,bg='#ffffff')\n",
        "b8 = tk.Button(f,text='8', command=lambda:key(8),font=('Helvetica',14),width=2,bg='#ffffff')\n",
        "b9 = tk.Button(f,text='9', command=lambda:key(9),font=('Helvetica',14),width=2,bg='#ffffff')\n",
        "b0 = tk.Button(f,text='0', command=lambda:key(0),font=('Helvetica',14),width=2,bg='#ffffff')\n",
        "bc = tk.Button(f,text='C', command=clear,font=('Helvetica',14),width=2,bg='#ff0000')\n",
        "bp = tk.Button(f,text='+', command=plus,font=('Helvetica',14),width=2,bg='#00ff00')\n",
        "be = tk.Button(f,text='=', command=eq,font=('Helvetica',14),width=2,bg='#00ff00')\n",
        "\n",
        "# Grid型ジオメトリマネージャによるウィジェットの\n",
        "# 割付\n",
        "\n",
        "b1.grid(row=3,column=0)\n",
        "b2.grid(row=3,column=1)\n",
        "b3.grid(row=3,column=2)\n",
        "b4.grid(row=2,column=0)\n",
        "b5.grid(row=2,column=1)\n",
        "b6.grid(row=2,column=2)\n",
        "b7.grid(row=1,column=0)\n",
        "b8.grid(row=1,column=1)\n",
        "b9.grid(row=1,column=2)\n",
        "b0.grid(row=4,column=0)\n",
        "bc.grid(row=1,column=3)\n",
        "be.grid(row=4,column=3)\n",
        "bp.grid(row=2,column=3)\n",
        "\n",
        "# 数値を表示するウィジェット\n",
        "\n",
        "e = tk.Entry(f)\n",
        "e.grid(row=0,column=0,columnspan=4)\n",
        "clear()\n",
        "\n",
        "# ここからGUIがスタート\n",
        "root.mainloop()"
      ],
      "execution_count": 0,
      "outputs": []
    },
    {
      "cell_type": "markdown",
      "metadata": {
        "colab_type": "text",
        "hidden": true,
        "id": "dxg-jY7TcqxU"
      },
      "source": [
        "#### 演習29. 電卓の四則演算への拡張"
      ]
    },
    {
      "cell_type": "markdown",
      "metadata": {
        "colab_type": "text",
        "hidden": true,
        "id": "e6gr-W_OcqxU"
      },
      "source": [
        "足し算電卓を四則演算が可能なように拡張してください。ただし以下に留意すること。\n",
        "- ボタンの配置は適宜検討すること。\n",
        "- 割り算は0で割るエラーが発生する可能性があるので、第2項の数値が0の場合は何もしない。\n",
        "- 割り算の小数点以下は切り捨てる。Pythonで整数商を求める演算子は「`//`」です。"
      ]
    },
    {
      "cell_type": "code",
      "metadata": {
        "colab_type": "code",
        "hidden": true,
        "id": "igQcHMVhcqxU",
        "colab": {}
      },
      "source": [
        "import tkinter as tk\n",
        "\n",
        "# 計算機能のための変数とイベント用の関数定義\n",
        "\n",
        "# 2項演算のモデル\n",
        "# 入力中の数字\n",
        "current_number = 0\n",
        "# 第一項\n",
        "first_term = 0\n",
        "# 第二項\n",
        "second_term = 0\n",
        "# 結果\n",
        "result = 0\n",
        "# 算術タイプ 0:plus,1:minus,2:multiple,3:divide\n",
        "arithmetic_type = 0\n",
        "\n",
        "def do_arith(type):\n",
        "    \"算術キーが押されたときの計算動作、第一項の設定と入力中の数字のクリア、計算フラグをセット\"\n",
        "    global current_number\n",
        "    global first_term\n",
        "    global arithmetic_type\n",
        "    \n",
        "    first_term = current_number\n",
        "    arithmetic_type = type\n",
        "    current_number = 0\n",
        "    \n",
        "def do_eq():\n",
        "    \"=キーが押されたときの計算動作、第二項の設定加算の実施、入力中の数字のクリア\"\n",
        "    global second_term\n",
        "    global result\n",
        "    global current_number\n",
        "    global arithmetic_type\n",
        "    second_term = current_number\n",
        "    if arithmetic_type == 0:\n",
        "        result = first_term + second_term\n",
        "    elif arithmetic_type == 1:\n",
        "        if first_term >= secound_teerm:\n",
        "            result = first_term - second_term\n",
        "        else:\n",
        "            result = second_term - first_term\n",
        "    elif arithmetic_type == 2:\n",
        "        result = first_term * second_term\n",
        "    elif arithmetic_type == 3:\n",
        "        if second_term != 0:\n",
        "            result = first_term // second_term\n",
        "        else:\n",
        "            result = 0\n",
        "    current_number = 0\n",
        "\n",
        "# 数字キーを一括処理する関数\n",
        "def key(n):\n",
        "    global current_number\n",
        "    current_number = current_number * 10 + n\n",
        "    show_number(current_number)\n",
        "    \n",
        "def clear():\n",
        "    global current_number\n",
        "    current_number = 0\n",
        "    show_number(current_number)\n",
        "    \n",
        "def plus():\n",
        "    do_arith(0)\n",
        "    show_number(current_number)\n",
        "\n",
        "def minus():\n",
        "    do_arith(1)\n",
        "    show_number(current_number)\n",
        "\n",
        "def multiple():\n",
        "    do_arith(2)\n",
        "    show_number(current_number)\n",
        "    \n",
        "def divide():\n",
        "    do_arith(3)\n",
        "    show_number(current_number)\n",
        "\n",
        "def eq():\n",
        "    do_eq()\n",
        "    show_number(result)\n",
        "\n",
        "def show_number(num):\n",
        "    e.delete(0,tk.END)\n",
        "    e.insert(0,str(num))\n",
        "\n",
        "# tkinterでの画面の構成\n",
        "\n",
        "root = tk.Tk()\n",
        "f = tk.Frame(root)\n",
        "f.grid()\n",
        "\n",
        "# ウィジェットの作成\n",
        "\n",
        "b1 = tk.Button(f,text='1', command=lambda:key(1))\n",
        "b2 = tk.Button(f,text='2', command=lambda:key(2))\n",
        "b3 = tk.Button(f,text='3', command=lambda:key(3))\n",
        "b4 = tk.Button(f,text='4', command=lambda:key(4))\n",
        "b5 = tk.Button(f,text='5', command=lambda:key(5))\n",
        "b6 = tk.Button(f,text='6', command=lambda:key(6))\n",
        "b7 = tk.Button(f,text='7', command=lambda:key(7))\n",
        "b8 = tk.Button(f,text='8', command=lambda:key(8))\n",
        "b9 = tk.Button(f,text='9', command=lambda:key(9))\n",
        "b0 = tk.Button(f,text='0', command=lambda:key(0))\n",
        "bc = tk.Button(f,text='C', command=clear)\n",
        "bp = tk.Button(f,text='+', command=plus)\n",
        "bm = tk.Button(f,text='-', command=minus)\n",
        "bt = tk.Button(f,text='*', command=multiple)\n",
        "bd = tk.Button(f,text='/', command=divide)\n",
        "be = tk.Button(f,text='=', command=eq,height=2)\n",
        "\n",
        "# Grid型ジオメトリマネージャによるウィジェットの\n",
        "# 割付\n",
        "\n",
        "b1.grid(row=3,column=0)\n",
        "b2.grid(row=3,column=1)\n",
        "b3.grid(row=3,column=2)\n",
        "b4.grid(row=2,column=0)\n",
        "b5.grid(row=2,column=1)\n",
        "b6.grid(row=2,column=2)\n",
        "b7.grid(row=1,column=0)\n",
        "b8.grid(row=1,column=1)\n",
        "b9.grid(row=1,column=2)\n",
        "b0.grid(row=4,column=0)\n",
        "bc.grid(row=1,column=3)\n",
        "be.grid(row=3,column=3,rowspan=2)\n",
        "bp.grid(row=2,column=3)\n",
        "bm.grid(row=3,column=4)\n",
        "bt.grid(row=2,column=4)\n",
        "bd.grid(row=1,column=4)\n",
        "\n",
        "# 数値を表示するウィジェット\n",
        "\n",
        "e = tk.Entry(f)\n",
        "e.grid(row=0,column=0,columnspan=4)\n",
        "clear()\n",
        "\n",
        "# ここからGUIがスタート\n",
        "root.mainloop()"
      ],
      "execution_count": 0,
      "outputs": []
    },
    {
      "cell_type": "markdown",
      "metadata": {
        "colab_type": "text",
        "hidden": true,
        "id": "3ea0AeNXcqxW"
      },
      "source": [
        "#### 演習30. 実際の電卓との差異"
      ]
    },
    {
      "cell_type": "markdown",
      "metadata": {
        "colab_type": "text",
        "hidden": true,
        "id": "Fk1QOTx3cqxW"
      },
      "source": [
        "作成したプログラムと実際の電卓（や電卓アプリ）との動作の違いを探ってください。例えば=キーの代わりに+などの演算キーを押した場合の動作など。"
      ]
    },
    {
      "cell_type": "markdown",
      "metadata": {
        "colab_type": "text",
        "hidden": true,
        "id": "cy81baDvcqxW"
      },
      "source": [
        "=キーの代わりに+などの演算キーを押した場合, 実際の電卓ではそれまでの値について演算されるが, 作成したプログラムでは演算が行われずに第2項の値が変わる."
      ]
    },
    {
      "cell_type": "markdown",
      "metadata": {
        "colab_type": "text",
        "heading_collapsed": true,
        "hidden": true,
        "id": "yFoLrt0ZcqxX"
      },
      "source": [
        "## 7.11 `Frame`クラスを拡張する方式での実装法"
      ]
    },
    {
      "cell_type": "markdown",
      "metadata": {
        "colab_type": "text",
        "hidden": true,
        "id": "XSxB0mbwcqxX"
      },
      "source": [
        "プログラム22 `Frame`クラスを拡張するtkinterの実装法"
      ]
    },
    {
      "cell_type": "code",
      "metadata": {
        "colab_type": "code",
        "hidden": true,
        "id": "57ECKX3-cqxY",
        "colab": {}
      },
      "source": [
        "import tkinter as tk\n",
        "\n",
        "# 計算機能のための変数とイベント用の関数定義\n",
        "# Frameのサブクラスを使った実装例\n",
        "\n",
        "# 2項演算のモデル\n",
        "# 入力中の数字\n",
        "current_number = 0\n",
        "# 第一項\n",
        "first_term = 0\n",
        "# 第二項\n",
        "second_term = 0\n",
        "# 結果\n",
        "result = 0\n",
        "\n",
        "def do_plus():\n",
        "    \"+キーが押されたときの計算動作、第一項の設定と入力中の数字のクリア\"\n",
        "    global current_number\n",
        "    global first_term\n",
        "    \n",
        "    first_term = current_number\n",
        "    current_number = 0\n",
        "    \n",
        "def do_eq():\n",
        "    \"=キーが押されたときの計算動作、第二項の設定加算の実施、入力中の数字のクリア\"\n",
        "    global second_term\n",
        "    global result\n",
        "    global current_number\n",
        "    second_term = current_number\n",
        "    result = first_term + second_term\n",
        "    current_number = 0\n",
        "    \n",
        "#\n",
        "# tk.Frameを継承したMyFrameというクラスを作り\n",
        "# その中でウィジェットやコールバック関数（メソッド）を\n",
        "# 設定する。tkinterを使う定番\n",
        "#\n",
        "class MyFrame(tk.Frame):\n",
        "#\n",
        "# __init__はクラスオブジェクトを作る際の初期化メソッド\n",
        "# アンダースコアはそれぞれ2つずつ\n",
        "    def __init__(self,master = None):\n",
        "        super().__init__(master)\n",
        "# あとで参照しないウィジェットの作成、ローカル変数\n",
        "        b1 = tk.Button(self,text='1', command=lambda:self.key(1))\n",
        "        b2 = tk.Button(self,text='2', command=lambda:self.key(2))\n",
        "        b3 = tk.Button(self,text='3', command=lambda:self.key(3))\n",
        "        b4 = tk.Button(self,text='4', command=lambda:self.key(4))\n",
        "        b5 = tk.Button(self,text='5', command=lambda:self.key(5))\n",
        "        b6 = tk.Button(self,text='6', command=lambda:self.key(6))\n",
        "        b7 = tk.Button(self,text='7', command=lambda:self.key(7))\n",
        "        b8 = tk.Button(self,text='8', command=lambda:self.key(8))\n",
        "        b9 = tk.Button(self,text='9', command=lambda:self.key(9))\n",
        "        b0 = tk.Button(self,text='0', command=lambda:self.key(0))\n",
        "        bc = tk.Button(self,text='C', command=self.clear)\n",
        "        bp = tk.Button(self,text='+', command=self.plus)\n",
        "        be = tk.Button(self,text='=', command=self.eq)\n",
        "\n",
        "# Grid型ジオメトリマネージャによるウィジェット割付\n",
        "        b1.grid(row=3,column=0)\n",
        "        b2.grid(row=3,column=1)\n",
        "        b3.grid(row=3,column=2)\n",
        "        b4.grid(row=2,column=0)\n",
        "        b5.grid(row=2,column=1)\n",
        "        b6.grid(row=2,column=2)\n",
        "        b7.grid(row=1,column=0)\n",
        "        b8.grid(row=1,column=1)\n",
        "        b9.grid(row=1,column=2)\n",
        "        b0.grid(row=4,column=0)\n",
        "        bc.grid(row=1,column=3)\n",
        "        be.grid(row=4,column=3)\n",
        "        bp.grid(row=2,column=3)\n",
        "\n",
        "# 他のメソッドで参照する数値を表示するウィジェット、クラスオブジェクトの\n",
        "# 変数として作成、頭にself.がつく\n",
        "        self.e = tk.Entry(self)\n",
        "        self.e.grid(row=0,column=0,columnspan=4)\n",
        "# クラスの定義では\n",
        "# メソッドの最初の引数はself,中でクラスオブジェクトの変数、\n",
        "# メソッドはselfを付けて参照\n",
        "#\n",
        "    def key(self,n):\n",
        "        global current_number\n",
        "        current_number = current_number * 10 + n\n",
        "        self.show_number(current_number)\n",
        "\n",
        "    def clear(self):\n",
        "        global current_number\n",
        "        current_number = 0\n",
        "        self.show_number(current_number)\n",
        "    \n",
        "    def plus(self):\n",
        "        do_plus()\n",
        "        self.show_number(current_number)\n",
        "\n",
        "    def eq(self):\n",
        "        do_eq()\n",
        "        self.show_number(result)\n",
        "\n",
        "    def show_number(self, num):\n",
        "        self.e.delete(0,tk.END)\n",
        "        self.e.insert(0,str(num))\n",
        "\n",
        "#\n",
        "# ここからメインプログラム\n",
        "#\n",
        "root = tk.Tk()\n",
        "f = MyFrame(root)\n",
        "f.pack()\n",
        "f.mainloop()"
      ],
      "execution_count": 0,
      "outputs": []
    },
    {
      "cell_type": "markdown",
      "metadata": {
        "colab_type": "text",
        "heading_collapsed": true,
        "id": "cw2aanzqcqxZ"
      },
      "source": [
        "# 8. Tkinterで作るGUIアプリケーション(2)"
      ]
    },
    {
      "cell_type": "markdown",
      "metadata": {
        "colab_type": "text",
        "heading_collapsed": true,
        "hidden": true,
        "id": "bG6FdZXZcqxa"
      },
      "source": [
        "## 8.4 tkinterを用いたアナログ時計プログラム"
      ]
    },
    {
      "cell_type": "markdown",
      "metadata": {
        "colab_type": "text",
        "heading_collapsed": true,
        "hidden": true,
        "id": "jd7rHsEbcqxa"
      },
      "source": [
        "### 8.4.1 ソースコード"
      ]
    },
    {
      "cell_type": "markdown",
      "metadata": {
        "colab_type": "text",
        "hidden": true,
        "id": "b3jtXB66cqxa"
      },
      "source": [
        "プログラム23 tkinterでのアナログ時計"
      ]
    },
    {
      "cell_type": "code",
      "metadata": {
        "colab_type": "code",
        "hidden": true,
        "id": "74IGMGArcqxb",
        "colab": {}
      },
      "source": [
        "# tkinter canvasを使ったアナログ時計\n",
        "#\n",
        "import tkinter as tk\n",
        "import math\n",
        "import time\n",
        "\n",
        "#\n",
        "# Frameを拡張したクラス\n",
        "#\n",
        "class MyFrame(tk.Frame):\n",
        "    def __init__(self, master=None):\n",
        "        super().__init__(master)\n",
        "#\n",
        "# キャンバスの作成\n",
        "#\n",
        "        self.size = 200\n",
        "        self.clock = tk.Canvas(self, width=self.size, height=self.size, background=\"white\")\n",
        "        self.clock.grid(row=0, column=0)\n",
        "#\n",
        "# 文字盤の描画\n",
        "#\n",
        "        self.font_size = int(self.size/15)\n",
        "        for number in range(1,12+1):\n",
        "            x = self.size/2 + math.cos(math.radians(number*360/12 - 90))*self.size/2*0.85\n",
        "            y = self.size/2 + math.sin(math.radians(number*360/12 - 90))*self.size/2*0.85\n",
        "            self.clock.create_text(x,y,text=str(number),fill=\"black\",font=(\"\",14))\n",
        "#\n",
        "# 日付表示をオンオフするボタンの作成\n",
        "#\n",
        "        self.b = tk.Button(self, text=\"Show Date\", font=(\"\",14),command=self.toggle)\n",
        "        self.b.grid(row=1, column=0)\n",
        "#\n",
        "# 時刻の経過確認などの動作のためのインスタンス変数\n",
        "#\n",
        "        self.sec = time.localtime().tm_sec\n",
        "        self.sec2 = time.localtime().tm_sec\n",
        "        self.min = time.localtime().tm_min\n",
        "        self.hour = time.localtime().tm_hour\n",
        "        self.start = True\n",
        "        self.show_date = False\n",
        "        self.toggled = True\n",
        "    #\n",
        "    # ボタンが押されたときのcall back\n",
        "    #\n",
        "    def toggle(self):\n",
        "        if self.show_date:\n",
        "            self.b.configure(text=\"show date\")\n",
        "        else:\n",
        "            self.b.configure(text=\"hide date\")\n",
        "        self.show_date = not self.show_date\n",
        "        self.toggled = True\n",
        "    #\n",
        "    # 変化する画面の描画\n",
        "    #\n",
        "    def display(self):\n",
        "        #\n",
        "        # 秒針の描画、最初(start==True)か秒が変わったとき\n",
        "        #\n",
        "        if self.sec != time.localtime().tm_sec or self.start:\n",
        "            self.sec = time.localtime().tm_sec\n",
        "            angle = math.radians(self.sec*360/60 - 90)\n",
        "            x0 = self.size/2 - math.cos(angle)*self.size/2*0.1\n",
        "            y0 = self.size/2 - math.sin(angle)*self.size/2*0.1\n",
        "            x = self.size/2 + math.cos(angle)*self.size/2*0.75\n",
        "            y = self.size/2 + math.sin(angle)*self.size/2*0.75\n",
        "            #\n",
        "            # 前の描画をタグで検索して消してから描画\n",
        "            #\n",
        "            self.clock.delete(\"SEC\")\n",
        "            self.clock.create_line(x0,y0,x,y,width=1,fill=\"red\",tag=\"SEC\")\n",
        "        #\n",
        "        # 分針、時針の描画、1分毎、時針は分まで考慮\n",
        "        #\n",
        "        if self.min != time.localtime().tm_min or self.start:\n",
        "            self.min = time.localtime().tm_min\n",
        "            x0 = self.size/2\n",
        "            y0 = self.size/2\n",
        "            angle = math.radians(self.min*360/60 - 90)\n",
        "            x = self.size/2 + math.cos(angle)*self.size/2*0.65\n",
        "            y = self.size/2 + math.sin(angle)*self.size/2*0.65\n",
        "            self.clock.delete(\"MIN\")\n",
        "            self.clock.create_line(x0,y0,x,y,width=3,fill=\"blue\",tag=\"MIN\")\n",
        "            self.hour = time.localtime().tm_hour\n",
        "            x0 = self.size/2\n",
        "            y0 = self.size/2\n",
        "            angle = math.radians((self.hour%12 + self.min/60)*360/12 - 90)\n",
        "            x = self.size/2 + math.cos(angle)*self.size/2*0.55\n",
        "            y = self.size/2 + math.sin(angle)*self.size/2*0.55\n",
        "            self.clock.delete(\"HOUR\")\n",
        "            self.clock.create_line(x0,y0,x,y,width=3,fill=\"green\",tag=\"HOUR\")\n",
        "        \n",
        "        self.start = False\n",
        "        #\n",
        "        # 日付の描画、秒が変わるか、ボタンが押されたとき\n",
        "        #\n",
        "        if self.sec2 != time.localtime().tm_sec or self.toggled:\n",
        "            self.sec2 = time.localtime().tm_sec\n",
        "            self.toggled = False\n",
        "            x = self.size/2\n",
        "            y = self.size/2 + 20\n",
        "            text = time.strftime('%Y/%m/%d %H:%M:%S')\n",
        "            self.clock.delete(\"TIME\")\n",
        "            if self.show_date:\n",
        "                self.clock.create_text(x,y,text=text,font=(\"\",12),fill=\"black\",tag=\"TIME\")\n",
        "        #\n",
        "        # 100ミリ秒後に再度呼び出す\n",
        "        #\n",
        "        self.after(100, self.display)\n",
        "\n",
        "root = tk.Tk()\n",
        "f = MyFrame(root)\n",
        "f.pack()\n",
        "f.display()\n",
        "root.mainloop()"
      ],
      "execution_count": 0,
      "outputs": []
    },
    {
      "cell_type": "markdown",
      "metadata": {
        "colab_type": "text",
        "heading_collapsed": true,
        "hidden": true,
        "id": "pC69n2vVcqxc"
      },
      "source": [
        "### 8.4.2 このプログラムのポイント"
      ]
    },
    {
      "cell_type": "markdown",
      "metadata": {
        "colab_type": "text",
        "heading_collapsed": true,
        "hidden": true,
        "id": "YhSrf9bJcqxc"
      },
      "source": [
        "#### 演習32. アナログ時計の改造"
      ]
    },
    {
      "cell_type": "markdown",
      "metadata": {
        "colab_type": "text",
        "hidden": true,
        "id": "BYsykqKvcqxd"
      },
      "source": [
        "アナログ時計のプログラムについて以下の改造を加えなさい。\n",
        "1. 日付の表示について、日付と時刻ではなく、日付と午前、午後を表示するようにしてください。\n",
        "2. ボタンをもう一つ追加し、秒針の表示をする、しない、を切り替えるようにしてください。"
      ]
    },
    {
      "cell_type": "code",
      "metadata": {
        "colab_type": "code",
        "hidden": true,
        "id": "79elX_Iycqxd",
        "colab": {}
      },
      "source": [
        "# tkinter canvasを使ったアナログ時計\n",
        "#\n",
        "import tkinter as tk\n",
        "import math\n",
        "import time\n",
        "\n",
        "#\n",
        "# Frameを拡張したクラス\n",
        "#\n",
        "class MyFrame(tk.Frame):\n",
        "    def __init__(self, master=None):\n",
        "        super().__init__(master)\n",
        "#\n",
        "# キャンバスの作成\n",
        "#\n",
        "        self.size = 250\n",
        "        self.clock = tk.Canvas(self, width=self.size, height=self.size, background=\"white\")\n",
        "        self.clock.grid(row=0, column=0,columnspan=2)\n",
        "#\n",
        "# 文字盤の描画\n",
        "#\n",
        "        self.font_size = int(self.size/15)\n",
        "        for number in range(1,12+1):\n",
        "            x = self.size/2 + math.cos(math.radians(number*360/12 - 90))*self.size/2*0.85\n",
        "            y = self.size/2 + math.sin(math.radians(number*360/12 - 90))*self.size/2*0.85\n",
        "            self.clock.create_text(x,y,text=str(number),fill=\"black\",font=(\"\",14))\n",
        "#\n",
        "# 日付表示をオンオフするボタンの作成\n",
        "#\n",
        "        self.bd = tk.Button(self, text=\"Show Date\", font=(\"\",14),command=self.toggle_date)\n",
        "        self.bd.grid(row=1, column=0)\n",
        "#\n",
        "# 秒針を非表示にするボタンの作成\n",
        "#\n",
        "        self.bs = tk.Button(self, text=\"hide sec.\", font=(\"\",14),command=self.toggle_sec)\n",
        "        self.bs.grid(row=1, column=1)\n",
        "#\n",
        "# 時刻の経過確認などの動作のためのインスタンス変数\n",
        "#\n",
        "        self.sec = time.localtime().tm_sec\n",
        "        self.sec2 = time.localtime().tm_sec\n",
        "        self.min = time.localtime().tm_min\n",
        "        self.hour = time.localtime().tm_hour\n",
        "        self.start = True\n",
        "        self.show_date = False\n",
        "        self.show_sec = True\n",
        "        self.toggled_date = True\n",
        "        self.toggled_sec = True\n",
        "    #\n",
        "    # ボタンが押されたときのcall back\n",
        "    #\n",
        "    def toggle_date(self):\n",
        "        if self.show_date:\n",
        "            self.bd.configure(text=\"show date\")\n",
        "        else:\n",
        "            self.bd.configure(text=\"hide date\")\n",
        "        self.show_date = not self.show_date\n",
        "        self.toggled_date = True\n",
        "    def toggle_sec(self):\n",
        "        if self.show_sec:\n",
        "            self.bs.configure(text=\"show sec.\")\n",
        "        else:\n",
        "            self.bs.configure(text=\"hide sec.\")\n",
        "        self.show_sec = not self.show_sec\n",
        "        self.toggled_sec = True\n",
        "    #\n",
        "    # 変化する画面の描画\n",
        "    #\n",
        "    def display(self):\n",
        "        #\n",
        "        # 秒針の描画、最初(start==True)か秒が変わったとき、ボタンが押されたとき\n",
        "        #\n",
        "        if self.sec != time.localtime().tm_sec or self.start or self.toggled_sec:\n",
        "            self.sec = time.localtime().tm_sec\n",
        "            angle = math.radians(self.sec*360/60 - 90)\n",
        "            x0 = self.size/2 - math.cos(angle)*self.size/2*0.1\n",
        "            y0 = self.size/2 - math.sin(angle)*self.size/2*0.1\n",
        "            x = self.size/2 + math.cos(angle)*self.size/2*0.75\n",
        "            y = self.size/2 + math.sin(angle)*self.size/2*0.75\n",
        "            #\n",
        "            # 前の描画をタグで検索して消してから描画\n",
        "            #\n",
        "            self.clock.delete(\"SEC\")\n",
        "            if self.show_sec:\n",
        "                self.clock.create_line(x0,y0,x,y,width=1,fill=\"red\",tag=\"SEC\")\n",
        "        #\n",
        "        # 分針、時針の描画、1分毎、時針は分まで考慮\n",
        "        #\n",
        "        if self.min != time.localtime().tm_min or self.start:\n",
        "            self.min = time.localtime().tm_min\n",
        "            x0 = self.size/2\n",
        "            y0 = self.size/2\n",
        "            angle = math.radians(self.min*360/60 - 90)\n",
        "            x = self.size/2 + math.cos(angle)*self.size/2*0.65\n",
        "            y = self.size/2 + math.sin(angle)*self.size/2*0.65\n",
        "            self.clock.delete(\"MIN\")\n",
        "            self.clock.create_line(x0,y0,x,y,width=3,fill=\"blue\",tag=\"MIN\")\n",
        "            self.hour = time.localtime().tm_hour\n",
        "            x0 = self.size/2\n",
        "            y0 = self.size/2\n",
        "            angle = math.radians((self.hour%12 + self.min/60)*360/12 - 90)\n",
        "            x = self.size/2 + math.cos(angle)*self.size/2*0.55\n",
        "            y = self.size/2 + math.sin(angle)*self.size/2*0.55\n",
        "            self.clock.delete(\"HOUR\")\n",
        "            self.clock.create_line(x0,y0,x,y,width=3,fill=\"green\",tag=\"HOUR\")\n",
        "        \n",
        "        self.start = False\n",
        "        #\n",
        "        # 日付の描画、秒が変わるか、ボタンが押されたとき\n",
        "        #\n",
        "        if self.sec2 != time.localtime().tm_sec or self.toggled_date:\n",
        "            self.sec2 = time.localtime().tm_sec\n",
        "            self.toggled_date = False\n",
        "            x = self.size/2\n",
        "            y = self.size/2 + 20\n",
        "            text = time.strftime('%Y/%m/%d %P%I:%M:%S')\n",
        "            self.clock.delete(\"TIME\")\n",
        "            if self.show_date:\n",
        "                self.clock.create_text(x,y,text=text,font=(\"\",12),fill=\"black\",tag=\"TIME\")\n",
        "        #\n",
        "        # 100ミリ秒後に再度呼び出す\n",
        "        #\n",
        "        self.after(100, self.display)\n",
        "\n",
        "root = tk.Tk()\n",
        "f = MyFrame(root)\n",
        "f.pack()\n",
        "f.display()\n",
        "root.mainloop()"
      ],
      "execution_count": 0,
      "outputs": []
    },
    {
      "cell_type": "code",
      "metadata": {
        "colab_type": "code",
        "hidden": true,
        "id": "RwNNBSY7cqxf",
        "colab": {}
      },
      "source": [
        ""
      ],
      "execution_count": 0,
      "outputs": []
    },
    {
      "cell_type": "markdown",
      "metadata": {
        "colab_type": "text",
        "heading_collapsed": true,
        "id": "Km02e6ghcyvk"
      },
      "source": [
        "# 9. クラス"
      ]
    },
    {
      "cell_type": "markdown",
      "metadata": {
        "colab_type": "text",
        "hidden": true,
        "id": "S02UqFyVc90x"
      },
      "source": [
        "## 9.3 Pythonでのクラスの書き方、使い方"
      ]
    },
    {
      "cell_type": "markdown",
      "metadata": {
        "colab_type": "text",
        "heading_collapsed": true,
        "hidden": true,
        "id": "WqeHLEKRdFbS"
      },
      "source": [
        "### 9.3.1 ソースコード"
      ]
    },
    {
      "cell_type": "markdown",
      "metadata": {
        "colab_type": "text",
        "hidden": true,
        "id": "dX5povDRdK8Q"
      },
      "source": [
        "プログラム24 CUI型電卓プログラム"
      ]
    },
    {
      "cell_type": "code",
      "metadata": {
        "colab_type": "code",
        "hidden": true,
        "id": "CW7lqf5Oc5c2",
        "outputId": "4dc64392-608e-46df-ca18-7ce914ba4696",
        "colab": {
          "base_uri": "https://localhost:8080/",
          "height": 600
        }
      },
      "source": [
        "class Dentaku():\n",
        "    def __init__(self):\n",
        "        self.first_term = 0\n",
        "        self.second_term = 0\n",
        "        self.result = 0\n",
        "        self_operation = \"+\"\n",
        "\n",
        "    def do_operation(self):\n",
        "        if self.operation == \"+\":\n",
        "            self.result = self.first_term + self.second_term\n",
        "        elif self.operation == \"-\":\n",
        "            self.result = self.first_term - self.second_term\n",
        "\n",
        "# ここからメインプログラム\n",
        "dentaku = Dentaku()\n",
        "while True:\n",
        "    f = int(input(\"First term \"))\n",
        "    dentaku.first_term = f\n",
        "    o = input(\"Operation \")\n",
        "    dentaku.operation = o\n",
        "    s = int(input(\"Second term \"))\n",
        "    dentaku.second_term = s\n",
        "    dentaku.do_operation()\n",
        "    r = dentaku.result\n",
        "    print(\"Result \", r)"
      ],
      "execution_count": 2,
      "outputs": [
        {
          "output_type": "stream",
          "text": [
            "First term 1\n",
            "Operation +\n",
            "Second term 2\n",
            "Result  3\n"
          ],
          "name": "stdout"
        },
        {
          "output_type": "error",
          "ename": "KeyboardInterrupt",
          "evalue": "ignored",
          "traceback": [
            "\u001b[0;31m---------------------------------------------------------------------------\u001b[0m",
            "\u001b[0;31mKeyboardInterrupt\u001b[0m                         Traceback (most recent call last)",
            "\u001b[0;32m/usr/local/lib/python3.6/dist-packages/ipykernel/kernelbase.py\u001b[0m in \u001b[0;36m_input_request\u001b[0;34m(self, prompt, ident, parent, password)\u001b[0m\n\u001b[1;32m    729\u001b[0m             \u001b[0;32mtry\u001b[0m\u001b[0;34m:\u001b[0m\u001b[0;34m\u001b[0m\u001b[0;34m\u001b[0m\u001b[0m\n\u001b[0;32m--> 730\u001b[0;31m                 \u001b[0mident\u001b[0m\u001b[0;34m,\u001b[0m \u001b[0mreply\u001b[0m \u001b[0;34m=\u001b[0m \u001b[0mself\u001b[0m\u001b[0;34m.\u001b[0m\u001b[0msession\u001b[0m\u001b[0;34m.\u001b[0m\u001b[0mrecv\u001b[0m\u001b[0;34m(\u001b[0m\u001b[0mself\u001b[0m\u001b[0;34m.\u001b[0m\u001b[0mstdin_socket\u001b[0m\u001b[0;34m,\u001b[0m \u001b[0;36m0\u001b[0m\u001b[0;34m)\u001b[0m\u001b[0;34m\u001b[0m\u001b[0;34m\u001b[0m\u001b[0m\n\u001b[0m\u001b[1;32m    731\u001b[0m             \u001b[0;32mexcept\u001b[0m \u001b[0mException\u001b[0m\u001b[0;34m:\u001b[0m\u001b[0;34m\u001b[0m\u001b[0;34m\u001b[0m\u001b[0m\n",
            "\u001b[0;32m/usr/local/lib/python3.6/dist-packages/jupyter_client/session.py\u001b[0m in \u001b[0;36mrecv\u001b[0;34m(self, socket, mode, content, copy)\u001b[0m\n\u001b[1;32m    802\u001b[0m         \u001b[0;32mtry\u001b[0m\u001b[0;34m:\u001b[0m\u001b[0;34m\u001b[0m\u001b[0;34m\u001b[0m\u001b[0m\n\u001b[0;32m--> 803\u001b[0;31m             \u001b[0mmsg_list\u001b[0m \u001b[0;34m=\u001b[0m \u001b[0msocket\u001b[0m\u001b[0;34m.\u001b[0m\u001b[0mrecv_multipart\u001b[0m\u001b[0;34m(\u001b[0m\u001b[0mmode\u001b[0m\u001b[0;34m,\u001b[0m \u001b[0mcopy\u001b[0m\u001b[0;34m=\u001b[0m\u001b[0mcopy\u001b[0m\u001b[0;34m)\u001b[0m\u001b[0;34m\u001b[0m\u001b[0;34m\u001b[0m\u001b[0m\n\u001b[0m\u001b[1;32m    804\u001b[0m         \u001b[0;32mexcept\u001b[0m \u001b[0mzmq\u001b[0m\u001b[0;34m.\u001b[0m\u001b[0mZMQError\u001b[0m \u001b[0;32mas\u001b[0m \u001b[0me\u001b[0m\u001b[0;34m:\u001b[0m\u001b[0;34m\u001b[0m\u001b[0;34m\u001b[0m\u001b[0m\n",
            "\u001b[0;32m/usr/local/lib/python3.6/dist-packages/zmq/sugar/socket.py\u001b[0m in \u001b[0;36mrecv_multipart\u001b[0;34m(self, flags, copy, track)\u001b[0m\n\u001b[1;32m    465\u001b[0m         \"\"\"\n\u001b[0;32m--> 466\u001b[0;31m         \u001b[0mparts\u001b[0m \u001b[0;34m=\u001b[0m \u001b[0;34m[\u001b[0m\u001b[0mself\u001b[0m\u001b[0;34m.\u001b[0m\u001b[0mrecv\u001b[0m\u001b[0;34m(\u001b[0m\u001b[0mflags\u001b[0m\u001b[0;34m,\u001b[0m \u001b[0mcopy\u001b[0m\u001b[0;34m=\u001b[0m\u001b[0mcopy\u001b[0m\u001b[0;34m,\u001b[0m \u001b[0mtrack\u001b[0m\u001b[0;34m=\u001b[0m\u001b[0mtrack\u001b[0m\u001b[0;34m)\u001b[0m\u001b[0;34m]\u001b[0m\u001b[0;34m\u001b[0m\u001b[0;34m\u001b[0m\u001b[0m\n\u001b[0m\u001b[1;32m    467\u001b[0m         \u001b[0;31m# have first part already, only loop while more to receive\u001b[0m\u001b[0;34m\u001b[0m\u001b[0;34m\u001b[0m\u001b[0;34m\u001b[0m\u001b[0m\n",
            "\u001b[0;32mzmq/backend/cython/socket.pyx\u001b[0m in \u001b[0;36mzmq.backend.cython.socket.Socket.recv\u001b[0;34m()\u001b[0m\n",
            "\u001b[0;32mzmq/backend/cython/socket.pyx\u001b[0m in \u001b[0;36mzmq.backend.cython.socket.Socket.recv\u001b[0;34m()\u001b[0m\n",
            "\u001b[0;32mzmq/backend/cython/socket.pyx\u001b[0m in \u001b[0;36mzmq.backend.cython.socket._recv_copy\u001b[0;34m()\u001b[0m\n",
            "\u001b[0;32m/usr/local/lib/python3.6/dist-packages/zmq/backend/cython/checkrc.pxd\u001b[0m in \u001b[0;36mzmq.backend.cython.checkrc._check_rc\u001b[0;34m()\u001b[0m\n",
            "\u001b[0;31mKeyboardInterrupt\u001b[0m: ",
            "\nDuring handling of the above exception, another exception occurred:\n",
            "\u001b[0;31mKeyboardInterrupt\u001b[0m                         Traceback (most recent call last)",
            "\u001b[0;32m<ipython-input-2-11b84809ddec>\u001b[0m in \u001b[0;36m<module>\u001b[0;34m()\u001b[0m\n\u001b[1;32m     15\u001b[0m \u001b[0mdentaku\u001b[0m \u001b[0;34m=\u001b[0m \u001b[0mDentaku\u001b[0m\u001b[0;34m(\u001b[0m\u001b[0;34m)\u001b[0m\u001b[0;34m\u001b[0m\u001b[0;34m\u001b[0m\u001b[0m\n\u001b[1;32m     16\u001b[0m \u001b[0;32mwhile\u001b[0m \u001b[0;32mTrue\u001b[0m\u001b[0;34m:\u001b[0m\u001b[0;34m\u001b[0m\u001b[0;34m\u001b[0m\u001b[0m\n\u001b[0;32m---> 17\u001b[0;31m     \u001b[0mf\u001b[0m \u001b[0;34m=\u001b[0m \u001b[0mint\u001b[0m\u001b[0;34m(\u001b[0m\u001b[0minput\u001b[0m\u001b[0;34m(\u001b[0m\u001b[0;34m\"First term \"\u001b[0m\u001b[0;34m)\u001b[0m\u001b[0;34m)\u001b[0m\u001b[0;34m\u001b[0m\u001b[0;34m\u001b[0m\u001b[0m\n\u001b[0m\u001b[1;32m     18\u001b[0m     \u001b[0mdentaku\u001b[0m\u001b[0;34m.\u001b[0m\u001b[0mfirst_term\u001b[0m \u001b[0;34m=\u001b[0m \u001b[0mf\u001b[0m\u001b[0;34m\u001b[0m\u001b[0;34m\u001b[0m\u001b[0m\n\u001b[1;32m     19\u001b[0m     \u001b[0mo\u001b[0m \u001b[0;34m=\u001b[0m \u001b[0minput\u001b[0m\u001b[0;34m(\u001b[0m\u001b[0;34m\"Operation \"\u001b[0m\u001b[0;34m)\u001b[0m\u001b[0;34m\u001b[0m\u001b[0;34m\u001b[0m\u001b[0m\n",
            "\u001b[0;32m/usr/local/lib/python3.6/dist-packages/ipykernel/kernelbase.py\u001b[0m in \u001b[0;36mraw_input\u001b[0;34m(self, prompt)\u001b[0m\n\u001b[1;32m    703\u001b[0m             \u001b[0mself\u001b[0m\u001b[0;34m.\u001b[0m\u001b[0m_parent_ident\u001b[0m\u001b[0;34m,\u001b[0m\u001b[0;34m\u001b[0m\u001b[0;34m\u001b[0m\u001b[0m\n\u001b[1;32m    704\u001b[0m             \u001b[0mself\u001b[0m\u001b[0;34m.\u001b[0m\u001b[0m_parent_header\u001b[0m\u001b[0;34m,\u001b[0m\u001b[0;34m\u001b[0m\u001b[0;34m\u001b[0m\u001b[0m\n\u001b[0;32m--> 705\u001b[0;31m             \u001b[0mpassword\u001b[0m\u001b[0;34m=\u001b[0m\u001b[0;32mFalse\u001b[0m\u001b[0;34m,\u001b[0m\u001b[0;34m\u001b[0m\u001b[0;34m\u001b[0m\u001b[0m\n\u001b[0m\u001b[1;32m    706\u001b[0m         )\n\u001b[1;32m    707\u001b[0m \u001b[0;34m\u001b[0m\u001b[0m\n",
            "\u001b[0;32m/usr/local/lib/python3.6/dist-packages/ipykernel/kernelbase.py\u001b[0m in \u001b[0;36m_input_request\u001b[0;34m(self, prompt, ident, parent, password)\u001b[0m\n\u001b[1;32m    733\u001b[0m             \u001b[0;32mexcept\u001b[0m \u001b[0mKeyboardInterrupt\u001b[0m\u001b[0;34m:\u001b[0m\u001b[0;34m\u001b[0m\u001b[0;34m\u001b[0m\u001b[0m\n\u001b[1;32m    734\u001b[0m                 \u001b[0;31m# re-raise KeyboardInterrupt, to truncate traceback\u001b[0m\u001b[0;34m\u001b[0m\u001b[0;34m\u001b[0m\u001b[0;34m\u001b[0m\u001b[0m\n\u001b[0;32m--> 735\u001b[0;31m                 \u001b[0;32mraise\u001b[0m \u001b[0mKeyboardInterrupt\u001b[0m\u001b[0;34m\u001b[0m\u001b[0;34m\u001b[0m\u001b[0m\n\u001b[0m\u001b[1;32m    736\u001b[0m             \u001b[0;32melse\u001b[0m\u001b[0;34m:\u001b[0m\u001b[0;34m\u001b[0m\u001b[0;34m\u001b[0m\u001b[0m\n\u001b[1;32m    737\u001b[0m                 \u001b[0;32mbreak\u001b[0m\u001b[0;34m\u001b[0m\u001b[0;34m\u001b[0m\u001b[0m\n",
            "\u001b[0;31mKeyboardInterrupt\u001b[0m: "
          ]
        }
      ]
    },
    {
      "cell_type": "markdown",
      "metadata": {
        "colab_type": "text",
        "hidden": true,
        "id": "LJdIrjYxkN3O"
      },
      "source": [
        "#### 演習33. `Dentaku`クラスのオブジェクトを複数生成して利用するプログラムを作成してみてください。"
      ]
    },
    {
      "cell_type": "code",
      "metadata": {
        "colab_type": "code",
        "hidden": true,
        "id": "NlD1MjALh1jK",
        "outputId": "ed96c795-677c-4736-d72d-d43c9f89c660",
        "colab": {
          "base_uri": "https://localhost:8080/",
          "height": 583
        }
      },
      "source": [
        "class Dentaku():\n",
        "    def __init__(self):\n",
        "        self.first_term = 0\n",
        "        self.second_term = 0\n",
        "        self.result = 0\n",
        "        self_operation = \"+\"\n",
        "\n",
        "    def do_operation(self):\n",
        "        if self.operation == \"+\":\n",
        "            self.result = self.first_term + self.second_term\n",
        "        elif self.operation == \"-\":\n",
        "            self.result = self.first_term - self.second_term\n",
        "\n",
        "# ここからメインプログラム\n",
        "dentaku1 = Dentaku()\n",
        "dentaku2 = Dentaku()\n",
        "while True:\n",
        "    f = int(input(\"First term \"))\n",
        "    dentaku1.first_term = f\n",
        "    dentaku2.first_term = f\n",
        "    dentaku1.operation = \"+\"\n",
        "    dentaku2.operation = \"-\"\n",
        "    s = int(input(\"Second term \"))\n",
        "    dentaku1.second_term = s\n",
        "    dentaku2.second_term = s\n",
        "    dentaku1.do_operation()\n",
        "    dentaku2.do_operation()\n",
        "    r1 = dentaku1.result\n",
        "    r2 = dentaku2.result\n",
        "    print(\"Result \", r1, r2)"
      ],
      "execution_count": 0,
      "outputs": [
        {
          "output_type": "stream",
          "text": [
            "First term 1\n",
            "Second term 2\n",
            "Result  3 -1\n"
          ],
          "name": "stdout"
        },
        {
          "output_type": "error",
          "ename": "KeyboardInterrupt",
          "evalue": "ignored",
          "traceback": [
            "\u001b[0;31m---------------------------------------------------------------------------\u001b[0m",
            "\u001b[0;31mKeyboardInterrupt\u001b[0m                         Traceback (most recent call last)",
            "\u001b[0;32m/usr/local/lib/python3.6/dist-packages/ipykernel/kernelbase.py\u001b[0m in \u001b[0;36m_input_request\u001b[0;34m(self, prompt, ident, parent, password)\u001b[0m\n\u001b[1;32m    729\u001b[0m             \u001b[0;32mtry\u001b[0m\u001b[0;34m:\u001b[0m\u001b[0;34m\u001b[0m\u001b[0;34m\u001b[0m\u001b[0m\n\u001b[0;32m--> 730\u001b[0;31m                 \u001b[0mident\u001b[0m\u001b[0;34m,\u001b[0m \u001b[0mreply\u001b[0m \u001b[0;34m=\u001b[0m \u001b[0mself\u001b[0m\u001b[0;34m.\u001b[0m\u001b[0msession\u001b[0m\u001b[0;34m.\u001b[0m\u001b[0mrecv\u001b[0m\u001b[0;34m(\u001b[0m\u001b[0mself\u001b[0m\u001b[0;34m.\u001b[0m\u001b[0mstdin_socket\u001b[0m\u001b[0;34m,\u001b[0m \u001b[0;36m0\u001b[0m\u001b[0;34m)\u001b[0m\u001b[0;34m\u001b[0m\u001b[0;34m\u001b[0m\u001b[0m\n\u001b[0m\u001b[1;32m    731\u001b[0m             \u001b[0;32mexcept\u001b[0m \u001b[0mException\u001b[0m\u001b[0;34m:\u001b[0m\u001b[0;34m\u001b[0m\u001b[0;34m\u001b[0m\u001b[0m\n",
            "\u001b[0;32m/usr/local/lib/python3.6/dist-packages/jupyter_client/session.py\u001b[0m in \u001b[0;36mrecv\u001b[0;34m(self, socket, mode, content, copy)\u001b[0m\n\u001b[1;32m    802\u001b[0m         \u001b[0;32mtry\u001b[0m\u001b[0;34m:\u001b[0m\u001b[0;34m\u001b[0m\u001b[0;34m\u001b[0m\u001b[0m\n\u001b[0;32m--> 803\u001b[0;31m             \u001b[0mmsg_list\u001b[0m \u001b[0;34m=\u001b[0m \u001b[0msocket\u001b[0m\u001b[0;34m.\u001b[0m\u001b[0mrecv_multipart\u001b[0m\u001b[0;34m(\u001b[0m\u001b[0mmode\u001b[0m\u001b[0;34m,\u001b[0m \u001b[0mcopy\u001b[0m\u001b[0;34m=\u001b[0m\u001b[0mcopy\u001b[0m\u001b[0;34m)\u001b[0m\u001b[0;34m\u001b[0m\u001b[0;34m\u001b[0m\u001b[0m\n\u001b[0m\u001b[1;32m    804\u001b[0m         \u001b[0;32mexcept\u001b[0m \u001b[0mzmq\u001b[0m\u001b[0;34m.\u001b[0m\u001b[0mZMQError\u001b[0m \u001b[0;32mas\u001b[0m \u001b[0me\u001b[0m\u001b[0;34m:\u001b[0m\u001b[0;34m\u001b[0m\u001b[0;34m\u001b[0m\u001b[0m\n",
            "\u001b[0;32m/usr/local/lib/python3.6/dist-packages/zmq/sugar/socket.py\u001b[0m in \u001b[0;36mrecv_multipart\u001b[0;34m(self, flags, copy, track)\u001b[0m\n\u001b[1;32m    465\u001b[0m         \"\"\"\n\u001b[0;32m--> 466\u001b[0;31m         \u001b[0mparts\u001b[0m \u001b[0;34m=\u001b[0m \u001b[0;34m[\u001b[0m\u001b[0mself\u001b[0m\u001b[0;34m.\u001b[0m\u001b[0mrecv\u001b[0m\u001b[0;34m(\u001b[0m\u001b[0mflags\u001b[0m\u001b[0;34m,\u001b[0m \u001b[0mcopy\u001b[0m\u001b[0;34m=\u001b[0m\u001b[0mcopy\u001b[0m\u001b[0;34m,\u001b[0m \u001b[0mtrack\u001b[0m\u001b[0;34m=\u001b[0m\u001b[0mtrack\u001b[0m\u001b[0;34m)\u001b[0m\u001b[0;34m]\u001b[0m\u001b[0;34m\u001b[0m\u001b[0;34m\u001b[0m\u001b[0m\n\u001b[0m\u001b[1;32m    467\u001b[0m         \u001b[0;31m# have first part already, only loop while more to receive\u001b[0m\u001b[0;34m\u001b[0m\u001b[0;34m\u001b[0m\u001b[0;34m\u001b[0m\u001b[0m\n",
            "\u001b[0;32mzmq/backend/cython/socket.pyx\u001b[0m in \u001b[0;36mzmq.backend.cython.socket.Socket.recv\u001b[0;34m()\u001b[0m\n",
            "\u001b[0;32mzmq/backend/cython/socket.pyx\u001b[0m in \u001b[0;36mzmq.backend.cython.socket.Socket.recv\u001b[0;34m()\u001b[0m\n",
            "\u001b[0;32mzmq/backend/cython/socket.pyx\u001b[0m in \u001b[0;36mzmq.backend.cython.socket._recv_copy\u001b[0;34m()\u001b[0m\n",
            "\u001b[0;32m/usr/local/lib/python3.6/dist-packages/zmq/backend/cython/checkrc.pxd\u001b[0m in \u001b[0;36mzmq.backend.cython.checkrc._check_rc\u001b[0;34m()\u001b[0m\n",
            "\u001b[0;31mKeyboardInterrupt\u001b[0m: ",
            "\nDuring handling of the above exception, another exception occurred:\n",
            "\u001b[0;31mKeyboardInterrupt\u001b[0m                         Traceback (most recent call last)",
            "\u001b[0;32m<ipython-input-3-5132ea78eead>\u001b[0m in \u001b[0;36m<module>\u001b[0;34m()\u001b[0m\n\u001b[1;32m     15\u001b[0m \u001b[0mdentaku2\u001b[0m \u001b[0;34m=\u001b[0m \u001b[0mDentaku\u001b[0m\u001b[0;34m(\u001b[0m\u001b[0;34m)\u001b[0m\u001b[0;34m\u001b[0m\u001b[0;34m\u001b[0m\u001b[0m\n\u001b[1;32m     16\u001b[0m \u001b[0;32mwhile\u001b[0m \u001b[0;32mTrue\u001b[0m\u001b[0;34m:\u001b[0m\u001b[0;34m\u001b[0m\u001b[0;34m\u001b[0m\u001b[0m\n\u001b[0;32m---> 17\u001b[0;31m     \u001b[0mf\u001b[0m \u001b[0;34m=\u001b[0m \u001b[0mint\u001b[0m\u001b[0;34m(\u001b[0m\u001b[0minput\u001b[0m\u001b[0;34m(\u001b[0m\u001b[0;34m\"First term \"\u001b[0m\u001b[0;34m)\u001b[0m\u001b[0;34m)\u001b[0m\u001b[0;34m\u001b[0m\u001b[0;34m\u001b[0m\u001b[0m\n\u001b[0m\u001b[1;32m     18\u001b[0m     \u001b[0mdentaku1\u001b[0m\u001b[0;34m.\u001b[0m\u001b[0mfirst_term\u001b[0m \u001b[0;34m=\u001b[0m \u001b[0mf\u001b[0m\u001b[0;34m\u001b[0m\u001b[0;34m\u001b[0m\u001b[0m\n\u001b[1;32m     19\u001b[0m     \u001b[0mdentaku2\u001b[0m\u001b[0;34m.\u001b[0m\u001b[0mfirst_term\u001b[0m \u001b[0;34m=\u001b[0m \u001b[0mf\u001b[0m\u001b[0;34m\u001b[0m\u001b[0;34m\u001b[0m\u001b[0m\n",
            "\u001b[0;32m/usr/local/lib/python3.6/dist-packages/ipykernel/kernelbase.py\u001b[0m in \u001b[0;36mraw_input\u001b[0;34m(self, prompt)\u001b[0m\n\u001b[1;32m    703\u001b[0m             \u001b[0mself\u001b[0m\u001b[0;34m.\u001b[0m\u001b[0m_parent_ident\u001b[0m\u001b[0;34m,\u001b[0m\u001b[0;34m\u001b[0m\u001b[0;34m\u001b[0m\u001b[0m\n\u001b[1;32m    704\u001b[0m             \u001b[0mself\u001b[0m\u001b[0;34m.\u001b[0m\u001b[0m_parent_header\u001b[0m\u001b[0;34m,\u001b[0m\u001b[0;34m\u001b[0m\u001b[0;34m\u001b[0m\u001b[0m\n\u001b[0;32m--> 705\u001b[0;31m             \u001b[0mpassword\u001b[0m\u001b[0;34m=\u001b[0m\u001b[0;32mFalse\u001b[0m\u001b[0;34m,\u001b[0m\u001b[0;34m\u001b[0m\u001b[0;34m\u001b[0m\u001b[0m\n\u001b[0m\u001b[1;32m    706\u001b[0m         )\n\u001b[1;32m    707\u001b[0m \u001b[0;34m\u001b[0m\u001b[0m\n",
            "\u001b[0;32m/usr/local/lib/python3.6/dist-packages/ipykernel/kernelbase.py\u001b[0m in \u001b[0;36m_input_request\u001b[0;34m(self, prompt, ident, parent, password)\u001b[0m\n\u001b[1;32m    733\u001b[0m             \u001b[0;32mexcept\u001b[0m \u001b[0mKeyboardInterrupt\u001b[0m\u001b[0;34m:\u001b[0m\u001b[0;34m\u001b[0m\u001b[0;34m\u001b[0m\u001b[0m\n\u001b[1;32m    734\u001b[0m                 \u001b[0;31m# re-raise KeyboardInterrupt, to truncate traceback\u001b[0m\u001b[0;34m\u001b[0m\u001b[0;34m\u001b[0m\u001b[0;34m\u001b[0m\u001b[0m\n\u001b[0;32m--> 735\u001b[0;31m                 \u001b[0;32mraise\u001b[0m \u001b[0mKeyboardInterrupt\u001b[0m\u001b[0;34m\u001b[0m\u001b[0;34m\u001b[0m\u001b[0m\n\u001b[0m\u001b[1;32m    736\u001b[0m             \u001b[0;32melse\u001b[0m\u001b[0;34m:\u001b[0m\u001b[0;34m\u001b[0m\u001b[0;34m\u001b[0m\u001b[0m\n\u001b[1;32m    737\u001b[0m                 \u001b[0;32mbreak\u001b[0m\u001b[0;34m\u001b[0m\u001b[0;34m\u001b[0m\u001b[0m\n",
            "\u001b[0;31mKeyboardInterrupt\u001b[0m: "
          ]
        }
      ]
    },
    {
      "cell_type": "markdown",
      "metadata": {
        "colab_type": "text",
        "hidden": true,
        "id": "U-4FB1eXmNBw"
      },
      "source": [
        "#### 演習 34. `Dentaku`クラスを乗算、除算も扱えるように拡張しなさい。ただし、除算は整数商でかまいません。"
      ]
    },
    {
      "cell_type": "code",
      "metadata": {
        "colab_type": "code",
        "hidden": true,
        "id": "kXXYKrH4mMrD",
        "outputId": "5301c309-aa11-40d2-818b-ad125cf06d19",
        "colab": {
          "base_uri": "https://localhost:8080/",
          "height": 756
        }
      },
      "source": [
        "class Dentaku():\n",
        "    def __init__(self):\n",
        "        self.first_term = 0\n",
        "        self.second_term = 0\n",
        "        self.result = 0\n",
        "        self_operation = \"+\"\n",
        "\n",
        "    def do_operation(self):\n",
        "        if self.operation == \"+\":\n",
        "            self.result = self.first_term + self.second_term\n",
        "        elif self.operation == \"-\":\n",
        "            self.result = self.first_term - self.second_term\n",
        "        elif self.operation == \"*\":\n",
        "            self.result = self.first_term * self.second_term\n",
        "        elif self.operation == \"/\":\n",
        "            self.result = self.first_term // self.second_term\n",
        "\n",
        "# ここからメインプログラム\n",
        "dentaku = Dentaku()\n",
        "while True:\n",
        "    f = int(input(\"First term \"))\n",
        "    dentaku.first_term = f\n",
        "    o = input(\"Operation \")\n",
        "    dentaku.operation = o\n",
        "    s = int(input(\"Second term \"))\n",
        "    dentaku.second_term = s\n",
        "    dentaku.do_operation()\n",
        "    r = dentaku.result\n",
        "    print(\"Result \", r)"
      ],
      "execution_count": 0,
      "outputs": [
        {
          "output_type": "stream",
          "text": [
            "First term 1\n",
            "Operation +\n",
            "Second term 2\n",
            "Result  3\n"
          ],
          "name": "stdout"
        },
        {
          "output_type": "error",
          "ename": "KeyboardInterrupt",
          "evalue": "",
          "traceback": [
            "\u001b[0;31m---------------------------------------------------------------------------\u001b[0m",
            "\u001b[0;31mKeyboardInterrupt\u001b[0m                         Traceback (most recent call last)",
            "\u001b[0;32m~/.local/lib/python3.5/site-packages/ipykernel/kernelbase.py\u001b[0m in \u001b[0;36m_input_request\u001b[0;34m(self, prompt, ident, parent, password)\u001b[0m\n\u001b[1;32m    884\u001b[0m             \u001b[0;32mtry\u001b[0m\u001b[0;34m:\u001b[0m\u001b[0;34m\u001b[0m\u001b[0m\n\u001b[0;32m--> 885\u001b[0;31m                 \u001b[0mident\u001b[0m\u001b[0;34m,\u001b[0m \u001b[0mreply\u001b[0m \u001b[0;34m=\u001b[0m \u001b[0mself\u001b[0m\u001b[0;34m.\u001b[0m\u001b[0msession\u001b[0m\u001b[0;34m.\u001b[0m\u001b[0mrecv\u001b[0m\u001b[0;34m(\u001b[0m\u001b[0mself\u001b[0m\u001b[0;34m.\u001b[0m\u001b[0mstdin_socket\u001b[0m\u001b[0;34m,\u001b[0m \u001b[0;36m0\u001b[0m\u001b[0;34m)\u001b[0m\u001b[0;34m\u001b[0m\u001b[0m\n\u001b[0m\u001b[1;32m    886\u001b[0m             \u001b[0;32mexcept\u001b[0m \u001b[0mException\u001b[0m\u001b[0;34m:\u001b[0m\u001b[0;34m\u001b[0m\u001b[0m\n",
            "\u001b[0;32m~/.local/lib/python3.5/site-packages/jupyter_client/session.py\u001b[0m in \u001b[0;36mrecv\u001b[0;34m(self, socket, mode, content, copy)\u001b[0m\n\u001b[1;32m    802\u001b[0m         \u001b[0;32mtry\u001b[0m\u001b[0;34m:\u001b[0m\u001b[0;34m\u001b[0m\u001b[0m\n\u001b[0;32m--> 803\u001b[0;31m             \u001b[0mmsg_list\u001b[0m \u001b[0;34m=\u001b[0m \u001b[0msocket\u001b[0m\u001b[0;34m.\u001b[0m\u001b[0mrecv_multipart\u001b[0m\u001b[0;34m(\u001b[0m\u001b[0mmode\u001b[0m\u001b[0;34m,\u001b[0m \u001b[0mcopy\u001b[0m\u001b[0;34m=\u001b[0m\u001b[0mcopy\u001b[0m\u001b[0;34m)\u001b[0m\u001b[0;34m\u001b[0m\u001b[0m\n\u001b[0m\u001b[1;32m    804\u001b[0m         \u001b[0;32mexcept\u001b[0m \u001b[0mzmq\u001b[0m\u001b[0;34m.\u001b[0m\u001b[0mZMQError\u001b[0m \u001b[0;32mas\u001b[0m \u001b[0me\u001b[0m\u001b[0;34m:\u001b[0m\u001b[0;34m\u001b[0m\u001b[0m\n",
            "\u001b[0;32m~/.local/lib/python3.5/site-packages/zmq/sugar/socket.py\u001b[0m in \u001b[0;36mrecv_multipart\u001b[0;34m(self, flags, copy, track)\u001b[0m\n\u001b[1;32m    474\u001b[0m         \"\"\"\n\u001b[0;32m--> 475\u001b[0;31m         \u001b[0mparts\u001b[0m \u001b[0;34m=\u001b[0m \u001b[0;34m[\u001b[0m\u001b[0mself\u001b[0m\u001b[0;34m.\u001b[0m\u001b[0mrecv\u001b[0m\u001b[0;34m(\u001b[0m\u001b[0mflags\u001b[0m\u001b[0;34m,\u001b[0m \u001b[0mcopy\u001b[0m\u001b[0;34m=\u001b[0m\u001b[0mcopy\u001b[0m\u001b[0;34m,\u001b[0m \u001b[0mtrack\u001b[0m\u001b[0;34m=\u001b[0m\u001b[0mtrack\u001b[0m\u001b[0;34m)\u001b[0m\u001b[0;34m]\u001b[0m\u001b[0;34m\u001b[0m\u001b[0m\n\u001b[0m\u001b[1;32m    476\u001b[0m         \u001b[0;31m# have first part already, only loop while more to receive\u001b[0m\u001b[0;34m\u001b[0m\u001b[0;34m\u001b[0m\u001b[0m\n",
            "\u001b[0;32mzmq/backend/cython/socket.pyx\u001b[0m in \u001b[0;36mzmq.backend.cython.socket.Socket.recv\u001b[0;34m()\u001b[0m\n",
            "\u001b[0;32mzmq/backend/cython/socket.pyx\u001b[0m in \u001b[0;36mzmq.backend.cython.socket.Socket.recv\u001b[0;34m()\u001b[0m\n",
            "\u001b[0;32mzmq/backend/cython/socket.pyx\u001b[0m in \u001b[0;36mzmq.backend.cython.socket._recv_copy\u001b[0;34m()\u001b[0m\n",
            "\u001b[0;32m~/.local/lib/python3.5/site-packages/zmq/backend/cython/checkrc.pxd\u001b[0m in \u001b[0;36mzmq.backend.cython.checkrc._check_rc\u001b[0;34m()\u001b[0m\n",
            "\u001b[0;31mKeyboardInterrupt\u001b[0m: ",
            "\nDuring handling of the above exception, another exception occurred:\n",
            "\u001b[0;31mKeyboardInterrupt\u001b[0m                         Traceback (most recent call last)",
            "\u001b[0;32m<ipython-input-1-fe029b1e4362>\u001b[0m in \u001b[0;36m<module>\u001b[0;34m\u001b[0m\n\u001b[1;32m     19\u001b[0m \u001b[0mdentaku\u001b[0m \u001b[0;34m=\u001b[0m \u001b[0mDentaku\u001b[0m\u001b[0;34m(\u001b[0m\u001b[0;34m)\u001b[0m\u001b[0;34m\u001b[0m\u001b[0m\n\u001b[1;32m     20\u001b[0m \u001b[0;32mwhile\u001b[0m \u001b[0;32mTrue\u001b[0m\u001b[0;34m:\u001b[0m\u001b[0;34m\u001b[0m\u001b[0m\n\u001b[0;32m---> 21\u001b[0;31m     \u001b[0mf\u001b[0m \u001b[0;34m=\u001b[0m \u001b[0mint\u001b[0m\u001b[0;34m(\u001b[0m\u001b[0minput\u001b[0m\u001b[0;34m(\u001b[0m\u001b[0;34m\"First term \"\u001b[0m\u001b[0;34m)\u001b[0m\u001b[0;34m)\u001b[0m\u001b[0;34m\u001b[0m\u001b[0m\n\u001b[0m\u001b[1;32m     22\u001b[0m     \u001b[0mdentaku\u001b[0m\u001b[0;34m.\u001b[0m\u001b[0mfirst_term\u001b[0m \u001b[0;34m=\u001b[0m \u001b[0mf\u001b[0m\u001b[0;34m\u001b[0m\u001b[0m\n\u001b[1;32m     23\u001b[0m     \u001b[0mo\u001b[0m \u001b[0;34m=\u001b[0m \u001b[0minput\u001b[0m\u001b[0;34m(\u001b[0m\u001b[0;34m\"Operation \"\u001b[0m\u001b[0;34m)\u001b[0m\u001b[0;34m\u001b[0m\u001b[0m\n",
            "\u001b[0;32m~/.local/lib/python3.5/site-packages/ipykernel/kernelbase.py\u001b[0m in \u001b[0;36mraw_input\u001b[0;34m(self, prompt)\u001b[0m\n\u001b[1;32m    858\u001b[0m             \u001b[0mself\u001b[0m\u001b[0;34m.\u001b[0m\u001b[0m_parent_ident\u001b[0m\u001b[0;34m,\u001b[0m\u001b[0;34m\u001b[0m\u001b[0m\n\u001b[1;32m    859\u001b[0m             \u001b[0mself\u001b[0m\u001b[0;34m.\u001b[0m\u001b[0m_parent_header\u001b[0m\u001b[0;34m,\u001b[0m\u001b[0;34m\u001b[0m\u001b[0m\n\u001b[0;32m--> 860\u001b[0;31m             \u001b[0mpassword\u001b[0m\u001b[0;34m=\u001b[0m\u001b[0;32mFalse\u001b[0m\u001b[0;34m,\u001b[0m\u001b[0;34m\u001b[0m\u001b[0m\n\u001b[0m\u001b[1;32m    861\u001b[0m         )\n\u001b[1;32m    862\u001b[0m \u001b[0;34m\u001b[0m\u001b[0m\n",
            "\u001b[0;32m~/.local/lib/python3.5/site-packages/ipykernel/kernelbase.py\u001b[0m in \u001b[0;36m_input_request\u001b[0;34m(self, prompt, ident, parent, password)\u001b[0m\n\u001b[1;32m    888\u001b[0m             \u001b[0;32mexcept\u001b[0m \u001b[0mKeyboardInterrupt\u001b[0m\u001b[0;34m:\u001b[0m\u001b[0;34m\u001b[0m\u001b[0m\n\u001b[1;32m    889\u001b[0m                 \u001b[0;31m# re-raise KeyboardInterrupt, to truncate traceback\u001b[0m\u001b[0;34m\u001b[0m\u001b[0;34m\u001b[0m\u001b[0m\n\u001b[0;32m--> 890\u001b[0;31m                 \u001b[0;32mraise\u001b[0m \u001b[0mKeyboardInterrupt\u001b[0m\u001b[0;34m\u001b[0m\u001b[0m\n\u001b[0m\u001b[1;32m    891\u001b[0m             \u001b[0;32melse\u001b[0m\u001b[0;34m:\u001b[0m\u001b[0;34m\u001b[0m\u001b[0m\n\u001b[1;32m    892\u001b[0m                 \u001b[0;32mbreak\u001b[0m\u001b[0;34m\u001b[0m\u001b[0m\n",
            "\u001b[0;31mKeyboardInterrupt\u001b[0m: "
          ]
        }
      ]
    },
    {
      "cell_type": "markdown",
      "metadata": {
        "colab_type": "text",
        "hidden": true,
        "id": "wfLH7Q7Tn3dQ"
      },
      "source": [
        "#### 演習 35. tkinterで作成した電卓プログラムについて、`Dentaku`クラスを利用するように改造しなさい"
      ]
    },
    {
      "cell_type": "code",
      "metadata": {
        "colab_type": "code",
        "hidden": true,
        "id": "AoSRocGol_jR",
        "colab": {}
      },
      "source": [
        "import tkinter as tk\n",
        "\n",
        "# 計算機能のための変数とイベント用の関数定義\n",
        "# Frameのサブクラスを使った実装例\n",
        "\n",
        "# 2項演算のモデル\n",
        "# 入力中の数字\n",
        "current_number = 0\n",
        "\n",
        "class Dentaku():\n",
        "    def __init__(self):\n",
        "        self.first_term = 0\n",
        "        self.second_term = 0\n",
        "        self.result = 0\n",
        "        self_operation = \"+\"\n",
        "\n",
        "    def do_operation(self):\n",
        "        if self.operation == \"+\":\n",
        "            self.result = self.first_term + self.second_term\n",
        "        elif self.operation == \"-\":\n",
        "            self.result = self.first_term - self.second_term\n",
        "        elif self.operation == \"*\":\n",
        "            self.result = self.first_term * self.second_term\n",
        "        elif self.operation == \"/\":\n",
        "            self.result = self.first_term // self.second_term\n",
        "  \n",
        "#\n",
        "# tk.Frameを継承したMyFrameというクラスを作り\n",
        "# その中でウィジェットやコールバック関数（メソッド）を\n",
        "# 設定する。tkinterを使う定番\n",
        "#\n",
        "class MyFrame(tk.Frame):\n",
        "#\n",
        "# __init__はクラスオブジェクトを作る際の初期化メソッド\n",
        "# アンダースコアはそれぞれ2つずつ\n",
        "    def __init__(self,master = None):\n",
        "        super().__init__(master)\n",
        "# あとで参照しないウィジェットの作成、ローカル変数\n",
        "        b1 = tk.Button(self,text='1', command=lambda:self.key(1))\n",
        "        b2 = tk.Button(self,text='2', command=lambda:self.key(2))\n",
        "        b3 = tk.Button(self,text='3', command=lambda:self.key(3))\n",
        "        b4 = tk.Button(self,text='4', command=lambda:self.key(4))\n",
        "        b5 = tk.Button(self,text='5', command=lambda:self.key(5))\n",
        "        b6 = tk.Button(self,text='6', command=lambda:self.key(6))\n",
        "        b7 = tk.Button(self,text='7', command=lambda:self.key(7))\n",
        "        b8 = tk.Button(self,text='8', command=lambda:self.key(8))\n",
        "        b9 = tk.Button(self,text='9', command=lambda:self.key(9))\n",
        "        b0 = tk.Button(self,text='0', command=lambda:self.key(0))\n",
        "        bc = tk.Button(self,text='C', command=self.clear)\n",
        "        bp = tk.Button(self,text='+', command=lambda:self.operation(\"+\"))\n",
        "        bm = tk.Button(self,text='-', command=lambda:self.operation(\"-\"))\n",
        "        bt = tk.Button(self,text='*', command=lambda:self.operation(\"*\"))\n",
        "        bd = tk.Button(self,text='/', command=lambda:self.operation(\"/\"))\n",
        "        be = tk.Button(self,text='=', command=self.eq)\n",
        "\n",
        "# Grid型ジオメトリマネージャによるウィジェット割付\n",
        "        b1.grid(row=3,column=0)\n",
        "        b2.grid(row=3,column=1)\n",
        "        b3.grid(row=3,column=2)\n",
        "        b4.grid(row=2,column=0)\n",
        "        b5.grid(row=2,column=1)\n",
        "        b6.grid(row=2,column=2)\n",
        "        b7.grid(row=1,column=0)\n",
        "        b8.grid(row=1,column=1)\n",
        "        b9.grid(row=1,column=2)\n",
        "        b0.grid(row=4,column=0)\n",
        "        bc.grid(row=1,column=3)\n",
        "        be.grid(row=4,column=3)\n",
        "        bp.grid(row=2,column=3)\n",
        "        bm.grid(row=3,column=4)\n",
        "        bt.grid(row=2,column=4)\n",
        "        bd.grid(row=1,column=4)\n",
        "\n",
        "# 他のメソッドで参照する数値を表示するウィジェット、クラスオブジェクトの\n",
        "# 変数として作成、頭にself.がつく\n",
        "        self.e = tk.Entry(self)\n",
        "        self.e.grid(row=0,column=0,columnspan=4)\n",
        "# クラスの定義では\n",
        "# メソッドの最初の引数はself,中でクラスオブジェクトの変数、\n",
        "# メソッドはselfを付けて参照\n",
        "#\n",
        "    \n",
        "    def key(self,n):\n",
        "        global current_number\n",
        "        current_number = current_number * 10 + n\n",
        "        self.show_number(current_number)\n",
        "\n",
        "    def clear(self):\n",
        "        global current_number\n",
        "        current_number = 0\n",
        "        self.show_number(current_number)\n",
        "    \n",
        "    def operation(self,o):\n",
        "        global current_number\n",
        "        dentaku.operation = o\n",
        "        dentaku.first_term = current_number\n",
        "        self.show_number(current_number)\n",
        "        self.clear()\n",
        "\n",
        "    def eq(self):\n",
        "        global current_number\n",
        "        dentaku.second_term = current_number\n",
        "        dentaku.do_operation()\n",
        "        self.show_number(dentaku.result)\n",
        "\n",
        "    def show_number(self, num):\n",
        "        self.e.delete(0,tk.END)\n",
        "        self.e.insert(0,str(num))\n",
        "\n",
        "#\n",
        "# ここからメインプログラム\n",
        "#\n",
        "dentaku = Dentaku()\n",
        "root = tk.Tk()\n",
        "f = MyFrame(root)\n",
        "f.pack()\n",
        "f.mainloop()"
      ],
      "execution_count": 0,
      "outputs": []
    },
    {
      "cell_type": "markdown",
      "metadata": {
        "heading_collapsed": true,
        "hidden": true,
        "id": "F51FON-ZJLIW",
        "colab_type": "text"
      },
      "source": [
        "## 9.4 クラスの変数とアクセスの制限"
      ]
    },
    {
      "cell_type": "markdown",
      "metadata": {
        "hidden": true,
        "id": "D2ZsA56pJLIW",
        "colab_type": "text"
      },
      "source": [
        "プログラム25 クラス変数とインスタンス変数"
      ]
    },
    {
      "cell_type": "code",
      "metadata": {
        "hidden": true,
        "id": "-YK_JsbxJLIW",
        "colab_type": "code",
        "colab": {},
        "outputId": "c03ab063-557b-4bc7-e188-61cde74df9b8"
      },
      "source": [
        "# クラスの練習\n",
        "class MyClass():\n",
        "    # 以下はクラス変数\n",
        "    a = \"マイクラス\"\n",
        "    __b = 0\n",
        "\n",
        "    # 以下は生成する際に呼ばれる関数, mydataの初期値を\n",
        "    # 引数で与える\n",
        "    def __init__(self, data):\n",
        "        # __numberはインスタンスの通し番号\n",
        "        self.__number = MyClass.__b\n",
        "        self.mydata = data\n",
        "        print(\"MyClass Object is created, number: \", self.__number)\n",
        "    # クラス変数を1増やす\n",
        "        MyClass.__b += 1\n",
        "\n",
        "    # 通し番号を表示するメソッド\n",
        "    def show_number(self):\n",
        "        print(self.__number)\n",
        "\n",
        "#\n",
        "# ここからメインプログラム\n",
        "#\n",
        "if __name__ == \"__main__\":\n",
        "    print(\"MyClassのクラス変数 a:\", MyClass.a)\n",
        "    \n",
        "    instance1 = MyClass(1)\n",
        "    instance2 = MyClass(10)\n",
        "    \n",
        "    instance1.show_number()\n",
        "    instance2.show_number()\n",
        "    \n",
        "    print(\"mydata of instance1: \", instance1.mydata)\n",
        "    print(\"mydata of instance2: \", instance2.mydata)\n",
        "    instance1.mydata += 1\n",
        "    instance2.mydata += 2\n",
        "    print(\"mydata of instance1: \", instance1.mydata)\n",
        "    print(\"mydata of instance2: \", instance2.mydata)"
      ],
      "execution_count": 0,
      "outputs": [
        {
          "output_type": "stream",
          "text": [
            "MyClassのクラス変数 a: マイクラス\n",
            "MyClass Object is created, number:  0\n",
            "MyClass Object is created, number:  1\n",
            "0\n",
            "1\n",
            "mydata of instance1:  1\n",
            "mydata of instance2:  10\n",
            "mydata of instance1:  2\n",
            "mydata of instance2:  12\n"
          ],
          "name": "stdout"
        }
      ]
    },
    {
      "cell_type": "code",
      "metadata": {
        "hidden": true,
        "id": "CRFYXduHJLIX",
        "colab_type": "code",
        "colab": {},
        "outputId": "f7e7cd2c-f4a3-443d-9861-0d92439d5d08"
      },
      "source": [
        "print(instance1.__number)"
      ],
      "execution_count": 0,
      "outputs": [
        {
          "output_type": "error",
          "ename": "AttributeError",
          "evalue": "'MyClass' object has no attribute '__number'",
          "traceback": [
            "\u001b[0;31m---------------------------------------------------------------------------\u001b[0m",
            "\u001b[0;31mAttributeError\u001b[0m                            Traceback (most recent call last)",
            "\u001b[0;32m<ipython-input-2-c8d0805a95d3>\u001b[0m in \u001b[0;36m<module>\u001b[0;34m\u001b[0m\n\u001b[0;32m----> 1\u001b[0;31m \u001b[0mprint\u001b[0m\u001b[0;34m(\u001b[0m\u001b[0minstance1\u001b[0m\u001b[0;34m.\u001b[0m\u001b[0m__number\u001b[0m\u001b[0;34m)\u001b[0m\u001b[0;34m\u001b[0m\u001b[0m\n\u001b[0m",
            "\u001b[0;31mAttributeError\u001b[0m: 'MyClass' object has no attribute '__number'"
          ]
        }
      ]
    },
    {
      "cell_type": "markdown",
      "metadata": {
        "heading_collapsed": true,
        "id": "M9UBFihQJLIY",
        "colab_type": "text"
      },
      "source": [
        "# 10. リスト"
      ]
    },
    {
      "cell_type": "markdown",
      "metadata": {
        "heading_collapsed": true,
        "hidden": true,
        "id": "BGM5wvfXJLIZ",
        "colab_type": "text"
      },
      "source": [
        "## 10.2 Python Shellを用いた学習"
      ]
    },
    {
      "cell_type": "code",
      "metadata": {
        "hidden": true,
        "id": "XdEMFUJjJLIZ",
        "colab_type": "code",
        "colab": {},
        "outputId": "1b1eb053-cf08-4383-f894-8fcbf8390ec5"
      },
      "source": [
        "a = [1, 2, 3]\n",
        "for d in a:\n",
        "    print(d)"
      ],
      "execution_count": 0,
      "outputs": [
        {
          "output_type": "stream",
          "text": [
            "1\n",
            "2\n",
            "3\n"
          ],
          "name": "stdout"
        }
      ]
    },
    {
      "cell_type": "markdown",
      "metadata": {
        "heading_collapsed": true,
        "hidden": true,
        "id": "d_z2dzIGJLIa",
        "colab_type": "text"
      },
      "source": [
        "## 10.3 リストとは"
      ]
    },
    {
      "cell_type": "code",
      "metadata": {
        "hidden": true,
        "id": "hRsqEtBlJLIa",
        "colab_type": "code",
        "colab": {},
        "outputId": "b3200ae6-f876-4858-9f6d-2e6dadb1a90b"
      },
      "source": [
        "a = [5, 1, 3, 4]\n",
        "print(a)\n",
        "print(a[0])\n",
        "print(a[2])"
      ],
      "execution_count": 0,
      "outputs": [
        {
          "output_type": "stream",
          "text": [
            "[5, 1, 3, 4]\n",
            "5\n",
            "3\n"
          ],
          "name": "stdout"
        }
      ]
    },
    {
      "cell_type": "markdown",
      "metadata": {
        "hidden": true,
        "id": "0ciXSg8sJLIb",
        "colab_type": "text"
      },
      "source": [
        "## 10.4 リストの生成"
      ]
    },
    {
      "cell_type": "markdown",
      "metadata": {
        "hidden": true,
        "id": "ibCcc_GxJLIb",
        "colab_type": "text"
      },
      "source": [
        "### 10.4.1 要素を指定した生成"
      ]
    },
    {
      "cell_type": "code",
      "metadata": {
        "hidden": true,
        "id": "h5J5mFNmJLIc",
        "colab_type": "code",
        "colab": {},
        "outputId": "5a6605bd-f0bc-4ac8-f3b4-df94c81b1b86"
      },
      "source": [
        "a = [5, 1, 3, 4]\n",
        "print(a)\n",
        "print(a[0])\n",
        "b = ['三条', '四条', '五条', '七条']\n",
        "print(b)\n",
        "print(b[0])\n",
        "c = 5\n",
        "a = [c, 1, 3, 4]\n",
        "print(a)\n",
        "print(a[0])"
      ],
      "execution_count": 0,
      "outputs": [
        {
          "output_type": "stream",
          "text": [
            "[5, 1, 3, 4]\n",
            "5\n",
            "['三条', '四条', '五条', '七条']\n",
            "三条\n",
            "[5, 1, 3, 4]\n",
            "5\n"
          ],
          "name": "stdout"
        }
      ]
    },
    {
      "cell_type": "markdown",
      "metadata": {
        "hidden": true,
        "id": "2zbqCvAdJLId",
        "colab_type": "text"
      },
      "source": [
        "### 10.4.2 `range()`との組みあわせ"
      ]
    },
    {
      "cell_type": "code",
      "metadata": {
        "hidden": true,
        "id": "Y37quYxDJLId",
        "colab_type": "code",
        "colab": {},
        "outputId": "d95ce1ff-4807-43c9-e245-daf0c731aecd"
      },
      "source": [
        "n = list(range(5))\n",
        "print(n)"
      ],
      "execution_count": 0,
      "outputs": [
        {
          "output_type": "stream",
          "text": [
            "[0, 1, 2, 3, 4]\n"
          ],
          "name": "stdout"
        }
      ]
    },
    {
      "cell_type": "markdown",
      "metadata": {
        "heading_collapsed": true,
        "hidden": true,
        "id": "gmXf8gJxJLIf",
        "colab_type": "text"
      },
      "source": [
        "### 10.4.3 文字列からの生成"
      ]
    },
    {
      "cell_type": "code",
      "metadata": {
        "hidden": true,
        "id": "z4-op_5zJLIf",
        "colab_type": "code",
        "colab": {},
        "outputId": "af54a89e-6e5e-47bd-d4ec-f56b215521e7"
      },
      "source": [
        "s = list('abcde')\n",
        "print(s)"
      ],
      "execution_count": 0,
      "outputs": [
        {
          "output_type": "stream",
          "text": [
            "['a', 'b', 'c', 'd', 'e']\n"
          ],
          "name": "stdout"
        }
      ]
    },
    {
      "cell_type": "code",
      "metadata": {
        "hidden": true,
        "id": "OHRuCTeyJLIg",
        "colab_type": "code",
        "colab": {},
        "outputId": "1b85949c-3644-46f7-802a-fd28728da045"
      },
      "source": [
        "t = \"a textbook of Python\"\n",
        "tlist = t.split()\n",
        "print(tlist)"
      ],
      "execution_count": 0,
      "outputs": [
        {
          "output_type": "stream",
          "text": [
            "['a', 'textbook', 'of', 'Python']\n"
          ],
          "name": "stdout"
        }
      ]
    },
    {
      "cell_type": "markdown",
      "metadata": {
        "heading_collapsed": true,
        "hidden": true,
        "id": "jepBL5aRJLIh",
        "colab_type": "text"
      },
      "source": [
        "## 10.5 リストの要素へのアクセス"
      ]
    },
    {
      "cell_type": "code",
      "metadata": {
        "hidden": true,
        "id": "oVe6IbvUJLIh",
        "colab_type": "code",
        "colab": {},
        "outputId": "e4faaf8a-6187-4628-cca9-41419814c488"
      },
      "source": [
        "a = [5, 1, 3, 4]\n",
        "print(a[0])\n",
        "a[1] = 2\n",
        "print(a)\n",
        "print(len(a))"
      ],
      "execution_count": 0,
      "outputs": [
        {
          "output_type": "stream",
          "text": [
            "5\n",
            "[5, 2, 3, 4]\n",
            "4\n"
          ],
          "name": "stdout"
        }
      ]
    },
    {
      "cell_type": "markdown",
      "metadata": {
        "hidden": true,
        "id": "xn9U4FJtJLIi",
        "colab_type": "text"
      },
      "source": [
        "## 10.6 リストを操作する`for`文"
      ]
    },
    {
      "cell_type": "markdown",
      "metadata": {
        "heading_collapsed": true,
        "hidden": true,
        "id": "XFecmraWJLIj",
        "colab_type": "text"
      },
      "source": [
        "### 10.6.1 リストの長さと`range`関数を組み合わせる方法"
      ]
    },
    {
      "cell_type": "code",
      "metadata": {
        "hidden": true,
        "id": "_0ruStaZJLIj",
        "colab_type": "code",
        "colab": {},
        "outputId": "116f1bd1-f4da-4fa6-8236-6dfdaec92755"
      },
      "source": [
        "a = [5, 1, 3, 4]\n",
        "for i in range(len(a)):\n",
        "    print(i, a[i])"
      ],
      "execution_count": 0,
      "outputs": [
        {
          "output_type": "stream",
          "text": [
            "0 5\n",
            "1 1\n",
            "2 3\n",
            "3 4\n"
          ],
          "name": "stdout"
        }
      ]
    },
    {
      "cell_type": "markdown",
      "metadata": {
        "heading_collapsed": true,
        "hidden": true,
        "id": "gGMiXEe5JLIk",
        "colab_type": "text"
      },
      "source": [
        "### 10.6.2 リストを`for`文で直接使う方法"
      ]
    },
    {
      "cell_type": "code",
      "metadata": {
        "hidden": true,
        "id": "fivMXenVJLIk",
        "colab_type": "code",
        "colab": {},
        "outputId": "1a3a345d-ee3d-4b58-e01a-a19caea5d7ce"
      },
      "source": [
        "a = [5, 1, 3, 4]\n",
        "for d in a:\n",
        "    print(d)"
      ],
      "execution_count": 0,
      "outputs": [
        {
          "output_type": "stream",
          "text": [
            "5\n",
            "1\n",
            "3\n",
            "4\n"
          ],
          "name": "stdout"
        }
      ]
    },
    {
      "cell_type": "markdown",
      "metadata": {
        "heading_collapsed": true,
        "hidden": true,
        "id": "tx8qSzVJJLIm",
        "colab_type": "text"
      },
      "source": [
        "#### 演習36. 平均値を求める"
      ]
    },
    {
      "cell_type": "code",
      "metadata": {
        "hidden": true,
        "id": "Z_6Dcp3OJLIm",
        "colab_type": "code",
        "colab": {},
        "outputId": "a602f25b-0f94-4cec-ca2b-652c37e0b222"
      },
      "source": [
        "a = [5, 1, 3, 4]\n",
        "sum = 0\n",
        "for i in range(len(a)):\n",
        "    sum += a[i]\n",
        "average = sum/len(a)\n",
        "print(average)"
      ],
      "execution_count": 0,
      "outputs": [
        {
          "output_type": "stream",
          "text": [
            "3.25\n"
          ],
          "name": "stdout"
        }
      ]
    },
    {
      "cell_type": "markdown",
      "metadata": {
        "heading_collapsed": true,
        "hidden": true,
        "id": "BAuiSTtsJLIn",
        "colab_type": "text"
      },
      "source": [
        "#### 演習37. リストを直接`for`文で利用する形に上のプログラムを書き換えなさい。"
      ]
    },
    {
      "cell_type": "code",
      "metadata": {
        "hidden": true,
        "id": "AT5wM1wBJLIo",
        "colab_type": "code",
        "colab": {},
        "outputId": "736ae062-f628-4db2-959e-1135d32c133f"
      },
      "source": [
        "a = [5, 1, 3, 4]\n",
        "sum = 0\n",
        "for d in a:\n",
        "    sum += d\n",
        "average = sum/len(a)\n",
        "print(average)"
      ],
      "execution_count": 0,
      "outputs": [
        {
          "output_type": "stream",
          "text": [
            "3.25\n"
          ],
          "name": "stdout"
        }
      ]
    },
    {
      "cell_type": "markdown",
      "metadata": {
        "heading_collapsed": true,
        "hidden": true,
        "id": "MJoO9bP0JLIp",
        "colab_type": "text"
      },
      "source": [
        "## 10.7 負の添え字とスライス"
      ]
    },
    {
      "cell_type": "markdown",
      "metadata": {
        "heading_collapsed": true,
        "hidden": true,
        "id": "aNz-hBAJJLIp",
        "colab_type": "text"
      },
      "source": [
        "### 10.7.1 負の添え字"
      ]
    },
    {
      "cell_type": "code",
      "metadata": {
        "hidden": true,
        "id": "Ix9O6Um8JLIq",
        "colab_type": "code",
        "colab": {},
        "outputId": "691f0215-3d5c-4f9f-e9c0-e70441b5da41"
      },
      "source": [
        "a = [5, 1, 3, 4]\n",
        "print(a[-1])"
      ],
      "execution_count": 0,
      "outputs": [
        {
          "output_type": "stream",
          "text": [
            "4\n"
          ],
          "name": "stdout"
        }
      ]
    },
    {
      "cell_type": "markdown",
      "metadata": {
        "heading_collapsed": true,
        "hidden": true,
        "id": "000tzk6wJLIr",
        "colab_type": "text"
      },
      "source": [
        "### 10.7.2 スライス"
      ]
    },
    {
      "cell_type": "code",
      "metadata": {
        "hidden": true,
        "id": "OxqZnH3yJLIr",
        "colab_type": "code",
        "colab": {},
        "outputId": "302b0189-1862-4938-e93d-b4c408b86c87"
      },
      "source": [
        "a = [5, 1, 3, 4]\n",
        "b = a[1:3]\n",
        "print(b)"
      ],
      "execution_count": 0,
      "outputs": [
        {
          "output_type": "stream",
          "text": [
            "[1, 3]\n"
          ],
          "name": "stdout"
        }
      ]
    },
    {
      "cell_type": "markdown",
      "metadata": {
        "heading_collapsed": true,
        "hidden": true,
        "id": "31QFQWjdJLIt",
        "colab_type": "text"
      },
      "source": [
        "## 10.8 リストへの追加、結合"
      ]
    },
    {
      "cell_type": "markdown",
      "metadata": {
        "heading_collapsed": true,
        "hidden": true,
        "id": "bmChXEzAJLIt",
        "colab_type": "text"
      },
      "source": [
        "### 10.8.1 `append`"
      ]
    },
    {
      "cell_type": "code",
      "metadata": {
        "hidden": true,
        "id": "mB6HHuUTJLIt",
        "colab_type": "code",
        "colab": {},
        "outputId": "cadba085-df05-40af-8921-689dcff112bf"
      },
      "source": [
        "a = [5, 1, 3, 4]\n",
        "a.append(2)\n",
        "print(a)"
      ],
      "execution_count": 0,
      "outputs": [
        {
          "output_type": "stream",
          "text": [
            "[5, 1, 3, 4, 2]\n"
          ],
          "name": "stdout"
        }
      ]
    },
    {
      "cell_type": "markdown",
      "metadata": {
        "heading_collapsed": true,
        "hidden": true,
        "id": "NzIKmk76JLIv",
        "colab_type": "text"
      },
      "source": [
        "### 10.8.2 `extend`"
      ]
    },
    {
      "cell_type": "code",
      "metadata": {
        "hidden": true,
        "id": "G3VkhoFvJLIv",
        "colab_type": "code",
        "colab": {},
        "outputId": "93c37054-57a5-4488-8ae4-dc929d107d66"
      },
      "source": [
        "a = [5, 1, 3, 4]\n",
        "b = [2, 6]\n",
        "a.extend(b)\n",
        "print(a)"
      ],
      "execution_count": 0,
      "outputs": [
        {
          "output_type": "stream",
          "text": [
            "[5, 1, 3, 4, 2, 6]\n"
          ],
          "name": "stdout"
        }
      ]
    },
    {
      "cell_type": "code",
      "metadata": {
        "hidden": true,
        "id": "Af6CYGSBJLIw",
        "colab_type": "code",
        "colab": {},
        "outputId": "f695ef25-8d6f-4bb5-f0b5-736e513aff2b"
      },
      "source": [
        "a = [5, 1, 3, 4]\n",
        "b = [2, 6]\n",
        "a.append(b)\n",
        "print(a)"
      ],
      "execution_count": 0,
      "outputs": [
        {
          "output_type": "stream",
          "text": [
            "[5, 1, 3, 4, [2, 6]]\n"
          ],
          "name": "stdout"
        }
      ]
    },
    {
      "cell_type": "markdown",
      "metadata": {
        "heading_collapsed": true,
        "hidden": true,
        "id": "S9WlQfMgJLIx",
        "colab_type": "text"
      },
      "source": [
        "## 10.9 リストのリスト"
      ]
    },
    {
      "cell_type": "code",
      "metadata": {
        "hidden": true,
        "id": "hTfaXqSQJLIx",
        "colab_type": "code",
        "colab": {},
        "outputId": "b4693c2c-4ef1-4a2a-8235-b37bfc53a7c1"
      },
      "source": [
        "a = [[1, 2, 3], [4, 5, 6], [7, 8, 9]]\n",
        "print(a)\n",
        "print(a[0])\n",
        "print(a[0][1])"
      ],
      "execution_count": 0,
      "outputs": [
        {
          "output_type": "stream",
          "text": [
            "[[1, 2, 3], [4, 5, 6], [7, 8, 9]]\n",
            "[1, 2, 3]\n",
            "2\n"
          ],
          "name": "stdout"
        }
      ]
    },
    {
      "cell_type": "code",
      "metadata": {
        "hidden": true,
        "id": "D4UQclEVJLIy",
        "colab_type": "code",
        "colab": {},
        "outputId": "08c550e1-9ea2-44c3-b88b-4cfe0fd4dfa2"
      },
      "source": [
        "a = [[1, 2, 3], [4, 5, 6], [7, 8, 9]]\n",
        "sum = 0\n",
        "for i in range(len(a)):\n",
        "    for j in range(len(a[i])):\n",
        "        sum += a[i][j]\n",
        "print(sum)"
      ],
      "execution_count": 0,
      "outputs": [
        {
          "output_type": "stream",
          "text": [
            "45\n"
          ],
          "name": "stdout"
        }
      ]
    },
    {
      "cell_type": "code",
      "metadata": {
        "hidden": true,
        "id": "EUZMvS9xJLIz",
        "colab_type": "code",
        "colab": {},
        "outputId": "f2fde06c-d82b-4cc6-a7d1-408ca3280fd7"
      },
      "source": [
        "a = [[1, 2, 3], [4, 5, 6], [7, 8, 9]]\n",
        "sum = 0\n",
        "for row in a:\n",
        "    for element in row:\n",
        "        sum += element\n",
        "print(sum)"
      ],
      "execution_count": 0,
      "outputs": [
        {
          "output_type": "stream",
          "text": [
            "45\n"
          ],
          "name": "stdout"
        }
      ]
    },
    {
      "cell_type": "markdown",
      "metadata": {
        "heading_collapsed": true,
        "hidden": true,
        "id": "EOk1--mlJLI0",
        "colab_type": "text"
      },
      "source": [
        "## 10.10 内包表記"
      ]
    },
    {
      "cell_type": "code",
      "metadata": {
        "hidden": true,
        "id": "FA2KBuONJLI0",
        "colab_type": "code",
        "colab": {},
        "outputId": "656e1082-357b-4095-8af2-710a63b708b3"
      },
      "source": [
        "a = []\n",
        "for i in range(5):\n",
        "    a.append(i*i)\n",
        "print(a)"
      ],
      "execution_count": 0,
      "outputs": [
        {
          "output_type": "stream",
          "text": [
            "[0, 1, 4, 9, 16]\n"
          ],
          "name": "stdout"
        }
      ]
    },
    {
      "cell_type": "code",
      "metadata": {
        "hidden": true,
        "id": "381sPZNvJLI1",
        "colab_type": "code",
        "colab": {},
        "outputId": "8eeb8cb1-0b8a-412b-b2cf-54993dd3d2d8"
      },
      "source": [
        "a = [i*i for i in range(5)]\n",
        "print(a)"
      ],
      "execution_count": 0,
      "outputs": [
        {
          "output_type": "stream",
          "text": [
            "[0, 1, 4, 9, 16]\n"
          ],
          "name": "stdout"
        }
      ]
    },
    {
      "cell_type": "markdown",
      "metadata": {
        "heading_collapsed": true,
        "hidden": true,
        "id": "MGu9nforJLI3",
        "colab_type": "text"
      },
      "source": [
        "## 10.11 リストの代入と複製"
      ]
    },
    {
      "cell_type": "code",
      "metadata": {
        "hidden": true,
        "id": "BEBvtJYzJLI3",
        "colab_type": "code",
        "colab": {},
        "outputId": "2e86fc7d-96c1-451b-d20e-07aac7c6b272"
      },
      "source": [
        "a = [1, 2, 3]\n",
        "b = a\n",
        "print(a)\n",
        "print(b)\n",
        "b[0] = 0\n",
        "a[1] = 0\n",
        "print(a)\n",
        "print(b)\n",
        "print(id(a),id(b))"
      ],
      "execution_count": 0,
      "outputs": [
        {
          "output_type": "stream",
          "text": [
            "[1, 2, 3]\n",
            "[1, 2, 3]\n",
            "[0, 0, 3]\n",
            "[0, 0, 3]\n",
            "140158393388104 140158393388104\n"
          ],
          "name": "stdout"
        }
      ]
    },
    {
      "cell_type": "code",
      "metadata": {
        "hidden": true,
        "id": "nj8AVzJlJLI4",
        "colab_type": "code",
        "colab": {},
        "outputId": "70500434-c23b-4a07-fb44-b80420e538c5"
      },
      "source": [
        "a = [1, 2, 3]\n",
        "b = a.copy()\n",
        "print(a)\n",
        "print(b)\n",
        "b[0] = 0\n",
        "a[1] = 0\n",
        "print(a)\n",
        "print(b)\n",
        "print(id(a),id(b))"
      ],
      "execution_count": 0,
      "outputs": [
        {
          "output_type": "stream",
          "text": [
            "[1, 2, 3]\n",
            "[1, 2, 3]\n",
            "[1, 0, 3]\n",
            "[0, 2, 3]\n",
            "140158389756424 140158391676744\n"
          ],
          "name": "stdout"
        }
      ]
    },
    {
      "cell_type": "markdown",
      "metadata": {
        "heading_collapsed": true,
        "hidden": true,
        "id": "Y2AJJN46JLI6",
        "colab_type": "text"
      },
      "source": [
        "## 10.12 イミュータブルとミュータブル"
      ]
    },
    {
      "cell_type": "code",
      "metadata": {
        "hidden": true,
        "id": "PWPZrsUUJLI6",
        "colab_type": "code",
        "colab": {},
        "outputId": "8608ad01-ad19-4ca4-e05c-1e8fb12d5392"
      },
      "source": [
        "a = 1\n",
        "b = a\n",
        "b = 2\n",
        "print(a, b)"
      ],
      "execution_count": 0,
      "outputs": [
        {
          "output_type": "stream",
          "text": [
            "1 2\n"
          ],
          "name": "stdout"
        }
      ]
    },
    {
      "cell_type": "markdown",
      "metadata": {
        "heading_collapsed": true,
        "hidden": true,
        "id": "_6l9nZ6kJLI7",
        "colab_type": "text"
      },
      "source": [
        "### 10.12.1 数値や文字列はイミュータブル（変更不能）なオブジェクト"
      ]
    },
    {
      "cell_type": "code",
      "metadata": {
        "hidden": true,
        "id": "4zXk-DshJLI7",
        "colab_type": "code",
        "colab": {},
        "outputId": "816a1d80-db3c-40aa-a5ee-f93b924eed43"
      },
      "source": [
        "a = 1\n",
        "b = a\n",
        "print(id(a), id(b))\n",
        "b= 2\n",
        "print(id(a), id(b))"
      ],
      "execution_count": 0,
      "outputs": [
        {
          "output_type": "stream",
          "text": [
            "10853632 10853632\n",
            "10853632 10853664\n"
          ],
          "name": "stdout"
        }
      ]
    },
    {
      "cell_type": "markdown",
      "metadata": {
        "heading_collapsed": true,
        "hidden": true,
        "id": "H9nYuqq3JLI9",
        "colab_type": "text"
      },
      "source": [
        "## 10.13 浅いコピー、深いコピー"
      ]
    },
    {
      "cell_type": "code",
      "metadata": {
        "hidden": true,
        "id": "CyqSFHDyJLI9",
        "colab_type": "code",
        "colab": {},
        "outputId": "7ee36f19-0fbf-41b3-d10f-851129fd6131"
      },
      "source": [
        "a = [[1, 2], [3, 4]]\n",
        "b = a.copy()\n",
        "b.append([5, 6])\n",
        "print(a)\n",
        "print(b)\n",
        "b[0][0] = 0\n",
        "print(a)\n",
        "print(b)\n",
        "print(id(a[0]), id(b[0]))"
      ],
      "execution_count": 0,
      "outputs": [
        {
          "output_type": "stream",
          "text": [
            "[[1, 2], [3, 4]]\n",
            "[[1, 2], [3, 4], [5, 6]]\n",
            "[[0, 2], [3, 4]]\n",
            "[[0, 2], [3, 4], [5, 6]]\n",
            "140158393268488 140158393268488\n"
          ],
          "name": "stdout"
        }
      ]
    },
    {
      "cell_type": "code",
      "metadata": {
        "hidden": true,
        "id": "9HQ2h2mMJLJB",
        "colab_type": "code",
        "colab": {},
        "outputId": "fa36bdbf-4253-474d-a422-ebba7044da3a"
      },
      "source": [
        "import copy\n",
        "a = [[1, 2], [3, 4]]\n",
        "b = copy.deepcopy(a)\n",
        "b.append([5, 6])\n",
        "print(a)\n",
        "print(b)\n",
        "b[0][0] = 0\n",
        "print(a)\n",
        "print(b)\n",
        "print(id(a[0]), id(b[0]))"
      ],
      "execution_count": 0,
      "outputs": [
        {
          "output_type": "stream",
          "text": [
            "[[1, 2], [3, 4]]\n",
            "[[1, 2], [3, 4], [5, 6]]\n",
            "[[1, 2], [3, 4]]\n",
            "[[0, 2], [3, 4], [5, 6]]\n",
            "140158389643208 140158392078600\n"
          ],
          "name": "stdout"
        }
      ]
    },
    {
      "cell_type": "markdown",
      "metadata": {
        "heading_collapsed": true,
        "id": "X10nEDR-JLJC",
        "colab_type": "text"
      },
      "source": [
        "# 11. ファイル入出力"
      ]
    },
    {
      "cell_type": "markdown",
      "metadata": {
        "heading_collapsed": true,
        "hidden": true,
        "id": "C2e8SWJVJLJC",
        "colab_type": "text"
      },
      "source": [
        "## 11.4 まずは動かしてみよう"
      ]
    },
    {
      "cell_type": "markdown",
      "metadata": {
        "heading_collapsed": true,
        "hidden": true,
        "id": "byj9qEwGJLJC",
        "colab_type": "text"
      },
      "source": [
        "### 11.4.1 ソースコード"
      ]
    },
    {
      "cell_type": "markdown",
      "metadata": {
        "hidden": true,
        "id": "F2qzoynmJLJD",
        "colab_type": "text"
      },
      "source": [
        "プログラム26 ファイル入出力の例題"
      ]
    },
    {
      "cell_type": "code",
      "metadata": {
        "hidden": true,
        "id": "ZEZ7WbsaJLJD",
        "colab_type": "code",
        "colab": {
          "base_uri": "https://localhost:8080/",
          "height": 85
        },
        "outputId": "a50fae3f-0d7f-461a-abea-892baf41cf34"
      },
      "source": [
        "# 今のワーキングディレクトリ（作業中のフォルダ）\n",
        "# を調べるために\n",
        "# OSモジュールをimportします\n",
        "\n",
        "import os\n",
        "\n",
        "# 今のワーキングディレクトリを得て画面に表示します\n",
        "#print(os.getcwd())\n",
        "\n",
        "# 日本語ファイル.txtという名称のファイルを作成し、内容を書き出します\n",
        "\n",
        "f = open('日本語ファイル.txt','w')\n",
        "f.write('日本語\\n日本語\\n日本語\\n')\n",
        "f.close\n",
        "\n",
        "# 日本語ファイル.txtを読み込み用にopenして、その内容を表示します\n",
        "f = open('日本語ファイル.txt','r')\n",
        "s = f.read()\n",
        "f.close\n",
        "print(s)"
      ],
      "execution_count": 3,
      "outputs": [
        {
          "output_type": "stream",
          "text": [
            "日本語\n",
            "日本語\n",
            "日本語\n",
            "\n"
          ],
          "name": "stdout"
        }
      ]
    },
    {
      "cell_type": "code",
      "metadata": {
        "hidden": true,
        "id": "ATKmE8UgJLJE",
        "colab_type": "code",
        "colab": {
          "base_uri": "https://localhost:8080/",
          "height": 68
        },
        "outputId": "afca31e0-4d80-49ae-eee0-fdefff7b699c"
      },
      "source": [
        "!cat ./日本語ファイル.txt"
      ],
      "execution_count": 4,
      "outputs": [
        {
          "output_type": "stream",
          "text": [
            "日本語\n",
            "日本語\n",
            "日本語\n"
          ],
          "name": "stdout"
        }
      ]
    },
    {
      "cell_type": "markdown",
      "metadata": {
        "hidden": true,
        "id": "SDQY4NEdJLJF",
        "colab_type": "text"
      },
      "source": [
        "## 11.6 例題1 波の近似"
      ]
    },
    {
      "cell_type": "markdown",
      "metadata": {
        "hidden": true,
        "id": "1LJK21AMJLJF",
        "colab_type": "text"
      },
      "source": [
        "### 11.6.3 ソースコード"
      ]
    },
    {
      "cell_type": "markdown",
      "metadata": {
        "hidden": true,
        "id": "qJg3loI9JLJG",
        "colab_type": "text"
      },
      "source": [
        "プログラム27 のこぎり波の三角関数の和での近似"
      ]
    },
    {
      "cell_type": "code",
      "metadata": {
        "hidden": true,
        "id": "h41_fee5JLJG",
        "colab_type": "code",
        "colab": {
          "base_uri": "https://localhost:8080/",
          "height": 34
        },
        "outputId": "ab5bd801-2d76-4d0b-d1ec-2f330c1bc377"
      },
      "source": [
        "# import tkinter as tk\n",
        "# import tkinter.filedialog\n",
        "import math\n",
        "#\n",
        "# tkinter の filedialog だけを利用する例\n",
        "#\n",
        "# root ウィンドウは withdrow() メソッドを読んで隠す\n",
        "# root = tk.Tk()\n",
        "# root.withdraw()\n",
        "#\n",
        "# 書き出し用の filedialog を読んでファイル名を得る\n",
        "#\n",
        "# filename = tkinter.filedialog.asksaveasfilename()\n",
        "\n",
        "#@title String Field\n",
        "filename = \"sawtooth_wave.csv\" #@param {type:\"string\"}\n",
        "\n",
        "#\n",
        "# ファイル名がもらえなければ終了\n",
        "#\n",
        "if filename:\n",
        "    pass\n",
        "else:\n",
        "    print(\"No file specified\")\n",
        "    exit()\n",
        "#\n",
        "# 正弦波の重ね合わせで鋸波を近似する\n",
        "# \n",
        "# w = sin(t) + sin(2t)/2 + sin(3t)/3 + sin(4t)/4 ...\n",
        "#\n",
        "# ２周期分、全体は1000ステップで、高調波は5番目まで\n",
        "#\n",
        "cycles = 2\n",
        "steps = 1000\n",
        "harmonics = 5\n",
        "# ファイルが開けないときのエラー対応\n",
        "try:\n",
        "# ファイルを開く\n",
        "    with open(filename, 'w') as file:\n",
        "        for i in range(steps):\n",
        "            angle_in_degree = 360 * cycles * i / steps\n",
        "            angle = math.radians(angle_in_degree)\n",
        "            s = str(angle_in_degree)\n",
        "            w = 0\n",
        "            for i in range(1,harmonics+1):\n",
        "                w += math.sin(angle * (i)) / i\n",
        "                s = s + \", \" + str(w)\n",
        "#             print(s)\n",
        "            file.write(s + \"\\n\")\n",
        "        print(\"Writing to file \" + filename + \" is finished\")\n",
        "except IOError:\n",
        "    print(\"Unable to open file\")"
      ],
      "execution_count": 5,
      "outputs": [
        {
          "output_type": "stream",
          "text": [
            "Writing to file sawtooth_wave.csv is finished\n"
          ],
          "name": "stdout"
        }
      ]
    },
    {
      "cell_type": "code",
      "metadata": {
        "hidden": true,
        "id": "7mSodPQBJLJH",
        "colab_type": "code",
        "colab": {
          "base_uri": "https://localhost:8080/",
          "height": 265
        },
        "outputId": "a2d70b97-54d1-4494-db41-4ab1d0631fdb"
      },
      "source": [
        "%matplotlib inline\n",
        "import matplotlib.pyplot as plt\n",
        "import pandas as pd\n",
        "#@title String Field\n",
        "filename = \"sawtooth_wave.csv\" #@param {type:\"string\"}\n",
        "df = pd.read_csv(filename, names=['wave1','wave2','wave3','wave4','wave5'])\n",
        "plt.plot(df['wave1'])\n",
        "plt.plot(df['wave2'])\n",
        "plt.plot(df['wave3'])\n",
        "plt.plot(df['wave4'])\n",
        "plt.plot(df['wave5'])\n",
        "plt.show()"
      ],
      "execution_count": 6,
      "outputs": [
        {
          "output_type": "display_data",
          "data": {
            "image/png": "[encoded data removed]",
            "text/plain": [
              "<Figure size 432x288 with 1 Axes>"
            ]
          },
          "metadata": {
            "tags": []
          }
        }
      ]
    },
    {
      "cell_type": "markdown",
      "metadata": {
        "hidden": true,
        "id": "AnSfMQnhJLJI",
        "colab_type": "text"
      },
      "source": [
        "#### 演習38 矩形波（方形波）の近似"
      ]
    },
    {
      "cell_type": "markdown",
      "metadata": {
        "hidden": true,
        "id": "_mo2qvGZJLJI",
        "colab_type": "text"
      },
      "source": [
        "矩形波（方形波）（$\\pm 1$の値を交互にとる周期関数）は以下のように三角関数で近似できます。\n",
        "$f(x) = \\frac{\\sin(x)}{1} + \\frac{\\sin(3x)}{3} + \\frac{\\sin(5x)}{5} + \\frac{\\sin(7x)}{7} \\cdots$"
      ]
    },
    {
      "cell_type": "code",
      "metadata": {
        "hidden": true,
        "scrolled": true,
        "id": "IGx_RIveJLJI",
        "colab_type": "code",
        "colab": {
          "base_uri": "https://localhost:8080/",
          "height": 34
        },
        "outputId": "9ea12f36-0da4-42d4-8502-c655a5acd223"
      },
      "source": [
        "# import tkinter as tk\n",
        "# import tkinter.filedialog\n",
        "import math\n",
        "#\n",
        "# tkinter の filedialog だけを利用する例\n",
        "#\n",
        "# root ウィンドウは withdrow() メソッドを読んで隠す\n",
        "# root = tk.Tk()\n",
        "# root.withdraw()\n",
        "#\n",
        "# 書き出し用の filedialog を読んでファイル名を得る\n",
        "#\n",
        "# filename = tkinter.filedialog.asksaveasfilename()\n",
        "\n",
        "#@title String Field\n",
        "filename = \"rectangle_wave.csv\" #@param {type:\"string\"}\n",
        "\n",
        "#\n",
        "# ファイル名がもらえなければ終了\n",
        "#\n",
        "if filename:\n",
        "    pass\n",
        "else:\n",
        "    print(\"No file specified\")\n",
        "    exit()\n",
        "#\n",
        "# 正弦波の重ね合わせで矩形波を近似する\n",
        "# \n",
        "# w = sin(t) + sin(3t)/3 + sin(5t)/5 + sin(7t)/7 ...\n",
        "#\n",
        "# ２周期分、全体は1000ステップで、高調波は5番目まで\n",
        "#\n",
        "cycles = 2\n",
        "steps = 1000\n",
        "harmonics = 5\n",
        "# ファイルが開けないときのエラー対応\n",
        "try:\n",
        "# ファイルを開く\n",
        "    with open(filename, 'w') as file:\n",
        "        for i in range(steps):\n",
        "            angle_in_degree = 360 * cycles * i / steps\n",
        "            angle = math.radians(angle_in_degree)\n",
        "            s = str(angle_in_degree)\n",
        "            w = 0\n",
        "            for i in range(1,harmonics+1):\n",
        "                w += math.sin(angle * (2*i-1)) / (2*i-1)\n",
        "                s = s + \", \" + str(w)\n",
        "#             print(s)\n",
        "            file.write(s + \"\\n\")\n",
        "        print(\"Writing to file \" + filename + \" is finished\")\n",
        "except IOError:\n",
        "    print(\"Unable to open file\")"
      ],
      "execution_count": 7,
      "outputs": [
        {
          "output_type": "stream",
          "text": [
            "Writing to file rectangle_wave.csv is finished\n"
          ],
          "name": "stdout"
        }
      ]
    },
    {
      "cell_type": "code",
      "metadata": {
        "hidden": true,
        "id": "_5KU6ndgJLJL",
        "colab_type": "code",
        "colab": {
          "base_uri": "https://localhost:8080/",
          "height": 265
        },
        "outputId": "613d3d62-4a88-408c-ca55-e612f465332d"
      },
      "source": [
        "%matplotlib inline\n",
        "import matplotlib.pyplot as plt\n",
        "import pandas as pd\n",
        "#@title String Field\n",
        "filename = \"rectangle_wave.csv\" #@param {type:\"string\"}\n",
        "df = pd.read_csv(filename, names=['wave1','wave2','wave3','wave4','wave5'])\n",
        "plt.plot(df['wave1'])\n",
        "plt.plot(df['wave2'])\n",
        "plt.plot(df['wave3'])\n",
        "plt.plot(df['wave4'])\n",
        "plt.plot(df['wave5'])\n",
        "plt.show()"
      ],
      "execution_count": 8,
      "outputs": [
        {
          "output_type": "display_data",
          "data": {
            "image/png": "[encoded data removed]",
            "text/plain": [
              "<Figure size 432x288 with 1 Axes>"
            ]
          },
          "metadata": {
            "tags": []
          }
        }
      ]
    },
    {
      "cell_type": "markdown",
      "metadata": {
        "hidden": true,
        "id": "EJVZP0QsJLJL",
        "colab_type": "text"
      },
      "source": [
        "#### 演習39 例題1のリストを使った実装"
      ]
    },
    {
      "cell_type": "code",
      "metadata": {
        "hidden": true,
        "id": "XtoCX167JLJM",
        "colab_type": "code",
        "colab": {
          "base_uri": "https://localhost:8080/",
          "height": 34
        },
        "outputId": "a8d57c9b-27fe-4ce1-caea-aeb6f40d755f"
      },
      "source": [
        "# import tkinter as tk\n",
        "# import tkinter.filedialog\n",
        "import math\n",
        "#\n",
        "# tkinter の filedialog だけを利用する例\n",
        "#\n",
        "# root ウィンドウは withdrow() メソッドを読んで隠す\n",
        "# root = tk.Tk()\n",
        "# root.withdraw()\n",
        "#\n",
        "# 書き出し用の filedialog を読んでファイル名を得る\n",
        "#\n",
        "# filename = tkinter.filedialog.asksaveasfilename()\n",
        "\n",
        "#@title String Field\n",
        "filename = \"sawtooth_wave.csv\" #@param {type:\"string\"}\n",
        "\n",
        "#\n",
        "# ファイル名がもらえなければ終了\n",
        "#\n",
        "if filename:\n",
        "    pass\n",
        "else:\n",
        "    print(\"No file specified\")\n",
        "    exit()\n",
        "#\n",
        "# 正弦波の重ね合わせで鋸波を近似する\n",
        "# \n",
        "# w = sin(t) + sin(2t)/2 + sin(3t)/3 + sin(4t)/4 ...\n",
        "#\n",
        "# ２周期分、全体は1000ステップで、高調波は5番目まで\n",
        "#\n",
        "cycles = 2\n",
        "steps = 1000\n",
        "harmonics = 5\n",
        "wave_list = [[]*(harmonics+1) for i in range(steps)]\n",
        "\n",
        "for i in range(steps):\n",
        "    angle_in_degree = 360 * cycles * i / steps\n",
        "    angle = math.radians(angle_in_degree)\n",
        "    wave_list[i].append(angle_in_degree)\n",
        "    w = 0\n",
        "    for j in range(1,harmonics+1):\n",
        "        w += math.sin(angle * (j)) / (j)\n",
        "        wave_list[i].append(w)\n",
        "# ファイルが開けないときのエラー対応\n",
        "try:\n",
        "# ファイルを開く\n",
        "    with open(filename, 'w') as file:\n",
        "        for i in range(steps):\n",
        "            s = str(wave_list[i][0])\n",
        "            w = 0\n",
        "            for j in range(1,harmonics+1):\n",
        "                s = s + \", \" + str(wave_list[i][j])\n",
        "#             print(s)\n",
        "            file.write(s + \"\\n\")\n",
        "        print(\"Writing to file \" + filename + \" is finished\")\n",
        "except IOError:\n",
        "    print(\"Unable to open file\")"
      ],
      "execution_count": 9,
      "outputs": [
        {
          "output_type": "stream",
          "text": [
            "Writing to file sawtooth_wave.csv is finished\n"
          ],
          "name": "stdout"
        }
      ]
    },
    {
      "cell_type": "code",
      "metadata": {
        "hidden": true,
        "id": "etqu2jqnJLJM",
        "colab_type": "code",
        "colab": {
          "base_uri": "https://localhost:8080/",
          "height": 265
        },
        "outputId": "f09a9d22-8950-4457-c19c-708922bba530"
      },
      "source": [
        "%matplotlib inline\n",
        "import matplotlib.pyplot as plt\n",
        "import pandas as pd\n",
        "#@title String Field\n",
        "filename = \"sawtooth_wave.csv\" #@param {type:\"string\"}\n",
        "df = pd.read_csv(filename, names=['wave1','wave2','wave3','wave4','wave5'])\n",
        "plt.plot(df['wave1'])\n",
        "plt.plot(df['wave2'])\n",
        "plt.plot(df['wave3'])\n",
        "plt.plot(df['wave4'])\n",
        "plt.plot(df['wave5'])\n",
        "plt.show()"
      ],
      "execution_count": 10,
      "outputs": [
        {
          "output_type": "display_data",
          "data": {
            "image/png": "[encoded data removed]",
            "text/plain": [
              "<Figure size 432x288 with 1 Axes>"
            ]
          },
          "metadata": {
            "tags": []
          }
        }
      ]
    },
    {
      "cell_type": "markdown",
      "metadata": {
        "hidden": true,
        "id": "cR9trjXkJLJN",
        "colab_type": "text"
      },
      "source": [
        "## 11.7 例題2"
      ]
    },
    {
      "cell_type": "markdown",
      "metadata": {
        "hidden": true,
        "id": "YKcXrKp7JLJO",
        "colab_type": "text"
      },
      "source": [
        "プログラム28 tkinter を用いた簡単なテキストエディタ"
      ]
    },
    {
      "cell_type": "code",
      "metadata": {
        "hidden": true,
        "id": "0qinV6N0JLJP",
        "colab_type": "code",
        "colab": {}
      },
      "source": [
        "import tkinter as tk\n",
        "import tkinter.messagebox\n",
        "import tkinter.filedialog\n",
        "# messagebox, filedialog は明示的なインポートが必要\n",
        "#\n",
        "# tk.Frame を継承した MyFrame というクラスを作り\n",
        "# その中でウィジェットやコールバック関数（メソッド）を\n",
        "# 設定する。tkinter を使う定番\n",
        "#\n",
        "class MyFrame(tk.Frame):\n",
        "# __init__はクラスオブジェクトを作る際の初期化メソッド\n",
        "    def __init__(self, master = None):\n",
        "        super().__init__(master)\n",
        "        self.master.title('Simple Editor')\n",
        "\n",
        "# メニューを作る menubar -> filemenu -> Open, Save as, Exit\n",
        "        menubar  = tk.Menu(self)\n",
        "        filemenu = tk.Menu(menubar, tearoff = 0)\n",
        "        filemenu.add_command(label = \"Open\", command = self.openfile)\n",
        "        filemenu.add_command(label = \"Save as...\", command = self.saveas)\n",
        "        filemenu.add_command(label = \"Exit\", command = self.master.destroy)\n",
        "        menubar.add_cascade(label = \"File\", menu = filemenu)\n",
        "        self.master.config(menu = menubar)\n",
        "\n",
        "# 編集用 Text ウィジェットをクラスの変数 editbox としてつくる\n",
        "        self.editbox = tk.Text(self)\n",
        "        self.editbox.pack()\n",
        "        \n",
        "# ファイルを開くメソッド、関数とちがい self という引数が必要\n",
        "    def openfile(self):\n",
        "# filedialog でファイル名を得る\n",
        "        filename = tkinter.filedialog.askopenfilename()\n",
        "# filename が空でなければ処理\n",
        "        if filename:\n",
        "            tkinter.messagebox.showinfo(\"Filename\", \"Open: \" + filename)\n",
        "# with文で file という変数でファイルを開く\n",
        "            with open(filename, 'r') as file:\n",
        "                text = file.read()\n",
        "# Text ウィジェット editbox にファイル内容を設定\n",
        "            self.editbox.delete('1.0', tk.END)\n",
        "            self.editbox.insert('1.0', text)\n",
        "        else:\n",
        "            tkinter.messagebox.showinfo(\"Filename\",\"Canceled\")\n",
        "\n",
        "# ファイルに保存するメソッド\n",
        "    def saveas(self):\n",
        "# with文で file という変数でファイルを開く\n",
        "        filename = tkinter.filedialog.asksaveasfilename()\n",
        "        if filename:\n",
        "            with open(filename,'w') as file:\n",
        "                text = file.write(self.editbox.get('1.0',tk.END))\n",
        "            tkinter.messagebox.showinfo(\"Filename\", \"Saved AS:\" + filename)\n",
        "        else:\n",
        "            tkinter.messagebox.showinfo(\"Filename\",\"Canceled\")\n",
        "\n",
        "# ここからメインプログラム\n",
        "root = tk.Tk()\n",
        "f = MyFrame(root)\n",
        "f.pack()\n",
        "f.mainloop()"
      ],
      "execution_count": 0,
      "outputs": []
    },
    {
      "cell_type": "markdown",
      "metadata": {
        "heading_collapsed": true,
        "id": "SMA5OhxyJLJP",
        "colab_type": "text"
      },
      "source": [
        "# 12. 三目並べで学ぶプログラム開発"
      ]
    },
    {
      "cell_type": "markdown",
      "metadata": {
        "hidden": true,
        "id": "DOdoReeVJLJQ",
        "colab_type": "text"
      },
      "source": [
        "## 12.4 三目並べを例にしたプログラムの設計"
      ]
    },
    {
      "cell_type": "markdown",
      "metadata": {
        "hidden": true,
        "id": "klq2MmDkJLJQ",
        "colab_type": "text"
      },
      "source": [
        "### 12.4.1 三目並べ (tic-tac-toe)"
      ]
    },
    {
      "cell_type": "markdown",
      "metadata": {
        "hidden": true,
        "id": "8Ul-TFmiJLJQ",
        "colab_type": "text"
      },
      "source": [
        "三目並べのルールとゲームの進行を言葉で表現してみてください。"
      ]
    },
    {
      "cell_type": "markdown",
      "metadata": {
        "hidden": true,
        "id": "ChKzWRs_JLJQ",
        "colab_type": "text"
      },
      "source": [
        "ルール\n",
        "- 3×3のマス目を用意する\n",
        "- プレイヤーは2人\n",
        "- プレイヤーはそれぞれの記号（〇・×）をマス目に入れる\n",
        "- どちらかの記号が縦・横・斜め方向に3つそろったら、その記号のプレイヤーが勝利\n",
        "\n",
        "進行\n",
        "1. プレイヤーの先手・後手を決める\n",
        "1. 先手のプレイヤーは〇、後手のプレイヤーは×の記号を使う\n",
        "1. 先手のプレイヤーから空いているマス目に記号を入れる\n",
        "1. 後手のプレイヤーも同様に行い、これを交互に繰り返す\n",
        "1. どちらかのプレイヤーが勝利するか、どちらもそろわずにすべてのマス目が埋まったら終了"
      ]
    },
    {
      "cell_type": "markdown",
      "metadata": {
        "hidden": true,
        "id": "So5EglbcJLJR",
        "colab_type": "text"
      },
      "source": [
        "## 12.5 プログラムの実装"
      ]
    },
    {
      "cell_type": "markdown",
      "metadata": {
        "hidden": true,
        "id": "0tWEJDRTJLJR",
        "colab_type": "text"
      },
      "source": [
        "### 2) 実装例 (`tic_tac_toe.py`)"
      ]
    },
    {
      "cell_type": "code",
      "metadata": {
        "hidden": true,
        "id": "CuBJcaZ8JLJS",
        "colab_type": "code",
        "colab": {
          "base_uri": "https://localhost:8080/",
          "height": 34
        },
        "outputId": "c4bcabe8-e8d8-48a1-ce0b-704d30a5d258"
      },
      "source": [
        "#\n",
        "# 三目並べ\n",
        "#\n",
        "# 特にインポートするモジュールはありません\n",
        "#\n",
        "# 定数の定義\n",
        "#\n",
        "#\n",
        "# play(の中で棋譜を作成する（要完成）\n",
        "'三目並べのプログラムです'\n",
        "OPEN = 0\n",
        "FIRST = 1\n",
        "SECOND = 2\n",
        "EVEN = 3\n",
        "#\n",
        "# 恒常的な変数\n",
        "#\n",
        "turn = 1\n",
        "board = [[0,0,0],[0,0,0],[0,0,0]]\n",
        "#\n",
        "# テスト用の棋譜\n",
        "#\n",
        "log1 = [[0,0],[1,1],[1,0],[2,0],[0,2],[0,1],[2,1],[2,2],[1,2],[EVEN]]\n",
        "log2 = [[0,0],[1,0],[1,1],[2,2],[0,2],[0,1],[2,0],[FIRST]]\n",
        "log3 = [[0,1],[0,0],[2,1],[1,1],[2,2],[2,0],[1,0],[0,2],[SECOND]]\n",
        "#\n",
        "# 手番関連の関数\n",
        "#\n",
        "# 手番を文字列に\n",
        "#\n",
        "def show_turn():\n",
        "    '手番を示す文字列を返す'\n",
        "    if turn == FIRST:\n",
        "        return('先手')\n",
        "    elif turn == SECOND:\n",
        "        return('後手')\n",
        "    else:\n",
        "        return('手番の値が不適切です')   \n",
        "#\n",
        "# 手番の初期化\n",
        "#\n",
        "def init_turn():\n",
        "    '手番を初期化する'\n",
        "    global turn\n",
        "    turn = 1\n",
        "#\n",
        "# 手番の交代\n",
        "#\n",
        "def change_turn():\n",
        "    '手番を交代する'\n",
        "    global turn\n",
        "    if turn == FIRST:\n",
        "        turn = SECOND\n",
        "    elif turn == SECOND:\n",
        "        turn = FIRST\n",
        "#\n",
        "# 手番関連の関数のテスト\n",
        "#\n",
        "def test_turn():\n",
        "    '手番をテストする'\n",
        "    init_turn()\n",
        "    print(show_turn(),\"の番です\")\n",
        "    change_turn()\n",
        "    print(show_turn(),\"の番です\")\n",
        "    change_turn()\n",
        "    print(show_turn(),\"の番です\")\n",
        "\n",
        "#\n",
        "# 盤面関連の関数\n",
        "#\n",
        "# 盤面を表示する文字列\n",
        "#\n",
        "def show_board():\n",
        "    '盤面を表す文字列を返す'\n",
        "    s = ' :0 1 2\\n---------\\n'\n",
        "    for i in range(3):\n",
        "        s = s + str(i) + ': '\n",
        "        for j in range(3):\n",
        "            cell = ''\n",
        "            if board[i][j] == OPEN:\n",
        "                cell = ' '\n",
        "            elif board[i][j] == FIRST:\n",
        "                cell = '0'\n",
        "            elif board[i][j] == SECOND:\n",
        "                cell = 'X'\n",
        "            else:\n",
        "                cell = '?'\n",
        "            s = s + cell + ' '\n",
        "        s = s + '\\n'\n",
        "    return s\n",
        "#\n",
        "# 盤面の初期化\n",
        "#\n",
        "def init_board():\n",
        "    '盤面をすべて空(OPEN)に初期化する'\n",
        "    for i in range(3):\n",
        "        for j in range(3):\n",
        "            board[i][j] = OPEN\n",
        "#\n",
        "# 盤面のi, jの位置の値を返す\n",
        "#\n",
        "def examin_board(i,j):\n",
        "    '盤面のi行j列の値を返す'\n",
        "    return board[i][j]\n",
        "#\n",
        "# 盤面のi, jに手番tを登録、状態を文字列で返す\n",
        "#\n",
        "def set_board(i,j,t):\n",
        "    '''\n",
        "    盤面のi, jに手番tを登録、状態を文字列で返す\n",
        "    返す値は\n",
        "    'ok' 成功\n",
        "    'Not empty' 空いている場所ではない\n",
        "    'illegal turn' 手番が正しくない\n",
        "    'illegal slot' 指定された場所が正しくない\n",
        "    '''\n",
        "    if (i >= 0) and (i < 3) and (j >= 0) and (j < 3):\n",
        "        if (t > 0) and (t < 3):\n",
        "            if examin_board(i, j) == 0:\n",
        "                board[i][j] = t\n",
        "                return 'OK'\n",
        "            else:\n",
        "                return 'Not empty'\n",
        "        else:\n",
        "            return 'illegal turn'\n",
        "    else:\n",
        "        return 'illegal slot'\n",
        "#\n",
        "# 盤面のテスト関数\n",
        "#\n",
        "def test_board1():\n",
        "    '盤面についてのテストプログラムの1つめです'\n",
        "    init_board()\n",
        "    print(show_board())\n",
        "    print(set_board(0,0,1))\n",
        "    print(show_board())\n",
        "    print(set_board(1,1,2))\n",
        "    print(show_board())\n",
        "    print(set_board(1,1,1))\n",
        "    print(show_board())\n",
        "#\n",
        "# 水平方向での手番tの勝ちの判定\n",
        "#\n",
        "def check_board_horizontal(t):\n",
        "    '水平方向に手番tが勝ちであることを判定します'\n",
        "    for i in range(3):\n",
        "        if (board[i][0] == t) and (board[i][1] == t) and (board[i][2] == t):\n",
        "            return True\n",
        "    return False\n",
        "#\n",
        "# 垂直方向での手番tの勝ちの判定\n",
        "#\n",
        "def check_board_vertical(t):\n",
        "    '垂直方向に手番tが勝ちであることを判定します'\n",
        "    for j in range (3):\n",
        "        if (board[0][j] == t) and (board[1][j] == t) and (board[2][j] == t):\n",
        "            return True\n",
        "    return False\n",
        "#\n",
        "# 対角方向での手番tの勝ちの判定\n",
        "#\n",
        "def check_board_diagonal(t):\n",
        "    '対角方向に手番tが勝ちであることを判定します'\n",
        "    if (board[0][0] == t) and (board[1][1] == t) and (board[2][2] == t):\n",
        "        return True\n",
        "    return False\n",
        "#\n",
        "# 逆対角方向での手番tの勝ちの判定\n",
        "#\n",
        "def check_board_inverse_diagonal(t):\n",
        "    '逆対角方向に手番tが勝ちであることを判定します'\n",
        "    if (board[0][2] == t) and (board[1][1] == t) and (board[2][0] == t):\n",
        "        return True\n",
        "    return False\n",
        "#\n",
        "# 手番tの勝ちの単純な判定\n",
        "#\n",
        "def is_win_simple(t):\n",
        "    '手番tが勝ちであることを判定します。相手が勝っていることはチェックしません'\n",
        "    if check_board_horizontal(t):\n",
        "        return True\n",
        "    if check_board_vertical(t):\n",
        "        return True\n",
        "    if check_board_diagonal(t):\n",
        "        return True\n",
        "    if check_board_inverse_diagonal(t):\n",
        "        return True\n",
        "    return False\n",
        "#\n",
        "# 相手が勝っていないことを確認しての勝ちの判定\n",
        "#\n",
        "def is_win_actual(t):\n",
        "    '手番tが勝ちであることを判定します。相手が勝っていないことも確認します'\n",
        "    if not is_win_simple(t):\n",
        "        return False\n",
        "    if t == FIRST:\n",
        "        if is_win_simple(SECOND):\n",
        "            return False\n",
        "    else:\n",
        "        if is_win_simple(FIRST):\n",
        "            return Flase\n",
        "    return True\n",
        "#\n",
        "# 盤面に埋まっていることの判定\n",
        "#\n",
        "def is_full():\n",
        "    '盤面に空きがないことを確認します'\n",
        "    for i in range(3):\n",
        "        for j in range(3):\n",
        "            if board[i][j] == OPEN:\n",
        "                return False\n",
        "    return True\n",
        "#\n",
        "# 引き分けの判定\n",
        "#\n",
        "def is_even():\n",
        "    '盤面が引き分けであることを判定します'\n",
        "    if is_win_simple(FIRST):\n",
        "        return False\n",
        "    if is_win_simple(SECOND):\n",
        "        return False\n",
        "    if not is_full():\n",
        "        return False\n",
        "    return True\n",
        "#\n",
        "# 盤面のテスト関数2つめ、勝ち判定のテスト\n",
        "#\n",
        "def test_board2():\n",
        "    '盤面をテストする関数の2番目'\n",
        "    init_board()\n",
        "    board[0][0] = FIRST\n",
        "    board[1][0] = FIRST\n",
        "    board[2][0] = FIRST\n",
        "    print(show_board())\n",
        "    print(\"HORIZONTSL FIRST:\",  check_board_horizontal(FIRST))\n",
        "    print(\"HORIZONTSL SECOND:\", check_board_horizontal(SECOND))\n",
        "    print(\"VERTICAL FIRST:\",    check_board_vertical(FIRST))\n",
        "    print(\"VERTICAL SECOND:\",   check_board_vertical(SECOND))\n",
        "    init_board()\n",
        "    board[0][0] = SECOND\n",
        "    board[1][0] = SECOND\n",
        "    board[2][0] = SECOND\n",
        "    print(show_board())\n",
        "    print(\"HORIZONTSL FIRST:\",  check_board_horizontal(FIRST))\n",
        "    print(\"HORIZONTSL SECOND:\", check_board_horizontal(SECOND))\n",
        "    print(\"VERTICAL FIRST:\",    check_board_vertical(FIRST))\n",
        "    print(\"VERTICAL SECOND:\",   check_board_vertical(SECOND))\n",
        "    \n",
        "    init_board()\n",
        "    board[0][0] = FIRST\n",
        "    board[0][1] = FIRST\n",
        "    board[0][2] = FIRST\n",
        "    print(show_board())\n",
        "    print(\"HORIZONTSL FIRST:\",  check_board_horizontal(FIRST))\n",
        "    print(\"HORIZONTSL SECOND:\", check_board_horizontal(SECOND))\n",
        "    print(\"VERTICAL FIRST:\",    check_board_vertical(FIRST))\n",
        "    print(\"VERTICAL SECOND:\",   check_board_vertical(SECOND))\n",
        "    init_board()\n",
        "    board[0][0] = SECOND\n",
        "    board[0][1] = SECOND\n",
        "    board[0][2] = SECOND\n",
        "    print(show_board())\n",
        "    print(\"HORIZONTSL FIRST:\",  check_board_horizontal(FIRST))\n",
        "    print(\"HORIZONTSL SECOND:\", check_board_horizontal(SECOND))\n",
        "    print(\"VERTICAL FIRST:\",    check_board_vertical(FIRST))\n",
        "    print(\"VERTICAL SECOND:\",   check_board_vertical(SECOND))\n",
        "    \n",
        "    init_board()\n",
        "    board[0][0] = FIRST\n",
        "    board[1][1] = FIRST\n",
        "    board[2][2] = FIRST\n",
        "    print(show_board())\n",
        "    print(\"DIAGONAL FIRST:\",      check_board_diagonal(FIRST))\n",
        "    print(\"DIAGONAL SECOND:\",     check_board_diagonal(SECOND))\n",
        "    print(\"INV DIAGONAL FIRST:\",  check_board_inverse_diagonal(FIRST))\n",
        "    print(\"INV DIAGONAL SECOND:\", check_board_inverse_diagonal(SECOND))\n",
        "    init_board()\n",
        "    board[0][0] = SECOND\n",
        "    board[1][1] = SECOND\n",
        "    board[2][2] = SECOND\n",
        "    print(show_board())\n",
        "    print(\"DIAGONAL FIRST:\",      check_board_diagonal(FIRST))\n",
        "    print(\"DIAGONAL SECOND:\",     check_board_diagonal(SECOND))\n",
        "    print(\"INV DIAGONAL FIRST:\",  check_board_inverse_diagonal(FIRST))\n",
        "    print(\"INV DIAGONAL SECOND:\", check_board_inverse_diagonal(SECOND))\n",
        "    \n",
        "    init_board()\n",
        "    board[0][2] = FIRST\n",
        "    board[1][1] = FIRST\n",
        "    board[2][0] = FIRST\n",
        "    print(show_board())\n",
        "    print(\"DIAGONAL FIRST:\",      check_board_diagonal(FIRST))\n",
        "    print(\"DIAGONAL SECOND:\",     check_board_diagonal(SECOND))\n",
        "    print(\"INV DIAGONAL FIRST:\",  check_board_inverse_diagonal(FIRST))\n",
        "    print(\"INV DIAGONAL SECOND:\", check_board_inverse_diagonal(SECOND))\n",
        "    init_board()\n",
        "    board[0][2] = SECOND\n",
        "    board[1][1] = SECOND\n",
        "    board[2][0] = SECOND\n",
        "    print(show_board())\n",
        "    print(\"DIAGONAL FIRST:\",      check_board_diagonal(FIRST))\n",
        "    print(\"DIAGONAL SECOND:\",     check_board_diagonal(SECOND))\n",
        "    print(\"INV DIAGONAL FIRST:\",  check_board_inverse_diagonal(FIRST))\n",
        "    print(\"INV DIAGONAL SECOND:\", check_board_inverse_diagonal(SECOND))\n",
        "\n",
        "#\n",
        "# 盤面のテスト関数3、勝ち、引き分けの判定\n",
        "#\n",
        "def test_board3():\n",
        "    init_board()\n",
        "    board[0][0] = FIRST\n",
        "    board[1][0] = FIRST\n",
        "    board[2][0] = SECOND\n",
        "    board[0][1] = SECOND\n",
        "    board[1][1] = SECOND\n",
        "    board[2][1] = FIRST\n",
        "    board[0][2] = FIRST\n",
        "    board[1][2] = FIRST\n",
        "    board[2][2] = SECOND\n",
        "    print(show_board())\n",
        "    print(\"HORIZONTSL FIRST:\",    check_board_horizontal(FIRST))\n",
        "    print(\"HORIZONTSL SECOND:\",   check_board_horizontal(SECOND))\n",
        "    print(\"VERTICAL FIRST:\",      check_board_vertical(FIRST))\n",
        "    print(\"VERTICAL SECOND:\",     check_board_vertical(SECOND))\n",
        "    print(\"DIAGONAL FIRST:\",      check_board_diagonal(FIRST))\n",
        "    print(\"DIAGONAL SECOND:\",     check_board_diagonal(SECOND))\n",
        "    print(\"INV DIAGONAL FIRST:\",  check_board_inverse_diagonal(FIRST))\n",
        "    print(\"INV DIAGONAL SECOND:\", check_board_inverse_diagonal(SECOND))\n",
        "    print(\"IS WIN SIMPLE FIRST\",  is_win_simple(FIRST))\n",
        "    print(\"IS WIN SIMPLE SECOND\", is_win_simple(SECOND))\n",
        "    print(\"IS WIN ACTUAL FIRST\",  is_win_actual(FIRST))\n",
        "    print(\"IS WIN ACTUAL SECOND\", is_win_actual(SECOND))\n",
        "    print(\"IS FULL\", is_full())\n",
        "    print(\"IS EVEN\", is_even())\n",
        "    \n",
        "    init_board()\n",
        "    board[0][0] = FIRST\n",
        "    board[1][0] = SECOND\n",
        "    board[2][0] = FIRST\n",
        "    board[0][1] = SECOND\n",
        "    board[1][1] = FIRST\n",
        "    board[2][1] = OPEN\n",
        "    board[0][2] = FIRST\n",
        "    board[1][2] = OPEN\n",
        "    board[2][2] = SECOND\n",
        "    print(show_board())\n",
        "    print(\"HORIZONTSL FIRST:\",    check_board_horizontal(FIRST))\n",
        "    print(\"HORIZONTSL SECOND:\",   check_board_horizontal(SECOND))\n",
        "    print(\"VERTICAL FIRST:\",      check_board_vertical(FIRST))\n",
        "    print(\"VERTICAL SECOND:\",     check_board_vertical(SECOND))\n",
        "    print(\"DIAGONAL FIRST:\",      check_board_diagonal(FIRST))\n",
        "    print(\"DIAGONAL SECOND:\",     check_board_diagonal(SECOND))\n",
        "    print(\"INV DIAGONAL FIRST:\",  check_board_inverse_diagonal(FIRST))\n",
        "    print(\"INV DIAGONAL SECOND:\", check_board_inverse_diagonal(SECOND))\n",
        "    print(\"IS WIN SIMPLE FIRST\",  is_win_simple(FIRST))\n",
        "    print(\"IS WIN SIMPLE SECOND\", is_win_simple(SECOND))\n",
        "    print(\"IS WIN ACTUAL FIRST\",  is_win_actual(FIRST))\n",
        "    print(\"IS WIN ACTUAL SECOND\", is_win_actual(SECOND))\n",
        "    print(\"IS FULL\", is_full())\n",
        "    print(\"IS EVEN\", is_even())\n",
        "    \n",
        "    init_board()\n",
        "    board[0][0] = SECOND\n",
        "    board[1][0] = FIRST\n",
        "    board[2][0] = SECOND\n",
        "    board[0][1] = FIRST\n",
        "    board[1][1] = SECOND\n",
        "    board[2][1] = FIRST\n",
        "    board[0][2] = SECOND\n",
        "    board[1][2] = OPEN\n",
        "    board[2][2] = FIRST\n",
        "    print(show_board())\n",
        "    print(\"HORIZONTSL FIRST:\",    check_board_horizontal(FIRST))\n",
        "    print(\"HORIZONTSL SECOND:\",   check_board_horizontal(SECOND))\n",
        "    print(\"VERTICAL FIRST:\",      check_board_vertical(FIRST))\n",
        "    print(\"VERTICAL SECOND:\",     check_board_vertical(SECOND))\n",
        "    print(\"DIAGONAL FIRST:\",      check_board_diagonal(FIRST))\n",
        "    print(\"DIAGONAL SECOND:\",     check_board_diagonal(SECOND))\n",
        "    print(\"INV DIAGONAL FIRST:\",  check_board_inverse_diagonal(FIRST))\n",
        "    print(\"INV DIAGONAL SECOND:\", check_board_inverse_diagonal(SECOND))\n",
        "    print(\"IS WIN SIMPLE FIRST\",  is_win_simple(FIRST))\n",
        "    print(\"IS WIN SIMPLE SECOND\", is_win_simple(SECOND))\n",
        "    print(\"IS WIN ACTUAL FIRST\",  is_win_actual(FIRST))\n",
        "    print(\"IS WIN ACTUAL SECOND\", is_win_actual(SECOND))\n",
        "    print(\"IS FULL\", is_full())\n",
        "    print(\"IS EVEN\", is_even())\n",
        "\n",
        "#\n",
        "# ログのリプレイ\n",
        "#\n",
        "def replay_log(log):\n",
        "    '棋譜 log をたどります。print文で画面に出力します'\n",
        "    init_board()\n",
        "    init_turn()\n",
        "    print(show_board())\n",
        "    for m in log:\n",
        "        if len(m) == 2:\n",
        "            print(show_turn(), \"の番です\")\n",
        "            print(set_board(m[0], m[1], turn))\n",
        "            print(show_board())\n",
        "            print(\"IS WIN\", turn, \":\", is_win_actual(turn))\n",
        "            change_turn()\n",
        "        else:\n",
        "            print(\"RESULT IN LOG:\", m[0])\n",
        "    print(\"IS WIN FIRST:\",  is_win_actual(FIRST))\n",
        "    print(\"IS WIN SECOND:\", is_win_actual(SECOND))\n",
        "    print(\"IS EVEN:\", is_even())\n",
        "    \n",
        "#\n",
        "# ログのテスト\n",
        "#\n",
        "def test_log():\n",
        "    '棋譜をテストします'\n",
        "    print(\"LOG1\")\n",
        "    replay_log(log1)\n",
        "    print(\"LOG2\")\n",
        "    replay_log(log2)\n",
        "    print(\"LOG3\")\n",
        "    replay_log(log3)\n",
        "#\n",
        "#すべてのテスト\n",
        "#\n",
        "def test_all():\n",
        "    'すべてのテストを行います'\n",
        "    test_turn()\n",
        "    test_board1()\n",
        "    test_board2()\n",
        "    test_board3()\n",
        "    test_log()\n",
        "#\n",
        "# 実際のプレイ\n",
        "#\n",
        "def play():\n",
        "    '端末への入出力を用いて実際に三目並べをプレイする関数です'\n",
        "    init_turn()\n",
        "    init_board()\n",
        "    print(show_board())\n",
        "# 棋譜用の空リストを作る。play()の外側でアクセスするなら global宣言\n",
        "# global log\n",
        "    log = []\n",
        "    while True:\n",
        "        print(show_turn(), \"の番です\")\n",
        "        while(True):\n",
        "            row = int(input(\"行を入力してください:\"))\n",
        "            column = int(input(\"列を入力してください:\"))\n",
        "            result = set_board(row, column, turn)\n",
        "            print(result)\n",
        "            if (result == \"OK\"):\n",
        "                break\n",
        "            print(\"不適切な入力です。再度、入力してください\")\n",
        "        # ここ（内側の while の外）で log に手を追加\n",
        "        # \n",
        "        # 要追加\n",
        "        log.append([row, column])\n",
        "        #\n",
        "        print(show_board())\n",
        "        if (is_even()):\n",
        "            print(\"引き分けです\")\n",
        "            # ここで棋譜に勝敗（引き分け）を追加\n",
        "            log.append([EVEN])\n",
        "            break\n",
        "        if (is_win_actual(turn)):\n",
        "            print(show_turn(), \"の勝ちです\")\n",
        "            # ここで棋譜に勝敗（turn の勝ち）を追加\n",
        "            log.append([turn])\n",
        "            break\n",
        "        change_turn()\n",
        "    # ここで棋譜のリプレイ\n",
        "    # 現在は log は空なので判定して処理\n",
        "    if len(log) > 0:\n",
        "        replay_log(log)\n",
        "    else:\n",
        "        print(\"棋譜は作成されていません\")\n",
        "if __name__ == '__main__':\n",
        "    print('三目並べ')"
      ],
      "execution_count": 11,
      "outputs": [
        {
          "output_type": "stream",
          "text": [
            "三目並べ\n"
          ],
          "name": "stdout"
        }
      ]
    },
    {
      "cell_type": "code",
      "metadata": {
        "hidden": true,
        "id": "w8-SXRumJLJU",
        "colab_type": "code",
        "colab": {
          "base_uri": "https://localhost:8080/",
          "height": 1000
        },
        "outputId": "2a68c5e1-6c6d-4b75-c882-d78a78cad5f7"
      },
      "source": [
        "test_all()"
      ],
      "execution_count": 12,
      "outputs": [
        {
          "output_type": "stream",
          "text": [
            "先手 の番です\n",
            "後手 の番です\n",
            "先手 の番です\n",
            " :0 1 2\n",
            "---------\n",
            "0:       \n",
            "1:       \n",
            "2:       \n",
            "\n",
            "OK\n",
            " :0 1 2\n",
            "---------\n",
            "0: 0     \n",
            "1:       \n",
            "2:       \n",
            "\n",
            "OK\n",
            " :0 1 2\n",
            "---------\n",
            "0: 0     \n",
            "1:   X   \n",
            "2:       \n",
            "\n",
            "Not empty\n",
            " :0 1 2\n",
            "---------\n",
            "0: 0     \n",
            "1:   X   \n",
            "2:       \n",
            "\n",
            " :0 1 2\n",
            "---------\n",
            "0: 0     \n",
            "1: 0     \n",
            "2: 0     \n",
            "\n",
            "HORIZONTSL FIRST: False\n",
            "HORIZONTSL SECOND: False\n",
            "VERTICAL FIRST: True\n",
            "VERTICAL SECOND: False\n",
            " :0 1 2\n",
            "---------\n",
            "0: X     \n",
            "1: X     \n",
            "2: X     \n",
            "\n",
            "HORIZONTSL FIRST: False\n",
            "HORIZONTSL SECOND: False\n",
            "VERTICAL FIRST: False\n",
            "VERTICAL SECOND: True\n",
            " :0 1 2\n",
            "---------\n",
            "0: 0 0 0 \n",
            "1:       \n",
            "2:       \n",
            "\n",
            "HORIZONTSL FIRST: True\n",
            "HORIZONTSL SECOND: False\n",
            "VERTICAL FIRST: False\n",
            "VERTICAL SECOND: False\n",
            " :0 1 2\n",
            "---------\n",
            "0: X X X \n",
            "1:       \n",
            "2:       \n",
            "\n",
            "HORIZONTSL FIRST: False\n",
            "HORIZONTSL SECOND: True\n",
            "VERTICAL FIRST: False\n",
            "VERTICAL SECOND: False\n",
            " :0 1 2\n",
            "---------\n",
            "0: 0     \n",
            "1:   0   \n",
            "2:     0 \n",
            "\n",
            "DIAGONAL FIRST: True\n",
            "DIAGONAL SECOND: False\n",
            "INV DIAGONAL FIRST: False\n",
            "INV DIAGONAL SECOND: False\n",
            " :0 1 2\n",
            "---------\n",
            "0: X     \n",
            "1:   X   \n",
            "2:     X \n",
            "\n",
            "DIAGONAL FIRST: False\n",
            "DIAGONAL SECOND: True\n",
            "INV DIAGONAL FIRST: False\n",
            "INV DIAGONAL SECOND: False\n",
            " :0 1 2\n",
            "---------\n",
            "0:     0 \n",
            "1:   0   \n",
            "2: 0     \n",
            "\n",
            "DIAGONAL FIRST: False\n",
            "DIAGONAL SECOND: False\n",
            "INV DIAGONAL FIRST: True\n",
            "INV DIAGONAL SECOND: False\n",
            " :0 1 2\n",
            "---------\n",
            "0:     X \n",
            "1:   X   \n",
            "2: X     \n",
            "\n",
            "DIAGONAL FIRST: False\n",
            "DIAGONAL SECOND: False\n",
            "INV DIAGONAL FIRST: False\n",
            "INV DIAGONAL SECOND: True\n",
            " :0 1 2\n",
            "---------\n",
            "0: 0 X 0 \n",
            "1: 0 X 0 \n",
            "2: X 0 X \n",
            "\n",
            "HORIZONTSL FIRST: False\n",
            "HORIZONTSL SECOND: False\n",
            "VERTICAL FIRST: False\n",
            "VERTICAL SECOND: False\n",
            "DIAGONAL FIRST: False\n",
            "DIAGONAL SECOND: False\n",
            "INV DIAGONAL FIRST: False\n",
            "INV DIAGONAL SECOND: False\n",
            "IS WIN SIMPLE FIRST False\n",
            "IS WIN SIMPLE SECOND False\n",
            "IS WIN ACTUAL FIRST False\n",
            "IS WIN ACTUAL SECOND False\n",
            "IS FULL True\n",
            "IS EVEN True\n",
            " :0 1 2\n",
            "---------\n",
            "0: 0 X 0 \n",
            "1: X 0   \n",
            "2: 0   X \n",
            "\n",
            "HORIZONTSL FIRST: False\n",
            "HORIZONTSL SECOND: False\n",
            "VERTICAL FIRST: False\n",
            "VERTICAL SECOND: False\n",
            "DIAGONAL FIRST: False\n",
            "DIAGONAL SECOND: False\n",
            "INV DIAGONAL FIRST: True\n",
            "INV DIAGONAL SECOND: False\n",
            "IS WIN SIMPLE FIRST True\n",
            "IS WIN SIMPLE SECOND False\n",
            "IS WIN ACTUAL FIRST True\n",
            "IS WIN ACTUAL SECOND False\n",
            "IS FULL False\n",
            "IS EVEN False\n",
            " :0 1 2\n",
            "---------\n",
            "0: X 0 X \n",
            "1: 0 X   \n",
            "2: X 0 0 \n",
            "\n",
            "HORIZONTSL FIRST: False\n",
            "HORIZONTSL SECOND: False\n",
            "VERTICAL FIRST: False\n",
            "VERTICAL SECOND: False\n",
            "DIAGONAL FIRST: False\n",
            "DIAGONAL SECOND: False\n",
            "INV DIAGONAL FIRST: False\n",
            "INV DIAGONAL SECOND: True\n",
            "IS WIN SIMPLE FIRST False\n",
            "IS WIN SIMPLE SECOND True\n",
            "IS WIN ACTUAL FIRST False\n",
            "IS WIN ACTUAL SECOND True\n",
            "IS FULL False\n",
            "IS EVEN False\n",
            "LOG1\n",
            " :0 1 2\n",
            "---------\n",
            "0:       \n",
            "1:       \n",
            "2:       \n",
            "\n",
            "先手 の番です\n",
            "OK\n",
            " :0 1 2\n",
            "---------\n",
            "0: 0     \n",
            "1:       \n",
            "2:       \n",
            "\n",
            "IS WIN 1 : False\n",
            "後手 の番です\n",
            "OK\n",
            " :0 1 2\n",
            "---------\n",
            "0: 0     \n",
            "1:   X   \n",
            "2:       \n",
            "\n",
            "IS WIN 2 : False\n",
            "先手 の番です\n",
            "OK\n",
            " :0 1 2\n",
            "---------\n",
            "0: 0     \n",
            "1: 0 X   \n",
            "2:       \n",
            "\n",
            "IS WIN 1 : False\n",
            "後手 の番です\n",
            "OK\n",
            " :0 1 2\n",
            "---------\n",
            "0: 0     \n",
            "1: 0 X   \n",
            "2: X     \n",
            "\n",
            "IS WIN 2 : False\n",
            "先手 の番です\n",
            "OK\n",
            " :0 1 2\n",
            "---------\n",
            "0: 0   0 \n",
            "1: 0 X   \n",
            "2: X     \n",
            "\n",
            "IS WIN 1 : False\n",
            "後手 の番です\n",
            "OK\n",
            " :0 1 2\n",
            "---------\n",
            "0: 0 X 0 \n",
            "1: 0 X   \n",
            "2: X     \n",
            "\n",
            "IS WIN 2 : False\n",
            "先手 の番です\n",
            "OK\n",
            " :0 1 2\n",
            "---------\n",
            "0: 0 X 0 \n",
            "1: 0 X   \n",
            "2: X 0   \n",
            "\n",
            "IS WIN 1 : False\n",
            "後手 の番です\n",
            "OK\n",
            " :0 1 2\n",
            "---------\n",
            "0: 0 X 0 \n",
            "1: 0 X   \n",
            "2: X 0 X \n",
            "\n",
            "IS WIN 2 : False\n",
            "先手 の番です\n",
            "OK\n",
            " :0 1 2\n",
            "---------\n",
            "0: 0 X 0 \n",
            "1: 0 X 0 \n",
            "2: X 0 X \n",
            "\n",
            "IS WIN 1 : False\n",
            "RESULT IN LOG: 3\n",
            "IS WIN FIRST: False\n",
            "IS WIN SECOND: False\n",
            "IS EVEN: True\n",
            "LOG2\n",
            " :0 1 2\n",
            "---------\n",
            "0:       \n",
            "1:       \n",
            "2:       \n",
            "\n",
            "先手 の番です\n",
            "OK\n",
            " :0 1 2\n",
            "---------\n",
            "0: 0     \n",
            "1:       \n",
            "2:       \n",
            "\n",
            "IS WIN 1 : False\n",
            "後手 の番です\n",
            "OK\n",
            " :0 1 2\n",
            "---------\n",
            "0: 0     \n",
            "1: X     \n",
            "2:       \n",
            "\n",
            "IS WIN 2 : False\n",
            "先手 の番です\n",
            "OK\n",
            " :0 1 2\n",
            "---------\n",
            "0: 0     \n",
            "1: X 0   \n",
            "2:       \n",
            "\n",
            "IS WIN 1 : False\n",
            "後手 の番です\n",
            "OK\n",
            " :0 1 2\n",
            "---------\n",
            "0: 0     \n",
            "1: X 0   \n",
            "2:     X \n",
            "\n",
            "IS WIN 2 : False\n",
            "先手 の番です\n",
            "OK\n",
            " :0 1 2\n",
            "---------\n",
            "0: 0   0 \n",
            "1: X 0   \n",
            "2:     X \n",
            "\n",
            "IS WIN 1 : False\n",
            "後手 の番です\n",
            "OK\n",
            " :0 1 2\n",
            "---------\n",
            "0: 0 X 0 \n",
            "1: X 0   \n",
            "2:     X \n",
            "\n",
            "IS WIN 2 : False\n",
            "先手 の番です\n",
            "OK\n",
            " :0 1 2\n",
            "---------\n",
            "0: 0 X 0 \n",
            "1: X 0   \n",
            "2: 0   X \n",
            "\n",
            "IS WIN 1 : True\n",
            "RESULT IN LOG: 1\n",
            "IS WIN FIRST: True\n",
            "IS WIN SECOND: False\n",
            "IS EVEN: False\n",
            "LOG3\n",
            " :0 1 2\n",
            "---------\n",
            "0:       \n",
            "1:       \n",
            "2:       \n",
            "\n",
            "先手 の番です\n",
            "OK\n",
            " :0 1 2\n",
            "---------\n",
            "0:   0   \n",
            "1:       \n",
            "2:       \n",
            "\n",
            "IS WIN 1 : False\n",
            "後手 の番です\n",
            "OK\n",
            " :0 1 2\n",
            "---------\n",
            "0: X 0   \n",
            "1:       \n",
            "2:       \n",
            "\n",
            "IS WIN 2 : False\n",
            "先手 の番です\n",
            "OK\n",
            " :0 1 2\n",
            "---------\n",
            "0: X 0   \n",
            "1:       \n",
            "2:   0   \n",
            "\n",
            "IS WIN 1 : False\n",
            "後手 の番です\n",
            "OK\n",
            " :0 1 2\n",
            "---------\n",
            "0: X 0   \n",
            "1:   X   \n",
            "2:   0   \n",
            "\n",
            "IS WIN 2 : False\n",
            "先手 の番です\n",
            "OK\n",
            " :0 1 2\n",
            "---------\n",
            "0: X 0   \n",
            "1:   X   \n",
            "2:   0 0 \n",
            "\n",
            "IS WIN 1 : False\n",
            "後手 の番です\n",
            "OK\n",
            " :0 1 2\n",
            "---------\n",
            "0: X 0   \n",
            "1:   X   \n",
            "2: X 0 0 \n",
            "\n",
            "IS WIN 2 : False\n",
            "先手 の番です\n",
            "OK\n",
            " :0 1 2\n",
            "---------\n",
            "0: X 0   \n",
            "1: 0 X   \n",
            "2: X 0 0 \n",
            "\n",
            "IS WIN 1 : False\n",
            "後手 の番です\n",
            "OK\n",
            " :0 1 2\n",
            "---------\n",
            "0: X 0 X \n",
            "1: 0 X   \n",
            "2: X 0 0 \n",
            "\n",
            "IS WIN 2 : True\n",
            "RESULT IN LOG: 2\n",
            "IS WIN FIRST: False\n",
            "IS WIN SECOND: True\n",
            "IS EVEN: False\n"
          ],
          "name": "stdout"
        }
      ]
    },
    {
      "cell_type": "code",
      "metadata": {
        "hidden": true,
        "id": "BD1pHemoJLJV",
        "colab_type": "code",
        "colab": {},
        "outputId": "2bf6eca7-eb02-4a09-e231-9341b49b14b5"
      },
      "source": [
        "play()"
      ],
      "execution_count": 0,
      "outputs": [
        {
          "output_type": "stream",
          "text": [
            " :0 1 2\n",
            "---------\n",
            "0:       \n",
            "1:       \n",
            "2:       \n",
            "\n",
            "先手 の番です\n",
            "行を入力してください:0\n",
            "列を入力してください:0\n",
            "OK\n",
            " :0 1 2\n",
            "---------\n",
            "0: 0     \n",
            "1:       \n",
            "2:       \n",
            "\n",
            "後手 の番です\n",
            "行を入力してください:1\n",
            "列を入力してください:1\n",
            "OK\n",
            " :0 1 2\n",
            "---------\n",
            "0: 0     \n",
            "1:   X   \n",
            "2:       \n",
            "\n",
            "先手 の番です\n",
            "行を入力してください:0\n",
            "列を入力してください:1\n",
            "OK\n",
            " :0 1 2\n",
            "---------\n",
            "0: 0 0   \n",
            "1:   X   \n",
            "2:       \n",
            "\n",
            "後手 の番です\n",
            "行を入力してください:0\n",
            "列を入力してください:2\n",
            "OK\n",
            " :0 1 2\n",
            "---------\n",
            "0: 0 0 X \n",
            "1:   X   \n",
            "2:       \n",
            "\n",
            "先手 の番です\n",
            "行を入力してください:2\n",
            "列を入力してください:0\n",
            "OK\n",
            " :0 1 2\n",
            "---------\n",
            "0: 0 0 X \n",
            "1:   X   \n",
            "2: 0     \n",
            "\n",
            "後手 の番です\n",
            "行を入力してください:2\n",
            "列を入力してください:2\n",
            "OK\n",
            " :0 1 2\n",
            "---------\n",
            "0: 0 0 X \n",
            "1:   X   \n",
            "2: 0   X \n",
            "\n",
            "先手 の番です\n",
            "行を入力してください:1\n",
            "列を入力してください:0\n",
            "OK\n",
            " :0 1 2\n",
            "---------\n",
            "0: 0 0 X \n",
            "1: 0 X   \n",
            "2: 0   X \n",
            "\n",
            "先手 の勝ちです\n",
            " :0 1 2\n",
            "---------\n",
            "0:       \n",
            "1:       \n",
            "2:       \n",
            "\n",
            "先手 の番です\n",
            "OK\n",
            " :0 1 2\n",
            "---------\n",
            "0: 0     \n",
            "1:       \n",
            "2:       \n",
            "\n",
            "IS WIN 1 : False\n",
            "後手 の番です\n",
            "OK\n",
            " :0 1 2\n",
            "---------\n",
            "0: 0     \n",
            "1:   X   \n",
            "2:       \n",
            "\n",
            "IS WIN 2 : False\n",
            "先手 の番です\n",
            "OK\n",
            " :0 1 2\n",
            "---------\n",
            "0: 0 0   \n",
            "1:   X   \n",
            "2:       \n",
            "\n",
            "IS WIN 1 : False\n",
            "後手 の番です\n",
            "OK\n",
            " :0 1 2\n",
            "---------\n",
            "0: 0 0 X \n",
            "1:   X   \n",
            "2:       \n",
            "\n",
            "IS WIN 2 : False\n",
            "先手 の番です\n",
            "OK\n",
            " :0 1 2\n",
            "---------\n",
            "0: 0 0 X \n",
            "1:   X   \n",
            "2: 0     \n",
            "\n",
            "IS WIN 1 : False\n",
            "後手 の番です\n",
            "OK\n",
            " :0 1 2\n",
            "---------\n",
            "0: 0 0 X \n",
            "1:   X   \n",
            "2: 0   X \n",
            "\n",
            "IS WIN 2 : False\n",
            "先手 の番です\n",
            "OK\n",
            " :0 1 2\n",
            "---------\n",
            "0: 0 0 X \n",
            "1: 0 X   \n",
            "2: 0   X \n",
            "\n",
            "IS WIN 1 : True\n",
            "RESULT IN LOG: 1\n",
            "IS WIN FIRST: True\n",
            "IS WIN SECOND: False\n",
            "IS EVEN: False\n"
          ],
          "name": "stdout"
        }
      ]
    },
    {
      "cell_type": "markdown",
      "metadata": {
        "id": "ToaMCzCyJLJW",
        "colab_type": "text"
      },
      "source": [
        "# 13. Pythonの学術利用"
      ]
    },
    {
      "cell_type": "markdown",
      "metadata": {
        "id": "Ec737e8HJLJX",
        "colab_type": "text"
      },
      "source": [
        "## 13.3 NumPy"
      ]
    },
    {
      "cell_type": "markdown",
      "metadata": {
        "id": "7_RN9I9xJLJX",
        "colab_type": "text"
      },
      "source": [
        "### 13.3.1 多次元配列の生成"
      ]
    },
    {
      "cell_type": "markdown",
      "metadata": {
        "id": "Wob_4v-UJLJX",
        "colab_type": "text"
      },
      "source": [
        "1) リストから生成する"
      ]
    },
    {
      "cell_type": "code",
      "metadata": {
        "id": "Lj1Y2odNJLJY",
        "colab_type": "code",
        "colab": {},
        "outputId": "36fd9cc6-c7fd-4966-b456-60f691104aac"
      },
      "source": [
        "import numpy as np\n",
        "data1 = [1, 2, 3]\n",
        "arr1 = np.array(data1) #1次元のデータ\n",
        "data2 = [[1,2,3],[4,5,6]]\n",
        "arr2 = np.array(data2)\n",
        "print(data1)\n",
        "print(arr1)\n",
        "print(data2)\n",
        "print(arr2)"
      ],
      "execution_count": 0,
      "outputs": [
        {
          "output_type": "stream",
          "text": [
            "[1, 2, 3]\n",
            "[1 2 3]\n",
            "[[1, 2, 3], [4, 5, 6]]\n",
            "[[1 2 3]\n",
            " [4 5 6]]\n"
          ],
          "name": "stdout"
        }
      ]
    },
    {
      "cell_type": "markdown",
      "metadata": {
        "id": "MxVFTbKkJLJa",
        "colab_type": "text"
      },
      "source": [
        "2) すべての要素が0の配列を作る"
      ]
    },
    {
      "cell_type": "code",
      "metadata": {
        "id": "MMxZofE2JLJa",
        "colab_type": "code",
        "colab": {},
        "outputId": "ed11193a-290c-4922-ec31-9d58d1ccbb00"
      },
      "source": [
        "np.zeros(5) #大きさ5の1次元配列"
      ],
      "execution_count": 0,
      "outputs": [
        {
          "output_type": "execute_result",
          "data": {
            "text/plain": [
              "array([0., 0., 0., 0., 0.])"
            ]
          },
          "metadata": {
            "tags": []
          },
          "execution_count": 34
        }
      ]
    },
    {
      "cell_type": "code",
      "metadata": {
        "id": "Dlmif-fMJLJb",
        "colab_type": "code",
        "colab": {},
        "outputId": "1d5342a5-76f2-42c8-eaa5-a1d7fd7f448d"
      },
      "source": [
        "np.zeros((2,2)) #大きさ(2,2)の2次元配列、()が二重に注意"
      ],
      "execution_count": 0,
      "outputs": [
        {
          "output_type": "execute_result",
          "data": {
            "text/plain": [
              "array([[0., 0.],\n",
              "       [0., 0.]])"
            ]
          },
          "metadata": {
            "tags": []
          },
          "execution_count": 35
        }
      ]
    },
    {
      "cell_type": "code",
      "metadata": {
        "id": "VzZS1pL9JLJb",
        "colab_type": "code",
        "colab": {},
        "outputId": "a9cb13d6-6450-4ec8-ad84-828799377d19"
      },
      "source": [
        "a = np.array([[1,2,3],[4,5,6]])\n",
        "np.zeros_like(a) #配列aと同じ大きさ"
      ],
      "execution_count": 0,
      "outputs": [
        {
          "output_type": "execute_result",
          "data": {
            "text/plain": [
              "array([[0, 0, 0],\n",
              "       [0, 0, 0]])"
            ]
          },
          "metadata": {
            "tags": []
          },
          "execution_count": 36
        }
      ]
    },
    {
      "cell_type": "markdown",
      "metadata": {
        "id": "TQw5f_1ZJLJc",
        "colab_type": "text"
      },
      "source": [
        "### 13.3.2 `ndarray`の属性"
      ]
    },
    {
      "cell_type": "code",
      "metadata": {
        "id": "NYHFf2JkJLJd",
        "colab_type": "code",
        "colab": {},
        "outputId": "0387b56f-489a-436d-8b0b-c5d0fd701ed1"
      },
      "source": [
        "import numpy as np\n",
        "arr2 = np.array([[1,2,3],[4,5,6]])\n",
        "arr2.ndim"
      ],
      "execution_count": 0,
      "outputs": [
        {
          "output_type": "execute_result",
          "data": {
            "text/plain": [
              "2"
            ]
          },
          "metadata": {
            "tags": []
          },
          "execution_count": 39
        }
      ]
    },
    {
      "cell_type": "code",
      "metadata": {
        "id": "NsIQfUUuJLJe",
        "colab_type": "code",
        "colab": {},
        "outputId": "15ff01d2-8ce2-4c07-b603-25e3bafb517b"
      },
      "source": [
        "arr2.shape"
      ],
      "execution_count": 0,
      "outputs": [
        {
          "output_type": "execute_result",
          "data": {
            "text/plain": [
              "(2, 3)"
            ]
          },
          "metadata": {
            "tags": []
          },
          "execution_count": 42
        }
      ]
    },
    {
      "cell_type": "code",
      "metadata": {
        "id": "YYIQ3ZA0JLJf",
        "colab_type": "code",
        "colab": {},
        "outputId": "ab2f45ea-80bf-42e7-8bae-537cd478bace"
      },
      "source": [
        "arr2.dtype"
      ],
      "execution_count": 0,
      "outputs": [
        {
          "output_type": "execute_result",
          "data": {
            "text/plain": [
              "dtype('int64')"
            ]
          },
          "metadata": {
            "tags": []
          },
          "execution_count": 43
        }
      ]
    },
    {
      "cell_type": "markdown",
      "metadata": {
        "id": "xwZUQ_ZqJLJg",
        "colab_type": "text"
      },
      "source": [
        "### 13.3.3 `ndarray`の要素へのアクセス"
      ]
    },
    {
      "cell_type": "code",
      "metadata": {
        "id": "74ggCxJOJLJg",
        "colab_type": "code",
        "colab": {},
        "outputId": "8f7aa2e0-dcea-45e2-8c9e-ad15bd5561d4"
      },
      "source": [
        "arr1 = np.array([1,2,3])\n",
        "arr1[0]"
      ],
      "execution_count": 0,
      "outputs": [
        {
          "output_type": "execute_result",
          "data": {
            "text/plain": [
              "1"
            ]
          },
          "metadata": {
            "tags": []
          },
          "execution_count": 44
        }
      ]
    },
    {
      "cell_type": "code",
      "metadata": {
        "id": "6Ue0cpzfJLJh",
        "colab_type": "code",
        "colab": {},
        "outputId": "dba98b1b-5a2e-467b-f157-32b2f7163cca"
      },
      "source": [
        "arr1[1] = 1\n",
        "arr1"
      ],
      "execution_count": 0,
      "outputs": [
        {
          "output_type": "execute_result",
          "data": {
            "text/plain": [
              "array([1, 1, 3])"
            ]
          },
          "metadata": {
            "tags": []
          },
          "execution_count": 48
        }
      ]
    },
    {
      "cell_type": "markdown",
      "metadata": {
        "id": "YxAVizV0JLJi",
        "colab_type": "text"
      },
      "source": [
        "### 13.3.4 スライス"
      ]
    },
    {
      "cell_type": "code",
      "metadata": {
        "id": "7kynenyUJLJi",
        "colab_type": "code",
        "colab": {},
        "outputId": "c93aa8cc-5b5b-4749-8d09-60344077cf95"
      },
      "source": [
        "arr1[2:]"
      ],
      "execution_count": 0,
      "outputs": [
        {
          "output_type": "execute_result",
          "data": {
            "text/plain": [
              "array([3])"
            ]
          },
          "metadata": {
            "tags": []
          },
          "execution_count": 53
        }
      ]
    },
    {
      "cell_type": "code",
      "metadata": {
        "id": "DwPWwXkaJLJj",
        "colab_type": "code",
        "colab": {},
        "outputId": "f03d69b2-3f8f-4975-c483-dc38ab9458ea"
      },
      "source": [
        "arr2[0:2,0:2]"
      ],
      "execution_count": 0,
      "outputs": [
        {
          "output_type": "execute_result",
          "data": {
            "text/plain": [
              "array([[1, 2],\n",
              "       [4, 5]])"
            ]
          },
          "metadata": {
            "tags": []
          },
          "execution_count": 50
        }
      ]
    },
    {
      "cell_type": "markdown",
      "metadata": {
        "id": "SpzyPymdJLJj",
        "colab_type": "text"
      },
      "source": [
        "### 13.3.5 `ndarray`の演算"
      ]
    },
    {
      "cell_type": "code",
      "metadata": {
        "id": "O5rmq3WLJLJj",
        "colab_type": "code",
        "colab": {},
        "outputId": "0e56c71c-d251-440f-8e21-ed6f0a028abe"
      },
      "source": [
        "arr1 = np.array([1,2,3])\n",
        "arr1*2"
      ],
      "execution_count": 0,
      "outputs": [
        {
          "output_type": "execute_result",
          "data": {
            "text/plain": [
              "array([2, 4, 6])"
            ]
          },
          "metadata": {
            "tags": []
          },
          "execution_count": 54
        }
      ]
    },
    {
      "cell_type": "code",
      "metadata": {
        "id": "EsQDabCEJLJk",
        "colab_type": "code",
        "colab": {},
        "outputId": "b5cc7dde-7020-419e-f693-e87d2f6cabaa"
      },
      "source": [
        "arr1 + 1"
      ],
      "execution_count": 0,
      "outputs": [
        {
          "output_type": "execute_result",
          "data": {
            "text/plain": [
              "array([2, 3, 4])"
            ]
          },
          "metadata": {
            "tags": []
          },
          "execution_count": 55
        }
      ]
    },
    {
      "cell_type": "markdown",
      "metadata": {
        "id": "zYAUtsGrJLJl",
        "colab_type": "text"
      },
      "source": [
        "### 13.3.6 条件を満たす要素の抽出"
      ]
    },
    {
      "cell_type": "code",
      "metadata": {
        "id": "V9jRwD55JLJl",
        "colab_type": "code",
        "colab": {},
        "outputId": "b6642403-1f9d-4ebc-db17-5d4c46747548"
      },
      "source": [
        "arr1 = np.array([1,2,3,4,5])\n",
        "cond = arr1 > 2 #条件を満たすかどうかの配列の生成\n",
        "cond"
      ],
      "execution_count": 0,
      "outputs": [
        {
          "output_type": "execute_result",
          "data": {
            "text/plain": [
              "array([False, False,  True,  True,  True])"
            ]
          },
          "metadata": {
            "tags": []
          },
          "execution_count": 56
        }
      ]
    },
    {
      "cell_type": "code",
      "metadata": {
        "id": "49xrOMEeJLJm",
        "colab_type": "code",
        "colab": {},
        "outputId": "5e77be6b-386f-47cd-abf4-bed65eb1b54c"
      },
      "source": [
        "arr1[cond] #条件を指定してスライス"
      ],
      "execution_count": 0,
      "outputs": [
        {
          "output_type": "execute_result",
          "data": {
            "text/plain": [
              "array([3, 4, 5])"
            ]
          },
          "metadata": {
            "tags": []
          },
          "execution_count": 58
        }
      ]
    },
    {
      "cell_type": "markdown",
      "metadata": {
        "id": "AHEHolnVJLJn",
        "colab_type": "text"
      },
      "source": [
        "### 13.3.7 行列計算"
      ]
    },
    {
      "cell_type": "markdown",
      "metadata": {
        "id": "AfvfZ6pTJLJn",
        "colab_type": "text"
      },
      "source": [
        "- 行列の転置（行と列の入れ替え）"
      ]
    },
    {
      "cell_type": "code",
      "metadata": {
        "id": "7VFv8sg-JLJo",
        "colab_type": "code",
        "colab": {},
        "outputId": "314257ce-e45d-4b50-8ded-a708ffe6204b"
      },
      "source": [
        "arr2 = np.array([[1,2,3],[4,5,6]])\n",
        "arr2.T"
      ],
      "execution_count": 0,
      "outputs": [
        {
          "output_type": "execute_result",
          "data": {
            "text/plain": [
              "array([[1, 4],\n",
              "       [2, 5],\n",
              "       [3, 6]])"
            ]
          },
          "metadata": {
            "tags": []
          },
          "execution_count": 60
        }
      ]
    },
    {
      "cell_type": "markdown",
      "metadata": {
        "id": "xuPaX75oJLJp",
        "colab_type": "text"
      },
      "source": [
        "- 行列積"
      ]
    },
    {
      "cell_type": "code",
      "metadata": {
        "id": "HU42brZSJLJp",
        "colab_type": "code",
        "colab": {},
        "outputId": "623a589d-09f4-47d1-d493-b9ad796beef5"
      },
      "source": [
        "arr1 = np.array([1,2])\n",
        "arr2 = np.array([[1,2,3],[4,5,6]])\n",
        "arr1 @ arr2"
      ],
      "execution_count": 0,
      "outputs": [
        {
          "output_type": "execute_result",
          "data": {
            "text/plain": [
              "array([ 9, 12, 15])"
            ]
          },
          "metadata": {
            "tags": []
          },
          "execution_count": 62
        }
      ]
    },
    {
      "cell_type": "markdown",
      "metadata": {
        "id": "iUC4ntN7JLJq",
        "colab_type": "text"
      },
      "source": [
        "- `linalg`モジュールの利用：`numpy.linalg`（numpyを`np`でインポートしていれば`np.linalg`）には以下のような行列を扱う関数が定義されています。"
      ]
    },
    {
      "cell_type": "markdown",
      "metadata": {
        "id": "cvlfzat_JLJq",
        "colab_type": "text"
      },
      "source": [
        "- \n",
        "    - diag（対角要素）,"
      ]
    },
    {
      "cell_type": "code",
      "metadata": {
        "id": "waN1DNlfJLJq",
        "colab_type": "code",
        "colab": {},
        "outputId": "3ec3cec0-1cf8-45b0-a2ff-d632fe031746"
      },
      "source": [
        "arr2 = np.array([[1,2],[3,4]])\n",
        "np.diag(arr2)"
      ],
      "execution_count": 0,
      "outputs": [
        {
          "output_type": "execute_result",
          "data": {
            "text/plain": [
              "array([1, 4])"
            ]
          },
          "metadata": {
            "tags": []
          },
          "execution_count": 66
        }
      ]
    },
    {
      "cell_type": "markdown",
      "metadata": {
        "id": "LWHe2k8xJLJr",
        "colab_type": "text"
      },
      "source": [
        "-  - trace（対角要素の和）,"
      ]
    },
    {
      "cell_type": "code",
      "metadata": {
        "id": "jOFJ5UROJLJr",
        "colab_type": "code",
        "colab": {},
        "outputId": "174508dc-0083-4633-ce8f-1dc64cc4ba20"
      },
      "source": [
        "arr2 = np.array([[1,2],[3,4]])\n",
        "np.trace(arr2)"
      ],
      "execution_count": 0,
      "outputs": [
        {
          "output_type": "execute_result",
          "data": {
            "text/plain": [
              "5"
            ]
          },
          "metadata": {
            "tags": []
          },
          "execution_count": 67
        }
      ]
    },
    {
      "cell_type": "markdown",
      "metadata": {
        "id": "VWYETE1PJLJs",
        "colab_type": "text"
      },
      "source": [
        "- - det（行列式）"
      ]
    },
    {
      "cell_type": "code",
      "metadata": {
        "id": "IRAPLqNrJLJs",
        "colab_type": "code",
        "colab": {},
        "outputId": "efbe6fc3-db76-4135-cf41-0689b1901fcc"
      },
      "source": [
        "import numpy.linalg as LA\n",
        "arr2 = np.array([[1,2],[3,4]])\n",
        "print(arr2[0,0]*arr2[1,1]-arr2[0,1]*arr2[1,0])\n",
        "print(LA.det(arr2))"
      ],
      "execution_count": 0,
      "outputs": [
        {
          "output_type": "stream",
          "text": [
            "-2\n",
            "-2.0000000000000004\n"
          ],
          "name": "stdout"
        }
      ]
    },
    {
      "cell_type": "markdown",
      "metadata": {
        "id": "B-3wSAAsJLJt",
        "colab_type": "text"
      },
      "source": [
        "- - eig（固有値）"
      ]
    },
    {
      "cell_type": "code",
      "metadata": {
        "id": "CDkRsggZJLJu",
        "colab_type": "code",
        "colab": {},
        "outputId": "b67b0720-f110-4032-c248-8cc0f282e26a"
      },
      "source": [
        "arr2 = np.array([[1,2],[3,4]])\n",
        "LA.eig(arr2)"
      ],
      "execution_count": 0,
      "outputs": [
        {
          "output_type": "execute_result",
          "data": {
            "text/plain": [
              "(array([-0.37228132,  5.37228132]), array([[-0.82456484, -0.41597356],\n",
              "        [ 0.56576746, -0.90937671]]))"
            ]
          },
          "metadata": {
            "tags": []
          },
          "execution_count": 74
        }
      ]
    },
    {
      "cell_type": "markdown",
      "metadata": {
        "id": "K8mExYaOJLJv",
        "colab_type": "text"
      },
      "source": [
        "- - inv（逆行列）"
      ]
    },
    {
      "cell_type": "code",
      "metadata": {
        "id": "T4PMQB3AJLJw",
        "colab_type": "code",
        "colab": {},
        "outputId": "c61cabb3-64a4-463c-c9ad-e020476a3b9d"
      },
      "source": [
        "arr2 = np.array([[1,2],[3,4]])\n",
        "inv_arr2 = LA.inv(arr2)\n",
        "print(inv_arr2)\n",
        "print(arr2 @ inv_arr2)"
      ],
      "execution_count": 0,
      "outputs": [
        {
          "output_type": "stream",
          "text": [
            "[[-2.   1. ]\n",
            " [ 1.5 -0.5]]\n",
            "[[1.0000000e+00 0.0000000e+00]\n",
            " [8.8817842e-16 1.0000000e+00]]\n"
          ],
          "name": "stdout"
        }
      ]
    },
    {
      "cell_type": "markdown",
      "metadata": {
        "id": "AEOSfKSPJLJw",
        "colab_type": "text"
      },
      "source": [
        "- - solve（一次方程式を解く）"
      ]
    },
    {
      "cell_type": "code",
      "metadata": {
        "id": "0p7DaayxJLJy",
        "colab_type": "code",
        "colab": {},
        "outputId": "63176c96-b0b5-41e0-a817-7914057c5506"
      },
      "source": [
        "arr1 = np.array([2,2])\n",
        "arr2 = np.array([[1,2],[3,4]])\n",
        "LA.solve(arr2,arr1)"
      ],
      "execution_count": 0,
      "outputs": [
        {
          "output_type": "execute_result",
          "data": {
            "text/plain": [
              "array([-2.,  2.])"
            ]
          },
          "metadata": {
            "tags": []
          },
          "execution_count": 78
        }
      ]
    },
    {
      "cell_type": "markdown",
      "metadata": {
        "id": "WNaphadBJLJ0",
        "colab_type": "text"
      },
      "source": [
        "### 13.3.8 乱数"
      ]
    },
    {
      "cell_type": "code",
      "metadata": {
        "id": "FeVvjmlqJLJ0",
        "colab_type": "code",
        "colab": {},
        "outputId": "aaf8d48e-4d0a-43e9-cfad-d100cb70c6df"
      },
      "source": [
        "np.random.rand(10)"
      ],
      "execution_count": 0,
      "outputs": [
        {
          "output_type": "execute_result",
          "data": {
            "text/plain": [
              "array([0.65113352, 0.46071865, 0.48004311, 0.54538081, 0.47077597,\n",
              "       0.46153649, 0.18838706, 0.69056254, 0.26034294, 0.6527107 ])"
            ]
          },
          "metadata": {
            "tags": []
          },
          "execution_count": 79
        }
      ]
    },
    {
      "cell_type": "code",
      "metadata": {
        "id": "p4NB6wCdJLJ2",
        "colab_type": "code",
        "colab": {},
        "outputId": "8b7ebe71-6283-4673-9023-9f2ab678a97d"
      },
      "source": [
        "np.random.randn(5,5)"
      ],
      "execution_count": 0,
      "outputs": [
        {
          "output_type": "execute_result",
          "data": {
            "text/plain": [
              "array([[ 0.11777229,  1.2402619 ,  0.77291522, -2.12090009, -0.85663898],\n",
              "       [-1.69573394, -0.23068835,  0.2883004 , -0.37030181, -0.85583034],\n",
              "       [-0.31119302, -0.99750345,  1.61150623, -0.01346241, -0.51178069],\n",
              "       [-0.61250599,  0.80940112,  0.47943377,  1.10501258, -0.65199168],\n",
              "       [ 1.0167051 , -0.65592633, -0.29231597, -1.40452503,  0.35741126]])"
            ]
          },
          "metadata": {
            "tags": []
          },
          "execution_count": 80
        }
      ]
    },
    {
      "cell_type": "code",
      "metadata": {
        "id": "Zeztv6kAJLJ4",
        "colab_type": "code",
        "colab": {},
        "outputId": "10021ffe-44f9-4028-ba92-5c6211802709"
      },
      "source": [
        "np.random.permutation([1,2,3,4,5])"
      ],
      "execution_count": 0,
      "outputs": [
        {
          "output_type": "execute_result",
          "data": {
            "text/plain": [
              "array([2, 5, 3, 1, 4])"
            ]
          },
          "metadata": {
            "tags": []
          },
          "execution_count": 81
        }
      ]
    },
    {
      "cell_type": "code",
      "metadata": {
        "id": "fvzwYh2zJLJ5",
        "colab_type": "code",
        "colab": {},
        "outputId": "b10570a3-42bb-466c-f844-098fb80b65fd"
      },
      "source": [
        "np.random.randint(2,size=10)"
      ],
      "execution_count": 0,
      "outputs": [
        {
          "output_type": "execute_result",
          "data": {
            "text/plain": [
              "array([1, 1, 0, 0, 0, 0, 0, 1, 1, 0])"
            ]
          },
          "metadata": {
            "tags": []
          },
          "execution_count": 83
        }
      ]
    },
    {
      "cell_type": "markdown",
      "metadata": {
        "id": "Xm3U-0s6JLJ6",
        "colab_type": "text"
      },
      "source": [
        "## 13.4 Matplotlib"
      ]
    },
    {
      "cell_type": "markdown",
      "metadata": {
        "id": "guX1VplQJLJ6",
        "colab_type": "text"
      },
      "source": [
        "### 13.4.2 日本語での文字出力"
      ]
    },
    {
      "cell_type": "code",
      "metadata": {
        "id": "8yRmM8L_PxZI",
        "colab_type": "code",
        "colab": {
          "base_uri": "https://localhost:8080/",
          "height": 102
        },
        "outputId": "18a18029-2779-4140-dc5c-2340e79bdf2a"
      },
      "source": [
        "!apt -qy install fonts-noto-cjk\n",
        "!pip install -q --upgrade matplotlib"
      ],
      "execution_count": 17,
      "outputs": [
        {
          "output_type": "stream",
          "text": [
            "Reading package lists...\n",
            "Building dependency tree...\n",
            "Reading state information...\n",
            "fonts-noto-cjk is already the newest version (1:20190409+repack1-0ubuntu0.18.04).\n",
            "0 upgraded, 0 newly installed, 0 to remove and 25 not upgraded.\n"
          ],
          "name": "stdout"
        }
      ]
    },
    {
      "cell_type": "code",
      "metadata": {
        "id": "9KMki05xJLJ_",
        "colab_type": "code",
        "colab": {
          "base_uri": "https://localhost:8080/",
          "height": 573
        },
        "outputId": "d553646a-96a1-4562-c876-1ad154b8f102"
      },
      "source": [
        "import matplotlib\n",
        "%matplotlib inline\n",
        "import matplotlib.pyplot as plt\n",
        "# matplotlib で日本語表示を可能にする\n",
        "# matplotlib version 3.1 以降なら Yu Gothic が使用可能\n",
        "from matplotlib import rcParams\n",
        "rcParams['font.family'] = 'sans-serif'\n",
        "rcParams['font.sans-serif'] = ['Noto Sans CJK JP']\n",
        "# 以下はプロット例\n",
        "data = [1,2,3]\n",
        "plt.plot(data)\n",
        "plt.title('タイトル')\n",
        "plt.show()"
      ],
      "execution_count": 20,
      "outputs": [
        {
          "output_type": "stream",
          "text": [
            "/usr/local/lib/python3.6/dist-packages/matplotlib/backends/backend_agg.py:214: RuntimeWarning: Glyph 12479 missing from current font.\n",
            "  font.set_text(s, 0.0, flags=flags)\n",
            "/usr/local/lib/python3.6/dist-packages/matplotlib/backends/backend_agg.py:214: RuntimeWarning: Glyph 12452 missing from current font.\n",
            "  font.set_text(s, 0.0, flags=flags)\n",
            "/usr/local/lib/python3.6/dist-packages/matplotlib/backends/backend_agg.py:214: RuntimeWarning: Glyph 12488 missing from current font.\n",
            "  font.set_text(s, 0.0, flags=flags)\n",
            "/usr/local/lib/python3.6/dist-packages/matplotlib/backends/backend_agg.py:214: RuntimeWarning: Glyph 12523 missing from current font.\n",
            "  font.set_text(s, 0.0, flags=flags)\n",
            "/usr/local/lib/python3.6/dist-packages/matplotlib/backends/backend_agg.py:183: RuntimeWarning: Glyph 12479 missing from current font.\n",
            "  font.set_text(s, 0, flags=flags)\n",
            "/usr/local/lib/python3.6/dist-packages/matplotlib/backends/backend_agg.py:183: RuntimeWarning: Glyph 12452 missing from current font.\n",
            "  font.set_text(s, 0, flags=flags)\n",
            "/usr/local/lib/python3.6/dist-packages/matplotlib/backends/backend_agg.py:183: RuntimeWarning: Glyph 12488 missing from current font.\n",
            "  font.set_text(s, 0, flags=flags)\n",
            "/usr/local/lib/python3.6/dist-packages/matplotlib/backends/backend_agg.py:183: RuntimeWarning: Glyph 12523 missing from current font.\n",
            "  font.set_text(s, 0, flags=flags)\n"
          ],
          "name": "stderr"
        },
        {
          "output_type": "display_data",
          "data": {
            "image/png": "[encoded data removed]",
            "text/plain": [
              "<Figure size 432x288 with 1 Axes>"
            ]
          },
          "metadata": {
            "tags": []
          }
        }
      ]
    },
    {
      "cell_type": "markdown",
      "metadata": {
        "id": "Y1rYeekcJLKA",
        "colab_type": "text"
      },
      "source": [
        "### 13.4.4 利用例"
      ]
    },
    {
      "cell_type": "markdown",
      "metadata": {
        "id": "AWQavTO2JLKA",
        "colab_type": "text"
      },
      "source": [
        "プログラム37 `use_matplotlib.py`"
      ]
    },
    {
      "cell_type": "code",
      "metadata": {
        "id": "9L-UPFkmJLKB",
        "colab_type": "code",
        "colab": {
          "base_uri": "https://localhost:8080/",
          "height": 927
        },
        "outputId": "477dbac6-6499-4d9a-b3db-3d24383e83b8"
      },
      "source": [
        "#\n",
        "# matplotlib 基本の使い方\n",
        "#\n",
        "import matplotlib\n",
        "%matplotlib inline\n",
        "import matplotlib.pyplot as plt\n",
        "# matplotlib で日本語表示を可能にする\n",
        "# matplotlib version 3.1 以降なら Yu Gothic が使用可能\n",
        "# matplotlib.rc('font', **{'family':'Yu Gothic'})\n",
        "#\n",
        "# 3本の線グラフを書く\n",
        "#\n",
        "plt.plot([1,2,3], 'k-',   label='系列1')\n",
        "plt.plot([2,3,4], 'r--',  label='系列2')\n",
        "plt.plot([3,4,5], 'b--o', label='系列3')\n",
        "#\n",
        "plt.title('タイトル')\n",
        "plt.xlabel('横軸')\n",
        "plt.ylabel('縦軸')\n",
        "plt.legend() #凡例\n",
        "plt.show()"
      ],
      "execution_count": 21,
      "outputs": [
        {
          "output_type": "stream",
          "text": [
            "/usr/local/lib/python3.6/dist-packages/matplotlib/backends/backend_agg.py:214: RuntimeWarning: Glyph 12479 missing from current font.\n",
            "  font.set_text(s, 0.0, flags=flags)\n",
            "/usr/local/lib/python3.6/dist-packages/matplotlib/backends/backend_agg.py:214: RuntimeWarning: Glyph 12452 missing from current font.\n",
            "  font.set_text(s, 0.0, flags=flags)\n",
            "/usr/local/lib/python3.6/dist-packages/matplotlib/backends/backend_agg.py:214: RuntimeWarning: Glyph 12488 missing from current font.\n",
            "  font.set_text(s, 0.0, flags=flags)\n",
            "/usr/local/lib/python3.6/dist-packages/matplotlib/backends/backend_agg.py:214: RuntimeWarning: Glyph 12523 missing from current font.\n",
            "  font.set_text(s, 0.0, flags=flags)\n",
            "/usr/local/lib/python3.6/dist-packages/matplotlib/backends/backend_agg.py:214: RuntimeWarning: Glyph 27178 missing from current font.\n",
            "  font.set_text(s, 0.0, flags=flags)\n",
            "/usr/local/lib/python3.6/dist-packages/matplotlib/backends/backend_agg.py:214: RuntimeWarning: Glyph 36600 missing from current font.\n",
            "  font.set_text(s, 0.0, flags=flags)\n",
            "/usr/local/lib/python3.6/dist-packages/matplotlib/backends/backend_agg.py:214: RuntimeWarning: Glyph 32294 missing from current font.\n",
            "  font.set_text(s, 0.0, flags=flags)\n",
            "/usr/local/lib/python3.6/dist-packages/matplotlib/backends/backend_agg.py:214: RuntimeWarning: Glyph 31995 missing from current font.\n",
            "  font.set_text(s, 0.0, flags=flags)\n",
            "/usr/local/lib/python3.6/dist-packages/matplotlib/backends/backend_agg.py:214: RuntimeWarning: Glyph 21015 missing from current font.\n",
            "  font.set_text(s, 0.0, flags=flags)\n",
            "/usr/local/lib/python3.6/dist-packages/matplotlib/backends/backend_agg.py:183: RuntimeWarning: Glyph 27178 missing from current font.\n",
            "  font.set_text(s, 0, flags=flags)\n",
            "/usr/local/lib/python3.6/dist-packages/matplotlib/backends/backend_agg.py:183: RuntimeWarning: Glyph 36600 missing from current font.\n",
            "  font.set_text(s, 0, flags=flags)\n",
            "/usr/local/lib/python3.6/dist-packages/matplotlib/backends/backend_agg.py:183: RuntimeWarning: Glyph 32294 missing from current font.\n",
            "  font.set_text(s, 0, flags=flags)\n",
            "/usr/local/lib/python3.6/dist-packages/matplotlib/backends/backend_agg.py:183: RuntimeWarning: Glyph 12479 missing from current font.\n",
            "  font.set_text(s, 0, flags=flags)\n",
            "/usr/local/lib/python3.6/dist-packages/matplotlib/backends/backend_agg.py:183: RuntimeWarning: Glyph 12452 missing from current font.\n",
            "  font.set_text(s, 0, flags=flags)\n",
            "/usr/local/lib/python3.6/dist-packages/matplotlib/backends/backend_agg.py:183: RuntimeWarning: Glyph 12488 missing from current font.\n",
            "  font.set_text(s, 0, flags=flags)\n",
            "/usr/local/lib/python3.6/dist-packages/matplotlib/backends/backend_agg.py:183: RuntimeWarning: Glyph 12523 missing from current font.\n",
            "  font.set_text(s, 0, flags=flags)\n",
            "/usr/local/lib/python3.6/dist-packages/matplotlib/backends/backend_agg.py:183: RuntimeWarning: Glyph 31995 missing from current font.\n",
            "  font.set_text(s, 0, flags=flags)\n",
            "/usr/local/lib/python3.6/dist-packages/matplotlib/backends/backend_agg.py:183: RuntimeWarning: Glyph 21015 missing from current font.\n",
            "  font.set_text(s, 0, flags=flags)\n"
          ],
          "name": "stderr"
        },
        {
          "output_type": "display_data",
          "data": {
            "image/png": "[encoded data removed]",
            "text/plain": [
              "<Figure size 432x288 with 1 Axes>"
            ]
          },
          "metadata": {
            "tags": []
          }
        }
      ]
    },
    {
      "cell_type": "markdown",
      "metadata": {
        "id": "EKIA4N1XJLKB",
        "colab_type": "text"
      },
      "source": [
        "プログラム38 `use_matplotlib_scatter.py`"
      ]
    },
    {
      "cell_type": "code",
      "metadata": {
        "id": "YHNjpwMCJLKB",
        "colab_type": "code",
        "colab": {},
        "outputId": "5b6dc704-1b5f-4c01-f27f-e12bb95baf55"
      },
      "source": [
        "#\n",
        "# matplotlib で散布図を描く\n",
        "#\n",
        "import matplotlib\n",
        "%matplotlib inline\n",
        "import matplotlib.pyplot as plt\n",
        "# matplotlib で日本語表示を可能にする\n",
        "# matplotlib version 3.1 以降なら Yu Gothic が使用可能\n",
        "matplotlib.rc('font', **{'family':'Yu Gothic'})\n",
        "import numpy as np\n",
        "#\n",
        "# ランダムなデータの作成\n",
        "#\n",
        "datax = np.random.randn(100)\n",
        "datay = datax + np.random.randn(100)*0.3\n",
        "#\n",
        "# 散布図の描画\n",
        "#\n",
        "plt.scatter(datax,datay,label='データ1')\n",
        "#\n",
        "# 別のデータの作成\n",
        "#\n",
        "datax = np.random.randn(100)\n",
        "datay = 0.6*datax + np.random.randn(100)*0.4\n",
        "#\n",
        "# 色を指定して散布図を作成\n",
        "#\n",
        "plt.scatter(datax,datay,color='red',label='データ2')\n",
        "#\n",
        "# タイトル、軸ラベル、凡例の記入\n",
        "#\n",
        "plt.title('タイトル')\n",
        "plt.xlabel('横軸')\n",
        "plt.ylabel('縦軸')\n",
        "plt.legend()\n",
        "#\n",
        "# 表示\n",
        "#\n",
        "plt.show()"
      ],
      "execution_count": 0,
      "outputs": [
        {
          "output_type": "display_data",
          "data": {
            "image/png": "[encoded data removed]",
            "text/plain": [
              "<Figure size 432x288 with 1 Axes>"
            ]
          },
          "metadata": {
            "tags": [],
            "needs_background": "light"
          }
        }
      ]
    },
    {
      "cell_type": "markdown",
      "metadata": {
        "id": "jHmdMb8qJLKC",
        "colab_type": "text"
      },
      "source": [
        "プログラム39 `use_matplotlib_hist.py`"
      ]
    },
    {
      "cell_type": "code",
      "metadata": {
        "id": "8GiBLS7-JLKC",
        "colab_type": "code",
        "colab": {},
        "outputId": "78acaceb-84b4-48fe-db8a-40e94a8cec2c"
      },
      "source": [
        "#\n",
        "# matplotlib でヒストグラムを描く\n",
        "#\n",
        "import matplotlib\n",
        "%matplotlib inline\n",
        "import matplotlib.pyplot as plt\n",
        "# matplotlib で日本語表示を可能にする\n",
        "# matplotlib version 3.1 以降なら Yu Gothic が使用可能\n",
        "matplotlib.rc('font', **{'family':'Yu Gothic'})\n",
        "import numpy as np\n",
        "#\n",
        "# ヒストグラムの作成\n",
        "#\n",
        "data = np.random.randn(1000)\n",
        "plt.hist(data,bins=20)\n",
        "#\n",
        "# タイトル、軸ラベルを設定\n",
        "#\n",
        "plt.title('ヒストグラム')\n",
        "plt.xlabel('データの値')\n",
        "plt.ylabel('頻度')\n",
        "#\n",
        "# 表示\n",
        "#\n",
        "plt.show()"
      ],
      "execution_count": 0,
      "outputs": [
        {
          "output_type": "display_data",
          "data": {
            "image/png": "[encoded data removed]",
            "text/plain": [
              "<Figure size 432x288 with 1 Axes>"
            ]
          },
          "metadata": {
            "tags": [],
            "needs_background": "light"
          }
        }
      ]
    },
    {
      "cell_type": "markdown",
      "metadata": {
        "id": "NfChUzDuJLKD",
        "colab_type": "text"
      },
      "source": [
        "プログラム40 `use_matplotlib.py`"
      ]
    },
    {
      "cell_type": "code",
      "metadata": {
        "id": "say2tAaIJLKD",
        "colab_type": "code",
        "colab": {},
        "outputId": "40d16da9-ac3a-436e-8021-127227d626f3"
      },
      "source": [
        "#\n",
        "# subplot を使う例\n",
        "#\n",
        "#\n",
        "# matplotlib でヒストグラムを描く\n",
        "#\n",
        "import matplotlib\n",
        "%matplotlib inline\n",
        "import matplotlib.pyplot as plt\n",
        "# matplotlib で日本語表示を可能にする\n",
        "# matplotlib version 3.1 以降なら Yu Gothic が使用可能\n",
        "matplotlib.rc('font', **{'family':'Yu Gothic'})\n",
        "import numpy as np\n",
        "#\n",
        "# 3つの subplot を作成、間隔を調整\n",
        "#\n",
        "fig = plt.figure()\n",
        "ax1 = fig.add_subplot(2,2,1)\n",
        "ax2 = fig.add_subplot(2,2,2)\n",
        "ax3 = fig.add_subplot(2,2,3)\n",
        "plt.subplots_adjust(hspace=0.5,wspace=0.5)\n",
        "#\n",
        "# 1つめに線グラフを出力\n",
        "#\n",
        "data = np.random.randn(100).cumsum()\n",
        "ax1.set_title('線グラフ')\n",
        "ax1.set_xlabel('時間')\n",
        "ax1.set_ylabel('場所')\n",
        "#\n",
        "# 2つめに散布図を出力\n",
        "#\n",
        "datax = np.random.randn(100)\n",
        "datay = datax + np.random.randn(100)*0.3\n",
        "ax2.scatter(datax,datay,label='データ1')\n",
        "\n",
        "datax = np.random.randn(100)\n",
        "datay = 0.6*datax + np.random.randn(100)*0.4\n",
        "ax2.scatter(datax,datay,color='red',label='データ2')\n",
        "\n",
        "ax2.set_title('散布図')\n",
        "ax2.set_xlabel('属性1')\n",
        "ax2.set_ylabel('属性2')\n",
        "ax2.legend()\n",
        "\n",
        "#\n",
        "# 3つめにヒストグラムを出力\n",
        "#\n",
        "data = np.random.randn(1000)\n",
        "ax3.hist(data,bins=20)\n",
        "\n",
        "ax3.set_title('ヒストグラム')\n",
        "ax3.set_xlabel('データの値')\n",
        "ax3.set_ylabel('頻度')\n",
        "\n",
        "#\n",
        "# グラフを表示\n",
        "#\n",
        "plt.show()"
      ],
      "execution_count": 0,
      "outputs": [
        {
          "output_type": "display_data",
          "data": {
            "image/png": "[encoded data removed]",
            "text/plain": [
              "<Figure size 432x288 with 3 Axes>"
            ]
          },
          "metadata": {
            "tags": [],
            "needs_background": "light"
          }
        }
      ]
    },
    {
      "cell_type": "markdown",
      "metadata": {
        "id": "o2_Cf2LKJLKE",
        "colab_type": "text"
      },
      "source": [
        "## 13.5 pandas"
      ]
    },
    {
      "cell_type": "markdown",
      "metadata": {
        "id": "4faFu8jFJLKE",
        "colab_type": "text"
      },
      "source": [
        "### 13.5.2 DataFrame を作る"
      ]
    },
    {
      "cell_type": "markdown",
      "metadata": {
        "id": "MN3EYLWuJLKE",
        "colab_type": "text"
      },
      "source": [
        "1) numpy の array から作る"
      ]
    },
    {
      "cell_type": "code",
      "metadata": {
        "id": "yggwNCXqJLKE",
        "colab_type": "code",
        "colab": {},
        "outputId": "57d14bb8-3aaf-458c-a1b4-77dceefb1d3f"
      },
      "source": [
        "import numpy as np\n",
        "import pandas as pd\n",
        "d = np.array([[1,2,3],[4,5,6],[7,8,9]])\n",
        "df = pd.DataFrame(d,columns=['a','b','c'])\n",
        "df"
      ],
      "execution_count": 0,
      "outputs": [
        {
          "output_type": "execute_result",
          "data": {
            "text/html": [
              "<div>\n",
              "<style scoped>\n",
              "    .dataframe tbody tr th:only-of-type {\n",
              "        vertical-align: middle;\n",
              "    }\n",
              "\n",
              "    .dataframe tbody tr th {\n",
              "        vertical-align: top;\n",
              "    }\n",
              "\n",
              "    .dataframe thead th {\n",
              "        text-align: right;\n",
              "    }\n",
              "</style>\n",
              "<table border=\"1\" class=\"dataframe\">\n",
              "  <thead>\n",
              "    <tr style=\"text-align: right;\">\n",
              "      <th></th>\n",
              "      <th>a</th>\n",
              "      <th>b</th>\n",
              "      <th>c</th>\n",
              "    </tr>\n",
              "  </thead>\n",
              "  <tbody>\n",
              "    <tr>\n",
              "      <th>0</th>\n",
              "      <td>1</td>\n",
              "      <td>2</td>\n",
              "      <td>3</td>\n",
              "    </tr>\n",
              "    <tr>\n",
              "      <th>1</th>\n",
              "      <td>4</td>\n",
              "      <td>5</td>\n",
              "      <td>6</td>\n",
              "    </tr>\n",
              "    <tr>\n",
              "      <th>2</th>\n",
              "      <td>7</td>\n",
              "      <td>8</td>\n",
              "      <td>9</td>\n",
              "    </tr>\n",
              "  </tbody>\n",
              "</table>\n",
              "</div>"
            ],
            "text/plain": [
              "   a  b  c\n",
              "0  1  2  3\n",
              "1  4  5  6\n",
              "2  7  8  9"
            ]
          },
          "metadata": {
            "tags": []
          },
          "execution_count": 42
        }
      ]
    },
    {
      "cell_type": "code",
      "metadata": {
        "id": "i0DndDFHJLKF",
        "colab_type": "code",
        "colab": {},
        "outputId": "097fd4c7-0fd5-4bb0-8928-12bce75b1324"
      },
      "source": [
        "df.columns"
      ],
      "execution_count": 0,
      "outputs": [
        {
          "output_type": "execute_result",
          "data": {
            "text/plain": [
              "Index(['a', 'b', 'c'], dtype='object')"
            ]
          },
          "metadata": {
            "tags": []
          },
          "execution_count": 43
        }
      ]
    },
    {
      "cell_type": "code",
      "metadata": {
        "id": "CVaQEYxmJLKF",
        "colab_type": "code",
        "colab": {},
        "outputId": "a3a2a17b-fa7a-4a85-d828-00e675aa3fc0"
      },
      "source": [
        "df.index"
      ],
      "execution_count": 0,
      "outputs": [
        {
          "output_type": "execute_result",
          "data": {
            "text/plain": [
              "RangeIndex(start=0, stop=3, step=1)"
            ]
          },
          "metadata": {
            "tags": []
          },
          "execution_count": 44
        }
      ]
    },
    {
      "cell_type": "markdown",
      "metadata": {
        "id": "Ds_ucxWNJLKG",
        "colab_type": "text"
      },
      "source": [
        "2) リスト型を値にもった辞書から作る"
      ]
    },
    {
      "cell_type": "code",
      "metadata": {
        "id": "fiBgf4JjJLKG",
        "colab_type": "code",
        "colab": {
          "base_uri": "https://localhost:8080/",
          "height": 142
        },
        "outputId": "13d1cc3e-4400-46ed-d344-7a059e46dc69"
      },
      "source": [
        "df = pd.DataFrame({'a':[1,4,7],'b':[2,5,8],'c':[3,6,9]})\n",
        "df"
      ],
      "execution_count": 24,
      "outputs": [
        {
          "output_type": "execute_result",
          "data": {
            "text/html": [
              "<div>\n",
              "<style scoped>\n",
              "    .dataframe tbody tr th:only-of-type {\n",
              "        vertical-align: middle;\n",
              "    }\n",
              "\n",
              "    .dataframe tbody tr th {\n",
              "        vertical-align: top;\n",
              "    }\n",
              "\n",
              "    .dataframe thead th {\n",
              "        text-align: right;\n",
              "    }\n",
              "</style>\n",
              "<table border=\"1\" class=\"dataframe\">\n",
              "  <thead>\n",
              "    <tr style=\"text-align: right;\">\n",
              "      <th></th>\n",
              "      <th>a</th>\n",
              "      <th>b</th>\n",
              "      <th>c</th>\n",
              "    </tr>\n",
              "  </thead>\n",
              "  <tbody>\n",
              "    <tr>\n",
              "      <th>0</th>\n",
              "      <td>1</td>\n",
              "      <td>2</td>\n",
              "      <td>3</td>\n",
              "    </tr>\n",
              "    <tr>\n",
              "      <th>1</th>\n",
              "      <td>4</td>\n",
              "      <td>5</td>\n",
              "      <td>6</td>\n",
              "    </tr>\n",
              "    <tr>\n",
              "      <th>2</th>\n",
              "      <td>7</td>\n",
              "      <td>8</td>\n",
              "      <td>9</td>\n",
              "    </tr>\n",
              "  </tbody>\n",
              "</table>\n",
              "</div>"
            ],
            "text/plain": [
              "   a  b  c\n",
              "0  1  2  3\n",
              "1  4  5  6\n",
              "2  7  8  9"
            ]
          },
          "metadata": {
            "tags": []
          },
          "execution_count": 24
        }
      ]
    },
    {
      "cell_type": "code",
      "metadata": {
        "id": "KKEPGFQYJLKH",
        "colab_type": "code",
        "colab": {
          "base_uri": "https://localhost:8080/",
          "height": 34
        },
        "outputId": "64a14d20-5666-40d9-d50a-27ee3ae2bf21"
      },
      "source": [
        "dic = {'a':1,'b':2,'c':3}\n",
        "dic['a']"
      ],
      "execution_count": 23,
      "outputs": [
        {
          "output_type": "execute_result",
          "data": {
            "text/plain": [
              "1"
            ]
          },
          "metadata": {
            "tags": []
          },
          "execution_count": 23
        }
      ]
    },
    {
      "cell_type": "markdown",
      "metadata": {
        "id": "RzQAtDuIJLKH",
        "colab_type": "text"
      },
      "source": [
        "### 13.5.3 csvファイルを読み込む"
      ]
    },
    {
      "cell_type": "markdown",
      "metadata": {
        "id": "7CQ6M5ftJLKH",
        "colab_type": "text"
      },
      "source": [
        "プログラム41 `use_read_csv.py`"
      ]
    },
    {
      "cell_type": "code",
      "metadata": {
        "id": "kZvZtobpJLKI",
        "colab_type": "code",
        "colab": {
          "base_uri": "https://localhost:8080/",
          "height": 447
        },
        "outputId": "5d9ba44e-ceaf-4736-85dc-f7e53c2d8fd8"
      },
      "source": [
        "import numpy as np\n",
        "import pandas as pd\n",
        "import os\n",
        "#\n",
        "# データのあるフォルダに移動、文字列に r を付けて特殊な文字の解釈を止める\n",
        "#\n",
        "# pandas は日本語のファイル名をうまく処理できない\n",
        "#\n",
        "df = pd.read_csv(\"sample2.csv\")\n",
        "#\n",
        "# 水平方向 (axis = 1) に総和をとり、Total という列を作る\n",
        "df['Total'] = df.sum(axis=1)\n",
        "# データフレーム df を表示\n",
        "print(df)\n",
        "# データフレーム df の要約統計量を表示\n",
        "print(df.describe())"
      ],
      "execution_count": 22,
      "outputs": [
        {
          "output_type": "error",
          "ename": "FileNotFoundError",
          "evalue": "ignored",
          "traceback": [
            "\u001b[0;31m---------------------------------------------------------------------------\u001b[0m",
            "\u001b[0;31mFileNotFoundError\u001b[0m                         Traceback (most recent call last)",
            "\u001b[0;32m<ipython-input-22-317a414aab4a>\u001b[0m in \u001b[0;36m<module>\u001b[0;34m()\u001b[0m\n\u001b[1;32m      7\u001b[0m \u001b[0;31m# pandas は日本語のファイル名をうまく処理できない\u001b[0m\u001b[0;34m\u001b[0m\u001b[0;34m\u001b[0m\u001b[0;34m\u001b[0m\u001b[0m\n\u001b[1;32m      8\u001b[0m \u001b[0;31m#\u001b[0m\u001b[0;34m\u001b[0m\u001b[0;34m\u001b[0m\u001b[0;34m\u001b[0m\u001b[0m\n\u001b[0;32m----> 9\u001b[0;31m \u001b[0mdf\u001b[0m \u001b[0;34m=\u001b[0m \u001b[0mpd\u001b[0m\u001b[0;34m.\u001b[0m\u001b[0mread_csv\u001b[0m\u001b[0;34m(\u001b[0m\u001b[0;34m\"sample2.csv\"\u001b[0m\u001b[0;34m)\u001b[0m\u001b[0;34m\u001b[0m\u001b[0;34m\u001b[0m\u001b[0m\n\u001b[0m\u001b[1;32m     10\u001b[0m \u001b[0;31m#\u001b[0m\u001b[0;34m\u001b[0m\u001b[0;34m\u001b[0m\u001b[0;34m\u001b[0m\u001b[0m\n\u001b[1;32m     11\u001b[0m \u001b[0;31m# 水平方向 (axis = 1) に総和をとり、Total という列を作る\u001b[0m\u001b[0;34m\u001b[0m\u001b[0;34m\u001b[0m\u001b[0;34m\u001b[0m\u001b[0m\n",
            "\u001b[0;32m/usr/local/lib/python3.6/dist-packages/pandas/io/parsers.py\u001b[0m in \u001b[0;36mparser_f\u001b[0;34m(filepath_or_buffer, sep, delimiter, header, names, index_col, usecols, squeeze, prefix, mangle_dupe_cols, dtype, engine, converters, true_values, false_values, skipinitialspace, skiprows, skipfooter, nrows, na_values, keep_default_na, na_filter, verbose, skip_blank_lines, parse_dates, infer_datetime_format, keep_date_col, date_parser, dayfirst, cache_dates, iterator, chunksize, compression, thousands, decimal, lineterminator, quotechar, quoting, doublequote, escapechar, comment, encoding, dialect, error_bad_lines, warn_bad_lines, delim_whitespace, low_memory, memory_map, float_precision)\u001b[0m\n\u001b[1;32m    683\u001b[0m         )\n\u001b[1;32m    684\u001b[0m \u001b[0;34m\u001b[0m\u001b[0m\n\u001b[0;32m--> 685\u001b[0;31m         \u001b[0;32mreturn\u001b[0m \u001b[0m_read\u001b[0m\u001b[0;34m(\u001b[0m\u001b[0mfilepath_or_buffer\u001b[0m\u001b[0;34m,\u001b[0m \u001b[0mkwds\u001b[0m\u001b[0;34m)\u001b[0m\u001b[0;34m\u001b[0m\u001b[0;34m\u001b[0m\u001b[0m\n\u001b[0m\u001b[1;32m    686\u001b[0m \u001b[0;34m\u001b[0m\u001b[0m\n\u001b[1;32m    687\u001b[0m     \u001b[0mparser_f\u001b[0m\u001b[0;34m.\u001b[0m\u001b[0m__name__\u001b[0m \u001b[0;34m=\u001b[0m \u001b[0mname\u001b[0m\u001b[0;34m\u001b[0m\u001b[0;34m\u001b[0m\u001b[0m\n",
            "\u001b[0;32m/usr/local/lib/python3.6/dist-packages/pandas/io/parsers.py\u001b[0m in \u001b[0;36m_read\u001b[0;34m(filepath_or_buffer, kwds)\u001b[0m\n\u001b[1;32m    455\u001b[0m \u001b[0;34m\u001b[0m\u001b[0m\n\u001b[1;32m    456\u001b[0m     \u001b[0;31m# Create the parser.\u001b[0m\u001b[0;34m\u001b[0m\u001b[0;34m\u001b[0m\u001b[0;34m\u001b[0m\u001b[0m\n\u001b[0;32m--> 457\u001b[0;31m     \u001b[0mparser\u001b[0m \u001b[0;34m=\u001b[0m \u001b[0mTextFileReader\u001b[0m\u001b[0;34m(\u001b[0m\u001b[0mfp_or_buf\u001b[0m\u001b[0;34m,\u001b[0m \u001b[0;34m**\u001b[0m\u001b[0mkwds\u001b[0m\u001b[0;34m)\u001b[0m\u001b[0;34m\u001b[0m\u001b[0;34m\u001b[0m\u001b[0m\n\u001b[0m\u001b[1;32m    458\u001b[0m \u001b[0;34m\u001b[0m\u001b[0m\n\u001b[1;32m    459\u001b[0m     \u001b[0;32mif\u001b[0m \u001b[0mchunksize\u001b[0m \u001b[0;32mor\u001b[0m \u001b[0miterator\u001b[0m\u001b[0;34m:\u001b[0m\u001b[0;34m\u001b[0m\u001b[0;34m\u001b[0m\u001b[0m\n",
            "\u001b[0;32m/usr/local/lib/python3.6/dist-packages/pandas/io/parsers.py\u001b[0m in \u001b[0;36m__init__\u001b[0;34m(self, f, engine, **kwds)\u001b[0m\n\u001b[1;32m    893\u001b[0m             \u001b[0mself\u001b[0m\u001b[0;34m.\u001b[0m\u001b[0moptions\u001b[0m\u001b[0;34m[\u001b[0m\u001b[0;34m\"has_index_names\"\u001b[0m\u001b[0;34m]\u001b[0m \u001b[0;34m=\u001b[0m \u001b[0mkwds\u001b[0m\u001b[0;34m[\u001b[0m\u001b[0;34m\"has_index_names\"\u001b[0m\u001b[0;34m]\u001b[0m\u001b[0;34m\u001b[0m\u001b[0;34m\u001b[0m\u001b[0m\n\u001b[1;32m    894\u001b[0m \u001b[0;34m\u001b[0m\u001b[0m\n\u001b[0;32m--> 895\u001b[0;31m         \u001b[0mself\u001b[0m\u001b[0;34m.\u001b[0m\u001b[0m_make_engine\u001b[0m\u001b[0;34m(\u001b[0m\u001b[0mself\u001b[0m\u001b[0;34m.\u001b[0m\u001b[0mengine\u001b[0m\u001b[0;34m)\u001b[0m\u001b[0;34m\u001b[0m\u001b[0;34m\u001b[0m\u001b[0m\n\u001b[0m\u001b[1;32m    896\u001b[0m \u001b[0;34m\u001b[0m\u001b[0m\n\u001b[1;32m    897\u001b[0m     \u001b[0;32mdef\u001b[0m \u001b[0mclose\u001b[0m\u001b[0;34m(\u001b[0m\u001b[0mself\u001b[0m\u001b[0;34m)\u001b[0m\u001b[0;34m:\u001b[0m\u001b[0;34m\u001b[0m\u001b[0;34m\u001b[0m\u001b[0m\n",
            "\u001b[0;32m/usr/local/lib/python3.6/dist-packages/pandas/io/parsers.py\u001b[0m in \u001b[0;36m_make_engine\u001b[0;34m(self, engine)\u001b[0m\n\u001b[1;32m   1133\u001b[0m     \u001b[0;32mdef\u001b[0m \u001b[0m_make_engine\u001b[0m\u001b[0;34m(\u001b[0m\u001b[0mself\u001b[0m\u001b[0;34m,\u001b[0m \u001b[0mengine\u001b[0m\u001b[0;34m=\u001b[0m\u001b[0;34m\"c\"\u001b[0m\u001b[0;34m)\u001b[0m\u001b[0;34m:\u001b[0m\u001b[0;34m\u001b[0m\u001b[0;34m\u001b[0m\u001b[0m\n\u001b[1;32m   1134\u001b[0m         \u001b[0;32mif\u001b[0m \u001b[0mengine\u001b[0m \u001b[0;34m==\u001b[0m \u001b[0;34m\"c\"\u001b[0m\u001b[0;34m:\u001b[0m\u001b[0;34m\u001b[0m\u001b[0;34m\u001b[0m\u001b[0m\n\u001b[0;32m-> 1135\u001b[0;31m             \u001b[0mself\u001b[0m\u001b[0;34m.\u001b[0m\u001b[0m_engine\u001b[0m \u001b[0;34m=\u001b[0m \u001b[0mCParserWrapper\u001b[0m\u001b[0;34m(\u001b[0m\u001b[0mself\u001b[0m\u001b[0;34m.\u001b[0m\u001b[0mf\u001b[0m\u001b[0;34m,\u001b[0m \u001b[0;34m**\u001b[0m\u001b[0mself\u001b[0m\u001b[0;34m.\u001b[0m\u001b[0moptions\u001b[0m\u001b[0;34m)\u001b[0m\u001b[0;34m\u001b[0m\u001b[0;34m\u001b[0m\u001b[0m\n\u001b[0m\u001b[1;32m   1136\u001b[0m         \u001b[0;32melse\u001b[0m\u001b[0;34m:\u001b[0m\u001b[0;34m\u001b[0m\u001b[0;34m\u001b[0m\u001b[0m\n\u001b[1;32m   1137\u001b[0m             \u001b[0;32mif\u001b[0m \u001b[0mengine\u001b[0m \u001b[0;34m==\u001b[0m \u001b[0;34m\"python\"\u001b[0m\u001b[0;34m:\u001b[0m\u001b[0;34m\u001b[0m\u001b[0;34m\u001b[0m\u001b[0m\n",
            "\u001b[0;32m/usr/local/lib/python3.6/dist-packages/pandas/io/parsers.py\u001b[0m in \u001b[0;36m__init__\u001b[0;34m(self, src, **kwds)\u001b[0m\n\u001b[1;32m   1915\u001b[0m         \u001b[0mkwds\u001b[0m\u001b[0;34m[\u001b[0m\u001b[0;34m\"usecols\"\u001b[0m\u001b[0;34m]\u001b[0m \u001b[0;34m=\u001b[0m \u001b[0mself\u001b[0m\u001b[0;34m.\u001b[0m\u001b[0musecols\u001b[0m\u001b[0;34m\u001b[0m\u001b[0;34m\u001b[0m\u001b[0m\n\u001b[1;32m   1916\u001b[0m \u001b[0;34m\u001b[0m\u001b[0m\n\u001b[0;32m-> 1917\u001b[0;31m         \u001b[0mself\u001b[0m\u001b[0;34m.\u001b[0m\u001b[0m_reader\u001b[0m \u001b[0;34m=\u001b[0m \u001b[0mparsers\u001b[0m\u001b[0;34m.\u001b[0m\u001b[0mTextReader\u001b[0m\u001b[0;34m(\u001b[0m\u001b[0msrc\u001b[0m\u001b[0;34m,\u001b[0m \u001b[0;34m**\u001b[0m\u001b[0mkwds\u001b[0m\u001b[0;34m)\u001b[0m\u001b[0;34m\u001b[0m\u001b[0;34m\u001b[0m\u001b[0m\n\u001b[0m\u001b[1;32m   1918\u001b[0m         \u001b[0mself\u001b[0m\u001b[0;34m.\u001b[0m\u001b[0munnamed_cols\u001b[0m \u001b[0;34m=\u001b[0m \u001b[0mself\u001b[0m\u001b[0;34m.\u001b[0m\u001b[0m_reader\u001b[0m\u001b[0;34m.\u001b[0m\u001b[0munnamed_cols\u001b[0m\u001b[0;34m\u001b[0m\u001b[0;34m\u001b[0m\u001b[0m\n\u001b[1;32m   1919\u001b[0m \u001b[0;34m\u001b[0m\u001b[0m\n",
            "\u001b[0;32mpandas/_libs/parsers.pyx\u001b[0m in \u001b[0;36mpandas._libs.parsers.TextReader.__cinit__\u001b[0;34m()\u001b[0m\n",
            "\u001b[0;32mpandas/_libs/parsers.pyx\u001b[0m in \u001b[0;36mpandas._libs.parsers.TextReader._setup_parser_source\u001b[0;34m()\u001b[0m\n",
            "\u001b[0;31mFileNotFoundError\u001b[0m: [Errno 2] File b'sample2.csv' does not exist: b'sample2.csv'"
          ]
        }
      ]
    },
    {
      "cell_type": "markdown",
      "metadata": {
        "id": "5gisgKXcJLKI",
        "colab_type": "text"
      },
      "source": [
        "### 13.5.5 Pandas のデータのプロット"
      ]
    },
    {
      "cell_type": "markdown",
      "metadata": {
        "id": "XFKTh542JLKI",
        "colab_type": "text"
      },
      "source": [
        "プログラム42 `use_DataFrame_plot.py`"
      ]
    },
    {
      "cell_type": "code",
      "metadata": {
        "id": "H79t1a1WJLKJ",
        "colab_type": "code",
        "colab": {},
        "outputId": "8a8cf6b8-218a-4f83-f943-f2e27d758c60"
      },
      "source": [
        "import numpy as np\n",
        "import pandas as pd\n",
        "import os\n",
        "import matplotlib\n",
        "%matplotlib inline\n",
        "import matplotlib.pyplot as plt\n",
        "#\n",
        "df = pd.read_csv(\"sample2.csv\")\n",
        "#\n",
        "#\n",
        "# 折れ線グラフ\n",
        "#\n",
        "\n",
        "df.plot()\n",
        "print(\"次に進むにはグラフウィンドウを閉じてください\")\n",
        "plt.show()\n",
        "#\n",
        "# 積み上げ棒グラフ\n",
        "#\n",
        "df.plot.bar(stacked=True)\n",
        "print(\"次に進むにはグラフウィンドウを閉じてください\")\n",
        "plt.show()\n",
        "#\n",
        "# 散布図\n",
        "#\n",
        "df.plot.scatter('Japanese','English')\n",
        "print(\"次に進むにはグラフウィンドウを閉じてください\")\n",
        "plt.show()\n",
        "#\n",
        "# 水平方向 (axis = 1) に総和をとり、Total という列を作る\n",
        "#\n",
        "df['Total'] = df.sum(axis=1)\n",
        "\n",
        "#\n",
        "# ヒストグラム\n",
        "#\n",
        "df['Total'].plot.hist()\n",
        "print(\"次に進むにはグラフウィンドウを閉じてください\")\n",
        "plt.show()"
      ],
      "execution_count": 0,
      "outputs": [
        {
          "output_type": "stream",
          "text": [
            "次に進むにはグラフウィンドウを閉じてください\n"
          ],
          "name": "stdout"
        },
        {
          "output_type": "display_data",
          "data": {
            "image/png": "[encoded data removed]",
            "text/plain": [
              "<Figure size 432x288 with 1 Axes>"
            ]
          },
          "metadata": {
            "tags": [],
            "needs_background": "light"
          }
        },
        {
          "output_type": "stream",
          "text": [
            "次に進むにはグラフウィンドウを閉じてください\n"
          ],
          "name": "stdout"
        },
        {
          "output_type": "display_data",
          "data": {
            "image/png": "[encoded data removed]",
            "text/plain": [
              "<Figure size 432x288 with 1 Axes>"
            ]
          },
          "metadata": {
            "tags": [],
            "needs_background": "light"
          }
        },
        {
          "output_type": "stream",
          "text": [
            "次に進むにはグラフウィンドウを閉じてください\n"
          ],
          "name": "stdout"
        },
        {
          "output_type": "display_data",
          "data": {
            "image/png": "[encoded data removed]",
            "text/plain": [
              "<Figure size 432x288 with 1 Axes>"
            ]
          },
          "metadata": {
            "tags": [],
            "needs_background": "light"
          }
        },
        {
          "output_type": "stream",
          "text": [
            "次に進むにはグラフウィンドウを閉じてください\n"
          ],
          "name": "stdout"
        },
        {
          "output_type": "display_data",
          "data": {
            "image/png": "[encoded data removed]",
            "text/plain": [
              "<Figure size 432x288 with 1 Axes>"
            ]
          },
          "metadata": {
            "tags": [],
            "needs_background": "light"
          }
        }
      ]
    },
    {
      "cell_type": "markdown",
      "metadata": {
        "id": "MPteTme5JLKJ",
        "colab_type": "text"
      },
      "source": [
        "## 13.6 課題"
      ]
    },
    {
      "cell_type": "markdown",
      "metadata": {
        "id": "xxbwWLtlJLKK",
        "colab_type": "text"
      },
      "source": [
        "#### 演習41. これを改造して鋸波のフーリエ近似を描くプログラムを作成しなさい。"
      ]
    },
    {
      "cell_type": "markdown",
      "metadata": {
        "id": "87yygZ58JLKK",
        "colab_type": "text"
      },
      "source": [
        "プログラム43 Numpy と Matplotlib で 1~4乗のグラフを描く"
      ]
    },
    {
      "cell_type": "code",
      "metadata": {
        "id": "OwG8Mqq9JLKK",
        "colab_type": "code",
        "colab": {
          "base_uri": "https://localhost:8080/",
          "height": 587
        },
        "outputId": "7a281918-5f92-4f20-d81f-15e1d4430c92"
      },
      "source": [
        "#\n",
        "#\n",
        "# Numpy のデータを plotする例題\n",
        "import matplotlib\n",
        "%matplotlib inline\n",
        "import matplotlib.pyplot as plt\n",
        "import numpy as np\n",
        "# matplotlib.rc('font', **{'family':'Yu Gothic'})\n",
        "#\n",
        "# x の1乗~4乗をプロットする\n",
        "#\n",
        "steps = 100\n",
        "order = 4\n",
        "maxx = 2\n",
        "#\n",
        "# 要素の値0で steps 行、order 列の行列を作成\n",
        "#\n",
        "datalist = np.zeros((steps, order))\n",
        "#\n",
        "# 凡例用のリスト\n",
        "#\n",
        "legend_label = []\n",
        "#\n",
        "# x の値を linspace で作成\n",
        "#\n",
        "x = np.linspace(0, maxx, steps)\n",
        "#\n",
        "# 各列について、一気に計算する\n",
        "#\n",
        "for i in range(1, order+1):\n",
        "    datalist[:, i-1] = x**i\n",
        "    legend_label.append(str(i)+'乗')\n",
        "#\n",
        "# プロット\n",
        "#\n",
        "plt.plot(x, datalist)\n",
        "plt.title('xのべき乗')\n",
        "plt.xlabel('x')\n",
        "plt.ylabel('x**n')\n",
        "plt.legend(legend_label)\n",
        "plt.show()"
      ],
      "execution_count": 26,
      "outputs": [
        {
          "output_type": "stream",
          "text": [
            "/usr/local/lib/python3.6/dist-packages/matplotlib/backends/backend_agg.py:214: RuntimeWarning: Glyph 12398 missing from current font.\n",
            "  font.set_text(s, 0.0, flags=flags)\n",
            "/usr/local/lib/python3.6/dist-packages/matplotlib/backends/backend_agg.py:214: RuntimeWarning: Glyph 12409 missing from current font.\n",
            "  font.set_text(s, 0.0, flags=flags)\n",
            "/usr/local/lib/python3.6/dist-packages/matplotlib/backends/backend_agg.py:214: RuntimeWarning: Glyph 12365 missing from current font.\n",
            "  font.set_text(s, 0.0, flags=flags)\n",
            "/usr/local/lib/python3.6/dist-packages/matplotlib/backends/backend_agg.py:214: RuntimeWarning: Glyph 20055 missing from current font.\n",
            "  font.set_text(s, 0.0, flags=flags)\n",
            "/usr/local/lib/python3.6/dist-packages/matplotlib/backends/backend_agg.py:183: RuntimeWarning: Glyph 12398 missing from current font.\n",
            "  font.set_text(s, 0, flags=flags)\n",
            "/usr/local/lib/python3.6/dist-packages/matplotlib/backends/backend_agg.py:183: RuntimeWarning: Glyph 12409 missing from current font.\n",
            "  font.set_text(s, 0, flags=flags)\n",
            "/usr/local/lib/python3.6/dist-packages/matplotlib/backends/backend_agg.py:183: RuntimeWarning: Glyph 12365 missing from current font.\n",
            "  font.set_text(s, 0, flags=flags)\n",
            "/usr/local/lib/python3.6/dist-packages/matplotlib/backends/backend_agg.py:183: RuntimeWarning: Glyph 20055 missing from current font.\n",
            "  font.set_text(s, 0, flags=flags)\n"
          ],
          "name": "stderr"
        },
        {
          "output_type": "display_data",
          "data": {
            "image/png": "[encoded data removed]",
            "text/plain": [
              "<Figure size 432x288 with 1 Axes>"
            ]
          },
          "metadata": {
            "tags": []
          }
        }
      ]
    },
    {
      "cell_type": "code",
      "metadata": {
        "id": "xW6ZmsJrJLKK",
        "colab_type": "code",
        "colab": {
          "base_uri": "https://localhost:8080/",
          "height": 295
        },
        "outputId": "bccef82d-cc6d-4402-bfbb-9ec8d5bbbcc3"
      },
      "source": [
        "import matplotlib\n",
        "%matplotlib inline\n",
        "import matplotlib.pyplot as plt\n",
        "import numpy as np\n",
        "\n",
        "# Parameters\n",
        "steps = 1000\n",
        "order = 8\n",
        "maxx = 4*np.pi\n",
        "\n",
        "# Make data list\n",
        "datalist = np.zeros((steps, order))\n",
        "\n",
        "# Make legend list\n",
        "legend_label = []\n",
        "\n",
        "x = np.linspace(0, maxx, steps)\n",
        "\n",
        "for i in range (1, order+1):\n",
        "    if (i > 1):\n",
        "        datalist[:, i-1] = datalist[:, i-2] + np.sin(i*x)/i\n",
        "    else:\n",
        "        datalist[:, i-1] = np.sin(i*x)/i\n",
        "    legend_label.append(str(i)+' harmonics')\n",
        "\n",
        "plt.plot(x, datalist)\n",
        "plt.title('sawtooth wave')\n",
        "plt.xlabel('angle')\n",
        "plt.ylabel('amplitude')\n",
        "plt.legend(legend_label)\n",
        "plt.xticks(np.arange(0, maxx, maxx/8))\n",
        "plt.show()"
      ],
      "execution_count": 27,
      "outputs": [
        {
          "output_type": "display_data",
          "data": {
            "image/png": "[encoded data removed]",
            "text/plain": [
              "<Figure size 432x288 with 1 Axes>"
            ]
          },
          "metadata": {
            "tags": []
          }
        }
      ]
    },
    {
      "cell_type": "code",
      "metadata": {
        "id": "RZj4lgS0JLKL",
        "colab_type": "code",
        "colab": {
          "base_uri": "https://localhost:8080/",
          "height": 600
        },
        "outputId": "82254516-0b12-40f8-f460-25d7736947d2"
      },
      "source": [
        "import matplotlib\n",
        "%matplotlib inline\n",
        "import matplotlib.pyplot as plt\n",
        "import numpy as np\n",
        "\n",
        "# Parameters\n",
        "steps = 1024\n",
        "order = 50\n",
        "maxx = 4*np.pi\n",
        "\n",
        "# Make data list\n",
        "datalist = np.zeros((steps, order))\n",
        "\n",
        "# Make legend list\n",
        "legend_label = []\n",
        "\n",
        "x = np.linspace(0, maxx, steps)\n",
        "\n",
        "for i in range (1, order+1):\n",
        "    if (i > 1):\n",
        "        datalist[:, i-1] = datalist[:, i-2] + np.sin(i*x)/i\n",
        "    else:\n",
        "        datalist[:, i-1] = np.sin(i*x)/i\n",
        "    legend_label.append(str(i)+' harmonics')\n",
        "\n",
        "# print(x)\n",
        "# print(datalist[:,1])\n",
        "# plt.plot(datalist[:,3])\n",
        "# plt.show()\n",
        "f = np.zeros((steps, order))\n",
        "for i in range (1, order+1):\n",
        "    f[:,i-1] = np.fft.fft(datalist[:,i-1])\n",
        "f_half = f[x < maxx/2]\n",
        "\n",
        "plt.plot(x, datalist)\n",
        "plt.title('sawtooth wave')\n",
        "plt.xlabel('angle')\n",
        "plt.ylabel('amplitude')\n",
        "# plt.legend(legend_label)\n",
        "plt.xticks(np.arange(0, maxx, maxx/8))\n",
        "plt.show()\n",
        "\n",
        "plt.plot(abs(f_half)**2)\n",
        "plt.xscale('log')\n",
        "plt.title('sawtooth wave FFT')\n",
        "# plt.xlabel('angle')\n",
        "# plt.ylabel('amplitude')\n",
        "# plt.legend(legend_label)\n",
        "plt.show()"
      ],
      "execution_count": 28,
      "outputs": [
        {
          "output_type": "stream",
          "text": [
            "/usr/local/lib/python3.6/dist-packages/ipykernel_launcher.py:32: ComplexWarning: Casting complex values to real discards the imaginary part\n"
          ],
          "name": "stderr"
        },
        {
          "output_type": "display_data",
          "data": {
            "image/png": "[encoded data removed]",
            "text/plain": [
              "<Figure size 432x288 with 1 Axes>"
            ]
          },
          "metadata": {
            "tags": []
          }
        },
        {
          "output_type": "display_data",
          "data": {
            "image/png": "[encoded data removed]",
            "text/plain": [
              "<Figure size 432x288 with 1 Axes>"
            ]
          },
          "metadata": {
            "tags": []
          }
        }
      ]
    },
    {
      "cell_type": "code",
      "metadata": {
        "id": "UU4G2c_NJLKM",
        "colab_type": "code",
        "colab": {}
      },
      "source": [
        ""
      ],
      "execution_count": 0,
      "outputs": []
    }
  ]
}